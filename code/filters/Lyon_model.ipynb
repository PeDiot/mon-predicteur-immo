{
  "cells": [
    {
      "cell_type": "markdown",
      "metadata": {
        "id": "PdczKaciG2ci"
      },
      "source": [
        "## Setup"
      ]
    },
    {
      "cell_type": "code",
      "execution_count": 1,
      "metadata": {
        "id": "Ap59Oe72GuEo"
      },
      "outputs": [],
      "source": [
        "import sys\n",
        "sys.path.append(\"../\")"
      ]
    },
    {
      "cell_type": "code",
      "execution_count": 2,
      "metadata": {
        "id": "FASSwCRfGuGv"
      },
      "outputs": [],
      "source": [
        "%load_ext autoreload\n",
        "%autoreload 2"
      ]
    },
    {
      "cell_type": "code",
      "execution_count": 2,
      "metadata": {},
      "outputs": [],
      "source": [
        "import lib"
      ]
    },
    {
      "cell_type": "code",
      "execution_count": 3,
      "metadata": {
        "colab": {
          "base_uri": "https://localhost:8080/",
          "height": 373
        },
        "id": "s91RI377Gz9_",
        "outputId": "dd6a97aa-3d15-448d-9d26-58c28376aebb"
      },
      "outputs": [
        {
          "ename": "ModuleNotFoundError",
          "evalue": "No module named 'lib.dataset'",
          "output_type": "error",
          "traceback": [
            "\u001b[1;31m---------------------------------------------------------------------------\u001b[0m",
            "\u001b[1;31mModuleNotFoundError\u001b[0m                       Traceback (most recent call last)",
            "\u001b[1;32m~\\AppData\\Local\\Temp/ipykernel_15188/629932171.py\u001b[0m in \u001b[0;36m<module>\u001b[1;34m\u001b[0m\n\u001b[1;32m----> 1\u001b[1;33m from lib.dataset import (\n\u001b[0m\u001b[0;32m      2\u001b[0m     \u001b[0mload_dvfplus\u001b[0m\u001b[1;33m,\u001b[0m\u001b[1;33m\u001b[0m\u001b[1;33m\u001b[0m\u001b[0m\n\u001b[0;32m      3\u001b[0m     \u001b[0mprepare_dataset\u001b[0m\u001b[1;33m,\u001b[0m\u001b[1;33m\u001b[0m\u001b[1;33m\u001b[0m\u001b[0m\n\u001b[0;32m      4\u001b[0m     \u001b[0mprepare_dummies\u001b[0m\u001b[1;33m,\u001b[0m\u001b[1;33m\u001b[0m\u001b[1;33m\u001b[0m\u001b[0m\n\u001b[0;32m      5\u001b[0m     \u001b[0mtemporal_train_test_split\u001b[0m\u001b[1;33m,\u001b[0m\u001b[1;33m\u001b[0m\u001b[1;33m\u001b[0m\u001b[0m\n",
            "\u001b[1;31mModuleNotFoundError\u001b[0m: No module named 'lib.dataset'"
          ]
        }
      ],
      "source": [
        "from lib.dataset import (\n",
        "    load_dvfplus, \n",
        "    prepare_dataset, \n",
        "    prepare_dummies, \n",
        "    temporal_train_test_split, \n",
        "    get_feature_vector, \n",
        "    get_target_vector, \n",
        "    compute_mutual_info, \n",
        "    compute_rf_importances, \n",
        "    select_important_features,\n",
        ")\n",
        "\n",
        "from lib.preprocessing.utils import get_na_proportion\n",
        "\n",
        "from lib.dataset.utils import (\n",
        "    get_categorical_vars, \n",
        "    get_most_frequent_levels,\n",
        "    transform_price, \n",
        "    is_quantitative, \n",
        ")\n",
        "\n",
        "from lib.model import (\n",
        "    CustomRegressor, \n",
        "    compute_metrics, \n",
        "    display_regression_report, \n",
        "    plot_predictions, \n",
        "    get_predictions, \n",
        ")\n",
        "\n",
        "from lib.model.optimize import optuna_objective, OptimPruner\n",
        "\n",
        "from lib.model.loader import save_model, load_model"
      ]
    },
    {
      "cell_type": "code",
      "execution_count": null,
      "metadata": {
        "id": "bxsbZI9hG9PF"
      },
      "outputs": [],
      "source": [
        "import pandas as pd \n",
        "import numpy as np\n",
        "\n",
        "import matplotlib.pyplot as plt\n",
        "import seaborn as sns\n",
        "\n",
        "import rich \n",
        "from tqdm import tqdm\n",
        "\n",
        "from multiprocessing import cpu_count\n",
        "\n",
        "import pickle as pkl\n",
        "# estimators\n",
        "from sklearn.dummy import DummyRegressor\n",
        "\n",
        "from sklearn.linear_model import LinearRegression, Ridge\n",
        "\n",
        "from sklearn.tree import DecisionTreeRegressor\n",
        "from sklearn.ensemble import RandomForestRegressor\n",
        "from xgboost import XGBRegressor\n",
        "\n",
        "from sklearn.neural_network import MLPRegressor\n",
        "\n",
        "# optimization \n",
        "import optuna\n",
        "pd.set_option(\"display.max_columns\", None)\n",
        "DATA_DIR = \"../data/\"\n",
        "BACKUP_DIR = \"../backup/\"\n",
        "\n",
        "CPU_COUNT = cpu_count()"
      ]
    },
    {
      "cell_type": "markdown",
      "metadata": {
        "id": "RpxJkRwJHP8Y"
      },
      "source": [
        "# Data"
      ]
    },
    {
      "cell_type": "markdown",
      "metadata": {
        "id": "bqnaDEhzHTWy"
      },
      "source": [
        "## Import"
      ]
    },
    {
      "cell_type": "code",
      "execution_count": null,
      "metadata": {
        "id": "SsQwcL-GHRqQ"
      },
      "outputs": [],
      "source": [
        "df_args = {\"geo_area\": \"Lyon\", \"property_type\": \"flats\"}\n",
        "df_flats = load_dvfplus(zip_dir=DATA_DIR, zip_name=\"dvf+\", **df_args)\n",
        "df_flats.head()"
      ]
    },
    {
      "cell_type": "code",
      "execution_count": null,
      "metadata": {
        "id": "OAwUkcu4HUts"
      },
      "outputs": [],
      "source": [
        "df_args = {\"geo_area\": \"Lyon\", \"property_type\": \"houses\"}\n",
        "df_houses = load_dvfplus(zip_dir=DATA_DIR, zip_name=\"dvf+\", **df_args)\n",
        "df_houses.head()"
      ]
    }
  ],
  "metadata": {
    "colab": {
      "provenance": []
    },
    "kernelspec": {
      "display_name": "base",
      "language": "python",
      "name": "python3"
    },
    "language_info": {
      "codemirror_mode": {
        "name": "ipython",
        "version": 3
      },
      "file_extension": ".py",
      "mimetype": "text/x-python",
      "name": "python",
      "nbconvert_exporter": "python",
      "pygments_lexer": "ipython3",
      "version": "3.9.7"
    },
    "vscode": {
      "interpreter": {
        "hash": "36a8c9aa085b824c0450c8dd01eb4766e0895c072e4363eeb658cdabd3de4458"
      }
    }
  },
  "nbformat": 4,
  "nbformat_minor": 0
}
