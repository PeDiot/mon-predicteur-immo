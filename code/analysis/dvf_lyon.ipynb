{
 "cells": [
  {
   "attachments": {},
   "cell_type": "markdown",
   "metadata": {},
   "source": [
    "## Initialisation"
   ]
  },
  {
   "cell_type": "code",
   "execution_count": 62,
   "metadata": {},
   "outputs": [
    {
     "name": "stdout",
     "output_type": "stream",
     "text": [
      "['c:\\\\Users\\\\flore\\\\OneDrive\\\\Bureau\\\\2023\\\\Drive\\\\_Projects\\\\Business Data Challenge\\\\business-data-challenge\\\\code\\\\analysis', 'C:\\\\Users\\\\flore\\\\OneDrive\\\\Bureau\\\\2023\\\\Drive\\\\_Projects\\\\Business Data Challenge\\\\business-data-challenge\\\\lib', 'c:\\\\Users\\\\flore\\\\anaconda3\\\\python39.zip', 'c:\\\\Users\\\\flore\\\\anaconda3\\\\DLLs', 'c:\\\\Users\\\\flore\\\\anaconda3\\\\lib', 'c:\\\\Users\\\\flore\\\\anaconda3', '', 'c:\\\\Users\\\\flore\\\\anaconda3\\\\lib\\\\site-packages', 'c:\\\\Users\\\\flore\\\\anaconda3\\\\lib\\\\site-packages\\\\locket-0.2.1-py3.9.egg', 'c:\\\\Users\\\\flore\\\\anaconda3\\\\lib\\\\site-packages\\\\win32', 'c:\\\\Users\\\\flore\\\\anaconda3\\\\lib\\\\site-packages\\\\win32\\\\lib', 'c:\\\\Users\\\\flore\\\\anaconda3\\\\lib\\\\site-packages\\\\Pythonwin', 'c:\\\\Users\\\\flore\\\\anaconda3\\\\lib\\\\site-packages\\\\IPython\\\\extensions', 'C:\\\\Users\\\\flore\\\\.ipython', '../', '../', '../', '../', '../', '../', 'c:\\\\Users\\\\flore\\\\OneDrive\\\\Bureau\\\\2023\\\\Drive\\\\_Projects\\\\Business Data Challenge\\\\business-data-challenge', 'c:\\\\Users\\\\flore\\\\OneDrive\\\\Bureau\\\\2023\\\\Drive\\\\_Projects\\\\Business Data Challenge\\\\business-data-challenge', 'c:\\\\Users\\\\flore\\\\OneDrive\\\\Bureau\\\\2023\\\\Drive\\\\_Projects\\\\Business Data Challenge\\\\business-data-challenge\\\\lib', 'C:\\\\Users\\\\flore\\\\OneDrive\\\\Bureau\\\\2023\\\\Drive\\\\_Projects\\\\Business Data Challenge\\\\business-data-challenge\\\\lib', 'C:\\\\Users\\\\flore\\\\OneDrive\\\\Bureau\\\\2023\\\\Drive\\\\_Projects\\\\Business Data Challenge\\\\business-data-challenge\\\\lib', 'C:\\\\Users\\\\flore\\\\OneDrive\\\\Bureau\\\\2023\\\\Drive\\\\_Projects\\\\Business Data Challenge\\\\business-data-challenge\\\\lib', 'C:\\\\Users\\\\flore\\\\OneDrive\\\\Bureau\\\\2023\\\\Drive\\\\_Projects\\\\Business Data Challenge\\\\business-data-challenge\\\\lib\\\\preprocessing', 'c:\\\\Users\\\\flore\\\\OneDrive\\\\Bureau\\\\2023\\\\Drive\\\\_Projects\\\\Business Data Challenge\\\\business-data-challenge\\\\lib\\\\preprocessing', 'c:\\\\Users\\\\flore\\\\OneDrive\\\\Bureau\\\\2023\\\\Drive\\\\_Projects\\\\Business Data Challenge\\\\business-data-challenge\\\\lib\\\\preprocessing', 'c:\\\\Users\\\\flore\\\\OneDrive\\\\Bureau\\\\2023\\\\Drive\\\\_Projects\\\\Business Data Challenge\\\\business-data-challenge\\\\lib\\\\preprocessing', 'c:\\\\Users\\\\flore\\\\OneDrive\\\\Bureau\\\\2023\\\\Drive\\\\_Projects\\\\Business Data Challenge\\\\business-data-challenge\\\\lib\\\\preprocessing', 'c:\\\\Users\\\\flore\\\\OneDrive\\\\Bureau\\\\2023\\\\Drive\\\\_Projects\\\\Business Data Challenge\\\\business-data-challenge\\\\lib', 'c:\\\\Users\\\\flore\\\\OneDrive\\\\Bureau\\\\2023\\\\Drive\\\\_Projects\\\\Business Data Challenge\\\\business-data-challenge\\\\lib\\\\preprocessing', 'c:\\\\Users\\\\flore\\\\OneDrive\\\\Bureau\\\\2023\\\\Drive\\\\_Projects\\\\Business Data Challenge\\\\business-data-challenge\\\\lib', 'c:\\\\Users\\\\flore\\\\OneDrive\\\\Bureau\\\\2023\\\\Drive\\\\_Projects\\\\Business Data Challenge\\\\business-data-challenge\\\\lib\\\\preprocessing']\n"
     ]
    }
   ],
   "source": [
    "import sys\n",
    "sys.path.append(\"c:\\\\Users\\\\flore\\\\OneDrive\\\\Bureau\\\\2023\\\\Drive\\\\_Projects\\\\Business Data Challenge\\\\business-data-challenge\\\\lib\")\n",
    "sys.path.append(\"c:\\\\Users\\\\flore\\\\OneDrive\\\\Bureau\\\\2023\\\\Drive\\\\_Projects\\\\Business Data Challenge\\\\business-data-challenge\\\\lib\\\\preprocessing\")\n",
    "print(sys.path)"
   ]
  },
  {
   "cell_type": "code",
   "execution_count": 65,
   "metadata": {},
   "outputs": [
    {
     "name": "stdout",
     "output_type": "stream",
     "text": [
      "[]\n"
     ]
    }
   ],
   "source": [
    "import types\n",
    "import lib\n",
    "print([getattr(lib, a) for a in dir(lib)\n",
    "  if isinstance(getattr(lib, a), types.FunctionType)])"
   ]
  },
  {
   "cell_type": "code",
   "execution_count": 60,
   "metadata": {},
   "outputs": [],
   "source": [
    "DATA_DIR = \"../data/\"\n",
    "ZIP_DIR = f\"{DATA_DIR}dvf_cleaned.zip\" \n",
    "df_flats = dvf.concat_datasets_per_year(ZIP_DIR, geo_area=\"Lyon\", property_type=\"flats\")\n",
    "df_houses = dvf.concat_datasets_per_year(ZIP_DIR, geo_area=\"Lyon\", property_type=\"houses\") # à vérifier"
   ]
  },
  {
   "attachments": {},
   "cell_type": "markdown",
   "metadata": {},
   "source": [
    "## Data processing"
   ]
  },
  {
   "cell_type": "code",
   "execution_count": null,
   "metadata": {},
   "outputs": [],
   "source": [
    "n_unique_ids = df.id_mutation.unique().shape[0]\n",
    "assert n_unique_ids == df.shape[0]\n",
    "print(f\"{n_unique_ids} transactions uniques pour les appartements à Lyon\")"
   ]
  },
  {
   "cell_type": "code",
   "execution_count": null,
   "metadata": {},
   "outputs": [],
   "source": [
    "VARS = [\n",
    "    \"id_mutation\", \n",
    "    \"valeur_fonciere\",\n",
    "    \"nom_commune\",\n",
    "    \"longitude\",\n",
    "    \"latitude\", \n",
    "    \"pop\", \n",
    "    \"annee\", \n",
    "    \"trimestre\", \n",
    "    \"mois\", \n",
    "    \"jour\", \n",
    "    \"dependance\", \n",
    "    \"surface_terrain\", \n",
    "    \"surface_reelle_bati\", \n",
    "    \"nombre_pieces_principales\" \n",
    "]\n",
    "\n",
    "df2 = df.loc[:, df.columns.isin(VARS)]\n",
    "df.shape\n",
    "df2.shape"
   ]
  },
  {
   "cell_type": "code",
   "execution_count": null,
   "metadata": {},
   "outputs": [],
   "source": [
    "df2.describe()"
   ]
  },
  {
   "cell_type": "code",
   "execution_count": null,
   "metadata": {},
   "outputs": [],
   "source": [
    "df2 = df2.loc[\n",
    "    (df2.nombre_pieces_principales > 0) &\n",
    "    (df2.nombre_pieces_principales <= 8),\n",
    "    :\n",
    "]\n",
    "\n",
    "# convert to integer\n",
    "df2[\"nombre_pieces_principales\"] = df2[\"nombre_pieces_principales\"].astype(int)\n",
    "df2.nombre_pieces_principales.value_counts()"
   ]
  },
  {
   "cell_type": "code",
   "execution_count": null,
   "metadata": {},
   "outputs": [],
   "source": [
    "df2.surface_reelle_bati.describe()\n",
    "fig, axes = plt.subplots(ncols=2, figsize=(14, 5))\n",
    "fig.suptitle(\"Avant application du filtre\")\n",
    "\n",
    "sns.histplot(data=df2, x=\"surface_reelle_bati\", bins=100, ax=axes[0])\n",
    "sns.boxplot(data=df2, x=\"surface_reelle_bati\", ax=axes[1]);  "
   ]
  },
  {
   "cell_type": "code",
   "execution_count": null,
   "metadata": {},
   "outputs": [],
   "source": [
    "df2 = df2.loc[\n",
    "    (df2.surface_reelle_bati >= 8) & \n",
    "    (df2.surface_reelle_bati <= 150), \n",
    "    :\n",
    "]\n",
    "fig, axes = plt.subplots(ncols=2, figsize=(14, 5))\n",
    "fig.suptitle(\"Après application du filtre\")\n",
    "\n",
    "sns.histplot(data=df2, x=\"surface_reelle_bati\", color=\"orange\", bins=100, ax=axes[0])\n",
    "sns.boxplot(data=df2, x=\"surface_reelle_bati\", color=\"orange\", ax=axes[1]);  "
   ]
  },
  {
   "cell_type": "code",
   "execution_count": null,
   "metadata": {},
   "outputs": [],
   "source": []
  },
  {
   "attachments": {},
   "cell_type": "markdown",
   "metadata": {},
   "source": [
    "## Modèles de régression"
   ]
  },
  {
   "cell_type": "markdown",
   "metadata": {},
   "source": []
  }
 ],
 "metadata": {
  "kernelspec": {
   "display_name": "base",
   "language": "python",
   "name": "python3"
  },
  "language_info": {
   "codemirror_mode": {
    "name": "ipython",
    "version": 3
   },
   "file_extension": ".py",
   "mimetype": "text/x-python",
   "name": "python",
   "nbconvert_exporter": "python",
   "pygments_lexer": "ipython3",
   "version": "3.9.7"
  },
  "orig_nbformat": 4
 },
 "nbformat": 4,
 "nbformat_minor": 2
}
