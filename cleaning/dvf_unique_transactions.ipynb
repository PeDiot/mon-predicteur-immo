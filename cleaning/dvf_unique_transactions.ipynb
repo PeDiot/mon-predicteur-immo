{
 "cells": [
  {
   "attachments": {},
   "cell_type": "markdown",
   "metadata": {},
   "source": [
    "## Demandes de valeur foncière - Sélection des transactions uniques\n",
    "\n",
    "Une transaction unique correspond aux identifiants de mutation (champ `id_mutation`) qui n'impliquent qu'un seul bien. Pour ces transactions, chaque valeur foncière est associée à un seul bien."
   ]
  },
  {
   "attachments": {},
   "cell_type": "markdown",
   "metadata": {},
   "source": [
    "### Setup "
   ]
  },
  {
   "cell_type": "code",
   "execution_count": 46,
   "metadata": {},
   "outputs": [],
   "source": [
    "import sys\n",
    "sys.path.append(\"../\")"
   ]
  },
  {
   "cell_type": "code",
   "execution_count": 47,
   "metadata": {},
   "outputs": [
    {
     "name": "stdout",
     "output_type": "stream",
     "text": [
      "The autoreload extension is already loaded. To reload it, use:\n",
      "  %reload_ext autoreload\n"
     ]
    }
   ],
   "source": [
    "%load_ext autoreload\n",
    "%autoreload 2"
   ]
  },
  {
   "cell_type": "code",
   "execution_count": 48,
   "metadata": {},
   "outputs": [],
   "source": [
    "from lib.preprocessing import dvf, geo\n",
    "from lib.utils import get_unique_entries, add_date_components\n",
    "from lib.enums import CITIES"
   ]
  },
  {
   "cell_type": "code",
   "execution_count": 4,
   "metadata": {},
   "outputs": [],
   "source": [
    "import pandas as pd \n",
    "\n",
    "import numpy as np \n",
    "\n",
    "from rich import print \n",
    "from rich.console import Console\n",
    "from rich.table import Table\n",
    "\n",
    "import matplotlib.pyplot as plt \n",
    "import seaborn as sns"
   ]
  },
  {
   "cell_type": "code",
   "execution_count": 5,
   "metadata": {},
   "outputs": [],
   "source": [
    "pd.set_option(\"display.max_columns\", None)"
   ]
  },
  {
   "cell_type": "code",
   "execution_count": 6,
   "metadata": {},
   "outputs": [],
   "source": [
    "DATA_DIR = \"../data/\"\n",
    "\n",
    "ZIP_DIR = f\"{DATA_DIR}dvf.zip\"\n",
    "\n",
    "GEOGRAPHY_DIR = f\"{DATA_DIR}geography/\"\n",
    "DENSITY_DIR = f\"{DATA_DIR}densite/\"\n",
    "\n",
    "YEAR = 2019"
   ]
  },
  {
   "attachments": {},
   "cell_type": "markdown",
   "metadata": {},
   "source": [
    "### Chargement des données"
   ]
  },
  {
   "cell_type": "code",
   "execution_count": 7,
   "metadata": {},
   "outputs": [],
   "source": [
    "df = dvf.load_zip_csv(zip_dir=ZIP_DIR, year=YEAR)"
   ]
  },
  {
   "cell_type": "code",
   "execution_count": 8,
   "metadata": {},
   "outputs": [
    {
     "data": {
      "text/html": [
       "<div>\n",
       "<style scoped>\n",
       "    .dataframe tbody tr th:only-of-type {\n",
       "        vertical-align: middle;\n",
       "    }\n",
       "\n",
       "    .dataframe tbody tr th {\n",
       "        vertical-align: top;\n",
       "    }\n",
       "\n",
       "    .dataframe thead th {\n",
       "        text-align: right;\n",
       "    }\n",
       "</style>\n",
       "<table border=\"1\" class=\"dataframe\">\n",
       "  <thead>\n",
       "    <tr style=\"text-align: right;\">\n",
       "      <th></th>\n",
       "      <th>id_mutation</th>\n",
       "      <th>date_mutation</th>\n",
       "      <th>numero_disposition</th>\n",
       "      <th>nature_mutation</th>\n",
       "      <th>valeur_fonciere</th>\n",
       "      <th>adresse_numero</th>\n",
       "      <th>adresse_suffixe</th>\n",
       "      <th>adresse_nom_voie</th>\n",
       "      <th>adresse_code_voie</th>\n",
       "      <th>code_postal</th>\n",
       "      <th>code_commune</th>\n",
       "      <th>nom_commune</th>\n",
       "      <th>code_departement</th>\n",
       "      <th>ancien_code_commune</th>\n",
       "      <th>ancien_nom_commune</th>\n",
       "      <th>id_parcelle</th>\n",
       "      <th>ancien_id_parcelle</th>\n",
       "      <th>numero_volume</th>\n",
       "      <th>lot1_numero</th>\n",
       "      <th>lot1_surface_carrez</th>\n",
       "      <th>lot2_numero</th>\n",
       "      <th>lot2_surface_carrez</th>\n",
       "      <th>lot3_numero</th>\n",
       "      <th>lot3_surface_carrez</th>\n",
       "      <th>lot4_numero</th>\n",
       "      <th>lot4_surface_carrez</th>\n",
       "      <th>lot5_numero</th>\n",
       "      <th>lot5_surface_carrez</th>\n",
       "      <th>nombre_lots</th>\n",
       "      <th>code_type_local</th>\n",
       "      <th>type_local</th>\n",
       "      <th>surface_reelle_bati</th>\n",
       "      <th>nombre_pieces_principales</th>\n",
       "      <th>code_nature_culture</th>\n",
       "      <th>nature_culture</th>\n",
       "      <th>code_nature_culture_speciale</th>\n",
       "      <th>nature_culture_speciale</th>\n",
       "      <th>surface_terrain</th>\n",
       "      <th>longitude</th>\n",
       "      <th>latitude</th>\n",
       "    </tr>\n",
       "  </thead>\n",
       "  <tbody>\n",
       "    <tr>\n",
       "      <th>0</th>\n",
       "      <td>2019-1</td>\n",
       "      <td>2019-01-04</td>\n",
       "      <td>1</td>\n",
       "      <td>Vente</td>\n",
       "      <td>37220.0</td>\n",
       "      <td>26.0</td>\n",
       "      <td>NaN</td>\n",
       "      <td>RUE DE MONTHOLON</td>\n",
       "      <td>2730</td>\n",
       "      <td>1000.0</td>\n",
       "      <td>1053</td>\n",
       "      <td>Bourg-en-Bresse</td>\n",
       "      <td>1</td>\n",
       "      <td>NaN</td>\n",
       "      <td>NaN</td>\n",
       "      <td>01053000AI0298</td>\n",
       "      <td>NaN</td>\n",
       "      <td>NaN</td>\n",
       "      <td>8.0</td>\n",
       "      <td>19.27</td>\n",
       "      <td>NaN</td>\n",
       "      <td>NaN</td>\n",
       "      <td>NaN</td>\n",
       "      <td>NaN</td>\n",
       "      <td>NaN</td>\n",
       "      <td>NaN</td>\n",
       "      <td>NaN</td>\n",
       "      <td>NaN</td>\n",
       "      <td>1</td>\n",
       "      <td>2.0</td>\n",
       "      <td>Appartement</td>\n",
       "      <td>20.0</td>\n",
       "      <td>1.0</td>\n",
       "      <td>NaN</td>\n",
       "      <td>NaN</td>\n",
       "      <td>NaN</td>\n",
       "      <td>NaN</td>\n",
       "      <td>NaN</td>\n",
       "      <td>5.209562</td>\n",
       "      <td>46.198840</td>\n",
       "    </tr>\n",
       "    <tr>\n",
       "      <th>1</th>\n",
       "      <td>2019-2</td>\n",
       "      <td>2019-01-04</td>\n",
       "      <td>1</td>\n",
       "      <td>Vente</td>\n",
       "      <td>185100.0</td>\n",
       "      <td>22.0</td>\n",
       "      <td>B</td>\n",
       "      <td>RUE GEN DELESTRAINT</td>\n",
       "      <td>1650</td>\n",
       "      <td>1000.0</td>\n",
       "      <td>1053</td>\n",
       "      <td>Bourg-en-Bresse</td>\n",
       "      <td>1</td>\n",
       "      <td>NaN</td>\n",
       "      <td>NaN</td>\n",
       "      <td>01053000AM0095</td>\n",
       "      <td>NaN</td>\n",
       "      <td>NaN</td>\n",
       "      <td>7.0</td>\n",
       "      <td>NaN</td>\n",
       "      <td>NaN</td>\n",
       "      <td>NaN</td>\n",
       "      <td>NaN</td>\n",
       "      <td>NaN</td>\n",
       "      <td>NaN</td>\n",
       "      <td>NaN</td>\n",
       "      <td>NaN</td>\n",
       "      <td>NaN</td>\n",
       "      <td>1</td>\n",
       "      <td>3.0</td>\n",
       "      <td>Dépendance</td>\n",
       "      <td>NaN</td>\n",
       "      <td>0.0</td>\n",
       "      <td>NaN</td>\n",
       "      <td>NaN</td>\n",
       "      <td>NaN</td>\n",
       "      <td>NaN</td>\n",
       "      <td>NaN</td>\n",
       "      <td>5.219396</td>\n",
       "      <td>46.198766</td>\n",
       "    </tr>\n",
       "    <tr>\n",
       "      <th>2</th>\n",
       "      <td>2019-2</td>\n",
       "      <td>2019-01-04</td>\n",
       "      <td>1</td>\n",
       "      <td>Vente</td>\n",
       "      <td>185100.0</td>\n",
       "      <td>22.0</td>\n",
       "      <td>NaN</td>\n",
       "      <td>RUE GEN DELESTRAINT</td>\n",
       "      <td>1650</td>\n",
       "      <td>1000.0</td>\n",
       "      <td>1053</td>\n",
       "      <td>Bourg-en-Bresse</td>\n",
       "      <td>1</td>\n",
       "      <td>NaN</td>\n",
       "      <td>NaN</td>\n",
       "      <td>01053000AM0095</td>\n",
       "      <td>NaN</td>\n",
       "      <td>NaN</td>\n",
       "      <td>137.0</td>\n",
       "      <td>NaN</td>\n",
       "      <td>154.0</td>\n",
       "      <td>61.51</td>\n",
       "      <td>NaN</td>\n",
       "      <td>NaN</td>\n",
       "      <td>NaN</td>\n",
       "      <td>NaN</td>\n",
       "      <td>NaN</td>\n",
       "      <td>NaN</td>\n",
       "      <td>2</td>\n",
       "      <td>2.0</td>\n",
       "      <td>Appartement</td>\n",
       "      <td>62.0</td>\n",
       "      <td>3.0</td>\n",
       "      <td>NaN</td>\n",
       "      <td>NaN</td>\n",
       "      <td>NaN</td>\n",
       "      <td>NaN</td>\n",
       "      <td>NaN</td>\n",
       "      <td>5.219396</td>\n",
       "      <td>46.198766</td>\n",
       "    </tr>\n",
       "    <tr>\n",
       "      <th>3</th>\n",
       "      <td>2019-3</td>\n",
       "      <td>2019-01-08</td>\n",
       "      <td>1</td>\n",
       "      <td>Vente</td>\n",
       "      <td>209000.0</td>\n",
       "      <td>3.0</td>\n",
       "      <td>NaN</td>\n",
       "      <td>RUE DES CHAMPAGNES</td>\n",
       "      <td>0043</td>\n",
       "      <td>1160.0</td>\n",
       "      <td>1314</td>\n",
       "      <td>Priay</td>\n",
       "      <td>1</td>\n",
       "      <td>NaN</td>\n",
       "      <td>NaN</td>\n",
       "      <td>013140000E1676</td>\n",
       "      <td>NaN</td>\n",
       "      <td>NaN</td>\n",
       "      <td>NaN</td>\n",
       "      <td>NaN</td>\n",
       "      <td>NaN</td>\n",
       "      <td>NaN</td>\n",
       "      <td>NaN</td>\n",
       "      <td>NaN</td>\n",
       "      <td>NaN</td>\n",
       "      <td>NaN</td>\n",
       "      <td>NaN</td>\n",
       "      <td>NaN</td>\n",
       "      <td>0</td>\n",
       "      <td>1.0</td>\n",
       "      <td>Maison</td>\n",
       "      <td>90.0</td>\n",
       "      <td>4.0</td>\n",
       "      <td>S</td>\n",
       "      <td>sols</td>\n",
       "      <td>NaN</td>\n",
       "      <td>NaN</td>\n",
       "      <td>940.0</td>\n",
       "      <td>5.282104</td>\n",
       "      <td>45.999566</td>\n",
       "    </tr>\n",
       "    <tr>\n",
       "      <th>4</th>\n",
       "      <td>2019-4</td>\n",
       "      <td>2019-01-07</td>\n",
       "      <td>1</td>\n",
       "      <td>Vente</td>\n",
       "      <td>134900.0</td>\n",
       "      <td>5.0</td>\n",
       "      <td>NaN</td>\n",
       "      <td>LOT LE BIOLAY</td>\n",
       "      <td>A003</td>\n",
       "      <td>1370.0</td>\n",
       "      <td>1350</td>\n",
       "      <td>Saint-Étienne-du-Bois</td>\n",
       "      <td>1</td>\n",
       "      <td>NaN</td>\n",
       "      <td>NaN</td>\n",
       "      <td>01350000AA0011</td>\n",
       "      <td>NaN</td>\n",
       "      <td>NaN</td>\n",
       "      <td>NaN</td>\n",
       "      <td>NaN</td>\n",
       "      <td>NaN</td>\n",
       "      <td>NaN</td>\n",
       "      <td>NaN</td>\n",
       "      <td>NaN</td>\n",
       "      <td>NaN</td>\n",
       "      <td>NaN</td>\n",
       "      <td>NaN</td>\n",
       "      <td>NaN</td>\n",
       "      <td>0</td>\n",
       "      <td>1.0</td>\n",
       "      <td>Maison</td>\n",
       "      <td>101.0</td>\n",
       "      <td>5.0</td>\n",
       "      <td>S</td>\n",
       "      <td>sols</td>\n",
       "      <td>NaN</td>\n",
       "      <td>NaN</td>\n",
       "      <td>490.0</td>\n",
       "      <td>5.299929</td>\n",
       "      <td>46.293278</td>\n",
       "    </tr>\n",
       "  </tbody>\n",
       "</table>\n",
       "</div>"
      ],
      "text/plain": [
       "  id_mutation date_mutation  numero_disposition nature_mutation  \\\n",
       "0      2019-1    2019-01-04                   1           Vente   \n",
       "1      2019-2    2019-01-04                   1           Vente   \n",
       "2      2019-2    2019-01-04                   1           Vente   \n",
       "3      2019-3    2019-01-08                   1           Vente   \n",
       "4      2019-4    2019-01-07                   1           Vente   \n",
       "\n",
       "   valeur_fonciere  adresse_numero adresse_suffixe     adresse_nom_voie  \\\n",
       "0          37220.0            26.0             NaN     RUE DE MONTHOLON   \n",
       "1         185100.0            22.0               B  RUE GEN DELESTRAINT   \n",
       "2         185100.0            22.0             NaN  RUE GEN DELESTRAINT   \n",
       "3         209000.0             3.0             NaN   RUE DES CHAMPAGNES   \n",
       "4         134900.0             5.0             NaN        LOT LE BIOLAY   \n",
       "\n",
       "  adresse_code_voie  code_postal code_commune            nom_commune  \\\n",
       "0              2730       1000.0         1053        Bourg-en-Bresse   \n",
       "1              1650       1000.0         1053        Bourg-en-Bresse   \n",
       "2              1650       1000.0         1053        Bourg-en-Bresse   \n",
       "3              0043       1160.0         1314                  Priay   \n",
       "4              A003       1370.0         1350  Saint-Étienne-du-Bois   \n",
       "\n",
       "  code_departement  ancien_code_commune ancien_nom_commune     id_parcelle  \\\n",
       "0                1                  NaN                NaN  01053000AI0298   \n",
       "1                1                  NaN                NaN  01053000AM0095   \n",
       "2                1                  NaN                NaN  01053000AM0095   \n",
       "3                1                  NaN                NaN  013140000E1676   \n",
       "4                1                  NaN                NaN  01350000AA0011   \n",
       "\n",
       "  ancien_id_parcelle numero_volume lot1_numero  lot1_surface_carrez  \\\n",
       "0                NaN           NaN         8.0                19.27   \n",
       "1                NaN           NaN         7.0                  NaN   \n",
       "2                NaN           NaN       137.0                  NaN   \n",
       "3                NaN           NaN         NaN                  NaN   \n",
       "4                NaN           NaN         NaN                  NaN   \n",
       "\n",
       "  lot2_numero  lot2_surface_carrez lot3_numero  lot3_surface_carrez  \\\n",
       "0         NaN                  NaN         NaN                  NaN   \n",
       "1         NaN                  NaN         NaN                  NaN   \n",
       "2       154.0                61.51         NaN                  NaN   \n",
       "3         NaN                  NaN         NaN                  NaN   \n",
       "4         NaN                  NaN         NaN                  NaN   \n",
       "\n",
       "   lot4_numero  lot4_surface_carrez  lot5_numero  lot5_surface_carrez  \\\n",
       "0          NaN                  NaN          NaN                  NaN   \n",
       "1          NaN                  NaN          NaN                  NaN   \n",
       "2          NaN                  NaN          NaN                  NaN   \n",
       "3          NaN                  NaN          NaN                  NaN   \n",
       "4          NaN                  NaN          NaN                  NaN   \n",
       "\n",
       "   nombre_lots  code_type_local   type_local  surface_reelle_bati  \\\n",
       "0            1              2.0  Appartement                 20.0   \n",
       "1            1              3.0   Dépendance                  NaN   \n",
       "2            2              2.0  Appartement                 62.0   \n",
       "3            0              1.0       Maison                 90.0   \n",
       "4            0              1.0       Maison                101.0   \n",
       "\n",
       "   nombre_pieces_principales code_nature_culture nature_culture  \\\n",
       "0                        1.0                 NaN            NaN   \n",
       "1                        0.0                 NaN            NaN   \n",
       "2                        3.0                 NaN            NaN   \n",
       "3                        4.0                   S           sols   \n",
       "4                        5.0                   S           sols   \n",
       "\n",
       "  code_nature_culture_speciale nature_culture_speciale  surface_terrain  \\\n",
       "0                          NaN                     NaN              NaN   \n",
       "1                          NaN                     NaN              NaN   \n",
       "2                          NaN                     NaN              NaN   \n",
       "3                          NaN                     NaN            940.0   \n",
       "4                          NaN                     NaN            490.0   \n",
       "\n",
       "   longitude   latitude  \n",
       "0   5.209562  46.198840  \n",
       "1   5.219396  46.198766  \n",
       "2   5.219396  46.198766  \n",
       "3   5.282104  45.999566  \n",
       "4   5.299929  46.293278  "
      ]
     },
     "execution_count": 8,
     "metadata": {},
     "output_type": "execute_result"
    }
   ],
   "source": [
    "df.head()"
   ]
  },
  {
   "cell_type": "code",
   "execution_count": 9,
   "metadata": {},
   "outputs": [
    {
     "name": "stdout",
     "output_type": "stream",
     "text": [
      "<class 'pandas.core.frame.DataFrame'>\n",
      "RangeIndex: 3623957 entries, 0 to 3623956\n",
      "Data columns (total 40 columns):\n",
      " #   Column                        Dtype  \n",
      "---  ------                        -----  \n",
      " 0   id_mutation                   object \n",
      " 1   date_mutation                 object \n",
      " 2   numero_disposition            int64  \n",
      " 3   nature_mutation               object \n",
      " 4   valeur_fonciere               float64\n",
      " 5   adresse_numero                float64\n",
      " 6   adresse_suffixe               object \n",
      " 7   adresse_nom_voie              object \n",
      " 8   adresse_code_voie             object \n",
      " 9   code_postal                   float64\n",
      " 10  code_commune                  object \n",
      " 11  nom_commune                   object \n",
      " 12  code_departement              object \n",
      " 13  ancien_code_commune           float64\n",
      " 14  ancien_nom_commune            object \n",
      " 15  id_parcelle                   object \n",
      " 16  ancien_id_parcelle            object \n",
      " 17  numero_volume                 object \n",
      " 18  lot1_numero                   object \n",
      " 19  lot1_surface_carrez           float64\n",
      " 20  lot2_numero                   object \n",
      " 21  lot2_surface_carrez           float64\n",
      " 22  lot3_numero                   object \n",
      " 23  lot3_surface_carrez           float64\n",
      " 24  lot4_numero                   float64\n",
      " 25  lot4_surface_carrez           float64\n",
      " 26  lot5_numero                   float64\n",
      " 27  lot5_surface_carrez           float64\n",
      " 28  nombre_lots                   int64  \n",
      " 29  code_type_local               float64\n",
      " 30  type_local                    object \n",
      " 31  surface_reelle_bati           float64\n",
      " 32  nombre_pieces_principales     float64\n",
      " 33  code_nature_culture           object \n",
      " 34  nature_culture                object \n",
      " 35  code_nature_culture_speciale  object \n",
      " 36  nature_culture_speciale       object \n",
      " 37  surface_terrain               float64\n",
      " 38  longitude                     float64\n",
      " 39  latitude                      float64\n",
      "dtypes: float64(17), int64(2), object(21)\n",
      "memory usage: 1.1+ GB\n"
     ]
    }
   ],
   "source": [
    "df.info()"
   ]
  },
  {
   "cell_type": "code",
   "execution_count": 10,
   "metadata": {},
   "outputs": [
    {
     "data": {
      "text/plain": [
       "(3623957, 40)"
      ]
     },
     "execution_count": 10,
     "metadata": {},
     "output_type": "execute_result"
    }
   ],
   "source": [
    "df.shape"
   ]
  },
  {
   "attachments": {},
   "cell_type": "markdown",
   "metadata": {},
   "source": [
    "### Preprocessing"
   ]
  },
  {
   "attachments": {},
   "cell_type": "markdown",
   "metadata": {},
   "source": [
    "#### Sélection des ventes"
   ]
  },
  {
   "cell_type": "code",
   "execution_count": 11,
   "metadata": {},
   "outputs": [],
   "source": [
    "df_sales = dvf.select_sales(df) "
   ]
  },
  {
   "cell_type": "code",
   "execution_count": 12,
   "metadata": {},
   "outputs": [
    {
     "data": {
      "text/plain": [
       "array(['Vente'], dtype=object)"
      ]
     },
     "execution_count": 12,
     "metadata": {},
     "output_type": "execute_result"
    }
   ],
   "source": [
    "df_sales.nature_mutation.unique()"
   ]
  },
  {
   "cell_type": "code",
   "execution_count": 13,
   "metadata": {},
   "outputs": [
    {
     "data": {
      "text/plain": [
       "(3287308, 40)"
      ]
     },
     "execution_count": 13,
     "metadata": {},
     "output_type": "execute_result"
    }
   ],
   "source": [
    "df_sales.shape"
   ]
  },
  {
   "cell_type": "code",
   "execution_count": 14,
   "metadata": {},
   "outputs": [],
   "source": [
    "# remove dataframe to save memory space\n",
    "del df"
   ]
  },
  {
   "attachments": {},
   "cell_type": "markdown",
   "metadata": {},
   "source": [
    "#### Type de biens"
   ]
  },
  {
   "cell_type": "code",
   "execution_count": 15,
   "metadata": {},
   "outputs": [
    {
     "data": {
      "text/html": [
       "<div>\n",
       "<style scoped>\n",
       "    .dataframe tbody tr th:only-of-type {\n",
       "        vertical-align: middle;\n",
       "    }\n",
       "\n",
       "    .dataframe tbody tr th {\n",
       "        vertical-align: top;\n",
       "    }\n",
       "\n",
       "    .dataframe thead th {\n",
       "        text-align: right;\n",
       "    }\n",
       "</style>\n",
       "<table border=\"1\" class=\"dataframe\">\n",
       "  <thead>\n",
       "    <tr style=\"text-align: right;\">\n",
       "      <th>code_type_local</th>\n",
       "      <th>1.0</th>\n",
       "      <th>2.0</th>\n",
       "      <th>3.0</th>\n",
       "      <th>4.0</th>\n",
       "      <th>All</th>\n",
       "    </tr>\n",
       "    <tr>\n",
       "      <th>type_local</th>\n",
       "      <th></th>\n",
       "      <th></th>\n",
       "      <th></th>\n",
       "      <th></th>\n",
       "      <th></th>\n",
       "    </tr>\n",
       "  </thead>\n",
       "  <tbody>\n",
       "    <tr>\n",
       "      <th>Appartement</th>\n",
       "      <td>0</td>\n",
       "      <td>606760</td>\n",
       "      <td>0</td>\n",
       "      <td>0</td>\n",
       "      <td>606760</td>\n",
       "    </tr>\n",
       "    <tr>\n",
       "      <th>Dépendance</th>\n",
       "      <td>0</td>\n",
       "      <td>0</td>\n",
       "      <td>439431</td>\n",
       "      <td>0</td>\n",
       "      <td>439431</td>\n",
       "    </tr>\n",
       "    <tr>\n",
       "      <th>Local industriel. commercial ou assimilé</th>\n",
       "      <td>0</td>\n",
       "      <td>0</td>\n",
       "      <td>0</td>\n",
       "      <td>134613</td>\n",
       "      <td>134613</td>\n",
       "    </tr>\n",
       "    <tr>\n",
       "      <th>Maison</th>\n",
       "      <td>706649</td>\n",
       "      <td>0</td>\n",
       "      <td>0</td>\n",
       "      <td>0</td>\n",
       "      <td>706649</td>\n",
       "    </tr>\n",
       "    <tr>\n",
       "      <th>All</th>\n",
       "      <td>706649</td>\n",
       "      <td>606760</td>\n",
       "      <td>439431</td>\n",
       "      <td>134613</td>\n",
       "      <td>1887453</td>\n",
       "    </tr>\n",
       "  </tbody>\n",
       "</table>\n",
       "</div>"
      ],
      "text/plain": [
       "code_type_local                              1.0     2.0     3.0     4.0  \\\n",
       "type_local                                                                 \n",
       "Appartement                                    0  606760       0       0   \n",
       "Dépendance                                     0       0  439431       0   \n",
       "Local industriel. commercial ou assimilé       0       0       0  134613   \n",
       "Maison                                    706649       0       0       0   \n",
       "All                                       706649  606760  439431  134613   \n",
       "\n",
       "code_type_local                               All  \n",
       "type_local                                         \n",
       "Appartement                                606760  \n",
       "Dépendance                                 439431  \n",
       "Local industriel. commercial ou assimilé   134613  \n",
       "Maison                                     706649  \n",
       "All                                       1887453  "
      ]
     },
     "execution_count": 15,
     "metadata": {},
     "output_type": "execute_result"
    }
   ],
   "source": [
    "pd.crosstab(\n",
    "    df_sales[\"type_local\"], \n",
    "    df_sales[\"code_type_local\"], \n",
    "    margins=True\n",
    ") "
   ]
  },
  {
   "cell_type": "code",
   "execution_count": 16,
   "metadata": {},
   "outputs": [
    {
     "data": {
      "text/plain": [
       "NaN    1399855\n",
       "Name: code_type_local, dtype: int64"
      ]
     },
     "execution_count": 16,
     "metadata": {},
     "output_type": "execute_result"
    }
   ],
   "source": [
    "df_sales.loc[df_sales.type_local.isna(), \"code_type_local\"].value_counts(dropna=False)"
   ]
  },
  {
   "cell_type": "code",
   "execution_count": 17,
   "metadata": {},
   "outputs": [
    {
     "data": {
      "text/plain": [
       "NaN    0.425836\n",
       "1.0    0.214963\n",
       "2.0    0.184577\n",
       "3.0    0.133675\n",
       "4.0    0.040949\n",
       "Name: code_type_local, dtype: float64"
      ]
     },
     "execution_count": 17,
     "metadata": {},
     "output_type": "execute_result"
    }
   ],
   "source": [
    "df_sales[\"code_type_local\"].value_counts(dropna=False) / df_sales.shape[0]"
   ]
  },
  {
   "cell_type": "code",
   "execution_count": 18,
   "metadata": {},
   "outputs": [],
   "source": [
    "df_sales[\"type_local\"] = df_sales[\"code_type_local\"].apply(dvf.encode_property_type)"
   ]
  },
  {
   "cell_type": "code",
   "execution_count": 19,
   "metadata": {},
   "outputs": [
    {
     "data": {
      "text/plain": [
       "NaN                                         0.425836\n",
       "Maison                                      0.214963\n",
       "Appartement                                 0.184577\n",
       "Dépendance                                  0.133675\n",
       "Local industriel. commercial ou assimilé    0.040949\n",
       "Name: type_local, dtype: float64"
      ]
     },
     "execution_count": 19,
     "metadata": {},
     "output_type": "execute_result"
    }
   ],
   "source": [
    "df_sales.type_local.value_counts(dropna=False) / df_sales.shape[0]"
   ]
  },
  {
   "attachments": {},
   "cell_type": "markdown",
   "metadata": {},
   "source": [
    "On  remarque une proportion significative de biens pour lesquels la variable `type_local` n'est pas renseignée. "
   ]
  },
  {
   "attachments": {},
   "cell_type": "markdown",
   "metadata": {},
   "source": [
    "#### Sélection des appartements/maisons/dépendances"
   ]
  },
  {
   "cell_type": "code",
   "execution_count": 20,
   "metadata": {},
   "outputs": [],
   "source": [
    "df_sales = dvf.remove_industrial_facilities(df_sales)"
   ]
  },
  {
   "cell_type": "code",
   "execution_count": 21,
   "metadata": {},
   "outputs": [
    {
     "data": {
      "text/plain": [
       "(1752840, 40)"
      ]
     },
     "execution_count": 21,
     "metadata": {},
     "output_type": "execute_result"
    }
   ],
   "source": [
    "df_sales.shape"
   ]
  },
  {
   "attachments": {},
   "cell_type": "markdown",
   "metadata": {},
   "source": [
    "## Extraction des transactions uniques\n",
    "\n",
    "La méthode consiste à grouper le jeu de données par `id_mutation`, compter le nombre d'entrées par id et sélectionner uniquement les id tq le nombre d'entrées vaut 1. \n",
    "\n",
    "Avant cela, on sépare les maisons/appartements des dépendances pour ajouter plus tard une variable indiquant si le bien possède une dépendance. L'intérêt de ne pas séparer maisons et appartements est de supprimer les identifiants de mutation associées à une maison et un appartement. "
   ]
  },
  {
   "cell_type": "code",
   "execution_count": 22,
   "metadata": {},
   "outputs": [],
   "source": [
    "# split dataset into houses/flats and dependencies\n",
    "\n",
    "dict_sales = {\n",
    "    \"houses_flats\": df_sales.loc[df_sales.code_type_local != 3], \n",
    "    \"dependencies\": df_sales.loc[df_sales.code_type_local == 3]\n",
    "}"
   ]
  },
  {
   "cell_type": "code",
   "execution_count": 23,
   "metadata": {},
   "outputs": [],
   "source": [
    "unique_ids = get_unique_entries(dict_sales[\"houses_flats\"], \"id_mutation\")"
   ]
  },
  {
   "cell_type": "code",
   "execution_count": 24,
   "metadata": {},
   "outputs": [
    {
     "data": {
      "text/html": [
       "<pre style=\"white-space:pre;overflow-x:auto;line-height:normal;font-family:Menlo,'DejaVu Sans Mono',consolas,'Courier New',monospace\"><span style=\"color: #008080; text-decoration-color: #008080; font-weight: bold\">84.71</span>% d'identifiants de mutation associées à un seul bien pour les maisons &amp; appartements\n",
       "</pre>\n"
      ],
      "text/plain": [
       "\u001b[1;36m84.71\u001b[0m% d'identifiants de mutation associées à un seul bien pour les maisons & appartements\n"
      ]
     },
     "metadata": {},
     "output_type": "display_data"
    }
   ],
   "source": [
    "n_unique_ids = len(unique_ids)\n",
    "n_ids = dict_sales[\"houses_flats\"].id_mutation.unique().shape[0]\n",
    "prop = 100 * n_unique_ids / n_ids \n",
    "\n",
    "print(f\"{round(prop, 2)}% d'identifiants de mutation associées à un seul bien pour les maisons & appartements\")"
   ]
  },
  {
   "cell_type": "code",
   "execution_count": 25,
   "metadata": {},
   "outputs": [],
   "source": [
    "dict_sales = {\n",
    "    k: df.loc[df.id_mutation.isin(unique_ids), :]\n",
    "    for k, df in dict_sales.items()\n",
    "}"
   ]
  },
  {
   "attachments": {},
   "cell_type": "markdown",
   "metadata": {},
   "source": [
    "Maintenant que les transactions uniques ont été identifées, on sépare les maisons des appartements. "
   ]
  },
  {
   "cell_type": "code",
   "execution_count": 26,
   "metadata": {},
   "outputs": [],
   "source": [
    "dict_sales[\"houses\"] = dict_sales[\"houses_flats\"]\\\n",
    "    .loc[dict_sales[\"houses_flats\"].code_type_local==1, :]\n",
    "\n",
    "dict_sales[\"flats\"] = dict_sales[\"houses_flats\"]\\\n",
    "    .loc[dict_sales[\"houses_flats\"].code_type_local==2, :]\n",
    "\n",
    "del dict_sales[\"houses_flats\"]"
   ]
  },
  {
   "cell_type": "code",
   "execution_count": 27,
   "metadata": {},
   "outputs": [
    {
     "data": {
      "text/plain": [
       "dict_keys(['dependencies', 'houses', 'flats'])"
      ]
     },
     "execution_count": 27,
     "metadata": {},
     "output_type": "execute_result"
    }
   ],
   "source": [
    "dict_sales.keys()"
   ]
  },
  {
   "attachments": {},
   "cell_type": "markdown",
   "metadata": {},
   "source": [
    "### Ajout de variables"
   ]
  },
  {
   "attachments": {},
   "cell_type": "markdown",
   "metadata": {},
   "source": [
    "#### Dummy `dependance`\n",
    "\n",
    "Variable indicatrice qui vaut 1 si le bien possède au moins une dépendance, 0 sinon. "
   ]
  },
  {
   "cell_type": "code",
   "execution_count": 28,
   "metadata": {},
   "outputs": [],
   "source": [
    "dependencies = dict_sales[\"dependencies\"]\n",
    "del dict_sales[\"dependencies\"]\n",
    "\n",
    "dict_sales = {\n",
    "    property_type: dvf.add_dependency_dummy(df, dependencies)\n",
    "    for property_type, df in dict_sales.items()\n",
    "}"
   ]
  },
  {
   "cell_type": "code",
   "execution_count": 29,
   "metadata": {},
   "outputs": [
    {
     "data": {
      "image/png": "[encoded data removed]",
      "text/plain": [
       "<Figure size 1080x360 with 2 Axes>"
      ]
     },
     "metadata": {
      "needs_background": "light"
     },
     "output_type": "display_data"
    }
   ],
   "source": [
    "fig, axes = plt.subplots(ncols=2, figsize=(15, 5), sharey=True)\n",
    "\n",
    "for (property_type, df), ax in zip(dict_sales.items(), axes.flatten()): \n",
    "    tmp = df.copy()\n",
    "    tmp[\"log_valeur_fonciere\"] = np.log(tmp.valeur_fonciere)\n",
    "    sns.histplot(data=tmp, x=\"log_valeur_fonciere\", hue=\"dependance\", bins=100, ax=ax)\n",
    "    ax.set_title(property_type)\n",
    "\n",
    "del tmp "
   ]
  },
  {
   "attachments": {},
   "cell_type": "markdown",
   "metadata": {},
   "source": [
    "#### Variables géographiques"
   ]
  },
  {
   "attachments": {},
   "cell_type": "markdown",
   "metadata": {},
   "source": [
    "**Régions**"
   ]
  },
  {
   "cell_type": "code",
   "execution_count": 30,
   "metadata": {},
   "outputs": [],
   "source": [
    "# convert department id to character\n",
    "\n",
    "for property_type, df in dict_sales.items(): \n",
    "    df[\"code_departement\"] = df[\"code_departement\"].astype(str)\n",
    "    dict_sales[property_type] = df\n",
    "\n",
    "del df "
   ]
  },
  {
   "cell_type": "code",
   "execution_count": 31,
   "metadata": {},
   "outputs": [
    {
     "data": {
      "text/html": [
       "<div>\n",
       "<style scoped>\n",
       "    .dataframe tbody tr th:only-of-type {\n",
       "        vertical-align: middle;\n",
       "    }\n",
       "\n",
       "    .dataframe tbody tr th {\n",
       "        vertical-align: top;\n",
       "    }\n",
       "\n",
       "    .dataframe thead th {\n",
       "        text-align: right;\n",
       "    }\n",
       "</style>\n",
       "<table border=\"1\" class=\"dataframe\">\n",
       "  <thead>\n",
       "    <tr style=\"text-align: right;\">\n",
       "      <th></th>\n",
       "      <th>code_region</th>\n",
       "      <th>code_departement</th>\n",
       "      <th>nom_departement</th>\n",
       "      <th>nom_region</th>\n",
       "    </tr>\n",
       "  </thead>\n",
       "  <tbody>\n",
       "    <tr>\n",
       "      <th>0</th>\n",
       "      <td>84</td>\n",
       "      <td>1</td>\n",
       "      <td>Ain</td>\n",
       "      <td>Auvergne-Rhône-Alpes</td>\n",
       "    </tr>\n",
       "    <tr>\n",
       "      <th>1</th>\n",
       "      <td>84</td>\n",
       "      <td>3</td>\n",
       "      <td>Allier</td>\n",
       "      <td>Auvergne-Rhône-Alpes</td>\n",
       "    </tr>\n",
       "    <tr>\n",
       "      <th>2</th>\n",
       "      <td>84</td>\n",
       "      <td>7</td>\n",
       "      <td>Ardèche</td>\n",
       "      <td>Auvergne-Rhône-Alpes</td>\n",
       "    </tr>\n",
       "    <tr>\n",
       "      <th>3</th>\n",
       "      <td>84</td>\n",
       "      <td>15</td>\n",
       "      <td>Cantal</td>\n",
       "      <td>Auvergne-Rhône-Alpes</td>\n",
       "    </tr>\n",
       "    <tr>\n",
       "      <th>4</th>\n",
       "      <td>84</td>\n",
       "      <td>26</td>\n",
       "      <td>Drôme</td>\n",
       "      <td>Auvergne-Rhône-Alpes</td>\n",
       "    </tr>\n",
       "    <tr>\n",
       "      <th>...</th>\n",
       "      <td>...</td>\n",
       "      <td>...</td>\n",
       "      <td>...</td>\n",
       "      <td>...</td>\n",
       "    </tr>\n",
       "    <tr>\n",
       "      <th>104</th>\n",
       "      <td>COM</td>\n",
       "      <td>984</td>\n",
       "      <td>Terres australes et antarctiques françaises</td>\n",
       "      <td>Collectivités d'Outre-Mer</td>\n",
       "    </tr>\n",
       "    <tr>\n",
       "      <th>105</th>\n",
       "      <td>COM</td>\n",
       "      <td>986</td>\n",
       "      <td>Wallis et Futuna</td>\n",
       "      <td>Collectivités d'Outre-Mer</td>\n",
       "    </tr>\n",
       "    <tr>\n",
       "      <th>106</th>\n",
       "      <td>COM</td>\n",
       "      <td>987</td>\n",
       "      <td>Polynésie française</td>\n",
       "      <td>Collectivités d'Outre-Mer</td>\n",
       "    </tr>\n",
       "    <tr>\n",
       "      <th>107</th>\n",
       "      <td>COM</td>\n",
       "      <td>988</td>\n",
       "      <td>Nouvelle-Calédonie</td>\n",
       "      <td>Collectivités d'Outre-Mer</td>\n",
       "    </tr>\n",
       "    <tr>\n",
       "      <th>108</th>\n",
       "      <td>COM</td>\n",
       "      <td>989</td>\n",
       "      <td>Île de Clipperton</td>\n",
       "      <td>Collectivités d'Outre-Mer</td>\n",
       "    </tr>\n",
       "  </tbody>\n",
       "</table>\n",
       "<p>109 rows × 4 columns</p>\n",
       "</div>"
      ],
      "text/plain": [
       "    code_region code_departement                              nom_departement  \\\n",
       "0            84                1                                          Ain   \n",
       "1            84                3                                       Allier   \n",
       "2            84                7                                      Ardèche   \n",
       "3            84               15                                       Cantal   \n",
       "4            84               26                                        Drôme   \n",
       "..          ...              ...                                          ...   \n",
       "104         COM              984  Terres australes et antarctiques françaises   \n",
       "105         COM              986                             Wallis et Futuna   \n",
       "106         COM              987                          Polynésie française   \n",
       "107         COM              988                           Nouvelle-Calédonie   \n",
       "108         COM              989                            Île de Clipperton   \n",
       "\n",
       "                    nom_region  \n",
       "0         Auvergne-Rhône-Alpes  \n",
       "1         Auvergne-Rhône-Alpes  \n",
       "2         Auvergne-Rhône-Alpes  \n",
       "3         Auvergne-Rhône-Alpes  \n",
       "4         Auvergne-Rhône-Alpes  \n",
       "..                         ...  \n",
       "104  Collectivités d'Outre-Mer  \n",
       "105  Collectivités d'Outre-Mer  \n",
       "106  Collectivités d'Outre-Mer  \n",
       "107  Collectivités d'Outre-Mer  \n",
       "108  Collectivités d'Outre-Mer  \n",
       "\n",
       "[109 rows x 4 columns]"
      ]
     },
     "execution_count": 31,
     "metadata": {},
     "output_type": "execute_result"
    }
   ],
   "source": [
    "regions_dpts = pd.read_csv(f\"{GEOGRAPHY_DIR}regions_departments.csv\")\n",
    "regions_dpts"
   ]
  },
  {
   "cell_type": "code",
   "execution_count": 32,
   "metadata": {},
   "outputs": [],
   "source": [
    "dict_sales = {\n",
    "    property_type: pd.merge(left=df, right=regions_dpts, how=\"left\", on=\"code_departement\")\n",
    "    for property_type, df in dict_sales.items()\n",
    "} "
   ]
  },
  {
   "cell_type": "code",
   "execution_count": 33,
   "metadata": {},
   "outputs": [
    {
     "data": {
      "image/png": "[encoded data removed]",
      "text/plain": [
       "<Figure size 1440x432 with 2 Axes>"
      ]
     },
     "metadata": {
      "needs_background": "light"
     },
     "output_type": "display_data"
    }
   ],
   "source": [
    "fig, axes = plt.subplots(ncols=2, figsize=(20, 6), sharey=True)\n",
    "\n",
    "for (property_type, df), ax in zip(dict_sales.items(), axes.flatten()): \n",
    "    tmp = df.copy()\n",
    "    tmp[\"log_valeur_fonciere\"] = np.log(tmp.valeur_fonciere)\n",
    "    \n",
    "    sns.boxplot(data=tmp, x=\"nom_region\", y=\"log_valeur_fonciere\", ax=ax)\n",
    "    ax.set_title(property_type)\n",
    "    ax.set_xlabel(\"\")\n",
    "    ax.set_xticks(ax.get_xticks(), ax.get_xticklabels(), rotation=45, ha=\"right\")\n",
    "\n",
    "del tmp"
   ]
  },
  {
   "attachments": {},
   "cell_type": "markdown",
   "metadata": {},
   "source": [
    "**Grille communale de densité**\n",
    "\n",
    "On récupère une grille communale de densité depuis le [site](https://www.insee.fr/fr/information/6439600) de l\"Insee. Cette grille comprend le code de la commune, son nombre d\"habitants (2019) et une variable `degre_densite` à 7 niveaux : \n",
    "\n",
    "1. \"Rural à habitat dispersé\"\n",
    "2. \"Centres urbains intermédiaires\"\n",
    "3. \"Bourgs ruraux\"       \n",
    "4. \"Ceintures urbaines\"            \n",
    "5. \"Rural à habitat très dispersé\"\n",
    "6. \"Petites villes\"                \n",
    "7. \"Grands centres urbains\"\n",
    "\n",
    "On décide d\"y ajouter le nombre d\"habitants pour les arrondissements de Paris, Marseille et Lyon. Pour ces 3 villes, la variable `degre_densite` vaut respectivement \"Paris\", \"Marseille\" et \"Lyon\". "
   ]
  },
  {
   "cell_type": "code",
   "execution_count": 34,
   "metadata": {},
   "outputs": [
    {
     "data": {
      "text/html": [
       "<div>\n",
       "<style scoped>\n",
       "    .dataframe tbody tr th:only-of-type {\n",
       "        vertical-align: middle;\n",
       "    }\n",
       "\n",
       "    .dataframe tbody tr th {\n",
       "        vertical-align: top;\n",
       "    }\n",
       "\n",
       "    .dataframe thead th {\n",
       "        text-align: right;\n",
       "    }\n",
       "</style>\n",
       "<table border=\"1\" class=\"dataframe\">\n",
       "  <thead>\n",
       "    <tr style=\"text-align: right;\">\n",
       "      <th></th>\n",
       "      <th>code_commune</th>\n",
       "      <th>degre_densite</th>\n",
       "      <th>pop</th>\n",
       "    </tr>\n",
       "  </thead>\n",
       "  <tbody>\n",
       "    <tr>\n",
       "      <th>0</th>\n",
       "      <td>1001</td>\n",
       "      <td>Rural à habitat dispersé</td>\n",
       "      <td>779</td>\n",
       "    </tr>\n",
       "    <tr>\n",
       "      <th>1</th>\n",
       "      <td>1002</td>\n",
       "      <td>Rural à habitat dispersé</td>\n",
       "      <td>256</td>\n",
       "    </tr>\n",
       "    <tr>\n",
       "      <th>2</th>\n",
       "      <td>1004</td>\n",
       "      <td>Centres urbains intermédiaires</td>\n",
       "      <td>14134</td>\n",
       "    </tr>\n",
       "    <tr>\n",
       "      <th>3</th>\n",
       "      <td>1005</td>\n",
       "      <td>Bourgs ruraux</td>\n",
       "      <td>1751</td>\n",
       "    </tr>\n",
       "    <tr>\n",
       "      <th>4</th>\n",
       "      <td>1006</td>\n",
       "      <td>Rural à habitat dispersé</td>\n",
       "      <td>112</td>\n",
       "    </tr>\n",
       "    <tr>\n",
       "      <th>...</th>\n",
       "      <td>...</td>\n",
       "      <td>...</td>\n",
       "      <td>...</td>\n",
       "    </tr>\n",
       "    <tr>\n",
       "      <th>34995</th>\n",
       "      <td>69385</td>\n",
       "      <td>Lyon</td>\n",
       "      <td>49546</td>\n",
       "    </tr>\n",
       "    <tr>\n",
       "      <th>34996</th>\n",
       "      <td>69386</td>\n",
       "      <td>Lyon</td>\n",
       "      <td>52621</td>\n",
       "    </tr>\n",
       "    <tr>\n",
       "      <th>34997</th>\n",
       "      <td>69387</td>\n",
       "      <td>Lyon</td>\n",
       "      <td>84310</td>\n",
       "    </tr>\n",
       "    <tr>\n",
       "      <th>34998</th>\n",
       "      <td>69388</td>\n",
       "      <td>Lyon</td>\n",
       "      <td>85980</td>\n",
       "    </tr>\n",
       "    <tr>\n",
       "      <th>34999</th>\n",
       "      <td>69389</td>\n",
       "      <td>Lyon</td>\n",
       "      <td>52629</td>\n",
       "    </tr>\n",
       "  </tbody>\n",
       "</table>\n",
       "<p>35000 rows × 3 columns</p>\n",
       "</div>"
      ],
      "text/plain": [
       "      code_commune                   degre_densite    pop\n",
       "0             1001        Rural à habitat dispersé    779\n",
       "1             1002        Rural à habitat dispersé    256\n",
       "2             1004  Centres urbains intermédiaires  14134\n",
       "3             1005                   Bourgs ruraux   1751\n",
       "4             1006        Rural à habitat dispersé    112\n",
       "...            ...                             ...    ...\n",
       "34995        69385                            Lyon  49546\n",
       "34996        69386                            Lyon  52621\n",
       "34997        69387                            Lyon  84310\n",
       "34998        69388                            Lyon  85980\n",
       "34999        69389                            Lyon  52629\n",
       "\n",
       "[35000 rows x 3 columns]"
      ]
     },
     "execution_count": 34,
     "metadata": {},
     "output_type": "execute_result"
    }
   ],
   "source": [
    "density = pd.read_csv(f\"{DENSITY_DIR}municipality_density_levels.csv\")\n",
    "density"
   ]
  },
  {
   "cell_type": "code",
   "execution_count": 35,
   "metadata": {},
   "outputs": [],
   "source": [
    "# convert code_commune to character\n",
    "\n",
    "for property_type, df in dict_sales.items(): \n",
    "    df[\"code_commune\"] = df[\"code_commune\"].astype(str)\n",
    "    dict_sales[property_type] = df\n",
    "\n",
    "del df "
   ]
  },
  {
   "cell_type": "code",
   "execution_count": 36,
   "metadata": {},
   "outputs": [],
   "source": [
    "dict_sales = {\n",
    "    property_type: pd.merge(left=df, right=density, how=\"left\", on=\"code_commune\")\n",
    "    for property_type, df in dict_sales.items()\n",
    "}"
   ]
  },
  {
   "cell_type": "code",
   "execution_count": 37,
   "metadata": {},
   "outputs": [
    {
     "data": {
      "image/png": "[encoded data removed]",
      "text/plain": [
       "<Figure size 1440x432 with 2 Axes>"
      ]
     },
     "metadata": {
      "needs_background": "light"
     },
     "output_type": "display_data"
    }
   ],
   "source": [
    "fig, axes = plt.subplots(ncols=2, figsize=(20, 6), sharey=True)\n",
    "\n",
    "for (property_type, df), ax in zip(dict_sales.items(), axes.flatten()): \n",
    "    tmp = df.copy()\n",
    "    tmp[\"log_valeur_fonciere\"] = np.log(tmp.valeur_fonciere)\n",
    "    \n",
    "    sns.boxplot(data=tmp, x=\"degre_densite\", y=\"log_valeur_fonciere\", ax=ax)\n",
    "    ax.set_title(property_type)\n",
    "    ax.set_xlabel(\"\")\n",
    "    ax.set_xticks(ax.get_xticks(), ax.get_xticklabels(), rotation=45, ha=\"right\")\n",
    "\n",
    "del tmp"
   ]
  },
  {
   "attachments": {},
   "cell_type": "markdown",
   "metadata": {},
   "source": [
    "#### Variable temporelles"
   ]
  },
  {
   "cell_type": "code",
   "execution_count": 38,
   "metadata": {},
   "outputs": [],
   "source": [
    "dict_sales = {\n",
    "    property_type: add_date_components(df, date_var=\"date_mutation\") \n",
    "    for property_type, df in dict_sales.items()\n",
    "}"
   ]
  },
  {
   "cell_type": "code",
   "execution_count": 39,
   "metadata": {},
   "outputs": [
    {
     "data": {
      "text/html": [
       "<pre style=\"white-space:pre;overflow-x:auto;line-height:normal;font-family:Menlo,'DejaVu Sans Mono',consolas,'Courier New',monospace\"><span style=\"color: #008080; text-decoration-color: #008080; font-weight: bold\">448458</span> unique houses\n",
       "</pre>\n"
      ],
      "text/plain": [
       "\u001b[1;36m448458\u001b[0m unique houses\n"
      ]
     },
     "metadata": {},
     "output_type": "display_data"
    },
    {
     "data": {
      "text/html": [
       "<pre style=\"white-space:pre;overflow-x:auto;line-height:normal;font-family:Menlo,'DejaVu Sans Mono',consolas,'Courier New',monospace\"><span style=\"color: #008080; text-decoration-color: #008080; font-weight: bold\">400796</span> unique flats\n",
       "</pre>\n"
      ],
      "text/plain": [
       "\u001b[1;36m400796\u001b[0m unique flats\n"
      ]
     },
     "metadata": {},
     "output_type": "display_data"
    }
   ],
   "source": [
    "for property_type, df in dict_sales.items(): \n",
    "    n = df.id_mutation.unique().shape[0] \n",
    "    assert n == df.shape[0]\n",
    "    print(f\"{n} unique {property_type}\")"
   ]
  },
  {
   "attachments": {},
   "cell_type": "markdown",
   "metadata": {},
   "source": [
    "## Séparation par zone géographique\n",
    "\n",
    "On choisit de paritionner le jeu de données selon la zone géographique de la manière suivante :\n",
    "\n",
    "- Paris\n",
    "- Marseille\n",
    "- Lyon\n",
    "- Toulouse \n",
    "- Nice\n",
    "- Nantes\n",
    "- Montpellier\n",
    "- Strasbourg\n",
    "- Bordeaux\n",
    "- Lille\n",
    "- Urbain : `degre_densite` $\\in$ $\\{$'Grands centres urbains', 'Centres urbains intermédiaires', 'Ceintures urbaines'$\\}$\n",
    "- Rural : `degre_densite` $\\in$ $\\{$'Petites villes', 'Bourgs ruraux', 'Rural à habitat dispersé', 'Rural à habitat très dispersé'$\\}$"
   ]
  },
  {
   "cell_type": "code",
   "execution_count": 40,
   "metadata": {},
   "outputs": [],
   "source": [
    "dict_sales_splitted = {\n",
    "\n",
    "    property_type: {\n",
    "        \"cities\": geo.split_by_city(df), \n",
    "        \"urban_areas\": geo.get_urban_areas(df), \n",
    "        \"rural_areas\": geo.get_rural_areas(df)\n",
    "    } \n",
    "\n",
    "    for property_type, df in dict_sales.items()\n",
    "    \n",
    "}"
   ]
  },
  {
   "cell_type": "code",
   "execution_count": 41,
   "metadata": {},
   "outputs": [],
   "source": [
    "# check coherence of transactions number per property type\n",
    "\n",
    "for property_type, dfs_splitted in dict_sales_splitted.items(): \n",
    "\n",
    "    n1 = dict_sales[property_type].shape[0] \n",
    "    n1 -= dict_sales[property_type]\\\n",
    "        .degre_densite\\\n",
    "        .isna()\\\n",
    "        .sum()\n",
    "        \n",
    "    n2 = 0    \n",
    "    for key, dfs in dfs_splitted.items(): \n",
    "        if key == \"cities\": \n",
    "            n2 += sum(df.shape[0] for df in dfs.values()) \n",
    "        else:\n",
    "            n2 += dfs.shape[0] \n",
    "    \n",
    "    assert n1 == n2"
   ]
  },
  {
   "cell_type": "code",
   "execution_count": 42,
   "metadata": {},
   "outputs": [
    {
     "data": {
      "text/html": [
       "<pre style=\"white-space:pre;overflow-x:auto;line-height:normal;font-family:Menlo,'DejaVu Sans Mono',consolas,'Courier New',monospace\">┏━━━━━━━━━━━━━━━━━━━┳━━━━━━━━━┳━━━━━━━━━━━━━━┓\n",
       "┃<span style=\"font-weight: bold\"> Zone géographique </span>┃<span style=\"font-weight: bold\"> Maisons </span>┃<span style=\"font-weight: bold\"> Appartements </span>┃\n",
       "┡━━━━━━━━━━━━━━━━━━━╇━━━━━━━━━╇━━━━━━━━━━━━━━┩\n",
       "│ Paris             │ 174     │ 33,846       │\n",
       "│ Marseille         │ 1,728   │ 11,557       │\n",
       "│ Lyon              │ 203     │ 8,027        │\n",
       "│ Toulouse          │ 1,338   │ 7,783        │\n",
       "│ Nice              │ 254     │ 8,136        │\n",
       "│ Nantes            │ 1,376   │ 4,942        │\n",
       "│ Montpellier       │ 587     │ 4,846        │\n",
       "│ Bordeaux          │ 1,242   │ 3,600        │\n",
       "│ Lille             │ 1,227   │ 3,201        │\n",
       "│ Rennes            │ 569     │ 3,441        │\n",
       "│ urban_areas       │ 196,195 │ 260,782      │\n",
       "│ rural_areas       │ 243,391 │ 50,342       │\n",
       "│ Total             │ 448,284 │ 400,503      │\n",
       "└───────────────────┴─────────┴──────────────┘\n",
       "</pre>\n"
      ],
      "text/plain": [
       "┏━━━━━━━━━━━━━━━━━━━┳━━━━━━━━━┳━━━━━━━━━━━━━━┓\n",
       "┃\u001b[1m \u001b[0m\u001b[1mZone géographique\u001b[0m\u001b[1m \u001b[0m┃\u001b[1m \u001b[0m\u001b[1mMaisons\u001b[0m\u001b[1m \u001b[0m┃\u001b[1m \u001b[0m\u001b[1mAppartements\u001b[0m\u001b[1m \u001b[0m┃\n",
       "┡━━━━━━━━━━━━━━━━━━━╇━━━━━━━━━╇━━━━━━━━━━━━━━┩\n",
       "│ Paris             │ 174     │ 33,846       │\n",
       "│ Marseille         │ 1,728   │ 11,557       │\n",
       "│ Lyon              │ 203     │ 8,027        │\n",
       "│ Toulouse          │ 1,338   │ 7,783        │\n",
       "│ Nice              │ 254     │ 8,136        │\n",
       "│ Nantes            │ 1,376   │ 4,942        │\n",
       "│ Montpellier       │ 587     │ 4,846        │\n",
       "│ Bordeaux          │ 1,242   │ 3,600        │\n",
       "│ Lille             │ 1,227   │ 3,201        │\n",
       "│ Rennes            │ 569     │ 3,441        │\n",
       "│ urban_areas       │ 196,195 │ 260,782      │\n",
       "│ rural_areas       │ 243,391 │ 50,342       │\n",
       "│ Total             │ 448,284 │ 400,503      │\n",
       "└───────────────────┴─────────┴──────────────┘\n"
      ]
     },
     "metadata": {},
     "output_type": "display_data"
    }
   ],
   "source": [
    "table = Table()\n",
    "\n",
    "table.add_column(\"Zone géographique\")\n",
    "table.add_column(\"Maisons\")\n",
    "table.add_column(\"Appartements\")\n",
    "\n",
    "n_houses_tot, n_flats_tot = 0, 0\n",
    "\n",
    "for city in CITIES:         \n",
    "    n_houses = dict_sales_splitted[\"houses\"][\"cities\"][city].shape[0]\n",
    "    n_flats = dict_sales_splitted[\"flats\"][\"cities\"][city].shape[0]\n",
    "    table.add_row(city, f\"{n_houses:,}\", f\"{n_flats:,}\")\n",
    "\n",
    "    n_houses_tot += n_houses\n",
    "    n_flats_tot += n_flats \n",
    "\n",
    "for area in (\"urban_areas\", \"rural_areas\"): \n",
    "    n_houses = dict_sales_splitted[\"houses\"][area].shape[0]\n",
    "    n_flats = dict_sales_splitted[\"flats\"][area].shape[0]\n",
    "    table.add_row(area, f\"{n_houses:,}\", f\"{n_flats:,}\")\n",
    "\n",
    "    n_houses_tot += n_houses\n",
    "    n_flats_tot += n_flats \n",
    "\n",
    "table.add_row(\"Total\", f\"{n_houses_tot:,}\", f\"{n_flats_tot:,}\")\n",
    "\n",
    "console = Console()\n",
    "console.print(table)"
   ]
  },
  {
   "attachments": {},
   "cell_type": "markdown",
   "metadata": {},
   "source": [
    "## Sauvegarde"
   ]
  },
  {
   "cell_type": "code",
   "execution_count": 44,
   "metadata": {},
   "outputs": [],
   "source": [
    "import pickle as pkl \n",
    "import os"
   ]
  },
  {
   "cell_type": "code",
   "execution_count": 45,
   "metadata": {},
   "outputs": [
    {
     "data": {
      "text/html": [
       "<pre style=\"white-space:pre;overflow-x:auto;line-height:normal;font-family:Menlo,'DejaVu Sans Mono',consolas,'Courier New',monospace\">File sucessefully saved at ..<span style=\"color: #800080; text-decoration-color: #800080\">/data/cleaned/</span><span style=\"color: #ff00ff; text-decoration-color: #ff00ff\">dvf_splitted_2019.</span>\n",
       "</pre>\n"
      ],
      "text/plain": [
       "File sucessefully saved at ..\u001b[35m/data/cleaned/\u001b[0m\u001b[95mdvf_splitted_2019.\u001b[0m\n"
      ]
     },
     "metadata": {},
     "output_type": "display_data"
    }
   ],
   "source": [
    "file_path = f\"{DATA_DIR}cleaned/dvf_splitted_{YEAR}\"\n",
    "\n",
    "with open(file_path, \"wb\") as file: \n",
    "    pkl.dump(dict_sales_splitted, file)\n",
    "\n",
    "print(f\"File sucessefully saved at {file_path}.\")"
   ]
  }
 ],
 "metadata": {
  "kernelspec": {
   "display_name": "Python 3",
   "language": "python",
   "name": "python3"
  },
  "language_info": {
   "codemirror_mode": {
    "name": "ipython",
    "version": 3
   },
   "file_extension": ".py",
   "mimetype": "text/x-python",
   "name": "python",
   "nbconvert_exporter": "python",
   "pygments_lexer": "ipython3",
   "version": "3.9.9"
  },
  "orig_nbformat": 4,
  "vscode": {
   "interpreter": {
    "hash": "b629fc759117c64fc32c8e4270d5db05fe17fdaaf7b496f2eeb1ebcced0d741e"
   }
  }
 },
 "nbformat": 4,
 "nbformat_minor": 2
}
