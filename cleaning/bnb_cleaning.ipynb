{
 "cells": [
  {
   "attachments": {},
   "cell_type": "markdown",
   "metadata": {},
   "source": [
    "## Description \n",
    "Automated script to build DVF+ from DVF dataset and Base Nationale des Batiments dataset.\n",
    "\n",
    "Workflow:\n",
    "1. Load BNB dataset.\n",
    "2. Load DVF dataset for one geographical area and one property type.\n",
    "3. Preprocess BNB dataset.\n",
    "4. Merge BNB dataset with DVF dataset.\n",
    "5. Save DVF+ dataset.\n",
    "6. Repeat steps 2 to 5 for all geographical areas and property types."
   ]
  },
  {
   "cell_type": "code",
   "execution_count": 1,
   "metadata": {},
   "outputs": [],
   "source": [
    "%load_ext autoreload\n",
    "%autoreload 2"
   ]
  },
  {
   "cell_type": "code",
   "execution_count": 2,
   "metadata": {},
   "outputs": [],
   "source": [
    "import sys \n",
    "sys.path.append(\"../\")"
   ]
  },
  {
   "cell_type": "code",
   "execution_count": 3,
   "metadata": {},
   "outputs": [],
   "source": [
    "from lib.preprocessing import bnb, dvf\n",
    "from lib.enums import CITIES"
   ]
  },
  {
   "cell_type": "code",
   "execution_count": 4,
   "metadata": {},
   "outputs": [
    {
     "data": {
      "text/plain": [
       "21"
      ]
     },
     "execution_count": 4,
     "metadata": {},
     "output_type": "execute_result"
    }
   ],
   "source": [
    "import gc \n",
    "gc.collect()"
   ]
  },
  {
   "cell_type": "code",
   "execution_count": 5,
   "metadata": {},
   "outputs": [],
   "source": [
    "DATA_DIR = \"../data/\"\n",
    "ZIP_DIR = f\"{DATA_DIR}dvf.zip\" \n",
    "\n",
    "BACKUP_DIR = f\"{DATA_DIR}dvf+/\""
   ]
  },
  {
   "cell_type": "code",
   "execution_count": 6,
   "metadata": {},
   "outputs": [],
   "source": [
    "bnb_df = bnb.load_bnb(DATA_DIR, \"base_nat_bat.parquet\")"
   ]
  },
  {
   "cell_type": "code",
   "execution_count": 7,
   "metadata": {},
   "outputs": [
    {
     "data": {
      "text/plain": [
       "(27607773, 59)"
      ]
     },
     "execution_count": 7,
     "metadata": {},
     "output_type": "execute_result"
    }
   ],
   "source": [
    "bnb_df.shape"
   ]
  },
  {
   "cell_type": "code",
   "execution_count": 11,
   "metadata": {},
   "outputs": [],
   "source": [
    "geo_areas = CITIES + [\"uban_areas\", \"rural_areas\"]"
   ]
  },
  {
   "cell_type": "code",
   "execution_count": 10,
   "metadata": {},
   "outputs": [
    {
     "name": "stdout",
     "output_type": "stream",
     "text": [
      "Loading DVF dataset for urban_areas and flats...\n"
     ]
    },
    {
     "name": "stderr",
     "output_type": "stream",
     "text": [
      "Processing 2022: 100%|██████████| 6/6 [04:13<00:00, 42.25s/it]\n"
     ]
    },
    {
     "name": "stdout",
     "output_type": "stream",
     "text": [
      "File successfully saved at ../data/dvf+/urban_areas_flats.csv.\n",
      "Loading DVF dataset for urban_areas and houses...\n"
     ]
    },
    {
     "name": "stderr",
     "output_type": "stream",
     "text": [
      "Processing 2022: 100%|██████████| 6/6 [06:18<00:00, 63.14s/it]\n"
     ]
    },
    {
     "name": "stdout",
     "output_type": "stream",
     "text": [
      "File successfully saved at ../data/dvf+/urban_areas_houses.csv.\n",
      "Loading DVF dataset for rural_areas and flats...\n"
     ]
    },
    {
     "name": "stderr",
     "output_type": "stream",
     "text": [
      "Processing 2022: 100%|██████████| 6/6 [05:37<00:00, 56.26s/it]\n"
     ]
    },
    {
     "name": "stdout",
     "output_type": "stream",
     "text": [
      "File successfully saved at ../data/dvf+/rural_areas_flats.csv.\n",
      "Loading DVF dataset for rural_areas and houses...\n"
     ]
    },
    {
     "name": "stderr",
     "output_type": "stream",
     "text": [
      "Processing 2022: 100%|██████████| 6/6 [05:45<00:00, 57.66s/it]\n"
     ]
    },
    {
     "name": "stdout",
     "output_type": "stream",
     "text": [
      "File successfully saved at ../data/dvf+/rural_areas_houses.csv.\n"
     ]
    }
   ],
   "source": [
    "for geo_area in geo_areas:\n",
    "\n",
    "    for property_type in [\"flats\", \"houses\"]:\n",
    "\n",
    "        print(f\"Loading DVF dataset for {geo_area} and {property_type}...\")\n",
    "        dvf_args = {\n",
    "            \"geo_area\": geo_area, \n",
    "            \"property_type\": property_type, \n",
    "        }\n",
    "\n",
    "        dvf_df = dvf.concat_datasets_per_year(ZIP_DIR, **dvf_args)\n",
    "\n",
    "        try:\n",
    "            dvfplus = bnb.create_dvfplus(dvf=dvf_df, bnb=bnb_df, na_max=.2) \n",
    "\n",
    "            file_path = f\"{BACKUP_DIR}{dvf_args['geo_area']}_{dvf_args['property_type']}.csv\"\n",
    "            dvfplus.to_csv(file_path, index=False)\n",
    "            print(f\"File successfully saved at {file_path}.\")\n",
    "\n",
    "        except:\n",
    "            print(f\"Error while processing {geo_area} and {property_type}.\")\n",
    "            continue\n",
    "\n",
    "del dvf_df, dvfplus, bnb_df"
   ]
  }
 ],
 "metadata": {
  "kernelspec": {
   "display_name": "base",
   "language": "python",
   "name": "python3"
  },
  "language_info": {
   "codemirror_mode": {
    "name": "ipython",
    "version": 3
   },
   "file_extension": ".py",
   "mimetype": "text/x-python",
   "name": "python",
   "nbconvert_exporter": "python",
   "pygments_lexer": "ipython3",
   "version": "3.8.3"
  },
  "orig_nbformat": 4,
  "vscode": {
   "interpreter": {
    "hash": "ad2bdc8ecc057115af97d19610ffacc2b4e99fae6737bb82f5d7fb13d2f2c186"
   }
  }
 },
 "nbformat": 4,
 "nbformat_minor": 2
}
