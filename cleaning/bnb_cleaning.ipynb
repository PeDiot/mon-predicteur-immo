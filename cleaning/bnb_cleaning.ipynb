{
 "cells": [
  {
   "attachments": {},
   "cell_type": "markdown",
   "metadata": {},
   "source": [
    "# Nettoyage Base Nationale des Batiments\n",
    "\n",
    "A partir du module `preprocessing` de `lib`, \n",
    "- Encodage des variables\n",
    "- Sélection des variables pertinentes \n",
    "- Sélection des observations dont les identifiants `parcelle_id` sont dans DVF. "
   ]
  },
  {
   "cell_type": "code",
   "execution_count": 1,
   "metadata": {},
   "outputs": [],
   "source": [
    "%load_ext autoreload\n",
    "%autoreload 2"
   ]
  },
  {
   "cell_type": "code",
   "execution_count": 8,
   "metadata": {},
   "outputs": [],
   "source": [
    "import sys \n",
    "sys.path.append(\"../\")\n",
    "\n",
    "from lib.preprocessing import bnb, dvf"
   ]
  },
  {
   "cell_type": "code",
   "execution_count": 9,
   "metadata": {},
   "outputs": [
    {
     "data": {
      "text/plain": [
       "237"
      ]
     },
     "execution_count": 9,
     "metadata": {},
     "output_type": "execute_result"
    }
   ],
   "source": [
    "import gc \n",
    "gc.collect()"
   ]
  },
  {
   "cell_type": "code",
   "execution_count": 10,
   "metadata": {},
   "outputs": [],
   "source": [
    "DATA_DIR = \"../data/\"\n",
    "ZIP_DIR = f\"{DATA_DIR}dvf_cleaned.zip\" \n",
    "\n",
    "BACKUP_DIR = f\"{DATA_DIR}dvf+/\""
   ]
  },
  {
   "cell_type": "code",
   "execution_count": 4,
   "metadata": {},
   "outputs": [],
   "source": [
    "bnb_df = bnb.load_bnb(DATA_DIR, \"base_nat_bat.parquet\")"
   ]
  },
  {
   "cell_type": "code",
   "execution_count": 11,
   "metadata": {},
   "outputs": [
    {
     "data": {
      "text/plain": [
       "(27607773, 59)"
      ]
     },
     "execution_count": 11,
     "metadata": {},
     "output_type": "execute_result"
    }
   ],
   "source": [
    "bnb_df.shape "
   ]
  },
  {
   "cell_type": "code",
   "execution_count": 12,
   "metadata": {},
   "outputs": [
    {
     "name": "stderr",
     "output_type": "stream",
     "text": [
      "Processing 2018:  17%|█▋        | 1/6 [00:13<01:09, 13.97s/it]"
     ]
    }
   ],
   "source": [
    "dvf_args = {\n",
    "    \"geo_area\": \"Paris\", \n",
    "    \"property_type\": \"flats\", \n",
    "}\n",
    "\n",
    "dvf_df = dvf.concat_datasets_per_year(ZIP_DIR, **dvf_args)"
   ]
  },
  {
   "cell_type": "code",
   "execution_count": null,
   "metadata": {},
   "outputs": [],
   "source": [
    "dvf_df"
   ]
  },
  {
   "cell_type": "code",
   "execution_count": 7,
   "metadata": {},
   "outputs": [
    {
     "name": "stdout",
     "output_type": "stream",
     "text": [
      "Loading DVF dataset...\n"
     ]
    },
    {
     "name": "stderr",
     "output_type": "stream",
     "text": [
      "Processing 2022: 100%|██████████| 6/6 [04:32<00:00, 45.44s/it]\n"
     ]
    },
    {
     "name": "stdout",
     "output_type": "stream",
     "text": [
      "Preprocessing Base Nationale des Batiments dataset...\n",
      "Merging DVF and Base Nationale des Batiments datasets...\n"
     ]
    },
    {
     "ename": "TypeError",
     "evalue": "merge() got multiple values for argument 'how'",
     "output_type": "error",
     "traceback": [
      "\u001b[1;31m---------------------------------------------------------------------------\u001b[0m",
      "\u001b[1;31mTypeError\u001b[0m                                 Traceback (most recent call last)",
      "\u001b[1;32m~\\AppData\\Local\\Temp\\8\\ipykernel_8836\\1927262392.py\u001b[0m in \u001b[0;36m<module>\u001b[1;34m\u001b[0m\n\u001b[0;32m      4\u001b[0m }\n\u001b[0;32m      5\u001b[0m \u001b[1;33m\u001b[0m\u001b[0m\n\u001b[1;32m----> 6\u001b[1;33m dvfplus = bnb.create_dvfplus(\n\u001b[0m\u001b[0;32m      7\u001b[0m     \u001b[0mdvf_data_dir\u001b[0m\u001b[1;33m=\u001b[0m\u001b[0mZIP_DIR\u001b[0m\u001b[1;33m,\u001b[0m\u001b[1;33m\u001b[0m\u001b[1;33m\u001b[0m\u001b[0m\n\u001b[0;32m      8\u001b[0m     \u001b[0mbnb\u001b[0m\u001b[1;33m=\u001b[0m\u001b[0mbnb_df\u001b[0m\u001b[1;33m,\u001b[0m\u001b[1;33m\u001b[0m\u001b[1;33m\u001b[0m\u001b[0m\n",
      "\u001b[1;32md:\\Challenge\\GROUP3\\DIOT\\business-data-challenge\\lib\\preprocessing\\bnb.py\u001b[0m in \u001b[0;36mcreate_dvfplus\u001b[1;34m(dvf_data_dir, geo_area, property_type, bnb, na_max)\u001b[0m\n\u001b[0;32m    254\u001b[0m \u001b[1;33m\u001b[0m\u001b[0m\n\u001b[0;32m    255\u001b[0m     \u001b[0mprint\u001b[0m\u001b[1;33m(\u001b[0m\u001b[1;34m\"Merging DVF and Base Nationale des Batiments datasets...\"\u001b[0m\u001b[1;33m)\u001b[0m\u001b[1;33m\u001b[0m\u001b[1;33m\u001b[0m\u001b[0m\n\u001b[1;32m--> 256\u001b[1;33m     dvfplus = dvf.merge(\n\u001b[0m\u001b[0;32m    257\u001b[0m         \u001b[0mdvf\u001b[0m\u001b[1;33m,\u001b[0m\u001b[1;33m\u001b[0m\u001b[1;33m\u001b[0m\u001b[0m\n\u001b[0;32m    258\u001b[0m         \u001b[0mbnb\u001b[0m\u001b[1;33m,\u001b[0m\u001b[1;33m\u001b[0m\u001b[1;33m\u001b[0m\u001b[0m\n",
      "\u001b[1;31mTypeError\u001b[0m: merge() got multiple values for argument 'how'"
     ]
    }
   ],
   "source": [
    "dvfplus = bnb.create_dvfplus(\n",
    "    dvf=dvf_df, \n",
    "    bnb=bnb_df,\n",
    "    na_max=.2\n",
    ") "
   ]
  },
  {
   "cell_type": "code",
   "execution_count": null,
   "metadata": {},
   "outputs": [],
   "source": [
    "dvfplus"
   ]
  },
  {
   "cell_type": "code",
   "execution_count": 137,
   "metadata": {},
   "outputs": [],
   "source": [
    "file_path = f\"{BACKUP_DIR}{dvf_args['geo_area']}_{dvf_args['property_type']}.csv\"\n",
    "dvfplus.to_csv(file_path, index=False)"
   ]
  }
 ],
 "metadata": {
  "kernelspec": {
   "display_name": "base",
   "language": "python",
   "name": "python3"
  },
  "language_info": {
   "codemirror_mode": {
    "name": "ipython",
    "version": 3
   },
   "file_extension": ".py",
   "mimetype": "text/x-python",
   "name": "python",
   "nbconvert_exporter": "python",
   "pygments_lexer": "ipython3",
   "version": "3.8.3"
  },
  "orig_nbformat": 4,
  "vscode": {
   "interpreter": {
    "hash": "ad2bdc8ecc057115af97d19610ffacc2b4e99fae6737bb82f5d7fb13d2f2c186"
   }
  }
 },
 "nbformat": 4,
 "nbformat_minor": 2
}
