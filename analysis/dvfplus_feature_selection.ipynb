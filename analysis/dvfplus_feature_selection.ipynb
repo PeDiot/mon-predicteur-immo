{
 "cells": [
  {
   "attachments": {},
   "cell_type": "markdown",
   "metadata": {},
   "source": [
    "# Sélection des variables du jeu de données DVF+ - Appartements à Paris\n",
    "\n",
    "**Méthode**\n",
    "- Application des filtres statiques sur les variables DVF\n",
    "- Ajout des variables spatio-temporelles du prix du marché\n",
    "- Train/test split temporel\n",
    "- `RandomForestRegressor()`\n",
    "- Importance des variables $\\rightarrow$ sélection des variables importantes"
   ]
  },
  {
   "cell_type": "markdown",
   "metadata": {},
   "source": [
    "## Setup"
   ]
  },
  {
   "cell_type": "code",
   "execution_count": 2,
   "metadata": {},
   "outputs": [],
   "source": [
    "import sys\n",
    "sys.path.append(\"../\")"
   ]
  },
  {
   "cell_type": "code",
   "execution_count": 3,
   "metadata": {},
   "outputs": [],
   "source": [
    "%load_ext autoreload\n",
    "%autoreload 2"
   ]
  },
  {
   "cell_type": "code",
   "execution_count": 4,
   "metadata": {},
   "outputs": [],
   "source": [
    "import pandas as pd \n",
    "import numpy as np \n",
    "\n",
    "from tqdm import tqdm \n",
    "\n",
    "import seaborn as sns \n",
    "import matplotlib.pyplot as plt \n",
    "from matplotlib.ticker import FuncFormatter\n",
    "\n",
    "import statsmodels.api as sm\n",
    "\n",
    "from sklearn.model_selection import train_test_split\n",
    "\n",
    "import statsmodels.api as sm\n",
    "\n",
    "from sklearn.ensemble import RandomForestRegressor\n",
    "\n",
    "from xgboost import XGBRegressor\n",
    "\n",
    "from sklearn.metrics import (\n",
    "    mean_absolute_error, \n",
    "    mean_absolute_percentage_error,\n",
    "    mean_squared_error,  \n",
    "    r2_score, \n",
    "    make_scorer\n",
    ")\n",
    "\n",
    "from sklearn.feature_selection import mutual_info_regression"
   ]
  },
  {
   "cell_type": "code",
   "execution_count": 5,
   "metadata": {},
   "outputs": [
    {
     "data": {
      "text/plain": [
       "0"
      ]
     },
     "execution_count": 5,
     "metadata": {},
     "output_type": "execute_result"
    }
   ],
   "source": [
    "import gc \n",
    "gc.collect()"
   ]
  },
  {
   "cell_type": "code",
   "execution_count": 6,
   "metadata": {},
   "outputs": [],
   "source": [
    "pd.set_option(\"display.max_columns\", None)"
   ]
  },
  {
   "cell_type": "code",
   "execution_count": 7,
   "metadata": {},
   "outputs": [],
   "source": [
    "DATA_DIR = \"../data/\"\n",
    "ZIP_DIR = f\"{DATA_DIR}dvf_cleaned.zip\" "
   ]
  },
  {
   "attachments": {},
   "cell_type": "markdown",
   "metadata": {},
   "source": [
    "## Data preprocessing"
   ]
  },
  {
   "cell_type": "code",
   "execution_count": 8,
   "metadata": {},
   "outputs": [
    {
     "name": "stderr",
     "output_type": "stream",
     "text": [
      "c:\\Users\\pemma\\AppData\\Local\\Programs\\Python\\Python39\\lib\\site-packages\\IPython\\core\\interactiveshell.py:3457: DtypeWarning: Columns (8,18,20,22) have mixed types.Specify dtype option on import or set low_memory=False.\n",
      "  exec(code_obj, self.user_global_ns, self.user_ns)\n"
     ]
    }
   ],
   "source": [
    "df = pd.read_csv(f\"{DATA_DIR}dvfplus_paris_flats.csv\")"
   ]
  },
  {
   "cell_type": "code",
   "execution_count": 9,
   "metadata": {},
   "outputs": [
    {
     "data": {
      "text/plain": [
       "(160757, 86)"
      ]
     },
     "execution_count": 9,
     "metadata": {},
     "output_type": "execute_result"
    }
   ],
   "source": [
    "df.shape"
   ]
  },
  {
   "cell_type": "code",
   "execution_count": 10,
   "metadata": {},
   "outputs": [
    {
     "data": {
      "text/plain": [
       "['id_mutation',\n",
       " 'date_mutation',\n",
       " 'numero_disposition',\n",
       " 'nature_mutation',\n",
       " 'valeur_fonciere',\n",
       " 'adresse_numero',\n",
       " 'adresse_suffixe',\n",
       " 'adresse_nom_voie',\n",
       " 'adresse_code_voie',\n",
       " 'code_postal',\n",
       " 'code_commune',\n",
       " 'nom_commune',\n",
       " 'code_departement',\n",
       " 'ancien_code_commune',\n",
       " 'ancien_nom_commune',\n",
       " 'id_parcelle',\n",
       " 'ancien_id_parcelle',\n",
       " 'numero_volume',\n",
       " 'lot1_numero',\n",
       " 'lot1_surface_carrez',\n",
       " 'lot2_numero',\n",
       " 'lot2_surface_carrez',\n",
       " 'lot3_numero',\n",
       " 'lot3_surface_carrez',\n",
       " 'lot4_numero',\n",
       " 'lot4_surface_carrez',\n",
       " 'lot5_numero',\n",
       " 'lot5_surface_carrez',\n",
       " 'nombre_lots',\n",
       " 'code_type_local',\n",
       " 'type_local',\n",
       " 'surface_reelle_bati',\n",
       " 'nombre_pieces_principales',\n",
       " 'code_nature_culture',\n",
       " 'nature_culture',\n",
       " 'code_nature_culture_speciale',\n",
       " 'nature_culture_speciale',\n",
       " 'surface_terrain',\n",
       " 'longitude',\n",
       " 'latitude',\n",
       " 'dependance',\n",
       " 'code_region',\n",
       " 'nom_departement',\n",
       " 'nom_region',\n",
       " 'degre_densite',\n",
       " 'pop',\n",
       " 'annee',\n",
       " 'trimestre',\n",
       " 'mois',\n",
       " 'jour',\n",
       " 'parcelle_id',\n",
       " 'code_iris',\n",
       " 'periode_construction',\n",
       " 'periode_construction_max',\n",
       " 'hauteur_mean',\n",
       " 'altitude_sol_mean',\n",
       " 'conso_ener_mean',\n",
       " 'estim_ges_mean',\n",
       " 'conso_ener_min',\n",
       " 'estim_ges_min',\n",
       " 'conso_ener_max',\n",
       " 'estim_ges_max',\n",
       " 'enr_solaire_photovoltaique',\n",
       " 'enr_solaire_thermique_(chauffage)solaire_thermique_(ecs)',\n",
       " 'enr_solaire_thermique_(ecs+chauffage)',\n",
       " 'mur_pos_isol_ext',\n",
       " 'presence_climatisation',\n",
       " 'baie_orientation_indetermine',\n",
       " 'baie_orientation_nord',\n",
       " 'baie_orientation_ouest',\n",
       " 'baie_orientation_est',\n",
       " 'baie_orientation_horizontale',\n",
       " 'baie_orientation_est_ou_ouest',\n",
       " 'baie_orientation_sud',\n",
       " 'distance_batiment_historique_plus_proche',\n",
       " 'nom_batiment_historique_plus_proche',\n",
       " 'qpv',\n",
       " 'nb_lot_garpark',\n",
       " 'nb_lot_tot',\n",
       " 'nb_log',\n",
       " 'nb_lot_tertiaire',\n",
       " 'l_etat_en_projet',\n",
       " 'l_etat_en_construction',\n",
       " 'l_etat_en_service',\n",
       " 'alea_argiles',\n",
       " 'alea_radon']"
      ]
     },
     "execution_count": 10,
     "metadata": {},
     "output_type": "execute_result"
    }
   ],
   "source": [
    "list(df.columns)"
   ]
  },
  {
   "cell_type": "code",
   "execution_count": 11,
   "metadata": {},
   "outputs": [],
   "source": [
    "DVF_VARS = [\n",
    "    \"id_mutation\",\n",
    "    \"date_mutation\",\n",
    "    \"valeur_fonciere\",\n",
    "    \"nom_commune\",\n",
    "    \"surface_reelle_bati\",\n",
    "    \"nombre_pieces_principales\",\n",
    "    \"surface_terrain\",\n",
    "    \"dependance\",\n",
    "    \"annee\",\n",
    "    \"trimestre\",\n",
    "    \"mois\",\n",
    "    \"jour\" \n",
    "]\n",
    "\n",
    "BNB_VARS = [\n",
    "    \"parcelle_id\",\n",
    "    \"code_iris\",\n",
    "    \"periode_construction\",\n",
    "    \"periode_construction_max\",\n",
    "    \"hauteur_mean\",\n",
    "    \"altitude_sol_mean\",\n",
    "    \"conso_ener_mean\",\n",
    "    \"estim_ges_mean\",\n",
    "    \"conso_ener_min\",\n",
    "    \"estim_ges_min\",\n",
    "    \"conso_ener_max\",\n",
    "    \"estim_ges_max\",\n",
    "    \"enr_solaire_photovoltaique\",\n",
    "    \"enr_solaire_thermique_(chauffage)solaire_thermique_(ecs)\",\n",
    "    \"enr_solaire_thermique_(ecs+chauffage)\",\n",
    "    \"mur_pos_isol_ext\",\n",
    "    \"presence_climatisation\",\n",
    "    \"baie_orientation_indetermine\",\n",
    "    \"baie_orientation_nord\",\n",
    "    \"baie_orientation_ouest\",\n",
    "    \"baie_orientation_est\",\n",
    "    \"baie_orientation_horizontale\",\n",
    "    \"baie_orientation_est_ou_ouest\",\n",
    "    \"baie_orientation_sud\",\n",
    "    \"distance_batiment_historique_plus_proche\",\n",
    "    \"nom_batiment_historique_plus_proche\",\n",
    "    \"qpv\",\n",
    "    \"nb_lot_garpark\",\n",
    "    \"nb_lot_tot\",\n",
    "    \"nb_log\",\n",
    "    \"nb_lot_tertiaire\",\n",
    "    \"alea_argiles\",\n",
    "    \"alea_radon\"\n",
    "]"
   ]
  },
  {
   "cell_type": "code",
   "execution_count": 12,
   "metadata": {},
   "outputs": [],
   "source": [
    "df = df[DVF_VARS+BNB_VARS]"
   ]
  },
  {
   "attachments": {},
   "cell_type": "markdown",
   "metadata": {},
   "source": [
    "### Suppression colonnes `NA`"
   ]
  },
  {
   "cell_type": "code",
   "execution_count": 13,
   "metadata": {},
   "outputs": [],
   "source": [
    "from pandas.core.frame import DataFrame\n",
    "from typing import Tuple\n",
    "\n",
    "def get_na_proportion(df: DataFrame, col: str) -> float:\n",
    "    \n",
    "    return df[col].isna().sum() / df.shape[0]\n",
    "\n",
    "def remove_na_cols(df: DataFrame, threshold: float) -> Tuple:\n",
    "    \n",
    "    na_cols = [col for col in df.columns if get_na_proportion(df, col) > threshold]\n",
    "    df = df.drop(na_cols, axis=1)\n",
    "    \n",
    "    return df, na_cols"
   ]
  },
  {
   "cell_type": "code",
   "execution_count": 14,
   "metadata": {},
   "outputs": [],
   "source": [
    "df, na_cols = remove_na_cols(df, threshold=.2)"
   ]
  },
  {
   "cell_type": "code",
   "execution_count": 15,
   "metadata": {},
   "outputs": [
    {
     "data": {
      "text/plain": [
       "['surface_terrain', 'alea_argiles']"
      ]
     },
     "execution_count": 15,
     "metadata": {},
     "output_type": "execute_result"
    }
   ],
   "source": [
    "na_cols"
   ]
  },
  {
   "cell_type": "code",
   "execution_count": 16,
   "metadata": {},
   "outputs": [],
   "source": [
    "for col in na_cols: \n",
    "    \n",
    "    if col in DVF_VARS: \n",
    "        DVF_VARS.remove(col)\n",
    "    elif col in BNB_VARS: \n",
    "        BNB_VARS.remove(col)"
   ]
  },
  {
   "cell_type": "code",
   "execution_count": 17,
   "metadata": {},
   "outputs": [
    {
     "data": {
      "text/plain": [
       "(160757, 43)"
      ]
     },
     "execution_count": 17,
     "metadata": {},
     "output_type": "execute_result"
    }
   ],
   "source": [
    "df.shape"
   ]
  },
  {
   "attachments": {},
   "cell_type": "markdown",
   "metadata": {},
   "source": [
    "### Filtres statiques\n",
    "\n",
    "A partir des variables DVF."
   ]
  },
  {
   "attachments": {},
   "cell_type": "markdown",
   "metadata": {},
   "source": [
    "#### Nombre de pièces principales"
   ]
  },
  {
   "cell_type": "code",
   "execution_count": 18,
   "metadata": {},
   "outputs": [
    {
     "data": {
      "text/plain": [
       "2.0     54848\n",
       "1.0     42061\n",
       "3.0     36110\n",
       "4.0     16434\n",
       "5.0      7127\n",
       "6.0      2551\n",
       "7.0       969\n",
       "8.0       299\n",
       "0.0       196\n",
       "9.0        75\n",
       "10.0       47\n",
       "11.0       17\n",
       "12.0        6\n",
       "13.0        3\n",
       "17.0        2\n",
       "16.0        2\n",
       "20.0        2\n",
       "22.0        1\n",
       "21.0        1\n",
       "19.0        1\n",
       "23.0        1\n",
       "26.0        1\n",
       "14.0        1\n",
       "15.0        1\n",
       "Name: nombre_pieces_principales, dtype: int64"
      ]
     },
     "execution_count": 18,
     "metadata": {},
     "output_type": "execute_result"
    }
   ],
   "source": [
    "df.nombre_pieces_principales.value_counts()"
   ]
  },
  {
   "cell_type": "code",
   "execution_count": 19,
   "metadata": {},
   "outputs": [],
   "source": [
    "def filter_df(df: DataFrame, var_name: str, interval: Tuple) -> DataFrame:\n",
    "\n",
    "        min_val, max_val = interval\n",
    "        mask = (df[var_name] >= min_val) & (df[var_name] <= max_val)\n",
    "        return df[mask]"
   ]
  },
  {
   "cell_type": "code",
   "execution_count": 20,
   "metadata": {},
   "outputs": [
    {
     "data": {
      "text/plain": [
       "(159131, 43)"
      ]
     },
     "execution_count": 20,
     "metadata": {},
     "output_type": "execute_result"
    }
   ],
   "source": [
    "df = filter_df(df, \"nombre_pieces_principales\", interval=(1, 6))  \n",
    "df.shape"
   ]
  },
  {
   "attachments": {},
   "cell_type": "markdown",
   "metadata": {},
   "source": [
    "#### Surface habitable"
   ]
  },
  {
   "cell_type": "code",
   "execution_count": 21,
   "metadata": {},
   "outputs": [
    {
     "data": {
      "image/png": "[encoded data removed]",
      "text/plain": [
       "<Figure size 720x360 with 1 Axes>"
      ]
     },
     "metadata": {
      "needs_background": "light"
     },
     "output_type": "display_data"
    }
   ],
   "source": [
    "df.surface_reelle_bati.hist(figsize=(10, 5), bins=100); "
   ]
  },
  {
   "cell_type": "code",
   "execution_count": 22,
   "metadata": {},
   "outputs": [
    {
     "data": {
      "text/plain": [
       "(157274, 43)"
      ]
     },
     "execution_count": 22,
     "metadata": {},
     "output_type": "execute_result"
    }
   ],
   "source": [
    "df = filter_df(df, \"surface_reelle_bati\", interval=(9, 200))  \n",
    "df.shape"
   ]
  },
  {
   "cell_type": "code",
   "execution_count": 23,
   "metadata": {},
   "outputs": [],
   "source": [
    "df[\"l_surface_reelle_bati\"] = np.log(df.surface_reelle_bati)"
   ]
  },
  {
   "attachments": {},
   "cell_type": "markdown",
   "metadata": {},
   "source": [
    "#### Prix/m²"
   ]
  },
  {
   "cell_type": "code",
   "execution_count": 24,
   "metadata": {},
   "outputs": [],
   "source": [
    "from typing import Optional\n",
    "\n",
    "def transform_price(price: float, log:bool, area: Optional[float]=None) -> float: \n",
    "\n",
    "    y = price\n",
    "\n",
    "    if area != None: \n",
    "        y = y / area\n",
    "\n",
    "    if log: \n",
    "        y = np.log(y)\n",
    "    \n",
    "    return y "
   ]
  },
  {
   "cell_type": "code",
   "execution_count": 25,
   "metadata": {},
   "outputs": [],
   "source": [
    "df[\"valeur_fonciere_m2\"] = df.apply(lambda row: transform_price(row.valeur_fonciere, False, row.surface_reelle_bati), axis=1) \n",
    "df[\"l_valeur_fonciere\"] = df.apply(lambda row: transform_price(row.valeur_fonciere, True), axis=1) \n",
    "\n",
    "DVF_VARS.append(\"valeur_fonciere_m2\")\n",
    "DVF_VARS.append(\"l_valeur_fonciere\")"
   ]
  },
  {
   "cell_type": "markdown",
   "metadata": {},
   "source": [
    "D\"après l\"estimation faite par [meilleursagents](https://www.meilleursagents.com/prix-immobilier/paris-75000/), le prix/m² des appartements à Paris peut valoir entre de 6 847 € à 16 324 €. Afin d\"être moins restrictif et pour prendre en compte les éventuelles fluctuations, on décide de sélectionner les biens tq $\\text{valeur\\_fonciere\\_m2} \\in [5 000, 20 000]$."
   ]
  },
  {
   "cell_type": "code",
   "execution_count": 26,
   "metadata": {},
   "outputs": [
    {
     "data": {
      "text/plain": [
       "(146188, 46)"
      ]
     },
     "execution_count": 26,
     "metadata": {},
     "output_type": "execute_result"
    }
   ],
   "source": [
    "df = filter_df(df, \"valeur_fonciere_m2\", interval=(5000, 20000))\n",
    "df.shape"
   ]
  },
  {
   "attachments": {},
   "cell_type": "markdown",
   "metadata": {},
   "source": [
    "### Ajout de variables DVF"
   ]
  },
  {
   "attachments": {},
   "cell_type": "markdown",
   "metadata": {},
   "source": [
    "#### Arrondissements"
   ]
  },
  {
   "cell_type": "code",
   "execution_count": 27,
   "metadata": {},
   "outputs": [],
   "source": [
    "DIGIT = r\"[0-9]+\"\n",
    "import re\n",
    "\n",
    "def extract_int_from_string(string: str) -> int: \n",
    "    integer = re.findall(DIGIT, string)\n",
    "\n",
    "    if len(integer) > 1: \n",
    "        raise ValueError(\"Multiple integers found.\")\n",
    "    \n",
    "    return integer[0]"
   ]
  },
  {
   "cell_type": "code",
   "execution_count": 28,
   "metadata": {},
   "outputs": [],
   "source": [
    "df[\"arrondissement\"] = df.nom_commune.apply(extract_int_from_string)\n",
    "DVF_VARS.append(\"arrondissement\")"
   ]
  },
  {
   "attachments": {},
   "cell_type": "markdown",
   "metadata": {},
   "source": [
    "#### Moyennes mobiles par quartier\n",
    "\n",
    "L\"objectif est de construire des variables permettant de prendre en compte l\"évolution des prix du marché par arrondissement. Les moyennes mobiles sont un outil pertinent pour le faire. \n",
    "\n",
    "1. Aggrégation journalière (moyenne) des valeurs foncières par arrondissement\n",
    "2. Appliquation d\"un lag de 1 jour sur les valeurs agrégées par arrondissement\n",
    "3. Moyenne mobile sur $k$ jours appliquée aux valeurs agrégées décalées par arrondissement"
   ]
  },
  {
   "cell_type": "code",
   "execution_count": 29,
   "metadata": {},
   "outputs": [],
   "source": [
    "from pandas.core.frame import DataFrame\n",
    "from typing import Optional\n",
    "\n",
    "def calc_movav_prices(\n",
    "    df: DataFrame, \n",
    "    window_size: int, \n",
    "    lag: int=1, \n",
    "    price_var: str=\"valeur_fonciere\", \n",
    "    date_var: str=\"date_mutation\", \n",
    "    neighborhood_var: Optional[str]=\"arrondissement\"\n",
    ") -> DataFrame: \n",
    "    \"\"\"Description. Compute moving average prices per neighborhood.\"\"\" \n",
    "\n",
    "    if neighborhood_var != None: \n",
    "        by = [neighborhood_var, date_var]\n",
    "    else:\n",
    "        by = date_var\n",
    "\n",
    "    avg_prices = df\\\n",
    "        .groupby(by)\\\n",
    "        [price_var]\\\n",
    "        .mean()\\\n",
    "        .shift(lag)\n",
    "\n",
    "    if neighborhood_var != None: \n",
    "        avg_prices = avg_prices.groupby(neighborhood_var)\n",
    "\n",
    "    mov_avg_prices = avg_prices\\\n",
    "        .apply(lambda x: x.rolling(window_size).mean())\\\n",
    "        .reset_index()\\\n",
    "        .rename(columns={price_var: f\"{price_var}_ma{window_size}\"})\n",
    "\n",
    "    return mov_avg_prices\n",
    "\n",
    "def add_movav_prices(\n",
    "    df: DataFrame, \n",
    "    mov_av_prices: DataFrame, \n",
    "    date_var: str=\"date_mutation\", \n",
    "    neighborhood_var: Optional[str]=\"arrondissement\"\n",
    ") -> DataFrame: \n",
    "    \"\"\"Description. Merge moving average prices and DVF dataset.\"\"\"\n",
    "\n",
    "    keys = []\n",
    "    if neighborhood_var != None: \n",
    "        keys.append(neighborhood_var) \n",
    "        \n",
    "    keys.append(date_var)\n",
    "\n",
    "    new_df = pd.merge(\n",
    "        left=df, \n",
    "        right=mov_av_prices, \n",
    "        how=\"left\", \n",
    "        left_on=keys, \n",
    "        right_on=keys)\n",
    "    \n",
    "    return new_df\n",
    "\n",
    "def shift_movav_prices(df: DataFrame, lag: int) -> DataFrame: \n",
    "    \"\"\"Description. Add n-day lag to moving average prices.\"\"\"\n",
    "\n",
    "    cols = df.columns[df.columns.str.contains(\"_ma\")].tolist()\n",
    "    df.loc[:, cols] = df[cols].apply(lambda x: x.shift(lag))\n",
    "\n",
    "    return df"
   ]
  },
  {
   "cell_type": "code",
   "execution_count": 30,
   "metadata": {},
   "outputs": [],
   "source": [
    "# keep trace of moving average prices\n",
    "mov_av_prices = {}\n",
    "\n",
    "for window_size in (7, 14, 30, 90): \n",
    "    # calculate lagged moving average prices (lag=1)\n",
    "    mov_av_prices[window_size] = calc_movav_prices(df, window_size, lag=1)\n",
    "\n",
    "    # add to dvf\n",
    "    df = add_movav_prices(df, mov_av_prices[window_size]) "
   ]
  },
  {
   "cell_type": "code",
   "execution_count": 31,
   "metadata": {},
   "outputs": [],
   "source": [
    "# add logaritmic moving average prices\n",
    "\n",
    "ma_vars = [\n",
    "    \"valeur_fonciere_ma7\",\n",
    "    \"valeur_fonciere_ma14\",\n",
    "    \"valeur_fonciere_ma30\",\n",
    "    \"valeur_fonciere_ma90\"\n",
    "]\n",
    "\n",
    "for var in ma_vars: \n",
    "    df[f\"l_{var}\"] = df[var].apply(lambda x: np.log(x))"
   ]
  },
  {
   "cell_type": "code",
   "execution_count": 32,
   "metadata": {},
   "outputs": [],
   "source": [
    "for var in ma_vars: \n",
    "    DVF_VARS.append(var)\n",
    "    DVF_VARS.append(f\"l_{var}\")"
   ]
  },
  {
   "attachments": {},
   "cell_type": "markdown",
   "metadata": {},
   "source": [
    "### Variables Base Nationale des Batiments"
   ]
  },
  {
   "cell_type": "code",
   "execution_count": 33,
   "metadata": {},
   "outputs": [
    {
     "data": {
      "text/plain": [
       "['parcelle_id',\n",
       " 'code_iris',\n",
       " 'periode_construction',\n",
       " 'periode_construction_max',\n",
       " 'hauteur_mean',\n",
       " 'altitude_sol_mean',\n",
       " 'conso_ener_mean',\n",
       " 'estim_ges_mean',\n",
       " 'conso_ener_min',\n",
       " 'estim_ges_min',\n",
       " 'conso_ener_max',\n",
       " 'estim_ges_max',\n",
       " 'enr_solaire_photovoltaique',\n",
       " 'enr_solaire_thermique_(chauffage)solaire_thermique_(ecs)',\n",
       " 'enr_solaire_thermique_(ecs+chauffage)',\n",
       " 'mur_pos_isol_ext',\n",
       " 'presence_climatisation',\n",
       " 'baie_orientation_indetermine',\n",
       " 'baie_orientation_nord',\n",
       " 'baie_orientation_ouest',\n",
       " 'baie_orientation_est',\n",
       " 'baie_orientation_horizontale',\n",
       " 'baie_orientation_est_ou_ouest',\n",
       " 'baie_orientation_sud',\n",
       " 'distance_batiment_historique_plus_proche',\n",
       " 'nom_batiment_historique_plus_proche',\n",
       " 'qpv',\n",
       " 'nb_lot_garpark',\n",
       " 'nb_lot_tot',\n",
       " 'nb_log',\n",
       " 'nb_lot_tertiaire',\n",
       " 'alea_radon']"
      ]
     },
     "execution_count": 33,
     "metadata": {},
     "output_type": "execute_result"
    }
   ],
   "source": [
    "BNB_VARS"
   ]
  },
  {
   "cell_type": "code",
   "execution_count": 34,
   "metadata": {},
   "outputs": [],
   "source": [
    "BNB_QUANT_VARS = [  \n",
    "    \"hauteur_mean\",\n",
    "    \"altitude_sol_mean\",\n",
    "    \"conso_ener_mean\",\n",
    "    \"estim_ges_mean\",\n",
    "    \"conso_ener_min\",\n",
    "    \"estim_ges_min\",\n",
    "    \"conso_ener_max\",\n",
    "    \"estim_ges_max\",\n",
    "    \"distance_batiment_historique_plus_proche\",\n",
    "    \"nb_lot_garpark\",\n",
    "    \"nb_lot_tot\",\n",
    "    \"nb_log\",\n",
    "    \"nb_lot_tertiaire\"\n",
    "]"
   ]
  },
  {
   "attachments": {},
   "cell_type": "markdown",
   "metadata": {},
   "source": [
    "#### Variables quantitatives"
   ]
  },
  {
   "cell_type": "code",
   "execution_count": 35,
   "metadata": {},
   "outputs": [
    {
     "name": "stderr",
     "output_type": "stream",
     "text": [
      "c:\\Users\\pemma\\AppData\\Local\\Programs\\Python\\Python39\\lib\\site-packages\\pandas\\core\\arraylike.py:364: RuntimeWarning: divide by zero encountered in log\n",
      "  result = getattr(ufunc, method)(*inputs, **kwargs)\n"
     ]
    }
   ],
   "source": [
    "# apply logarithm to continuous variables\n",
    "for col in [\n",
    "    \"hauteur_mean\",\n",
    "    \"altitude_sol_mean\",\n",
    "    \"conso_ener_mean\",\n",
    "    \"estim_ges_mean\",\n",
    "    \"conso_ener_min\",\n",
    "    \"estim_ges_min\",\n",
    "    \"conso_ener_max\",\n",
    "    \"estim_ges_max\",\n",
    "    \"distance_batiment_historique_plus_proche\",\n",
    "]: \n",
    "    var_name = f\"l_{col}\"\n",
    "    df.loc[:, var_name] = np.log(df[col])\n",
    "    BNB_QUANT_VARS.append(var_name)\n",
    "    BNB_VARS.append(var_name)\n",
    "\n",
    "# convert inf values with nan\n",
    "df = df.replace([np.inf, -np.inf], np.nan)"
   ]
  },
  {
   "attachments": {},
   "cell_type": "markdown",
   "metadata": {},
   "source": [
    "#### Variables catégorielles"
   ]
  },
  {
   "cell_type": "code",
   "execution_count": 36,
   "metadata": {},
   "outputs": [],
   "source": [
    "def get_unique_values(df: DataFrame, col: str) -> list: \n",
    "    unique_values = [\n",
    "        val \n",
    "        for val in df[col].unique().tolist()\n",
    "        if val == val \n",
    "    ]\n",
    "\n",
    "    return unique_values\n",
    "\n",
    "def get_cols_with_one_value(df: DataFrame, cols: list) -> DataFrame: \n",
    "\n",
    "    unique_cols = [\n",
    "        col for col in cols\n",
    "        if len(get_unique_values(df, col)) == 1\n",
    "    ]\n",
    "\n",
    "    return unique_cols"
   ]
  },
  {
   "cell_type": "code",
   "execution_count": 37,
   "metadata": {},
   "outputs": [],
   "source": [
    "to_remove = get_cols_with_one_value(df, BNB_VARS)\n",
    "df = df.drop(labels=to_remove, axis=1)\n",
    "\n",
    "for col in to_remove:\n",
    "    BNB_VARS.remove(col)"
   ]
  },
  {
   "cell_type": "code",
   "execution_count": 38,
   "metadata": {},
   "outputs": [
    {
     "data": {
      "text/plain": [
       "['parcelle_id',\n",
       " 'code_iris',\n",
       " 'periode_construction',\n",
       " 'periode_construction_max',\n",
       " 'hauteur_mean',\n",
       " 'altitude_sol_mean',\n",
       " 'conso_ener_mean',\n",
       " 'estim_ges_mean',\n",
       " 'conso_ener_min',\n",
       " 'estim_ges_min',\n",
       " 'conso_ener_max',\n",
       " 'estim_ges_max',\n",
       " 'enr_solaire_photovoltaique',\n",
       " 'mur_pos_isol_ext',\n",
       " 'presence_climatisation',\n",
       " 'baie_orientation_indetermine',\n",
       " 'baie_orientation_nord',\n",
       " 'baie_orientation_ouest',\n",
       " 'baie_orientation_est',\n",
       " 'baie_orientation_horizontale',\n",
       " 'baie_orientation_est_ou_ouest',\n",
       " 'baie_orientation_sud',\n",
       " 'distance_batiment_historique_plus_proche',\n",
       " 'nom_batiment_historique_plus_proche',\n",
       " 'qpv',\n",
       " 'nb_lot_garpark',\n",
       " 'nb_lot_tot',\n",
       " 'nb_log',\n",
       " 'nb_lot_tertiaire',\n",
       " 'l_hauteur_mean',\n",
       " 'l_altitude_sol_mean',\n",
       " 'l_conso_ener_mean',\n",
       " 'l_estim_ges_mean',\n",
       " 'l_conso_ener_min',\n",
       " 'l_estim_ges_min',\n",
       " 'l_conso_ener_max',\n",
       " 'l_estim_ges_max',\n",
       " 'l_distance_batiment_historique_plus_proche']"
      ]
     },
     "execution_count": 38,
     "metadata": {},
     "output_type": "execute_result"
    }
   ],
   "source": [
    "BNB_VARS"
   ]
  },
  {
   "attachments": {},
   "cell_type": "markdown",
   "metadata": {},
   "source": [
    "### Features pertinentes"
   ]
  },
  {
   "cell_type": "code",
   "execution_count": 39,
   "metadata": {},
   "outputs": [],
   "source": [
    "to_select = [\n",
    "    # target\n",
    "    \"l_valeur_fonciere\",\n",
    "\n",
    "    # dvf features\n",
    "    \"id_mutation\", \n",
    "    \"date_mutation\", \n",
    "    \"l_surface_reelle_bati\",\n",
    "    \"nombre_pieces_principales\",\n",
    "    \"dependance\",\n",
    "    \"arrondissement\",\n",
    "    \"l_valeur_fonciere_ma7\",\n",
    "    \"l_valeur_fonciere_ma14\",\n",
    "    \"l_valeur_fonciere_ma30\",\n",
    "    \"l_valeur_fonciere_ma90\", \n",
    "\n",
    "    # bnb features\n",
    "    \"periode_construction\",\n",
    "    \"periode_construction_max\",\n",
    "    \"l_hauteur_mean\",\n",
    "    \"l_altitude_sol_mean\",\n",
    "    \"l_conso_ener_mean\",\n",
    "    \"l_estim_ges_mean\",\n",
    "    \"l_conso_ener_min\",\n",
    "    \"l_estim_ges_min\",\n",
    "    \"l_conso_ener_max\",\n",
    "    \"l_estim_ges_max\",\n",
    "    \"l_distance_batiment_historique_plus_proche\",\n",
    "    \"enr_solaire_photovoltaique\",\n",
    "    \"mur_pos_isol_ext\",\n",
    "    \"presence_climatisation\",\n",
    "    \"baie_orientation_indetermine\",\n",
    "    \"baie_orientation_nord\",\n",
    "    \"baie_orientation_ouest\",\n",
    "    \"baie_orientation_est\",\n",
    "    \"baie_orientation_horizontale\",\n",
    "    \"baie_orientation_est_ou_ouest\",\n",
    "    \"baie_orientation_sud\",\n",
    "    \"qpv\",\n",
    "    \"nb_lot_garpark\",\n",
    "    \"nb_lot_tot\",\n",
    "    \"nb_log\",\n",
    "    \"nb_lot_tertiaire\",\n",
    "]\n",
    "\n",
    "df_mod = df[to_select].set_index(\"id_mutation\")"
   ]
  },
  {
   "cell_type": "code",
   "execution_count": 40,
   "metadata": {},
   "outputs": [
    {
     "name": "stdout",
     "output_type": "stream",
     "text": [
      "<class 'pandas.core.frame.DataFrame'>\n",
      "Index: 146188 entries, 2017-731653 to 2022-537272\n",
      "Data columns (total 36 columns):\n",
      " #   Column                                      Non-Null Count   Dtype  \n",
      "---  ------                                      --------------   -----  \n",
      " 0   l_valeur_fonciere                           146188 non-null  float64\n",
      " 1   date_mutation                               146188 non-null  object \n",
      " 2   l_surface_reelle_bati                       146188 non-null  float64\n",
      " 3   nombre_pieces_principales                   146188 non-null  float64\n",
      " 4   dependance                                  146188 non-null  int64  \n",
      " 5   arrondissement                              146188 non-null  object \n",
      " 6   l_valeur_fonciere_ma7                       145281 non-null  float64\n",
      " 7   l_valeur_fonciere_ma14                      144194 non-null  float64\n",
      " 8   l_valeur_fonciere_ma30                      142148 non-null  float64\n",
      " 9   l_valeur_fonciere_ma90                      135031 non-null  float64\n",
      " 10  periode_construction                        138832 non-null  object \n",
      " 11  periode_construction_max                    123133 non-null  object \n",
      " 12  l_hauteur_mean                              145811 non-null  float64\n",
      " 13  l_altitude_sol_mean                         145393 non-null  float64\n",
      " 14  l_conso_ener_mean                           131850 non-null  float64\n",
      " 15  l_estim_ges_mean                            131838 non-null  float64\n",
      " 16  l_conso_ener_min                            131844 non-null  float64\n",
      " 17  l_estim_ges_min                             131780 non-null  float64\n",
      " 18  l_conso_ener_max                            131850 non-null  float64\n",
      " 19  l_estim_ges_max                             131838 non-null  float64\n",
      " 20  l_distance_batiment_historique_plus_proche  139073 non-null  float64\n",
      " 21  enr_solaire_photovoltaique                  145811 non-null  float64\n",
      " 22  mur_pos_isol_ext                            135162 non-null  object \n",
      " 23  presence_climatisation                      138832 non-null  float64\n",
      " 24  baie_orientation_indetermine                145811 non-null  float64\n",
      " 25  baie_orientation_nord                       145811 non-null  float64\n",
      " 26  baie_orientation_ouest                      145811 non-null  float64\n",
      " 27  baie_orientation_est                        145811 non-null  float64\n",
      " 28  baie_orientation_horizontale                145811 non-null  float64\n",
      " 29  baie_orientation_est_ou_ouest               145811 non-null  float64\n",
      " 30  baie_orientation_sud                        145811 non-null  float64\n",
      " 31  qpv                                         145811 non-null  float64\n",
      " 32  nb_lot_garpark                              140104 non-null  float64\n",
      " 33  nb_lot_tot                                  140104 non-null  float64\n",
      " 34  nb_log                                      140104 non-null  float64\n",
      " 35  nb_lot_tertiaire                            140104 non-null  float64\n",
      "dtypes: float64(30), int64(1), object(5)\n",
      "memory usage: 41.3+ MB\n"
     ]
    }
   ],
   "source": [
    "df_mod.info()"
   ]
  },
  {
   "attachments": {},
   "cell_type": "markdown",
   "metadata": {},
   "source": [
    "### Dummies"
   ]
  },
  {
   "cell_type": "code",
   "execution_count": 41,
   "metadata": {},
   "outputs": [],
   "source": [
    "df_mod.loc[ \n",
    "    (df_mod.baie_orientation_indetermine==0) &\n",
    "    (df_mod.baie_orientation_nord==0) &\n",
    "    (df_mod.baie_orientation_ouest==0) &\n",
    "    (df_mod.baie_orientation_est==0) &\n",
    "    (df_mod.baie_orientation_horizontale==0) &\n",
    "    (df_mod.baie_orientation_est_ou_ouest==0) &\n",
    "    (df_mod.baie_orientation_sud==0),\n",
    "    \"baie_orientation_indetermine\"\n",
    "] = 1"
   ]
  },
  {
   "cell_type": "code",
   "execution_count": 42,
   "metadata": {},
   "outputs": [],
   "source": [
    "def get_categorical_vars(df: DataFrame) -> list: \n",
    "    \n",
    "    categorical_vars = [\n",
    "        col for col in df.columns\n",
    "        if df[col].dtype == \"object\"\n",
    "    ]\n",
    "\n",
    "    return categorical_vars"
   ]
  },
  {
   "cell_type": "code",
   "execution_count": 43,
   "metadata": {},
   "outputs": [
    {
     "data": {
      "text/plain": [
       "['nombre_pieces_principales',\n",
       " 'arrondissement',\n",
       " 'periode_construction',\n",
       " 'periode_construction_max',\n",
       " 'mur_pos_isol_ext']"
      ]
     },
     "execution_count": 43,
     "metadata": {},
     "output_type": "execute_result"
    }
   ],
   "source": [
    "df_mod.nombre_pieces_principales = df_mod.nombre_pieces_principales.astype(\"object\")\n",
    "\n",
    "categorical_vars = get_categorical_vars(df_mod)\n",
    "categorical_vars.remove(\"date_mutation\")\n",
    "categorical_vars"
   ]
  },
  {
   "cell_type": "code",
   "execution_count": 44,
   "metadata": {},
   "outputs": [],
   "source": [
    "df_mod = pd.get_dummies(\n",
    "    df_mod, \n",
    "    columns=categorical_vars, \n",
    "    dummy_na=True,\n",
    "    drop_first=False\n",
    ")"
   ]
  },
  {
   "cell_type": "code",
   "execution_count": 45,
   "metadata": {},
   "outputs": [],
   "source": [
    "for var in categorical_vars: \n",
    "    nan_dummy = var+\"_nan\"\n",
    "\n",
    "    mask = df_mod[nan_dummy] == 0\n",
    "    df_mod = df_mod.loc[mask, :]\n",
    "\n",
    "    df_mod = df_mod.drop(labels=[nan_dummy], axis=1)"
   ]
  },
  {
   "cell_type": "code",
   "execution_count": 46,
   "metadata": {},
   "outputs": [],
   "source": [
    "from pandas.core.frame import DataFrame\n",
    "from typing import Dict\n",
    "\n",
    "\n",
    "def remove_reference_levels(df: DataFrame, reference_levels: Dict) -> DataFrame: \n",
    "    \"\"\"Description. Remove reference columns from dataset.\"\"\"\n",
    "\n",
    "    for var, lvl in reference_levels.items(): \n",
    "        var_name = f\"{var}_{lvl}\"\n",
    "        if var_name in df.columns: \n",
    "            df = df.drop([var_name], axis=1) \n",
    "\n",
    "    return df  "
   ]
  },
  {
   "cell_type": "code",
   "execution_count": 47,
   "metadata": {},
   "outputs": [],
   "source": [
    "# take levels of most representative properties\n",
    "\n",
    "dummy_reference_levels = {\n",
    "    \"nombre_pieces_principales\": 2.0, \n",
    "    \"arrondissement\": 15, \n",
    "    \"periode_construction\": \"<1948\",\n",
    "    \"periode_construction_max\": \"AVANT_1949\",\n",
    "    \"mur_pos_isol_ext\": \"ITI\", \n",
    "    \"baie_orientation\": \"nord\"\n",
    "}\n",
    "\n",
    "df_mod = remove_reference_levels(df_mod, dummy_reference_levels)"
   ]
  },
  {
   "attachments": {},
   "cell_type": "markdown",
   "metadata": {},
   "source": [
    "### Train/test split"
   ]
  },
  {
   "cell_type": "code",
   "execution_count": 48,
   "metadata": {},
   "outputs": [],
   "source": [
    "from pandas.core.frame import DataFrame\n",
    "from pandas.core.series import Series \n",
    "from typing import Tuple\n",
    "\n",
    "def sort_transaction_dates(df: DataFrame, date_var: str) -> Series: \n",
    "    \"\"\"Description. Store id_mutation and date_mutation.\"\"\"\n",
    "\n",
    "    transaction_dates = df[date_var].sort_values(ascending=True)\n",
    "    return transaction_dates \n",
    "\n",
    "def temporal_train_test_split(df: DataFrame, date_var: str, train_prop: float) -> Tuple: \n",
    "    \"\"\"Description. Temporal train/test split.\"\"\"\n",
    "\n",
    "    transaction_dates = sort_transaction_dates(df, date_var)\n",
    "\n",
    "    train_size = int(transaction_dates.shape[0] * train_prop)\n",
    "    training_idxs = transaction_dates[:train_size].index\n",
    "\n",
    "    df_train = df.loc[df.index.isin(training_idxs), :].sort_values(by=date_var)\n",
    "    df_test = df.loc[~df.index.isin(training_idxs), :].sort_values(by=date_var)\n",
    "\n",
    "    train_dates = sort_transaction_dates(df_train, date_var)\n",
    "    test_dates = sort_transaction_dates(df_test, date_var)\n",
    "\n",
    "    df_train.drop(columns=date_var, inplace=True), \n",
    "    df_test.drop(columns=date_var, inplace=True)\n",
    "\n",
    "    df_train.dropna(axis=0, inplace=True)\n",
    "    df_test.dropna(axis=0, inplace=True)\n",
    "\n",
    "    return (\n",
    "        df_train,\n",
    "        df_test, \n",
    "        train_dates, \n",
    "        test_dates \n",
    "    )  "
   ]
  },
  {
   "cell_type": "code",
   "execution_count": 49,
   "metadata": {},
   "outputs": [],
   "source": [
    "df_train, df_test, train_dates, test_dates = temporal_train_test_split(df_mod, date_var=\"date_mutation\", train_prop=.8)"
   ]
  },
  {
   "cell_type": "code",
   "execution_count": 50,
   "metadata": {},
   "outputs": [
    {
     "data": {
      "text/plain": [
       "'2021-07-15'"
      ]
     },
     "execution_count": 50,
     "metadata": {},
     "output_type": "execute_result"
    }
   ],
   "source": [
    "max_train_date = train_dates.max()\n",
    "max_train_date"
   ]
  },
  {
   "cell_type": "code",
   "execution_count": 51,
   "metadata": {},
   "outputs": [
    {
     "data": {
      "text/plain": [
       "['l_valeur_fonciere',\n",
       " 'l_surface_reelle_bati',\n",
       " 'dependance',\n",
       " 'l_valeur_fonciere_ma7',\n",
       " 'l_valeur_fonciere_ma14',\n",
       " 'l_valeur_fonciere_ma30',\n",
       " 'l_valeur_fonciere_ma90',\n",
       " 'l_hauteur_mean',\n",
       " 'l_altitude_sol_mean',\n",
       " 'l_conso_ener_mean',\n",
       " 'l_estim_ges_mean',\n",
       " 'l_conso_ener_min',\n",
       " 'l_estim_ges_min',\n",
       " 'l_conso_ener_max',\n",
       " 'l_estim_ges_max',\n",
       " 'l_distance_batiment_historique_plus_proche',\n",
       " 'enr_solaire_photovoltaique',\n",
       " 'presence_climatisation',\n",
       " 'baie_orientation_indetermine',\n",
       " 'baie_orientation_ouest',\n",
       " 'baie_orientation_est',\n",
       " 'baie_orientation_horizontale',\n",
       " 'baie_orientation_est_ou_ouest',\n",
       " 'baie_orientation_sud',\n",
       " 'qpv',\n",
       " 'nb_lot_garpark',\n",
       " 'nb_lot_tot',\n",
       " 'nb_log',\n",
       " 'nb_lot_tertiaire',\n",
       " 'nombre_pieces_principales_1.0',\n",
       " 'nombre_pieces_principales_3.0',\n",
       " 'nombre_pieces_principales_4.0',\n",
       " 'nombre_pieces_principales_5.0',\n",
       " 'nombre_pieces_principales_6.0',\n",
       " 'arrondissement_1',\n",
       " 'arrondissement_10',\n",
       " 'arrondissement_11',\n",
       " 'arrondissement_12',\n",
       " 'arrondissement_13',\n",
       " 'arrondissement_14',\n",
       " 'arrondissement_16',\n",
       " 'arrondissement_17',\n",
       " 'arrondissement_18',\n",
       " 'arrondissement_19',\n",
       " 'arrondissement_2',\n",
       " 'arrondissement_20',\n",
       " 'arrondissement_3',\n",
       " 'arrondissement_4',\n",
       " 'arrondissement_5',\n",
       " 'arrondissement_6',\n",
       " 'arrondissement_7',\n",
       " 'arrondissement_8',\n",
       " 'arrondissement_9',\n",
       " 'periode_construction_1949-1970',\n",
       " 'periode_construction_1970-1988',\n",
       " 'periode_construction_1989-1999',\n",
       " 'periode_construction_2000-2005',\n",
       " 'periode_construction_2006-2012',\n",
       " 'periode_construction_>2012',\n",
       " 'periode_construction_bad inf',\n",
       " 'periode_construction_bad sup',\n",
       " 'periode_construction_max_APRES_2011',\n",
       " 'periode_construction_max_DE_1949_A_1960',\n",
       " 'periode_construction_max_DE_1961_A_1974',\n",
       " 'periode_construction_max_DE_1975_A_1993',\n",
       " 'periode_construction_max_DE_1994_A_2000',\n",
       " 'periode_construction_max_DE_2001_A_2010',\n",
       " 'periode_construction_max_non renseigné',\n",
       " 'mur_pos_isol_ext_ITE',\n",
       " 'mur_pos_isol_ext_ITE+ITR',\n",
       " 'mur_pos_isol_ext_ITI+ITE',\n",
       " 'mur_pos_isol_ext_ITI+ITR',\n",
       " 'mur_pos_isol_ext_ITR',\n",
       " 'mur_pos_isol_ext_isole',\n",
       " 'mur_pos_isol_ext_non isole']"
      ]
     },
     "execution_count": 51,
     "metadata": {},
     "output_type": "execute_result"
    }
   ],
   "source": [
    "list(df_train.columns)"
   ]
  },
  {
   "cell_type": "code",
   "execution_count": 52,
   "metadata": {},
   "outputs": [],
   "source": [
    "from pandas.core.frame import DataFrame\n",
    "from typing import List, Optional, Tuple, Union\n",
    "\n",
    "def get_feature_vector(\n",
    "    df: DataFrame, \n",
    "    return_features: bool=False, \n",
    "    return_df: bool=True, \n",
    "    target: Optional[str]=None, \n",
    "    features: Optional[List]=None\n",
    ") -> Union[Tuple, DataFrame, np.ndarray]:\n",
    "    \"\"\"Description. Get feature vector.\"\"\"\n",
    "\n",
    "    if target is not None: \n",
    "        X = df.drop([target], axis=1)\n",
    "        features = list(X.columns)\n",
    "\n",
    "    elif features is not None: \n",
    "        X = df[features]\n",
    "\n",
    "    else: \n",
    "        raise ValueError(\"No target or features provided.\")\n",
    "\n",
    "    if not return_df:\n",
    "        X = X.values\n",
    "\n",
    "    if return_features:\n",
    "        return X, features\n",
    "\n",
    "    return X\n",
    "\n",
    "def get_target_vector(df: DataFrame, target: str, return_series: bool=True) -> Union[Series, np.ndarray]: \n",
    "    \"\"\"Description. Get target vector.\"\"\"\n",
    "\n",
    "    y = df[target]\n",
    "    \n",
    "    if return_series: \n",
    "        return y\n",
    "    \n",
    "    return y.values"
   ]
  },
  {
   "cell_type": "code",
   "execution_count": 53,
   "metadata": {},
   "outputs": [],
   "source": [
    "target = \"l_valeur_fonciere\"\n",
    "\n",
    "X_tr, features = get_feature_vector(df_train, return_features=True, target=target)\n",
    "y_tr = get_target_vector(df_train, target=target)\n",
    "\n",
    "X_te, y_te = get_feature_vector(df_test, target=target), get_target_vector(df_test, target=target)"
   ]
  },
  {
   "cell_type": "code",
   "execution_count": 54,
   "metadata": {},
   "outputs": [
    {
     "name": "stdout",
     "output_type": "stream",
     "text": [
      "76,199 trainning samples for 74 features\n"
     ]
    }
   ],
   "source": [
    "print(f\"{X_tr.shape[0]:,} trainning samples for {X_tr.shape[1]} features\")"
   ]
  },
  {
   "attachments": {},
   "cell_type": "markdown",
   "metadata": {},
   "source": [
    "## Feature selection"
   ]
  },
  {
   "attachments": {},
   "cell_type": "markdown",
   "metadata": {},
   "source": [
    "### `OLS` using `statsmodels`"
   ]
  },
  {
   "cell_type": "code",
   "execution_count": 178,
   "metadata": {},
   "outputs": [],
   "source": [
    "X_tr_ = X_tr.copy()\n",
    "X_tr_ = sm.add_constant(X_tr_, prepend=True)\n",
    "\n",
    "y_tr_ = y_tr.copy()\n",
    "\n",
    "mod = sm.OLS(y_tr_, X_tr_)\n",
    "res = mod.fit()"
   ]
  },
  {
   "cell_type": "code",
   "execution_count": 179,
   "metadata": {},
   "outputs": [
    {
     "name": "stdout",
     "output_type": "stream",
     "text": [
      "                            OLS Regression Results                            \n",
      "==============================================================================\n",
      "Dep. Variable:      l_valeur_fonciere   R-squared:                       0.906\n",
      "Model:                            OLS   Adj. R-squared:                  0.906\n",
      "Method:                 Least Squares   F-statistic:                 1.008e+04\n",
      "Date:                Tue, 28 Mar 2023   Prob (F-statistic):               0.00\n",
      "Time:                        09:38:41   Log-Likelihood:                 13481.\n",
      "No. Observations:               76199   AIC:                        -2.681e+04\n",
      "Df Residuals:                   76125   BIC:                        -2.613e+04\n",
      "Df Model:                          73                                         \n",
      "Covariance Type:            nonrobust                                         \n",
      "==============================================================================================================\n",
      "                                                 coef    std err          t      P>|t|      [0.025      0.975]\n",
      "--------------------------------------------------------------------------------------------------------------\n",
      "const                                          0.5488      0.137      4.018      0.000       0.281       0.816\n",
      "l_surface_reelle_bati                          0.9474      0.003    374.916      0.000       0.942       0.952\n",
      "dependance                                     0.0305      0.002     13.987      0.000       0.026       0.035\n",
      "l_valeur_fonciere_ma7                          0.0002      0.008      0.028      0.978      -0.016       0.017\n",
      "l_valeur_fonciere_ma14                         0.0071      0.014      0.506      0.613      -0.020       0.035\n",
      "l_valeur_fonciere_ma30                         0.0005      0.018      0.027      0.979      -0.035       0.036\n",
      "l_valeur_fonciere_ma90                         0.6659      0.018     37.560      0.000       0.631       0.701\n",
      "l_hauteur_mean                                -0.0099      0.002     -4.203      0.000      -0.015      -0.005\n",
      "l_altitude_sol_mean                            0.0346      0.004      8.508      0.000       0.027       0.043\n",
      "l_conso_ener_mean                             -0.0169      0.005     -3.131      0.002      -0.027      -0.006\n",
      "l_estim_ges_mean                               0.0090      0.004      2.195      0.028       0.001       0.017\n",
      "l_conso_ener_min                              -0.0026      0.002     -1.372      0.170      -0.006       0.001\n",
      "l_estim_ges_min                               -0.0025      0.001     -1.880      0.060      -0.005       0.000\n",
      "l_conso_ener_max                               0.0070      0.004      1.804      0.071      -0.001       0.015\n",
      "l_estim_ges_max                               -0.0018      0.003     -0.546      0.585      -0.008       0.005\n",
      "l_distance_batiment_historique_plus_proche    -0.0046      0.001     -3.619      0.000      -0.007      -0.002\n",
      "enr_solaire_photovoltaique                     0.1031      0.045      2.313      0.021       0.016       0.190\n",
      "presence_climatisation                         0.0211      0.006      3.505      0.000       0.009       0.033\n",
      "baie_orientation_indetermine                   0.0106      0.003      3.968      0.000       0.005       0.016\n",
      "baie_orientation_ouest                        -0.0057      0.002     -2.403      0.016      -0.010      -0.001\n",
      "baie_orientation_est                          -0.0006      0.002     -0.283      0.777      -0.005       0.004\n",
      "baie_orientation_horizontale                   0.0080      0.031      0.262      0.794      -0.052       0.068\n",
      "baie_orientation_est_ou_ouest                  0.0062      0.019      0.336      0.737      -0.030       0.043\n",
      "baie_orientation_sud                           0.0022      0.002      1.063      0.288      -0.002       0.006\n",
      "qpv                                           -0.0979      0.005    -20.956      0.000      -0.107      -0.089\n",
      "nb_lot_garpark                              3.846e-05   1.52e-05      2.538      0.011    8.76e-06    6.82e-05\n",
      "nb_lot_tot                                 -8.218e-06   8.93e-06     -0.920      0.357   -2.57e-05    9.28e-06\n",
      "nb_log                                        -0.0003   2.12e-05    -12.925      0.000      -0.000      -0.000\n",
      "nb_lot_tertiaire                               0.0001   1.42e-05      8.668      0.000     9.5e-05       0.000\n",
      "nombre_pieces_principales_1.0                 -0.0221      0.002     -9.129      0.000      -0.027      -0.017\n",
      "nombre_pieces_principales_3.0                  0.0372      0.002     16.512      0.000       0.033       0.042\n",
      "nombre_pieces_principales_4.0                  0.0688      0.003     20.906      0.000       0.062       0.075\n",
      "nombre_pieces_principales_5.0                  0.0931      0.005     19.821      0.000       0.084       0.102\n",
      "nombre_pieces_principales_6.0                  0.1137      0.008     14.451      0.000       0.098       0.129\n",
      "arrondissement_1                               0.0529      0.008      6.348      0.000       0.037       0.069\n",
      "arrondissement_10                              0.0280      0.004      7.012      0.000       0.020       0.036\n",
      "arrondissement_11                              0.0974      0.004     27.202      0.000       0.090       0.104\n",
      "arrondissement_12                              0.0220      0.004      5.508      0.000       0.014       0.030\n",
      "arrondissement_13                              0.0198      0.005      4.384      0.000       0.011       0.029\n",
      "arrondissement_14                              0.0351      0.004      7.809      0.000       0.026       0.044\n",
      "arrondissement_16                             -0.2537      0.006    -42.099      0.000      -0.265      -0.242\n",
      "arrondissement_17                             -0.0526      0.004    -13.839      0.000      -0.060      -0.045\n",
      "arrondissement_18                              0.0957      0.005     20.983      0.000       0.087       0.105\n",
      "arrondissement_19                             -0.0053      0.005     -1.056      0.291      -0.015       0.005\n",
      "arrondissement_2                               0.0948      0.006     14.827      0.000       0.082       0.107\n",
      "arrondissement_20                              0.0424      0.006      7.609      0.000       0.031       0.053\n",
      "arrondissement_3                               0.0664      0.006     11.574      0.000       0.055       0.078\n",
      "arrondissement_4                               0.0493      0.007      7.182      0.000       0.036       0.063\n",
      "arrondissement_5                               0.0702      0.005     13.285      0.000       0.060       0.081\n",
      "arrondissement_6                              -0.0335      0.007     -4.599      0.000      -0.048      -0.019\n",
      "arrondissement_7                              -0.1077      0.008    -14.069      0.000      -0.123      -0.093\n",
      "arrondissement_8                              -0.2159      0.008    -27.442      0.000      -0.231      -0.200\n",
      "arrondissement_9                              -0.0476      0.005     -9.421      0.000      -0.058      -0.038\n",
      "periode_construction_1949-1970                -0.0063      0.005     -1.402      0.161      -0.015       0.003\n",
      "periode_construction_1970-1988                 0.0019      0.003      0.711      0.477      -0.003       0.007\n",
      "periode_construction_1989-1999                 0.0149      0.006      2.404      0.016       0.003       0.027\n",
      "periode_construction_2000-2005                 0.0081      0.009      0.929      0.353      -0.009       0.025\n",
      "periode_construction_2006-2012                 0.0494      0.010      4.738      0.000       0.029       0.070\n",
      "periode_construction_>2012                     0.0943      0.021      4.432      0.000       0.053       0.136\n",
      "periode_construction_bad inf                  -0.0067      0.005     -1.453      0.146      -0.016       0.002\n",
      "periode_construction_bad sup                3.821e-14   8.18e-15      4.669      0.000    2.22e-14    5.43e-14\n",
      "periode_construction_max_APRES_2011            0.0452      0.012      3.637      0.000       0.021       0.069\n",
      "periode_construction_max_DE_1949_A_1960       -0.0151      0.002     -6.349      0.000      -0.020      -0.010\n",
      "periode_construction_max_DE_1961_A_1974       -0.0264      0.002    -10.943      0.000      -0.031      -0.022\n",
      "periode_construction_max_DE_1975_A_1993       -0.0181      0.003     -5.733      0.000      -0.024      -0.012\n",
      "periode_construction_max_DE_1994_A_2000        0.0128      0.007      1.942      0.052      -0.000       0.026\n",
      "periode_construction_max_DE_2001_A_2010        0.0193      0.008      2.464      0.014       0.004       0.035\n",
      "periode_construction_max_non renseigné        -0.0367      0.018     -2.080      0.037      -0.071      -0.002\n",
      "mur_pos_isol_ext_ITE                          -0.0107      0.011     -1.005      0.315      -0.031       0.010\n",
      "mur_pos_isol_ext_ITE+ITR                      -0.1690      0.102     -1.664      0.096      -0.368       0.030\n",
      "mur_pos_isol_ext_ITI+ITE                      -0.1146      0.019     -6.150      0.000      -0.151      -0.078\n",
      "mur_pos_isol_ext_ITI+ITR                      -0.0199      0.029     -0.690      0.490      -0.076       0.037\n",
      "mur_pos_isol_ext_ITR                          -0.0120      0.020     -0.596      0.551      -0.051       0.027\n",
      "mur_pos_isol_ext_isole                        -0.0135      0.011     -1.207      0.227      -0.035       0.008\n",
      "mur_pos_isol_ext_non isole                    -0.0104      0.002     -4.215      0.000      -0.015      -0.006\n",
      "==============================================================================\n",
      "Omnibus:                     3904.967   Durbin-Watson:                   1.994\n",
      "Prob(Omnibus):                  0.000   Jarque-Bera (JB):             7009.698\n",
      "Skew:                          -0.404   Prob(JB):                         0.00\n",
      "Kurtosis:                       4.248   Cond. No.                     1.12e+16\n",
      "==============================================================================\n",
      "\n",
      "Notes:\n",
      "[1] Standard Errors assume that the covariance matrix of the errors is correctly specified.\n",
      "[2] The smallest eigenvalue is 1.51e-22. This might indicate that there are\n",
      "strong multicollinearity problems or that the design matrix is singular.\n"
     ]
    }
   ],
   "source": [
    "summary = res.summary()\n",
    "print(summary)"
   ]
  },
  {
   "cell_type": "code",
   "execution_count": 180,
   "metadata": {},
   "outputs": [],
   "source": [
    "# extrac coefs from res \n",
    "coefs = res.params "
   ]
  },
  {
   "cell_type": "code",
   "execution_count": 181,
   "metadata": {},
   "outputs": [],
   "source": [
    "from statsmodels.regression.linear_model import RegressionResultsWrapper\n",
    "from typing import Dict\n",
    "\n",
    "def get_p_values(sm_results: RegressionResultsWrapper, thresold: float=.05) -> Dict: \n",
    "    \"\"\"Description. Extract below thresold p-values from stats model results.\"\"\"\n",
    "\n",
    "    p_values = sm_results.pvalues[sm_results.pvalues < thresold]\\\n",
    "            .sort_values()\n",
    "    p_values = dict(p_values)\n",
    "\n",
    "    return p_values\n",
    "\n",
    "p_values = get_p_values(res)"
   ]
  },
  {
   "cell_type": "code",
   "execution_count": 182,
   "metadata": {},
   "outputs": [
    {
     "data": {
      "text/html": [
       "<pre style=\"white-space:pre;overflow-x:auto;line-height:normal;font-family:Menlo,'DejaVu Sans Mono',consolas,'Courier New',monospace\"><span style=\"font-style: italic\">                      Coefficients and p-values                       </span>\n",
       "┏━━━━━━━━━━━━━━━━━━━━━━━━━━━━━━━━━━━━━━━━━━━━┳━━━━━━━━━━━━━┳━━━━━━━━━┓\n",
       "┃<span style=\"font-weight: bold\"> Variable                                   </span>┃<span style=\"font-weight: bold\"> Coefficient </span>┃<span style=\"font-weight: bold\"> p-value </span>┃\n",
       "┡━━━━━━━━━━━━━━━━━━━━━━━━━━━━━━━━━━━━━━━━━━━━╇━━━━━━━━━━━━━╇━━━━━━━━━┩\n",
       "│ l_surface_reelle_bati                      │ 0.95        │ 0.0     │\n",
       "│ arrondissement_16                          │ -0.25       │ 0.0     │\n",
       "│ l_valeur_fonciere_ma90                     │ 0.67        │ 0.0     │\n",
       "│ arrondissement_8                           │ -0.22       │ 0.0     │\n",
       "│ arrondissement_11                          │ 0.1         │ 0.0     │\n",
       "│ arrondissement_18                          │ 0.1         │ 0.0     │\n",
       "│ qpv                                        │ -0.1        │ 0.0     │\n",
       "│ nombre_pieces_principales_4.0              │ 0.07        │ 0.0     │\n",
       "│ nombre_pieces_principales_5.0              │ 0.09        │ 0.0     │\n",
       "│ nombre_pieces_principales_3.0              │ 0.04        │ 0.0     │\n",
       "│ arrondissement_2                           │ 0.09        │ 0.0     │\n",
       "│ nombre_pieces_principales_6.0              │ 0.11        │ 0.0     │\n",
       "│ arrondissement_7                           │ -0.11       │ 0.0     │\n",
       "│ dependance                                 │ 0.03        │ 0.0     │\n",
       "│ arrondissement_17                          │ -0.05       │ 0.0     │\n",
       "│ arrondissement_5                           │ 0.07        │ 0.0     │\n",
       "│ nb_log                                     │ -0.0        │ 0.0     │\n",
       "│ arrondissement_3                           │ 0.07        │ 0.0     │\n",
       "│ periode_construction_max_DE_1961_A_1974    │ -0.03       │ 0.0     │\n",
       "│ arrondissement_9                           │ -0.05       │ 0.0     │\n",
       "│ nombre_pieces_principales_1.0              │ -0.02       │ 0.0     │\n",
       "│ nb_lot_tertiaire                           │ 0.0         │ 0.0     │\n",
       "│ l_altitude_sol_mean                        │ 0.03        │ 0.0     │\n",
       "│ arrondissement_14                          │ 0.04        │ 0.0     │\n",
       "│ arrondissement_20                          │ 0.04        │ 0.0     │\n",
       "│ arrondissement_4                           │ 0.05        │ 0.0     │\n",
       "│ arrondissement_10                          │ 0.03        │ 0.0     │\n",
       "│ periode_construction_max_DE_1949_A_1960    │ -0.02       │ 0.0     │\n",
       "│ arrondissement_1                           │ 0.05        │ 0.0     │\n",
       "│ mur_pos_isol_ext_ITI+ITE                   │ -0.11       │ 0.0     │\n",
       "│ periode_construction_max_DE_1975_A_1993    │ -0.02       │ 0.0     │\n",
       "│ arrondissement_12                          │ 0.02        │ 0.0     │\n",
       "│ periode_construction_2006-2012             │ 0.05        │ 0.0     │\n",
       "│ periode_construction_bad sup               │ 0.0         │ 0.0     │\n",
       "│ arrondissement_6                           │ -0.03       │ 0.0     │\n",
       "│ periode_construction_&gt;2012                 │ 0.09        │ 0.0     │\n",
       "│ arrondissement_13                          │ 0.02        │ 0.0     │\n",
       "│ mur_pos_isol_ext_non isole                 │ -0.01       │ 0.0     │\n",
       "│ l_hauteur_mean                             │ -0.01       │ 0.0     │\n",
       "│ const                                      │ 0.55        │ 0.0     │\n",
       "│ baie_orientation_indetermine               │ 0.01        │ 0.0     │\n",
       "│ periode_construction_max_APRES_2011        │ 0.05        │ 0.0     │\n",
       "│ l_distance_batiment_historique_plus_proche │ -0.0        │ 0.0     │\n",
       "│ presence_climatisation                     │ 0.02        │ 0.0     │\n",
       "│ l_conso_ener_mean                          │ -0.02       │ 0.002   │\n",
       "│ nb_lot_garpark                             │ 0.0         │ 0.011   │\n",
       "│ periode_construction_max_DE_2001_A_2010    │ 0.02        │ 0.014   │\n",
       "│ periode_construction_1989-1999             │ 0.01        │ 0.016   │\n",
       "│ baie_orientation_ouest                     │ -0.01       │ 0.016   │\n",
       "│ enr_solaire_photovoltaique                 │ 0.1         │ 0.021   │\n",
       "│ l_estim_ges_mean                           │ 0.01        │ 0.028   │\n",
       "│ periode_construction_max_non renseigné     │ -0.04       │ 0.037   │\n",
       "└────────────────────────────────────────────┴─────────────┴─────────┘\n",
       "</pre>\n"
      ],
      "text/plain": [
       "\u001b[3m                      Coefficients and p-values                       \u001b[0m\n",
       "┏━━━━━━━━━━━━━━━━━━━━━━━━━━━━━━━━━━━━━━━━━━━━┳━━━━━━━━━━━━━┳━━━━━━━━━┓\n",
       "┃\u001b[1m \u001b[0m\u001b[1mVariable                                  \u001b[0m\u001b[1m \u001b[0m┃\u001b[1m \u001b[0m\u001b[1mCoefficient\u001b[0m\u001b[1m \u001b[0m┃\u001b[1m \u001b[0m\u001b[1mp-value\u001b[0m\u001b[1m \u001b[0m┃\n",
       "┡━━━━━━━━━━━━━━━━━━━━━━━━━━━━━━━━━━━━━━━━━━━━╇━━━━━━━━━━━━━╇━━━━━━━━━┩\n",
       "│ l_surface_reelle_bati                      │ 0.95        │ 0.0     │\n",
       "│ arrondissement_16                          │ -0.25       │ 0.0     │\n",
       "│ l_valeur_fonciere_ma90                     │ 0.67        │ 0.0     │\n",
       "│ arrondissement_8                           │ -0.22       │ 0.0     │\n",
       "│ arrondissement_11                          │ 0.1         │ 0.0     │\n",
       "│ arrondissement_18                          │ 0.1         │ 0.0     │\n",
       "│ qpv                                        │ -0.1        │ 0.0     │\n",
       "│ nombre_pieces_principales_4.0              │ 0.07        │ 0.0     │\n",
       "│ nombre_pieces_principales_5.0              │ 0.09        │ 0.0     │\n",
       "│ nombre_pieces_principales_3.0              │ 0.04        │ 0.0     │\n",
       "│ arrondissement_2                           │ 0.09        │ 0.0     │\n",
       "│ nombre_pieces_principales_6.0              │ 0.11        │ 0.0     │\n",
       "│ arrondissement_7                           │ -0.11       │ 0.0     │\n",
       "│ dependance                                 │ 0.03        │ 0.0     │\n",
       "│ arrondissement_17                          │ -0.05       │ 0.0     │\n",
       "│ arrondissement_5                           │ 0.07        │ 0.0     │\n",
       "│ nb_log                                     │ -0.0        │ 0.0     │\n",
       "│ arrondissement_3                           │ 0.07        │ 0.0     │\n",
       "│ periode_construction_max_DE_1961_A_1974    │ -0.03       │ 0.0     │\n",
       "│ arrondissement_9                           │ -0.05       │ 0.0     │\n",
       "│ nombre_pieces_principales_1.0              │ -0.02       │ 0.0     │\n",
       "│ nb_lot_tertiaire                           │ 0.0         │ 0.0     │\n",
       "│ l_altitude_sol_mean                        │ 0.03        │ 0.0     │\n",
       "│ arrondissement_14                          │ 0.04        │ 0.0     │\n",
       "│ arrondissement_20                          │ 0.04        │ 0.0     │\n",
       "│ arrondissement_4                           │ 0.05        │ 0.0     │\n",
       "│ arrondissement_10                          │ 0.03        │ 0.0     │\n",
       "│ periode_construction_max_DE_1949_A_1960    │ -0.02       │ 0.0     │\n",
       "│ arrondissement_1                           │ 0.05        │ 0.0     │\n",
       "│ mur_pos_isol_ext_ITI+ITE                   │ -0.11       │ 0.0     │\n",
       "│ periode_construction_max_DE_1975_A_1993    │ -0.02       │ 0.0     │\n",
       "│ arrondissement_12                          │ 0.02        │ 0.0     │\n",
       "│ periode_construction_2006-2012             │ 0.05        │ 0.0     │\n",
       "│ periode_construction_bad sup               │ 0.0         │ 0.0     │\n",
       "│ arrondissement_6                           │ -0.03       │ 0.0     │\n",
       "│ periode_construction_>2012                 │ 0.09        │ 0.0     │\n",
       "│ arrondissement_13                          │ 0.02        │ 0.0     │\n",
       "│ mur_pos_isol_ext_non isole                 │ -0.01       │ 0.0     │\n",
       "│ l_hauteur_mean                             │ -0.01       │ 0.0     │\n",
       "│ const                                      │ 0.55        │ 0.0     │\n",
       "│ baie_orientation_indetermine               │ 0.01        │ 0.0     │\n",
       "│ periode_construction_max_APRES_2011        │ 0.05        │ 0.0     │\n",
       "│ l_distance_batiment_historique_plus_proche │ -0.0        │ 0.0     │\n",
       "│ presence_climatisation                     │ 0.02        │ 0.0     │\n",
       "│ l_conso_ener_mean                          │ -0.02       │ 0.002   │\n",
       "│ nb_lot_garpark                             │ 0.0         │ 0.011   │\n",
       "│ periode_construction_max_DE_2001_A_2010    │ 0.02        │ 0.014   │\n",
       "│ periode_construction_1989-1999             │ 0.01        │ 0.016   │\n",
       "│ baie_orientation_ouest                     │ -0.01       │ 0.016   │\n",
       "│ enr_solaire_photovoltaique                 │ 0.1         │ 0.021   │\n",
       "│ l_estim_ges_mean                           │ 0.01        │ 0.028   │\n",
       "│ periode_construction_max_non renseigné     │ -0.04       │ 0.037   │\n",
       "└────────────────────────────────────────────┴─────────────┴─────────┘\n"
      ]
     },
     "metadata": {},
     "output_type": "display_data"
    }
   ],
   "source": [
    "from rich.table import Table\n",
    "from rich.console import Console\n",
    "\n",
    "table = Table(title=\"Coefficients and p-values\")\n",
    "table.add_column(\"Variable\")\n",
    "table.add_column(\"Coefficient\")\n",
    "table.add_column(\"p-value\")\n",
    "\n",
    "for var in p_values.keys(): \n",
    "    table.add_row(\n",
    "        var,\n",
    "        str(round(coefs[var], 2)),\n",
    "        str(round(p_values[var], 3)) \n",
    "    )\n",
    "\n",
    "console = Console()\n",
    "console.print(table)"
   ]
  },
  {
   "attachments": {},
   "cell_type": "markdown",
   "metadata": {},
   "source": [
    "### `RandomForestRegressor`"
   ]
  },
  {
   "cell_type": "code",
   "execution_count": 54,
   "metadata": {},
   "outputs": [],
   "source": [
    "X_tr, X_te = X_tr.values, X_te.values"
   ]
  },
  {
   "cell_type": "code",
   "execution_count": 397,
   "metadata": {},
   "outputs": [],
   "source": [
    "rf = RandomForestRegressor() "
   ]
  },
  {
   "cell_type": "code",
   "execution_count": 398,
   "metadata": {},
   "outputs": [
    {
     "data": {
      "text/plain": [
       "RandomForestRegressor()"
      ]
     },
     "execution_count": 398,
     "metadata": {},
     "output_type": "execute_result"
    }
   ],
   "source": [
    "rf.fit(X_tr, y_tr)"
   ]
  },
  {
   "cell_type": "code",
   "execution_count": 407,
   "metadata": {},
   "outputs": [],
   "source": [
    "pred_tr = rf.predict(X_tr)\n",
    "pred_te = rf.predict(X_te)"
   ]
  },
  {
   "cell_type": "code",
   "execution_count": 408,
   "metadata": {},
   "outputs": [
    {
     "name": "stdout",
     "output_type": "stream",
     "text": [
      "MAPE train: 5.9%\n",
      "MAPE test: 15.26%\n"
     ]
    }
   ],
   "source": [
    "mape_tr = mean_absolute_percentage_error(y_tr, pred_tr)\n",
    "mape_te = mean_absolute_percentage_error(y_te, pred_te)\n",
    "\n",
    "print(f\"MAPE train: {round(100 * mape_tr, 2)}%\")\n",
    "print(f\"MAPE test: {round(100 * mape_te, 2)}%\")"
   ]
  },
  {
   "cell_type": "code",
   "execution_count": 64,
   "metadata": {},
   "outputs": [],
   "source": [
    "from typing import Union\n",
    "\n",
    "def get_price(y: Union[float, np.ndarray]) -> Union[float, np.ndarray]: \n",
    "    \"\"\"Description. Remove logarithm to get predicted price.\"\"\"\n",
    "\n",
    "    return np.exp(y)"
   ]
  },
  {
   "cell_type": "code",
   "execution_count": 409,
   "metadata": {},
   "outputs": [],
   "source": [
    "importances = rf.feature_importances_\n",
    "std = np.std([tree.feature_importances_ for tree in rf.estimators_], axis=0)"
   ]
  },
  {
   "cell_type": "code",
   "execution_count": 410,
   "metadata": {},
   "outputs": [
    {
     "data": {
      "text/plain": [
       "periode_construction_bad sup    0.000000e+00\n",
       "mur_pos_isol_ext_ITE+ITR        1.012904e-07\n",
       "enr_solaire_photovoltaique      9.936521e-07\n",
       "mur_pos_isol_ext_ITI+ITR        1.988407e-06\n",
       "baie_orientation_horizontale    4.734457e-06\n",
       "                                    ...     \n",
       "valeur_fonciere_ma14            6.681016e-03\n",
       "altitude_sol_mean               7.488875e-03\n",
       "valeur_fonciere_ma30            8.158361e-03\n",
       "valeur_fonciere_ma90            3.482153e-02\n",
       "surface_reelle_bati             8.552902e-01\n",
       "Length: 74, dtype: float64"
      ]
     },
     "execution_count": 410,
     "metadata": {},
     "output_type": "execute_result"
    }
   ],
   "source": [
    "forest_importances = pd.Series(importances, index=features)\\\n",
    "    .sort_values()\n",
    "\n",
    "forest_importances"
   ]
  },
  {
   "cell_type": "code",
   "execution_count": 411,
   "metadata": {},
   "outputs": [
    {
     "data": {
      "text/plain": [
       "0.00041969286215329753"
      ]
     },
     "execution_count": 411,
     "metadata": {},
     "output_type": "execute_result"
    }
   ],
   "source": [
    "avg_importance = forest_importances.mean()\n",
    "med_importance = forest_importances.median()\n",
    "\n",
    "med_importance"
   ]
  },
  {
   "cell_type": "code",
   "execution_count": 412,
   "metadata": {},
   "outputs": [
    {
     "data": {
      "image/png": "[encoded data removed]",
      "text/plain": [
       "<Figure size 864x1008 with 1 Axes>"
      ]
     },
     "metadata": {
      "needs_background": "light"
     },
     "output_type": "display_data"
    }
   ],
   "source": [
    "fig, ax = plt.subplots(figsize=(12, 14))\n",
    "\n",
    "forest_importances.plot.barh(yerr=std, align=\"center\", ax=ax, label=\"MDI\")\n",
    "sns.lineplot(\n",
    "    x=[avg_importance, avg_importance], \n",
    "    y=[-1, len(forest_importances)], \n",
    "    ax=ax, \n",
    "    color=\"red\", \n",
    "    label=\"Mean Importance\")\n",
    "sns.lineplot(\n",
    "    x=[med_importance, med_importance], \n",
    "    y=[-1, len(forest_importances)], \n",
    "    ax=ax, color=\"green\", \n",
    "    label=\"Median Importance\")\n",
    "\n",
    "ax.set_title(\"Variable Importance\")\n",
    "ax.set_xlabel(\"Mean decrease in impurity\")\n",
    "\n",
    "ax.legend(); "
   ]
  },
  {
   "attachments": {},
   "cell_type": "markdown",
   "metadata": {},
   "source": [
    "### Mutual Information using `mutual_info_regression`\n",
    "\n",
    "Mutual information (MI) between two random variables is a non-negative value, which measures the dependency between the variables. It is equal to zero if and only if two random variables are independent, and higher values mean higher dependency. Based on the KL divergence. "
   ]
  },
  {
   "cell_type": "code",
   "execution_count": 55,
   "metadata": {},
   "outputs": [],
   "source": [
    "def get_mutual_info(X: np.ndarray, y: np.ndarray, n_neighbors: int=10) -> pd.Series: \n",
    "    \"\"\"Description. Get mutual information for each feature.\"\"\"\n",
    "\n",
    "    mi = mutual_info_regression(\n",
    "        X, \n",
    "        y, \n",
    "        discrete_features=\"auto\", \n",
    "        n_neighbors=n_neighbors, \n",
    "        copy=True) \n",
    "\n",
    "    mi = pd.Series(mi, index=features).sort_values(ascending=False)\n",
    "    return mi"
   ]
  },
  {
   "cell_type": "code",
   "execution_count": 56,
   "metadata": {},
   "outputs": [],
   "source": [
    "mi = get_mutual_info(X_tr, y_tr)"
   ]
  },
  {
   "cell_type": "code",
   "execution_count": 57,
   "metadata": {},
   "outputs": [],
   "source": [
    "from typing import Union, List\n",
    "\n",
    "def select_important_features_mi(mi_values: Series, thresold: Union[str, float]=\"mean\") -> List: \n",
    "    \"\"\"Description. Select features with MI above thresold.\"\"\"\n",
    "\n",
    "    if thresold == \"mean\": \n",
    "        thresold = mi_values.mean()\n",
    "    elif thresold == \"median\": \n",
    "        thresold = mi_values.median()\n",
    "    elif thresold == \"25%\": \n",
    "        threshold = mi_values.quantile(.25)\n",
    "    elif thresold == \"75%\":\n",
    "        thresold = mi_values.quantile(.75)\n",
    "    elif type(thresold) == float: \n",
    "        thresold = float(thresold)\n",
    "    else: \n",
    "        raise ValueError(\"Thresold not recognized.\")\n",
    "\n",
    "    selected_features = mi_values[mi_values > thresold].index.tolist()\n",
    "\n",
    "    return selected_features"
   ]
  },
  {
   "cell_type": "code",
   "execution_count": 186,
   "metadata": {},
   "outputs": [
    {
     "data": {
      "image/png": "[encoded data removed]",
      "text/plain": [
       "<Figure size 2160x1728 with 4 Axes>"
      ]
     },
     "metadata": {
      "needs_background": "light"
     },
     "output_type": "display_data"
    }
   ],
   "source": [
    "# plot mutual importances\n",
    "fig, axes = plt.subplots(nrows=2, ncols=2, figsize=(30, 24))\n",
    "colors = sns.color_palette(n_colors=3)\n",
    "\n",
    "for strategy, ax, color in zip([\"mean\", \"median\", \"75%\"], axes.flatten(), colors): \n",
    "    selected_features = select_important_features_mi(mi, thresold=strategy)\n",
    "    mi[selected_features].plot.barh(ax=ax, color=color)\n",
    "    ax.set_xlabel(\"Mutual Information\")\n",
    "    ax.set_title(strategy)\n",
    "    \n",
    "axes[-1, -1].axis(\"off\"); "
   ]
  },
  {
   "attachments": {},
   "cell_type": "markdown",
   "metadata": {},
   "source": [
    "### Modèle sur variables sélectionnées"
   ]
  },
  {
   "cell_type": "code",
   "execution_count": 58,
   "metadata": {},
   "outputs": [
    {
     "data": {
      "text/plain": [
       "['l_surface_reelle_bati',\n",
       " 'nombre_pieces_principales_1.0',\n",
       " 'nombre_pieces_principales_3.0',\n",
       " 'nombre_pieces_principales_4.0',\n",
       " 'l_valeur_fonciere_ma90',\n",
       " 'nombre_pieces_principales_5.0',\n",
       " 'l_valeur_fonciere_ma30',\n",
       " 'l_valeur_fonciere_ma14',\n",
       " 'l_valeur_fonciere_ma7',\n",
       " 'l_conso_ener_mean',\n",
       " 'dependance',\n",
       " 'l_conso_ener_max',\n",
       " 'l_estim_ges_max',\n",
       " 'nombre_pieces_principales_6.0',\n",
       " 'l_estim_ges_mean',\n",
       " 'l_conso_ener_min',\n",
       " 'l_hauteur_mean',\n",
       " 'nb_log',\n",
       " 'arrondissement_16']"
      ]
     },
     "execution_count": 58,
     "metadata": {},
     "output_type": "execute_result"
    }
   ],
   "source": [
    "selected_features = select_important_features_mi(mi, thresold=\"75%\")\n",
    "selected_features"
   ]
  },
  {
   "cell_type": "code",
   "execution_count": 218,
   "metadata": {},
   "outputs": [],
   "source": [
    "X_tr2 = get_feature_vector(df_train, features=selected_features, return_df=False)\n",
    "X_te2 = get_feature_vector(df_test, features=selected_features, return_df=False)\n",
    "\n",
    "y_tr = get_target_vector(df_train, target=target, return_series=False)\n",
    "y_te = get_target_vector(df_test, target=target, return_series=False)"
   ]
  },
  {
   "cell_type": "code",
   "execution_count": 59,
   "metadata": {},
   "outputs": [],
   "source": [
    "assert X_tr2.shape[1] == X_te2.shape[1] == len(selected_features)"
   ]
  },
  {
   "attachments": {},
   "cell_type": "markdown",
   "metadata": {},
   "source": [
    "#### `XGBRegressor`"
   ]
  },
  {
   "cell_type": "code",
   "execution_count": 60,
   "metadata": {},
   "outputs": [
    {
     "name": "stdout",
     "output_type": "stream",
     "text": [
      "Help on XGBRegressor in module xgboost.sklearn object:\n",
      "\n",
      "class XGBRegressor(XGBModel, sklearn.base.RegressorMixin)\n",
      " |  XGBRegressor(*, objective: Union[str, Callable[[numpy.ndarray, numpy.ndarray], Tuple[numpy.ndarray, numpy.ndarray]], NoneType] = 'reg:squarederror', **kwargs: Any) -> None\n",
      " |  \n",
      " |  Implementation of the scikit-learn API for XGBoost regression.\n",
      " |  \n",
      " |  \n",
      " |  Parameters\n",
      " |  ----------\n",
      " |  \n",
      " |      n_estimators : int\n",
      " |          Number of gradient boosted trees.  Equivalent to number of boosting\n",
      " |          rounds.\n",
      " |  \n",
      " |      max_depth :  Optional[int]\n",
      " |          Maximum tree depth for base learners.\n",
      " |      max_leaves :\n",
      " |          Maximum number of leaves; 0 indicates no limit.\n",
      " |      max_bin :\n",
      " |          If using histogram-based algorithm, maximum number of bins per feature\n",
      " |      grow_policy :\n",
      " |          Tree growing policy. 0: favor splitting at nodes closest to the node, i.e. grow\n",
      " |          depth-wise. 1: favor splitting at nodes with highest loss change.\n",
      " |      learning_rate : Optional[float]\n",
      " |          Boosting learning rate (xgb's \"eta\")\n",
      " |      verbosity : Optional[int]\n",
      " |          The degree of verbosity. Valid values are 0 (silent) - 3 (debug).\n",
      " |      objective : typing.Union[str, typing.Callable[[numpy.ndarray, numpy.ndarray], typing.Tuple[numpy.ndarray, numpy.ndarray]], NoneType]\n",
      " |          Specify the learning task and the corresponding learning objective or\n",
      " |          a custom objective function to be used (see note below).\n",
      " |      booster: Optional[str]\n",
      " |          Specify which booster to use: gbtree, gblinear or dart.\n",
      " |      tree_method: Optional[str]\n",
      " |          Specify which tree method to use.  Default to auto.  If this parameter is set to\n",
      " |          default, XGBoost will choose the most conservative option available.  It's\n",
      " |          recommended to study this option from the parameters document :doc:`tree method\n",
      " |          </treemethod>`\n",
      " |      n_jobs : Optional[int]\n",
      " |          Number of parallel threads used to run xgboost.  When used with other\n",
      " |          Scikit-Learn algorithms like grid search, you may choose which algorithm to\n",
      " |          parallelize and balance the threads.  Creating thread contention will\n",
      " |          significantly slow down both algorithms.\n",
      " |      gamma : Optional[float]\n",
      " |          (min_split_loss) Minimum loss reduction required to make a further partition on a\n",
      " |          leaf node of the tree.\n",
      " |      min_child_weight : Optional[float]\n",
      " |          Minimum sum of instance weight(hessian) needed in a child.\n",
      " |      max_delta_step : Optional[float]\n",
      " |          Maximum delta step we allow each tree's weight estimation to be.\n",
      " |      subsample : Optional[float]\n",
      " |          Subsample ratio of the training instance.\n",
      " |      sampling_method :\n",
      " |          Sampling method. Used only by `gpu_hist` tree method.\n",
      " |            - `uniform`: select random training instances uniformly.\n",
      " |            - `gradient_based` select random training instances with higher probability when\n",
      " |              the gradient and hessian are larger. (cf. CatBoost)\n",
      " |      colsample_bytree : Optional[float]\n",
      " |          Subsample ratio of columns when constructing each tree.\n",
      " |      colsample_bylevel : Optional[float]\n",
      " |          Subsample ratio of columns for each level.\n",
      " |      colsample_bynode : Optional[float]\n",
      " |          Subsample ratio of columns for each split.\n",
      " |      reg_alpha : Optional[float]\n",
      " |          L1 regularization term on weights (xgb's alpha).\n",
      " |      reg_lambda : Optional[float]\n",
      " |          L2 regularization term on weights (xgb's lambda).\n",
      " |      scale_pos_weight : Optional[float]\n",
      " |          Balancing of positive and negative weights.\n",
      " |      base_score : Optional[float]\n",
      " |          The initial prediction score of all instances, global bias.\n",
      " |      random_state : Optional[Union[numpy.random.RandomState, int]]\n",
      " |          Random number seed.\n",
      " |  \n",
      " |          .. note::\n",
      " |  \n",
      " |             Using gblinear booster with shotgun updater is nondeterministic as\n",
      " |             it uses Hogwild algorithm.\n",
      " |  \n",
      " |      missing : float, default np.nan\n",
      " |          Value in the data which needs to be present as a missing value.\n",
      " |      num_parallel_tree: Optional[int]\n",
      " |          Used for boosting random forest.\n",
      " |      monotone_constraints : Optional[Union[Dict[str, int], str]]\n",
      " |          Constraint of variable monotonicity.  See :doc:`tutorial </tutorials/monotonic>`\n",
      " |          for more information.\n",
      " |      interaction_constraints : Optional[Union[str, List[Tuple[str]]]]\n",
      " |          Constraints for interaction representing permitted interactions.  The\n",
      " |          constraints must be specified in the form of a nested list, e.g. ``[[0, 1], [2,\n",
      " |          3, 4]]``, where each inner list is a group of indices of features that are\n",
      " |          allowed to interact with each other.  See :doc:`tutorial\n",
      " |          </tutorials/feature_interaction_constraint>` for more information\n",
      " |      importance_type: Optional[str]\n",
      " |          The feature importance type for the feature_importances\\_ property:\n",
      " |  \n",
      " |          * For tree model, it's either \"gain\", \"weight\", \"cover\", \"total_gain\" or\n",
      " |            \"total_cover\".\n",
      " |          * For linear model, only \"weight\" is defined and it's the normalized coefficients\n",
      " |            without bias.\n",
      " |  \n",
      " |      gpu_id : Optional[int]\n",
      " |          Device ordinal.\n",
      " |      validate_parameters : Optional[bool]\n",
      " |          Give warnings for unknown parameter.\n",
      " |      predictor : Optional[str]\n",
      " |          Force XGBoost to use specific predictor, available choices are [cpu_predictor,\n",
      " |          gpu_predictor].\n",
      " |      enable_categorical : bool\n",
      " |  \n",
      " |          .. versionadded:: 1.5.0\n",
      " |  \n",
      " |          .. note:: This parameter is experimental\n",
      " |  \n",
      " |          Experimental support for categorical data.  When enabled, cudf/pandas.DataFrame\n",
      " |          should be used to specify categorical data type.  Also, JSON/UBJSON\n",
      " |          serialization format is required.\n",
      " |  \n",
      " |      feature_types : FeatureTypes\n",
      " |  \n",
      " |          .. versionadded:: 1.7.0\n",
      " |  \n",
      " |          Used for specifying feature types without constructing a dataframe. See\n",
      " |          :py:class:`DMatrix` for details.\n",
      " |  \n",
      " |      max_cat_to_onehot : Optional[int]\n",
      " |  \n",
      " |          .. versionadded:: 1.6.0\n",
      " |  \n",
      " |          .. note:: This parameter is experimental\n",
      " |  \n",
      " |          A threshold for deciding whether XGBoost should use one-hot encoding based split\n",
      " |          for categorical data.  When number of categories is lesser than the threshold\n",
      " |          then one-hot encoding is chosen, otherwise the categories will be partitioned\n",
      " |          into children nodes. Also, `enable_categorical` needs to be set to have\n",
      " |          categorical feature support. See :doc:`Categorical Data\n",
      " |          </tutorials/categorical>` and :ref:`cat-param` for details.\n",
      " |  \n",
      " |      max_cat_threshold : Optional[int]\n",
      " |  \n",
      " |          .. versionadded:: 1.7.0\n",
      " |  \n",
      " |          .. note:: This parameter is experimental\n",
      " |  \n",
      " |          Maximum number of categories considered for each split. Used only by\n",
      " |          partition-based splits for preventing over-fitting. Also, `enable_categorical`\n",
      " |          needs to be set to have categorical feature support. See :doc:`Categorical Data\n",
      " |          </tutorials/categorical>` and :ref:`cat-param` for details.\n",
      " |  \n",
      " |      eval_metric : Optional[Union[str, List[str], Callable]]\n",
      " |  \n",
      " |          .. versionadded:: 1.6.0\n",
      " |  \n",
      " |          Metric used for monitoring the training result and early stopping.  It can be a\n",
      " |          string or list of strings as names of predefined metric in XGBoost (See\n",
      " |          doc/parameter.rst), one of the metrics in :py:mod:`sklearn.metrics`, or any other\n",
      " |          user defined metric that looks like `sklearn.metrics`.\n",
      " |  \n",
      " |          If custom objective is also provided, then custom metric should implement the\n",
      " |          corresponding reverse link function.\n",
      " |  \n",
      " |          Unlike the `scoring` parameter commonly used in scikit-learn, when a callable\n",
      " |          object is provided, it's assumed to be a cost function and by default XGBoost will\n",
      " |          minimize the result during early stopping.\n",
      " |  \n",
      " |          For advanced usage on Early stopping like directly choosing to maximize instead of\n",
      " |          minimize, see :py:obj:`xgboost.callback.EarlyStopping`.\n",
      " |  \n",
      " |          See :doc:`Custom Objective and Evaluation Metric </tutorials/custom_metric_obj>`\n",
      " |          for more.\n",
      " |  \n",
      " |          .. note::\n",
      " |  \n",
      " |               This parameter replaces `eval_metric` in :py:meth:`fit` method.  The old one\n",
      " |               receives un-transformed prediction regardless of whether custom objective is\n",
      " |               being used.\n",
      " |  \n",
      " |          .. code-block:: python\n",
      " |  \n",
      " |              from sklearn.datasets import load_diabetes\n",
      " |              from sklearn.metrics import mean_absolute_error\n",
      " |              X, y = load_diabetes(return_X_y=True)\n",
      " |              reg = xgb.XGBRegressor(\n",
      " |                  tree_method=\"hist\",\n",
      " |                  eval_metric=mean_absolute_error,\n",
      " |              )\n",
      " |              reg.fit(X, y, eval_set=[(X, y)])\n",
      " |  \n",
      " |      early_stopping_rounds : Optional[int]\n",
      " |  \n",
      " |          .. versionadded:: 1.6.0\n",
      " |  \n",
      " |          Activates early stopping. Validation metric needs to improve at least once in\n",
      " |          every **early_stopping_rounds** round(s) to continue training.  Requires at least\n",
      " |          one item in **eval_set** in :py:meth:`fit`.\n",
      " |  \n",
      " |          The method returns the model from the last iteration (not the best one).  If\n",
      " |          there's more than one item in **eval_set**, the last entry will be used for early\n",
      " |          stopping.  If there's more than one metric in **eval_metric**, the last metric\n",
      " |          will be used for early stopping.\n",
      " |  \n",
      " |          If early stopping occurs, the model will have three additional fields:\n",
      " |          :py:attr:`best_score`, :py:attr:`best_iteration` and\n",
      " |          :py:attr:`best_ntree_limit`.\n",
      " |  \n",
      " |          .. note::\n",
      " |  \n",
      " |              This parameter replaces `early_stopping_rounds` in :py:meth:`fit` method.\n",
      " |  \n",
      " |      callbacks : Optional[List[TrainingCallback]]\n",
      " |          List of callback functions that are applied at end of each iteration.\n",
      " |          It is possible to use predefined callbacks by using\n",
      " |          :ref:`Callback API <callback_api>`.\n",
      " |  \n",
      " |          .. note::\n",
      " |  \n",
      " |             States in callback are not preserved during training, which means callback\n",
      " |             objects can not be reused for multiple training sessions without\n",
      " |             reinitialization or deepcopy.\n",
      " |  \n",
      " |          .. code-block:: python\n",
      " |  \n",
      " |              for params in parameters_grid:\n",
      " |                  # be sure to (re)initialize the callbacks before each run\n",
      " |                  callbacks = [xgb.callback.LearningRateScheduler(custom_rates)]\n",
      " |                  xgboost.train(params, Xy, callbacks=callbacks)\n",
      " |  \n",
      " |      kwargs : dict, optional\n",
      " |          Keyword arguments for XGBoost Booster object.  Full documentation of parameters\n",
      " |          can be found :doc:`here </parameter>`.\n",
      " |          Attempting to set a parameter via the constructor args and \\*\\*kwargs\n",
      " |          dict simultaneously will result in a TypeError.\n",
      " |  \n",
      " |          .. note:: \\*\\*kwargs unsupported by scikit-learn\n",
      " |  \n",
      " |              \\*\\*kwargs is unsupported by scikit-learn.  We do not guarantee\n",
      " |              that parameters passed via this argument will interact properly\n",
      " |              with scikit-learn.\n",
      " |  \n",
      " |          .. note::  Custom objective function\n",
      " |  \n",
      " |              A custom objective function can be provided for the ``objective``\n",
      " |              parameter. In this case, it should have the signature\n",
      " |              ``objective(y_true, y_pred) -> grad, hess``:\n",
      " |  \n",
      " |              y_true: array_like of shape [n_samples]\n",
      " |                  The target values\n",
      " |              y_pred: array_like of shape [n_samples]\n",
      " |                  The predicted values\n",
      " |  \n",
      " |              grad: array_like of shape [n_samples]\n",
      " |                  The value of the gradient for each sample point.\n",
      " |              hess: array_like of shape [n_samples]\n",
      " |                  The value of the second derivative for each sample point\n",
      " |  \n",
      " |  Method resolution order:\n",
      " |      XGBRegressor\n",
      " |      XGBModel\n",
      " |      sklearn.base.BaseEstimator\n",
      " |      sklearn.base.RegressorMixin\n",
      " |      builtins.object\n",
      " |  \n",
      " |  Methods defined here:\n",
      " |  \n",
      " |  __init__(self, *, objective: Union[str, Callable[[numpy.ndarray, numpy.ndarray], Tuple[numpy.ndarray, numpy.ndarray]], NoneType] = 'reg:squarederror', **kwargs: Any) -> None\n",
      " |      Initialize self.  See help(type(self)) for accurate signature.\n",
      " |  \n",
      " |  ----------------------------------------------------------------------\n",
      " |  Methods inherited from XGBModel:\n",
      " |  \n",
      " |  __sklearn_is_fitted__(self) -> bool\n",
      " |  \n",
      " |  apply(self, X: Any, ntree_limit: int = 0, iteration_range: Optional[Tuple[int, int]] = None) -> numpy.ndarray\n",
      " |      Return the predicted leaf every tree for each sample. If the model is trained with\n",
      " |      early stopping, then `best_iteration` is used automatically.\n",
      " |      \n",
      " |      Parameters\n",
      " |      ----------\n",
      " |      X : array_like, shape=[n_samples, n_features]\n",
      " |          Input features matrix.\n",
      " |      \n",
      " |      iteration_range :\n",
      " |          See :py:meth:`predict`.\n",
      " |      \n",
      " |      ntree_limit :\n",
      " |          Deprecated, use ``iteration_range`` instead.\n",
      " |      \n",
      " |      Returns\n",
      " |      -------\n",
      " |      X_leaves : array_like, shape=[n_samples, n_trees]\n",
      " |          For each datapoint x in X and for each tree, return the index of the\n",
      " |          leaf x ends up in. Leaves are numbered within\n",
      " |          ``[0; 2**(self.max_depth+1))``, possibly with gaps in the numbering.\n",
      " |  \n",
      " |  evals_result(self) -> Dict[str, Dict[str, List[float]]]\n",
      " |      Return the evaluation results.\n",
      " |      \n",
      " |      If **eval_set** is passed to the :py:meth:`fit` function, you can call\n",
      " |      ``evals_result()`` to get evaluation results for all passed **eval_sets**.  When\n",
      " |      **eval_metric** is also passed to the :py:meth:`fit` function, the\n",
      " |      **evals_result** will contain the **eval_metrics** passed to the :py:meth:`fit`\n",
      " |      function.\n",
      " |      \n",
      " |      The returned evaluation result is a dictionary:\n",
      " |      \n",
      " |      .. code-block:: python\n",
      " |      \n",
      " |          {'validation_0': {'logloss': ['0.604835', '0.531479']},\n",
      " |           'validation_1': {'logloss': ['0.41965', '0.17686']}}\n",
      " |      \n",
      " |      Returns\n",
      " |      -------\n",
      " |      evals_result\n",
      " |  \n",
      " |  fit(self, X: Any, y: Any, *, sample_weight: Optional[Any] = None, base_margin: Optional[Any] = None, eval_set: Optional[Sequence[Tuple[Any, Any]]] = None, eval_metric: Union[str, Sequence[str], Callable[[numpy.ndarray, xgboost.core.DMatrix], Tuple[str, float]], NoneType] = None, early_stopping_rounds: Optional[int] = None, verbose: Union[bool, int, NoneType] = True, xgb_model: Union[xgboost.core.Booster, ForwardRef('XGBModel'), str, NoneType] = None, sample_weight_eval_set: Optional[Sequence[Any]] = None, base_margin_eval_set: Optional[Sequence[Any]] = None, feature_weights: Optional[Any] = None, callbacks: Optional[Sequence[xgboost.callback.TrainingCallback]] = None) -> 'XGBModel'\n",
      " |      Fit gradient boosting model.\n",
      " |      \n",
      " |      Note that calling ``fit()`` multiple times will cause the model object to be\n",
      " |      re-fit from scratch. To resume training from a previous checkpoint, explicitly\n",
      " |      pass ``xgb_model`` argument.\n",
      " |      \n",
      " |      Parameters\n",
      " |      ----------\n",
      " |      X :\n",
      " |          Feature matrix\n",
      " |      y :\n",
      " |          Labels\n",
      " |      sample_weight :\n",
      " |          instance weights\n",
      " |      base_margin :\n",
      " |          global bias for each instance.\n",
      " |      eval_set :\n",
      " |          A list of (X, y) tuple pairs to use as validation sets, for which\n",
      " |          metrics will be computed.\n",
      " |          Validation metrics will help us track the performance of the model.\n",
      " |      \n",
      " |      eval_metric : str, list of str, or callable, optional\n",
      " |          .. deprecated:: 1.6.0\n",
      " |              Use `eval_metric` in :py:meth:`__init__` or :py:meth:`set_params` instead.\n",
      " |      \n",
      " |      early_stopping_rounds : int\n",
      " |          .. deprecated:: 1.6.0\n",
      " |              Use `early_stopping_rounds` in :py:meth:`__init__` or\n",
      " |              :py:meth:`set_params` instead.\n",
      " |      verbose :\n",
      " |          If `verbose` is True and an evaluation set is used, the evaluation metric\n",
      " |          measured on the validation set is printed to stdout at each boosting stage.\n",
      " |          If `verbose` is an integer, the evaluation metric is printed at each `verbose`\n",
      " |          boosting stage. The last boosting stage / the boosting stage found by using\n",
      " |          `early_stopping_rounds` is also printed.\n",
      " |      xgb_model :\n",
      " |          file name of stored XGBoost model or 'Booster' instance XGBoost model to be\n",
      " |          loaded before training (allows training continuation).\n",
      " |      sample_weight_eval_set :\n",
      " |          A list of the form [L_1, L_2, ..., L_n], where each L_i is an array like\n",
      " |          object storing instance weights for the i-th validation set.\n",
      " |      base_margin_eval_set :\n",
      " |          A list of the form [M_1, M_2, ..., M_n], where each M_i is an array like\n",
      " |          object storing base margin for the i-th validation set.\n",
      " |      feature_weights :\n",
      " |          Weight for each feature, defines the probability of each feature being\n",
      " |          selected when colsample is being used.  All values must be greater than 0,\n",
      " |          otherwise a `ValueError` is thrown.\n",
      " |      \n",
      " |      callbacks :\n",
      " |          .. deprecated:: 1.6.0\n",
      " |              Use `callbacks` in :py:meth:`__init__` or :py:meth:`set_params` instead.\n",
      " |  \n",
      " |  get_booster(self) -> xgboost.core.Booster\n",
      " |      Get the underlying xgboost Booster of this model.\n",
      " |      \n",
      " |      This will raise an exception when fit was not called\n",
      " |      \n",
      " |      Returns\n",
      " |      -------\n",
      " |      booster : a xgboost booster of underlying model\n",
      " |  \n",
      " |  get_num_boosting_rounds(self) -> int\n",
      " |      Gets the number of xgboost boosting rounds.\n",
      " |  \n",
      " |  get_params(self, deep: bool = True) -> Dict[str, Any]\n",
      " |      Get parameters.\n",
      " |  \n",
      " |  get_xgb_params(self) -> Dict[str, Any]\n",
      " |      Get xgboost specific parameters.\n",
      " |  \n",
      " |  load_model(self, fname: Union[str, bytearray, os.PathLike]) -> None\n",
      " |      Load the model from a file or bytearray. Path to file can be local\n",
      " |      or as an URI.\n",
      " |      \n",
      " |      The model is loaded from XGBoost format which is universal among the various\n",
      " |      XGBoost interfaces. Auxiliary attributes of the Python Booster object (such as\n",
      " |      feature_names) will not be loaded when using binary format.  To save those\n",
      " |      attributes, use JSON/UBJ instead.  See :doc:`Model IO </tutorials/saving_model>`\n",
      " |      for more info.\n",
      " |      \n",
      " |      .. code-block:: python\n",
      " |      \n",
      " |        model.load_model(\"model.json\")\n",
      " |        # or\n",
      " |        model.load_model(\"model.ubj\")\n",
      " |      \n",
      " |      Parameters\n",
      " |      ----------\n",
      " |      fname :\n",
      " |          Input file name or memory buffer(see also save_raw)\n",
      " |  \n",
      " |  predict(self, X: Any, output_margin: bool = False, ntree_limit: Optional[int] = None, validate_features: bool = True, base_margin: Optional[Any] = None, iteration_range: Optional[Tuple[int, int]] = None) -> numpy.ndarray\n",
      " |      Predict with `X`.  If the model is trained with early stopping, then `best_iteration`\n",
      " |      is used automatically.  For tree models, when data is on GPU, like cupy array or\n",
      " |      cuDF dataframe and `predictor` is not specified, the prediction is run on GPU\n",
      " |      automatically, otherwise it will run on CPU.\n",
      " |      \n",
      " |      .. note:: This function is only thread safe for `gbtree` and `dart`.\n",
      " |      \n",
      " |      Parameters\n",
      " |      ----------\n",
      " |      X :\n",
      " |          Data to predict with.\n",
      " |      output_margin :\n",
      " |          Whether to output the raw untransformed margin value.\n",
      " |      ntree_limit :\n",
      " |          Deprecated, use `iteration_range` instead.\n",
      " |      validate_features :\n",
      " |          When this is True, validate that the Booster's and data's feature_names are\n",
      " |          identical.  Otherwise, it is assumed that the feature_names are the same.\n",
      " |      base_margin :\n",
      " |          Margin added to prediction.\n",
      " |      iteration_range :\n",
      " |          Specifies which layer of trees are used in prediction.  For example, if a\n",
      " |          random forest is trained with 100 rounds.  Specifying ``iteration_range=(10,\n",
      " |          20)``, then only the forests built during [10, 20) (half open set) rounds\n",
      " |          are used in this prediction.\n",
      " |      \n",
      " |          .. versionadded:: 1.4.0\n",
      " |      \n",
      " |      Returns\n",
      " |      -------\n",
      " |      prediction\n",
      " |  \n",
      " |  save_model(self, fname: Union[str, os.PathLike]) -> None\n",
      " |      Save the model to a file.\n",
      " |      \n",
      " |      The model is saved in an XGBoost internal format which is universal among the\n",
      " |      various XGBoost interfaces. Auxiliary attributes of the Python Booster object\n",
      " |      (such as feature_names) will not be saved when using binary format.  To save\n",
      " |      those attributes, use JSON/UBJ instead. See :doc:`Model IO\n",
      " |      </tutorials/saving_model>` for more info.\n",
      " |      \n",
      " |      .. code-block:: python\n",
      " |      \n",
      " |        model.save_model(\"model.json\")\n",
      " |        # or\n",
      " |        model.save_model(\"model.ubj\")\n",
      " |      \n",
      " |      Parameters\n",
      " |      ----------\n",
      " |      fname : string or os.PathLike\n",
      " |          Output file name\n",
      " |  \n",
      " |  set_params(self, **params: Any) -> 'XGBModel'\n",
      " |      Set the parameters of this estimator.  Modification of the sklearn method to\n",
      " |      allow unknown kwargs. This allows using the full range of xgboost\n",
      " |      parameters that are not defined as member variables in sklearn grid\n",
      " |      search.\n",
      " |      \n",
      " |      Returns\n",
      " |      -------\n",
      " |      self\n",
      " |  \n",
      " |  ----------------------------------------------------------------------\n",
      " |  Readonly properties inherited from XGBModel:\n",
      " |  \n",
      " |  best_iteration\n",
      " |      The best iteration obtained by early stopping.  This attribute is 0-based,\n",
      " |      for instance if the best iteration is the first round, then best_iteration is 0.\n",
      " |  \n",
      " |  best_ntree_limit\n",
      " |  \n",
      " |  best_score\n",
      " |      The best score obtained by early stopping.\n",
      " |  \n",
      " |  coef_\n",
      " |      Coefficients property\n",
      " |      \n",
      " |      .. note:: Coefficients are defined only for linear learners\n",
      " |      \n",
      " |          Coefficients are only defined when the linear model is chosen as\n",
      " |          base learner (`booster=gblinear`). It is not defined for other base\n",
      " |          learner types, such as tree learners (`booster=gbtree`).\n",
      " |      \n",
      " |      Returns\n",
      " |      -------\n",
      " |      coef_ : array of shape ``[n_features]`` or ``[n_classes, n_features]``\n",
      " |  \n",
      " |  feature_importances_\n",
      " |      Feature importances property, return depends on `importance_type`\n",
      " |      parameter. When model trained with multi-class/multi-label/multi-target dataset,\n",
      " |      the feature importance is \"averaged\" over all targets. The \"average\" is defined\n",
      " |      based on the importance type. For instance, if the importance type is\n",
      " |      \"total_gain\", then the score is sum of loss change for each split from all\n",
      " |      trees.\n",
      " |      \n",
      " |      Returns\n",
      " |      -------\n",
      " |      feature_importances_ : array of shape ``[n_features]`` except for multi-class\n",
      " |      linear model, which returns an array with shape `(n_features, n_classes)`\n",
      " |  \n",
      " |  feature_names_in_\n",
      " |      Names of features seen during :py:meth:`fit`.  Defined only when `X` has feature\n",
      " |      names that are all strings.\n",
      " |  \n",
      " |  intercept_\n",
      " |      Intercept (bias) property\n",
      " |      \n",
      " |      .. note:: Intercept is defined only for linear learners\n",
      " |      \n",
      " |          Intercept (bias) is only defined when the linear model is chosen as base\n",
      " |          learner (`booster=gblinear`). It is not defined for other base learner types,\n",
      " |          such as tree learners (`booster=gbtree`).\n",
      " |      \n",
      " |      Returns\n",
      " |      -------\n",
      " |      intercept_ : array of shape ``(1,)`` or ``[n_classes]``\n",
      " |  \n",
      " |  n_features_in_\n",
      " |      Number of features seen during :py:meth:`fit`.\n",
      " |  \n",
      " |  ----------------------------------------------------------------------\n",
      " |  Methods inherited from sklearn.base.BaseEstimator:\n",
      " |  \n",
      " |  __getstate__(self)\n",
      " |  \n",
      " |  __repr__(self, N_CHAR_MAX=700)\n",
      " |      Return repr(self).\n",
      " |  \n",
      " |  __setstate__(self, state)\n",
      " |  \n",
      " |  ----------------------------------------------------------------------\n",
      " |  Data descriptors inherited from sklearn.base.BaseEstimator:\n",
      " |  \n",
      " |  __dict__\n",
      " |      dictionary for instance variables (if defined)\n",
      " |  \n",
      " |  __weakref__\n",
      " |      list of weak references to the object (if defined)\n",
      " |  \n",
      " |  ----------------------------------------------------------------------\n",
      " |  Methods inherited from sklearn.base.RegressorMixin:\n",
      " |  \n",
      " |  score(self, X, y, sample_weight=None)\n",
      " |      Return the coefficient of determination of the prediction.\n",
      " |      \n",
      " |      The coefficient of determination :math:`R^2` is defined as\n",
      " |      :math:`(1 - \\frac{u}{v})`, where :math:`u` is the residual\n",
      " |      sum of squares ``((y_true - y_pred)** 2).sum()`` and :math:`v`\n",
      " |      is the total sum of squares ``((y_true - y_true.mean()) ** 2).sum()``.\n",
      " |      The best possible score is 1.0 and it can be negative (because the\n",
      " |      model can be arbitrarily worse). A constant model that always predicts\n",
      " |      the expected value of `y`, disregarding the input features, would get\n",
      " |      a :math:`R^2` score of 0.0.\n",
      " |      \n",
      " |      Parameters\n",
      " |      ----------\n",
      " |      X : array-like of shape (n_samples, n_features)\n",
      " |          Test samples. For some estimators this may be a precomputed\n",
      " |          kernel matrix or a list of generic objects instead with shape\n",
      " |          ``(n_samples, n_samples_fitted)``, where ``n_samples_fitted``\n",
      " |          is the number of samples used in the fitting for the estimator.\n",
      " |      \n",
      " |      y : array-like of shape (n_samples,) or (n_samples, n_outputs)\n",
      " |          True values for `X`.\n",
      " |      \n",
      " |      sample_weight : array-like of shape (n_samples,), default=None\n",
      " |          Sample weights.\n",
      " |      \n",
      " |      Returns\n",
      " |      -------\n",
      " |      score : float\n",
      " |          :math:`R^2` of ``self.predict(X)`` wrt. `y`.\n",
      " |      \n",
      " |      Notes\n",
      " |      -----\n",
      " |      The :math:`R^2` score used when calling ``score`` on a regressor uses\n",
      " |      ``multioutput='uniform_average'`` from version 0.23 to keep consistent\n",
      " |      with default value of :func:`~sklearn.metrics.r2_score`.\n",
      " |      This influences the ``score`` method of all the multioutput\n",
      " |      regressors (except for\n",
      " |      :class:`~sklearn.multioutput.MultiOutputRegressor`).\n",
      "\n"
     ]
    }
   ],
   "source": [
    "xgb = XGBRegressor()\n",
    "\n",
    "help(xgb)"
   ]
  },
  {
   "cell_type": "code",
   "execution_count": 61,
   "metadata": {},
   "outputs": [
    {
     "data": {
      "text/plain": [
       "XGBRegressor(base_score=0.5, booster='gbtree', callbacks=None,\n",
       "             colsample_bylevel=1, colsample_bynode=1, colsample_bytree=1,\n",
       "             early_stopping_rounds=None, enable_categorical=False,\n",
       "             eval_metric=None, feature_types=None, gamma=0, gpu_id=-1,\n",
       "             grow_policy='depthwise', importance_type=None,\n",
       "             interaction_constraints='', learning_rate=0.300000012, max_bin=256,\n",
       "             max_cat_threshold=64, max_cat_to_onehot=4, max_delta_step=0,\n",
       "             max_depth=6, max_leaves=0, min_child_weight=1, missing=nan,\n",
       "             monotone_constraints='()', n_estimators=100, n_jobs=0,\n",
       "             num_parallel_tree=1, predictor='auto', random_state=0, ...)"
      ]
     },
     "execution_count": 61,
     "metadata": {},
     "output_type": "execute_result"
    }
   ],
   "source": [
    "xgb.fit(X_tr2, y_tr)"
   ]
  },
  {
   "cell_type": "code",
   "execution_count": 62,
   "metadata": {},
   "outputs": [],
   "source": [
    "pred_tr = xgb.predict(X_tr2)\n",
    "pred_te = xgb.predict(X_te2)"
   ]
  },
  {
   "cell_type": "code",
   "execution_count": 65,
   "metadata": {},
   "outputs": [
    {
     "name": "stdout",
     "output_type": "stream",
     "text": [
      "Using log target variable\n",
      "\tXGB MAPE train: 1.08%\n",
      "\tXGB MAPE test: 1.16%\n",
      "Using target variable\n",
      "\tXGB MAPE train: 14.27%\n",
      "\tXGB MAPE test: 15.5%\n"
     ]
    }
   ],
   "source": [
    "mape_tr = mean_absolute_percentage_error(y_tr, pred_tr)\n",
    "mape_te = mean_absolute_percentage_error(y_te, pred_te)\n",
    "\n",
    "print(\"Using log target variable\")\n",
    "print(f\"\\tXGB MAPE train: {round(100 * mape_tr, 2)}%\")\n",
    "print(f\"\\tXGB MAPE test: {round(100 * mape_te, 2)}%\")\n",
    "\n",
    "mape_tr = mean_absolute_percentage_error(get_price(y_tr), get_price(pred_tr)) \n",
    "mape_te = mean_absolute_percentage_error(get_price(y_te), get_price(pred_te)) \n",
    "\n",
    "print(\"Using target variable\")\n",
    "print(f\"\\tXGB MAPE train: {round(100 * mape_tr, 2)}%\")\n",
    "print(f\"\\tXGB MAPE test: {round(100 * mape_te, 2)}%\")"
   ]
  },
  {
   "cell_type": "code",
   "execution_count": 66,
   "metadata": {},
   "outputs": [
    {
     "data": {
      "image/png": "[encoded data removed]",
      "text/plain": [
       "<Figure size 1440x504 with 2 Axes>"
      ]
     },
     "metadata": {
      "needs_background": "light"
     },
     "output_type": "display_data"
    }
   ],
   "source": [
    "# make seaborn scatter plot of actual vs predicted with and without logarithm\n",
    "fig, axes = plt.subplots(nrows=1, ncols=2, figsize=(20, 7))\n",
    "\n",
    "tmp = pd.DataFrame(data={\n",
    "    \"l_y\": y_te, \n",
    "    \"l_pred\": pred_te, \n",
    "    \"y\": get_price(y_te), \n",
    "    \"pred\": get_price(pred_te)\n",
    "})\n",
    "\n",
    "colors = sns.color_palette(n_colors=2)\n",
    "\n",
    "for ax, target, pred, color in zip(axes.flatten(), (\"l_y\", \"y\"), (\"l_pred\", \"pred\"), colors): \n",
    "    sns.scatterplot(data=tmp, x=target, y=pred, color=color, ax=ax, label=target)\n",
    "\n",
    "    min_x = tmp[target].min()\n",
    "    max_x = tmp[target].max()\n",
    "\n",
    "    sns.lineplot(\n",
    "        x=[min_x, max_x], \n",
    "        y=[min_x, max_x], \n",
    "        label=r\"$y=x$\", \n",
    "        color=\"black\", \n",
    "        linestyle=\"dotted\", \n",
    "        ax=ax)\n",
    "\n",
    "    ax.legend()\n",
    "\n",
    "    mape = mean_absolute_percentage_error(tmp[target], tmp[pred])\n",
    "    ax.set_title(f\"MAPE={round(100 * mape, 4)}%\")\n",
    "    \n",
    "del tmp; "
   ]
  },
  {
   "attachments": {},
   "cell_type": "markdown",
   "metadata": {},
   "source": [
    "#### `RandomForestRegressor`"
   ]
  },
  {
   "cell_type": "code",
   "execution_count": 67,
   "metadata": {},
   "outputs": [],
   "source": [
    "rf = RandomForestRegressor()"
   ]
  },
  {
   "cell_type": "code",
   "execution_count": 68,
   "metadata": {},
   "outputs": [
    {
     "data": {
      "text/plain": [
       "RandomForestRegressor()"
      ]
     },
     "execution_count": 68,
     "metadata": {},
     "output_type": "execute_result"
    }
   ],
   "source": [
    "rf.fit(X_tr2, y_tr)"
   ]
  },
  {
   "cell_type": "code",
   "execution_count": 69,
   "metadata": {},
   "outputs": [],
   "source": [
    "pred_tr = rf.predict(X_tr2)\n",
    "pred_te = rf.predict(X_te2)"
   ]
  },
  {
   "cell_type": "code",
   "execution_count": 74,
   "metadata": {},
   "outputs": [],
   "source": [
    "pred_prices_tr = get_price(pred_tr)\n",
    "pred_prices_te = get_price(pred_te)\n",
    "\n",
    "prices_tr = get_price(y_tr)\n",
    "prices_te = get_price(y_te)"
   ]
  },
  {
   "cell_type": "code",
   "execution_count": 75,
   "metadata": {},
   "outputs": [
    {
     "name": "stdout",
     "output_type": "stream",
     "text": [
      "Using log target variable\n",
      "\tXGB MAPE train: 0.45%\n",
      "\tXGB MAPE test: 1.19%\n",
      "Using target variable\n",
      "\tXGB MAPE train: 5.89%\n",
      "\tXGB MAPE test: 15.65%\n"
     ]
    }
   ],
   "source": [
    "mape_tr = mean_absolute_percentage_error(y_tr, pred_tr)\n",
    "mape_te = mean_absolute_percentage_error(y_te, pred_te)\n",
    "\n",
    "print(\"Using log target variable\")\n",
    "print(f\"\\tXGB MAPE train: {round(100 * mape_tr, 2)}%\")\n",
    "print(f\"\\tXGB MAPE test: {round(100 * mape_te, 2)}%\")\n",
    "\n",
    "mape_tr = mean_absolute_percentage_error(prices_tr, pred_prices_tr) \n",
    "mape_te = mean_absolute_percentage_error(prices_te, pred_prices_te) \n",
    "\n",
    "print(\"Using target variable\")\n",
    "print(f\"\\tXGB MAPE train: {round(100 * mape_tr, 2)}%\")\n",
    "print(f\"\\tXGB MAPE test: {round(100 * mape_te, 2)}%\")"
   ]
  },
  {
   "cell_type": "code",
   "execution_count": 108,
   "metadata": {},
   "outputs": [
    {
     "data": {
      "image/png": "[encoded data removed]",
      "text/plain": [
       "<Figure size 1728x576 with 2 Axes>"
      ]
     },
     "metadata": {
      "needs_background": "light"
     },
     "output_type": "display_data"
    }
   ],
   "source": [
    "tmp = pd.DataFrame(data={\n",
    "    \"obs\": prices_te,\n",
    "    \"pred\": pred_prices_te\n",
    "})\n",
    "\n",
    "colors = sns.color_palette(n_colors=2)\n",
    "thresold = 1e6\n",
    "\n",
    "fig, axes = plt.subplots(ncols=2, figsize=(24, 8))\n",
    "fig.suptitle(\"Distribution des prix prédits et observés pour RandomForestRegressor\")\n",
    "\n",
    "for sign, ax in zip([\"<\", \">=\"], axes.flatten()): \n",
    "\n",
    "    if sign == \"<\":\n",
    "        tmp2 = tmp.loc[lambda x: x[\"obs\"] < thresold]\n",
    "    else:\n",
    "        tmp2 = tmp.loc[lambda x: x[\"obs\"] >= thresold]\n",
    "\n",
    "    for color, var in zip(colors, (\"obs\", \"pred\")): \n",
    "        sns.histplot(\n",
    "            data=tmp2, \n",
    "            x=var, \n",
    "            ax=ax, \n",
    "            label=var, \n",
    "            color=color, \n",
    "            alpha=.5)\n",
    "        \n",
    "    ax.legend()\n",
    "    ax.set_xlabel(\"Prix\")\n",
    "    ax.set_ylabel(\"Effectif\")\n",
    "    ax.set_title(f\"Prix observé {sign} {thresold:,.0f} (n={tmp2.shape[0]:,})\")\n",
    "\n",
    "    ax.get_xaxis().set_major_formatter(\n",
    "        FuncFormatter(lambda x, p: format(int(x), \",\"))\n",
    "    ); "
   ]
  },
  {
   "cell_type": "code",
   "execution_count": 71,
   "metadata": {},
   "outputs": [
    {
     "data": {
      "text/plain": [
       "nombre_pieces_principales_6.0    0.000062\n",
       "nombre_pieces_principales_5.0    0.000174\n",
       "nombre_pieces_principales_4.0    0.000342\n",
       "nombre_pieces_principales_3.0    0.000935\n",
       "dependance                       0.000997\n",
       "nombre_pieces_principales_1.0    0.001007\n",
       "arrondissement_16                0.001701\n",
       "l_estim_ges_max                  0.007134\n",
       "l_hauteur_mean                   0.007385\n",
       "l_conso_ener_mean                0.007628\n",
       "l_estim_ges_mean                 0.007710\n",
       "l_conso_ener_max                 0.008104\n",
       "l_conso_ener_min                 0.008567\n",
       "l_valeur_fonciere_ma14           0.008892\n",
       "l_valeur_fonciere_ma7            0.009309\n",
       "l_valeur_fonciere_ma30           0.010240\n",
       "nb_log                           0.010318\n",
       "l_valeur_fonciere_ma90           0.034271\n",
       "l_surface_reelle_bati            0.875223\n",
       "dtype: float64"
      ]
     },
     "execution_count": 71,
     "metadata": {},
     "output_type": "execute_result"
    }
   ],
   "source": [
    "importances = rf.feature_importances_\n",
    "std = np.std([tree.feature_importances_ for tree in rf.estimators_], axis=0)\n",
    "\n",
    "forest_importances = pd.Series(importances, index=selected_features).sort_values()\n",
    "forest_importances"
   ]
  },
  {
   "cell_type": "code",
   "execution_count": 72,
   "metadata": {},
   "outputs": [
    {
     "data": {
      "image/png": "[encoded data removed]",
      "text/plain": [
       "<Figure size 864x1008 with 1 Axes>"
      ]
     },
     "metadata": {
      "needs_background": "light"
     },
     "output_type": "display_data"
    }
   ],
   "source": [
    "fig, ax = plt.subplots(figsize=(12, 14))\n",
    "\n",
    "forest_importances.plot.barh(yerr=std, align=\"center\", ax=ax, label=\"MDI\")\n",
    "ax.set_title(\"Variable Importance\")\n",
    "ax.set_xlabel(\"Mean decrease in impurity\")\n",
    "\n",
    "ax.legend(); "
   ]
  },
  {
   "attachments": {},
   "cell_type": "markdown",
   "metadata": {},
   "source": [
    "### Sépration des biens par prix\n",
    "\n",
    "On sépare les biens selon leur prix pour obtenir deux jeux de données `train`:\n",
    "- `exp`: les biens ayant un prix supérieur à un certain seuil \n",
    "- `cheap`: les biens ayant un prix inférieur à un certain seuil\n",
    "\n",
    "On effectue un modèle de régression pour les deux jeux de données. "
   ]
  },
  {
   "cell_type": "code",
   "execution_count": 167,
   "metadata": {},
   "outputs": [
    {
     "data": {
      "image/png": "[encoded data removed]",
      "text/plain": [
       "<Figure size 864x576 with 1 Axes>"
      ]
     },
     "metadata": {
      "needs_background": "light"
     },
     "output_type": "display_data"
    }
   ],
   "source": [
    "df_train\\\n",
    "    .l_valeur_fonciere\\\n",
    "    .apply(np.exp)\\\n",
    "    .hist(bins=100, figsize=(12, 8)); "
   ]
  },
  {
   "cell_type": "code",
   "execution_count": 191,
   "metadata": {},
   "outputs": [
    {
     "data": {
      "text/plain": [
       "0.10    12.142547\n",
       "0.25    12.524526\n",
       "0.50    12.955127\n",
       "0.75    13.413539\n",
       "0.90    13.860883\n",
       "Name: l_valeur_fonciere, dtype: float64"
      ]
     },
     "execution_count": 191,
     "metadata": {},
     "output_type": "execute_result"
    }
   ],
   "source": [
    "df_train\\\n",
    "    .l_valeur_fonciere\\\n",
    "    .quantile([.1, .25, .5, .75, .9])"
   ]
  },
  {
   "cell_type": "code",
   "execution_count": 194,
   "metadata": {},
   "outputs": [],
   "source": [
    "from typing import Union\n",
    "\n",
    "def get_thresold(prices: Union[pd.Series, np.ndarray], method: str) -> float: \n",
    "\n",
    "    if method == \"median\": \n",
    "        thresold = np.median(prices)\n",
    "    elif method == \"75%\": \n",
    "        thresold = prices.quantile(.75)\n",
    "    elif method == \"90%\":\n",
    "        thresold = prices.quantile(.9)\n",
    "    elif method == \"95%\":\n",
    "        thresold = prices.quantile(.95)\n",
    "    else:\n",
    "        raise ValueError(f\"Unknown method {method}\")\n",
    "        \n",
    "    return thresold\n",
    "\n",
    "def is_expensive(l_price: float, thresold: float) -> bool: \n",
    "    return l_price >= thresold"
   ]
  },
  {
   "cell_type": "code",
   "execution_count": 219,
   "metadata": {},
   "outputs": [
    {
     "name": "stdout",
     "output_type": "stream",
     "text": [
      "13.413539339110365\n"
     ]
    }
   ],
   "source": [
    "thresold = get_thresold(df_train.l_valeur_fonciere, method=\"75%\")\n",
    "print(thresold)\n",
    "\n",
    "df_train_exp = df_train.loc[df_train[\"l_valeur_fonciere\"].apply(lambda x: is_expensive(x, thresold)), :]\n",
    "df_train_cheap = df_train.loc[~df_train[\"l_valeur_fonciere\"].apply(lambda x: is_expensive(x, thresold)), :]\n",
    "\n",
    "df_test_exp = df_test.loc[df_test[\"l_valeur_fonciere\"].apply(lambda x: is_expensive(x, thresold)), :]\n",
    "df_test_cheap = df_test.loc[~df_test[\"l_valeur_fonciere\"].apply(lambda x: is_expensive(x, thresold)), :]"
   ]
  },
  {
   "cell_type": "code",
   "execution_count": 199,
   "metadata": {},
   "outputs": [
    {
     "data": {
      "text/plain": [
       "((19054, 75), (57145, 75))"
      ]
     },
     "execution_count": 199,
     "metadata": {},
     "output_type": "execute_result"
    }
   ],
   "source": [
    "df_train_exp.shape, df_train_cheap.shape"
   ]
  },
  {
   "cell_type": "code",
   "execution_count": 220,
   "metadata": {},
   "outputs": [],
   "source": [
    "X_tr = {\n",
    "    \"exp\": get_feature_vector(df_train_exp, features=selected_features, return_df=False), \n",
    "    \"cheap\": get_feature_vector(df_train_cheap, features=selected_features, return_df=False)\n",
    "} \n",
    "\n",
    "y_tr = {\n",
    "    \"exp\": get_target_vector(df_train_exp, target=\"l_valeur_fonciere\"),\n",
    "    \"cheap\": get_target_vector(df_train_cheap, target=\"l_valeur_fonciere\")\n",
    "}"
   ]
  },
  {
   "attachments": {},
   "cell_type": "markdown",
   "metadata": {},
   "source": [
    "#### Entrainement de 2 `RandomForestRegressor` "
   ]
  },
  {
   "cell_type": "code",
   "execution_count": 202,
   "metadata": {},
   "outputs": [
    {
     "name": "stderr",
     "output_type": "stream",
     "text": [
      "Fitting cheap: 100%|██████████| 2/2 [02:12<00:00, 66.41s/it]\n"
     ]
    }
   ],
   "source": [
    "rf = {\n",
    "    type: RandomForestRegressor()\n",
    "    for type in (\"exp\", \"cheap\")\n",
    "}\n",
    "\n",
    "loop = tqdm(rf.keys()) \n",
    "for type in loop: \n",
    "    loop.set_description(f\"Fitting {type}\")\n",
    "    rf[type].fit(X_tr[type], y_tr[type])"
   ]
  },
  {
   "attachments": {},
   "cell_type": "markdown",
   "metadata": {},
   "source": [
    "#### Diagnostic train"
   ]
  },
  {
   "cell_type": "code",
   "execution_count": 221,
   "metadata": {},
   "outputs": [],
   "source": [
    "pred_tr = {\n",
    "    type: rf[type].predict(X_tr[type]) \n",
    "    for type in (\"exp\", \"cheap\")\n",
    "}\n",
    "\n",
    "pred_prices_tr = {\n",
    "    type: get_price(pred_tr[type])\n",
    "    for type in (\"exp\", \"cheap\")\n",
    "} \n",
    "\n",
    "prices_tr = {\n",
    "    type: get_price(y_tr[type])\n",
    "    for type in (\"exp\", \"cheap\")\n",
    "} "
   ]
  },
  {
   "cell_type": "code",
   "execution_count": 222,
   "metadata": {},
   "outputs": [
    {
     "name": "stdout",
     "output_type": "stream",
     "text": [
      "Using log target variable\n",
      "\tXGB MAPE train (exp): 0.34%\n",
      "\tXGB MAPE train (cheap): 0.45%\n",
      "Using target variable\n",
      "\tXGB MAPE train (exp): 4.69%\n",
      "\tXGB MAPE train (cheap): 5.68%\n"
     ]
    }
   ],
   "source": [
    "mape_tr = {\n",
    "    type: mean_absolute_percentage_error(y_tr[type], pred_tr[type])\n",
    "    for type in (\"exp\", \"cheap\")\n",
    "} \n",
    "\n",
    "print(\"Using log target variable\")\n",
    "for type in (\"exp\", \"cheap\"):\n",
    "    print(f\"\\tXGB MAPE train ({type}): {round(100 * mape_tr[type], 2)}%\")\n",
    "\n",
    "mape_tr_prices = {\n",
    "    type: mean_absolute_percentage_error(prices_tr[type], pred_prices_tr[type])\n",
    "    for type in (\"exp\", \"cheap\")\n",
    "} \n",
    "\n",
    "print(\"Using target variable\")\n",
    "for type in (\"exp\", \"cheap\"):\n",
    "    print(f\"\\tXGB MAPE train ({type}): {round(100 * mape_tr_prices[type], 2)}%\")"
   ]
  },
  {
   "attachments": {},
   "cell_type": "markdown",
   "metadata": {},
   "source": [
    "#### Prédiction en test par modèle (approche naïve)"
   ]
  },
  {
   "cell_type": "code",
   "execution_count": 223,
   "metadata": {},
   "outputs": [],
   "source": [
    "pred_te = {\n",
    "    type: rf[type].predict(X_te2) \n",
    "    for type in (\"exp\", \"cheap\")\n",
    "}\n",
    "\n",
    "pred_prices_te = {\n",
    "    type: get_price(pred_te[type])\n",
    "    for type in (\"exp\", \"cheap\")\n",
    "} "
   ]
  },
  {
   "cell_type": "code",
   "execution_count": 226,
   "metadata": {},
   "outputs": [],
   "source": [
    "prices_te = get_price(y_te)"
   ]
  },
  {
   "cell_type": "code",
   "execution_count": 227,
   "metadata": {},
   "outputs": [
    {
     "name": "stdout",
     "output_type": "stream",
     "text": [
      "Using log target variable\n",
      "\tXGB MAPE test using exp model: 4.87%\n",
      "\tXGB MAPE test using cheap model: 2.06%\n",
      "Using target variable\n",
      "\tXGB MAPE test using exp model: 109.94%\n",
      "\tXGB MAPE test using cheap model: 22.77%\n"
     ]
    }
   ],
   "source": [
    "mape_te = {\n",
    "    type: mean_absolute_percentage_error(y_te, pred_te[type])\n",
    "    for type in (\"exp\", \"cheap\")\n",
    "} \n",
    "\n",
    "print(\"Using log target variable\")\n",
    "for type in (\"exp\", \"cheap\"):\n",
    "    print(f\"\\tXGB MAPE test using {type} model: {round(100 * mape_te[type], 2)}%\")\n",
    "\n",
    "mape_te_prices = {\n",
    "    type: mean_absolute_percentage_error(prices_te, pred_prices_te[type])\n",
    "    for type in (\"exp\", \"cheap\")\n",
    "} \n",
    "\n",
    "print(\"Using target variable\")\n",
    "for type in (\"exp\", \"cheap\"):\n",
    "    print(f\"\\tXGB MAPE test using {type} model: {round(100 * mape_te_prices[type], 2)}%\")"
   ]
  },
  {
   "attachments": {},
   "cell_type": "markdown",
   "metadata": {},
   "source": [
    "#### Approche optimale\n",
    "\n",
    "Impossible en réalité car on ne connait pas le prix des biens !"
   ]
  },
  {
   "cell_type": "code",
   "execution_count": 228,
   "metadata": {},
   "outputs": [],
   "source": [
    "X_te = {\n",
    "    \"exp\": get_feature_vector(df_test_exp, features=selected_features, return_df=False), \n",
    "    \"cheap\": get_feature_vector(df_test_cheap, features=selected_features, return_df=False)\n",
    "} \n",
    "\n",
    "y_te = {\n",
    "    \"exp\": get_target_vector(df_test_exp, target=\"l_valeur_fonciere\"),\n",
    "    \"cheap\": get_target_vector(df_test_cheap, target=\"l_valeur_fonciere\")\n",
    "}"
   ]
  },
  {
   "cell_type": "code",
   "execution_count": 229,
   "metadata": {},
   "outputs": [],
   "source": [
    "pred_te = {\n",
    "    type: rf[type].predict(X_te[type]) \n",
    "    for type in (\"exp\", \"cheap\")\n",
    "}\n",
    "\n",
    "pred_prices_te = {\n",
    "    type: get_price(pred_te[type])\n",
    "    for type in (\"exp\", \"cheap\")\n",
    "} \n",
    "\n",
    "prices_te= {\n",
    "    type: get_price(y_te[type])\n",
    "    for type in (\"exp\", \"cheap\")\n",
    "} "
   ]
  },
  {
   "cell_type": "code",
   "execution_count": 230,
   "metadata": {},
   "outputs": [
    {
     "name": "stdout",
     "output_type": "stream",
     "text": [
      "Using log target variable\n",
      "\tXGB MAPE test (exp): 0.9%\n",
      "\tXGB MAPE test (cheap): 1.17%\n",
      "Using target variable\n",
      "\tXGB MAPE test (exp): 12.48%\n",
      "\tXGB MAPE test (cheap): 15.07%\n"
     ]
    }
   ],
   "source": [
    "mape_te = {\n",
    "    type: mean_absolute_percentage_error(y_te[type], pred_te[type])\n",
    "    for type in (\"exp\", \"cheap\")\n",
    "} \n",
    "\n",
    "print(\"Using log target variable\")\n",
    "for type in (\"exp\", \"cheap\"):\n",
    "    print(f\"\\tXGB MAPE test ({type}): {round(100 * mape_te[type], 2)}%\")\n",
    "\n",
    "mape_te_prices = {\n",
    "    type: mean_absolute_percentage_error(prices_te[type], pred_prices_te[type])\n",
    "    for type in (\"exp\", \"cheap\")\n",
    "} \n",
    "\n",
    "print(\"Using target variable\")\n",
    "for type in (\"exp\", \"cheap\"):\n",
    "    print(f\"\\tXGB MAPE test ({type}): {round(100 * mape_te_prices[type], 2)}%\")"
   ]
  },
  {
   "attachments": {},
   "cell_type": "markdown",
   "metadata": {},
   "source": [
    "#### Prédiction d'un nouveau point\n",
    "\n",
    "Sans connaissance du prix. "
   ]
  },
  {
   "cell_type": "code",
   "execution_count": 155,
   "metadata": {},
   "outputs": [
    {
     "data": {
      "text/plain": [
       "[4177.413225224709,\n",
       " 4704.710017348216,\n",
       " 4511.667733723013,\n",
       " 4168.602012235964,\n",
       " 4430.919344010266,\n",
       " 4370.101353946581,\n",
       " 4103.3536918279315,\n",
       " 5755.528136178925,\n",
       " 4532.494480105037,\n",
       " 17210.1456020568,\n",
       " 4124.98790829018,\n",
       " 4034.3641600379497,\n",
       " 4510.26084454598,\n",
       " 4010.3848862816703,\n",
       " 4162.174792881694,\n",
       " 4369.744606801079,\n",
       " 4298.741690559692,\n",
       " 4087.0058997443907,\n",
       " 4015.5630607393414,\n",
       " 4072.9589167788968,\n",
       " 4490.277576618468,\n",
       " 4005.9177903378827,\n",
       " 3990.4645858855,\n",
       " 4056.1419150949478,\n",
       " 4149.654096902816,\n",
       " 4007.138059585113,\n",
       " 4107.735826573938,\n",
       " 4249.317243904719,\n",
       " 20038.10025519543,\n",
       " 4264.9171498645455,\n",
       " 4203.16955113421,\n",
       " 4249.591255641113,\n",
       " 6199.77354023963,\n",
       " 4448.227964014009,\n",
       " 4281.304864015533,\n",
       " 6306.00392198791,\n",
       " 4162.109147326278,\n",
       " 4320.2597448747065,\n",
       " 4264.7775462970185,\n",
       " 4248.990659710282,\n",
       " 4010.76388857636,\n",
       " 5190.608344766209,\n",
       " 4333.951411134966,\n",
       " 4138.9191829242745,\n",
       " 4315.511807578423,\n",
       " 4204.231770564028,\n",
       " 4072.5259995577944,\n",
       " 3991.719429325021,\n",
       " 9695.295497234012,\n",
       " 4599.773136703966,\n",
       " 4060.941944392823,\n",
       " 4233.217981311648,\n",
       " 4512.304334925112,\n",
       " 4033.2192810286956,\n",
       " 4009.6478358723434,\n",
       " 4457.5319902543315,\n",
       " 4015.6866710275285,\n",
       " 4073.118124355769,\n",
       " 4599.990539621192,\n",
       " 4249.9986955470085,\n",
       " 4022.2286319949944,\n",
       " 4102.629788682395,\n",
       " 4019.257612354874,\n",
       " 4306.209809070073,\n",
       " 4233.333136592752,\n",
       " 16139.28049535643,\n",
       " 4077.244816241975,\n",
       " 4408.569304000742,\n",
       " 4119.076654206223,\n",
       " 4281.585403825594,\n",
       " 4124.856328817866,\n",
       " 4087.5424154056464,\n",
       " 4047.9571479899055,\n",
       " 5250.166845594662,\n",
       " 4008.243828672677,\n",
       " 4063.588475033704,\n",
       " 4083.5534488706353,\n",
       " 4188.884444383303,\n",
       " 4162.273277120486,\n",
       " 4220.114629253839,\n",
       " 4082.36199719359,\n",
       " 4478.227693087273,\n",
       " 4102.434365186072,\n",
       " 4555.0045347216865,\n",
       " 4555.862926694234,\n",
       " 4248.873638410271,\n",
       " 4039.822792136486,\n",
       " 4369.988847548478,\n",
       " 4097.784693506239,\n",
       " 4315.19731212783,\n",
       " 4097.053083511339,\n",
       " 4161.915208203094,\n",
       " 4175.745248970037,\n",
       " 4553.981658681998,\n",
       " 4038.622448022841,\n",
       " 4606.5703749266895,\n",
       " 4447.95847168136,\n",
       " 13747.935187000656,\n",
       " 4429.217283972437,\n",
       " 4424.477679553203,\n",
       " 4068.6997821586647,\n",
       " 4468.516581770955,\n",
       " 4389.239012225204,\n",
       " 4353.40030449219,\n",
       " 4448.626974253815,\n",
       " 20714.355839590087,\n",
       " 4494.626410566789,\n",
       " 4316.822623105505,\n",
       " 4578.604128758735,\n",
       " 4113.966815155326,\n",
       " 84445.59032169232,\n",
       " 4113.982234469529,\n",
       " 3991.2701314639085,\n",
       " 4250.2191063489145,\n",
       " 4315.2814626213185,\n",
       " 4039.9601248461076,\n",
       " 3996.1036919871062,\n",
       " 4169.323743896352,\n",
       " 3993.5717354077333,\n",
       " 4124.780793124759,\n",
       " 4469.141167174501,\n",
       " 4026.884116127703,\n",
       " 4225.110674192415,\n",
       " 19903.322066889712,\n",
       " 4102.438569941552,\n",
       " 4219.097244736444,\n",
       " 4203.412972111329,\n",
       " 4407.895036907777,\n",
       " 12391.704495785307,\n",
       " 6413.35945978389,\n",
       " 4047.799878793828,\n",
       " 3991.2416293195506,\n",
       " 4273.279676155471,\n",
       " 4448.70060905565,\n",
       " 4189.775214791269,\n",
       " 4489.895180207176,\n",
       " 4317.969983447341,\n",
       " 4693.453796392667,\n",
       " 4281.387863106304,\n",
       " 4520.896952749198,\n",
       " 4315.549811729493,\n",
       " 4036.4503922670597,\n",
       " 4225.13569093639,\n",
       " 4217.798537827806,\n",
       " 4102.304407690781,\n",
       " 50806.58396677837,\n",
       " 4026.514143294456,\n",
       " 4161.907681857963,\n",
       " 4168.326058781637,\n",
       " 5020.2845220534855,\n",
       " 4020.1314129645493,\n",
       " 4351.226611375249,\n",
       " 4388.6364537854115,\n",
       " 4315.9388601809505,\n",
       " 4281.356259833374,\n",
       " 4175.335063031685,\n",
       " 4428.704101424516,\n",
       " 4020.790887827814,\n",
       " 24786.101742572686,\n",
       " 8477.732812437313,\n",
       " 8988.580295038646,\n",
       " 4175.547658677922,\n",
       " 4510.7282295392715,\n",
       " 3993.2820911284084,\n",
       " 6594.919190311531,\n",
       " 4282.623023445556,\n",
       " 4468.245402744905,\n",
       " 4490.12501537133,\n",
       " 4746.6671579104905,\n",
       " 4599.51928090816,\n",
       " 4554.150389196948,\n",
       " 4249.405752802621,\n",
       " 4489.282926273899,\n",
       " 4013.0524678412257,\n",
       " 4333.362610433887,\n",
       " 4189.630545101055,\n",
       " 4204.117116990802,\n",
       " 4100.755908484039,\n",
       " 3997.796335810221,\n",
       " 4553.651650055328,\n",
       " 3997.4373753049063,\n",
       " 3994.7323421390033,\n",
       " 4316.081041882435,\n",
       " 4064.4958424550805,\n",
       " 4124.843366609542,\n",
       " 4047.867253731617,\n",
       " 4369.811974947431,\n",
       " 4531.988844029236,\n",
       " 4203.469876401525,\n",
       " 4281.378604066983,\n",
       " 4136.819707218533,\n",
       " 4281.656722101017,\n",
       " 4072.6951719123203,\n",
       " 4335.238608351295,\n",
       " 3992.8202324670383,\n",
       " 4130.970130278533,\n",
       " 4190.206350271348,\n",
       " 4224.95800374949,\n",
       " 4281.085670647659,\n",
       " 4361.346363689021,\n",
       " 4249.899874958337,\n",
       " 3990.173483942777,\n",
       " 4064.5360434234567,\n",
       " 4064.863129348337,\n",
       " 4717.416185859208,\n",
       " 4369.987344291075,\n",
       " 4340.8587838683925,\n",
       " 4218.356648823047,\n",
       " 4262.259703655908,\n",
       " 4389.273013082371,\n",
       " 4576.436247840303,\n",
       " 4015.222516581824,\n",
       " 4370.694377768501,\n",
       " 3997.382838792773,\n",
       " 4189.5493165373655,\n",
       " 4576.60183549046,\n",
       " 4097.255949903858,\n",
       " 4369.870184206784,\n",
       " 4453.182601476769,\n",
       " 4064.310476456352,\n",
       " 8497.86434627432,\n",
       " 5281.2822711557965,\n",
       " 4125.628637925527,\n",
       " 6199.653337722823,\n",
       " 3990.669526229345,\n",
       " 4289.017669323325,\n",
       " 6741.855564177316,\n",
       " 13133.475885799,\n",
       " 4006.6941783796024,\n",
       " 4175.699047707784,\n",
       " 4250.085091466539,\n",
       " 4000.14020018798,\n",
       " 6929.180949856382,\n",
       " 4341.687180429953,\n",
       " 6816.4879866636165,\n",
       " 3994.7096074985498,\n",
       " 4332.978065895757,\n",
       " 3996.307204401999,\n",
       " 4203.835589712727,\n",
       " 4218.887587688213,\n",
       " 8457.204194000034,\n",
       " 5281.345631621219,\n",
       " 4030.272257360423,\n",
       " 3991.1463518748883,\n",
       " 4456.599447389255,\n",
       " 33344.16375059429,\n",
       " 4264.629357179675,\n",
       " 4010.1907099589866,\n",
       " 5280.577952217017,\n",
       " 4150.008220578545,\n",
       " 11524.882372102624,\n",
       " 40562.604479521884,\n",
       " 4072.7105457139915,\n",
       " 4409.446543576932,\n",
       " 4076.983885800003,\n",
       " 4554.965055793472,\n",
       " 4102.932584330368,\n",
       " 4488.924533803955,\n",
       " 3994.789448183139,\n",
       " 4333.793006863533,\n",
       " 4086.771620318659,\n",
       " 4001.85589511202,\n",
       " 6966.469094612131,\n",
       " 4705.453795034718,\n",
       " 4048.080780058899,\n",
       " 4082.317479767955,\n",
       " 4113.859240173423,\n",
       " 4489.470466663474,\n",
       " 4779.522217950731,\n",
       " 4371.579108237305,\n",
       " 4003.7408785204866,\n",
       " 4021.0622108077523,\n",
       " 3992.476617514282,\n",
       " 4448.01955002563,\n",
       " 4218.966258007128,\n",
       " 4298.3812632746585,\n",
       " 4217.834122499196,\n",
       " 4250.466552077685,\n",
       " 20714.354754664924,\n",
       " 4036.408176455407,\n",
       " 4093.090788303123,\n",
       " 4036.478420829309,\n",
       " 4055.0363282946114,\n",
       " 9569.263283469614,\n",
       " 3997.36453049557,\n",
       " 4000.6591279256486,\n",
       " 4021.9997201910714,\n",
       " 4371.020532818872,\n",
       " 4510.709782850418,\n",
       " 4391.112550154698,\n",
       " 4553.9436662987155,\n",
       " 4175.765055823688,\n",
       " 4600.3859148789215,\n",
       " 17657.556445746115,\n",
       " 4298.144144810235,\n",
       " 4114.463903207819,\n",
       " 4168.5772934487095,\n",
       " 4489.8316752524315,\n",
       " 4388.861129854826,\n",
       " 4407.890758583278,\n",
       " 4241.717446697673,\n",
       " 4168.4651841622535,\n",
       " 4233.722251903284,\n",
       " 3993.4641860775955,\n",
       " 4203.37204287677,\n",
       " 6060.069464375382,\n",
       " 4348.241609097459,\n",
       " 3999.32405254577,\n",
       " 4004.615909571554,\n",
       " 5464.59767497652,\n",
       " 4091.9502118456644,\n",
       " 4449.548301352497,\n",
       " 4520.921348938679,\n",
       " 4048.1302543128872,\n",
       " 9862.895110200463,\n",
       " 8134.895177721311,\n",
       " 3991.3803291680247,\n",
       " 4447.660710782772,\n",
       " 4033.430144789493,\n",
       " 4859.362106226513,\n",
       " 4125.942410510573,\n",
       " 4002.8191454031266,\n",
       " 3998.063605093958,\n",
       " 4078.790932064673,\n",
       " 4408.792541809578,\n",
       " 4680.74583438387,\n",
       " 4210.285878933075,\n",
       " 4282.607847157956,\n",
       " 4282.750349028851,\n",
       " 3992.113391693138,\n",
       " 4389.097384039966,\n",
       " 4072.770558370746,\n",
       " 4063.7069514789323,\n",
       " 4316.789722738474,\n",
       " 6558.351154089824,\n",
       " 11194.935055420208,\n",
       " 4006.2303782893096,\n",
       " 4447.785923070593,\n",
       " 4408.170074737078,\n",
       " 4114.246202698343,\n",
       " 4015.4431474734424,\n",
       " 4175.726941068681,\n",
       " 6060.506517415957,\n",
       " 4189.264062640087,\n",
       " 4234.679089128148,\n",
       " 4225.7850223409405,\n",
       " 4407.753502147235,\n",
       " 4072.5469451219624,\n",
       " 4055.2991955624857,\n",
       " 4804.555114358696,\n",
       " 4449.062677946683,\n",
       " 4176.319617644535,\n",
       " 4155.063603329937,\n",
       " 4091.956549694761,\n",
       " 4125.171694536723,\n",
       " 4003.456888788548,\n",
       " 4600.210248757511,\n",
       " 3999.2683713000406,\n",
       " 4351.619107502764,\n",
       " 4490.537680878643,\n",
       " 4114.156120523378,\n",
       " 4137.479879285451,\n",
       " 4581.807700945754,\n",
       " 4126.449370871484,\n",
       " 4203.355134649812,\n",
       " 5075.783101305542,\n",
       " 4339.116131461835,\n",
       " 84445.6519117455,\n",
       " 4103.315303094413,\n",
       " 4371.410592098211,\n",
       " 33344.16915209527,\n",
       " 4249.090274657978,\n",
       " 3990.546224929752,\n",
       " 4233.1230633587875,\n",
       " 4511.783470698757,\n",
       " 4315.650308575858,\n",
       " 4044.501869749023,\n",
       " 4352.001648962342,\n",
       " 4273.813578298836,\n",
       " 4282.381115376797,\n",
       " 4646.127428592943,\n",
       " 4936.472734804191,\n",
       " 4027.809100470639,\n",
       " 4149.935228879286,\n",
       " 4299.329140684437,\n",
       " 4175.348510236367,\n",
       " 4220.767983513933,\n",
       " 4149.795009309652,\n",
       " 4004.2993928437627,\n",
       " 6632.151856122896,\n",
       " 4316.038738726659,\n",
       " 4281.992336373347,\n",
       " 4427.651029578956,\n",
       " 4370.7841290097485,\n",
       " 6060.205339329284,\n",
       " 4369.679979067663,\n",
       " 4113.519075915057,\n",
       " 4447.701981110122,\n",
       " 4002.9019039965647,\n",
       " 4162.01967324876,\n",
       " 4447.638596746118,\n",
       " 4010.552913282221,\n",
       " 4072.7569613456294,\n",
       " 4773.969844478244,\n",
       " 4082.2437531998494,\n",
       " 4489.151092464116,\n",
       " 4019.7862673201716,\n",
       " 4299.341917345218,\n",
       " 4440.891252470434,\n",
       " 4122.5392653518265,\n",
       " 4248.980532992135,\n",
       " 11180.98274888118,\n",
       " 4137.391528147685,\n",
       " 4298.92532818149,\n",
       " 4281.141947546537,\n",
       " 4067.8351846724736,\n",
       " 4015.775406892034,\n",
       " 7895.874960903157,\n",
       " 4408.695970286341,\n",
       " 4029.717643312821,\n",
       " 4645.603972133923,\n",
       " 4352.66090252564,\n",
       " 4217.939256877622,\n",
       " 4015.7474053268447,\n",
       " 4189.470603080104,\n",
       " 4125.077114194874,\n",
       " 4529.342376504513,\n",
       " 20398.664843014536,\n",
       " 4219.0078810829245,\n",
       " 4298.442389980688,\n",
       " 4035.99848030249,\n",
       " 4015.4356476858143,\n",
       " 4048.097215425955,\n",
       " 3997.305319197381,\n",
       " 6341.851989779909,\n",
       " 4447.716498047272,\n",
       " 4407.781369829822,\n",
       " 4428.313060288913,\n",
       " 4265.677249321319,\n",
       " 4532.599652437349,\n",
       " 4093.7114690397943,\n",
       " 3995.486362161484,\n",
       " 33344.096004159306,\n",
       " 4428.54005670111,\n",
       " 4265.234099617129,\n",
       " 4409.154207780431,\n",
       " 4299.353661050822,\n",
       " 4282.1308122592145,\n",
       " 4468.494581315111,\n",
       " 4489.251288785306,\n",
       " 4490.082097909682,\n",
       " 4190.042411499429,\n",
       " 4515.583018486497,\n",
       " 4083.338470045896,\n",
       " 4370.544945067858,\n",
       " 4063.7336203647214,\n",
       " 3994.1363574559036,\n",
       " 4282.247758627614,\n",
       " 4219.300687826781,\n",
       " 4409.32069779201,\n",
       " 4114.266919917335,\n",
       " 4351.10935689872,\n",
       " 4137.218405599362,\n",
       " 4184.245672908373,\n",
       " 4092.7693159352993,\n",
       " 4125.0945505763775,\n",
       " 4029.7355597507603,\n",
       " 4043.66197349892,\n",
       " 4056.876839109446,\n",
       " 4408.172007989037,\n",
       " 8175.659155186679,\n",
       " 4499.707642014303,\n",
       " 4073.4388033791997,\n",
       " 4258.519806543366,\n",
       " 12391.32714440534,\n",
       " 4218.168213733738,\n",
       " 4298.751322599104,\n",
       " 4670.056036914487,\n",
       " 4203.861724006312,\n",
       " 4470.447906777679,\n",
       " 3997.5777373081355,\n",
       " 3994.5803075100175,\n",
       " 4598.992677421949,\n",
       " 4012.587549196693,\n",
       " 4273.339363617616,\n",
       " 4149.875732450785,\n",
       " 4565.262599070021,\n",
       " 4149.41915158496,\n",
       " 4006.105817184649,\n",
       " 4883.040162436733,\n",
       " 4189.084442829341,\n",
       " 5433.771375843134,\n",
       " 4282.40485888507,\n",
       " 4315.413405756009,\n",
       " 4102.759521282387,\n",
       " 4168.229233326569,\n",
       " 4281.4173906265105,\n",
       " 99966.02271305966,\n",
       " 14023.254058567027,\n",
       " 3991.068178621321,\n",
       " 4102.513843341309,\n",
       " 4169.076959729348,\n",
       " 4468.75956871476,\n",
       " 4026.7123447118465,\n",
       " 4003.86236513869,\n",
       " 50806.58129029623,\n",
       " 3990.416467436858,\n",
       " 4149.219442227093,\n",
       " 3991.272761558458,\n",
       " 4389.813273985595,\n",
       " 4233.384176209083,\n",
       " 4511.3565526153925,\n",
       " 4427.935212451709,\n",
       " 4249.520558391948,\n",
       " 5624.435108400701,\n",
       " 4011.46328308895,\n",
       " 3997.827984497205,\n",
       " 4218.808985790759,\n",
       " 4163.601543648739,\n",
       " 4333.438368398732,\n",
       " 3999.1248813989546,\n",
       " 4189.280019238107,\n",
       " 4015.21215098028,\n",
       " 3995.1769054892643,\n",
       " 3993.1799113056495,\n",
       " 4218.2526100394925,\n",
       " 4219.215053328081,\n",
       " 84445.5600031562,\n",
       " 4082.5365666822613,\n",
       " 8988.994648719765,\n",
       " 4469.368829906904,\n",
       " 4766.45150210062,\n",
       " 4103.39715759532,\n",
       " 3993.116883607932,\n",
       " 4018.5403540811167,\n",
       " 5280.442762810928,\n",
       " 4369.833532941427,\n",
       " 4760.264344689443,\n",
       " 4103.041778411964,\n",
       " 4107.7708606720735,\n",
       " 4002.221457412487,\n",
       " 12435.171267599218,\n",
       " 4681.534011323007,\n",
       " 4408.073320241653,\n",
       " 4554.534529034794,\n",
       " 4290.934345632493,\n",
       " 3997.3331768826984,\n",
       " 4065.646294592185,\n",
       " 4532.217257440206,\n",
       " 4587.290959626127,\n",
       " 4205.112196488298,\n",
       " 4469.610425187787,\n",
       " 4281.401231291888,\n",
       " 4189.938146554376,\n",
       " 4055.1111841084885,\n",
       " 4113.170684266322,\n",
       " 4040.2246502484086,\n",
       " 4316.954355330874,\n",
       " 4136.843415896273,\n",
       " 4218.340978066538,\n",
       " 4163.414906293392,\n",
       " 4064.4199500526993,\n",
       " 4388.825755085854,\n",
       " 4073.4431750400663,\n",
       " 4023.0993704676875,\n",
       " 4218.675728916809,\n",
       " 14144.417943536373,\n",
       " 5371.899397970928,\n",
       " 4408.103104921239,\n",
       " 4248.6564604764335,\n",
       " 7936.800404458331,\n",
       " 4203.417884319987,\n",
       " 4248.92783090108,\n",
       " 4011.5120632120243,\n",
       " 4136.9725923655305,\n",
       " 4554.593987243694,\n",
       " 4052.6698215298634,\n",
       " 4408.364832274914,\n",
       " 4831.433123961504,\n",
       " 4499.5897893805495,\n",
       " 4298.206471034727,\n",
       " 4342.535890928467,\n",
       " 4162.539229997308,\n",
       " 4645.313257336281,\n",
       " 4059.291175032014,\n",
       " 5788.626636574239,\n",
       " 3992.590455564023,\n",
       " 4015.842417652982,\n",
       " 4033.1525997765184,\n",
       " 4428.142135938454,\n",
       " 4063.801375952214,\n",
       " 4102.676229765299,\n",
       " 4443.010290566475,\n",
       " 4579.693594467707,\n",
       " 4389.191841923334,\n",
       " 4006.1832459550046,\n",
       " 4428.040480476709,\n",
       " 4023.9851329020357,\n",
       " 4010.960543823505,\n",
       " 8015.509003174349,\n",
       " 5220.47819352253,\n",
       " 4082.5433682868866,\n",
       " 4457.508733474688,\n",
       " 4428.638746607078,\n",
       " 4555.371137248982,\n",
       " 4490.511630594231,\n",
       " 4171.1677829468645,\n",
       " 4092.001409971092,\n",
       " 4559.857521822709,\n",
       " 3992.2887703817814,\n",
       " 4018.1705062206915,\n",
       " 5196.837907025467,\n",
       " 4489.641737724873,\n",
       " 4389.545315647757,\n",
       " 4235.847780889153,\n",
       " 3991.3506525476655,\n",
       " 4013.0634834992097,\n",
       " 4489.18824629657,\n",
       " 4316.063882304189,\n",
       " 5191.133756289048,\n",
       " 5957.056500890501,\n",
       " 4056.3588457821693,\n",
       " 4298.158477767824,\n",
       " 3994.0928877646948,\n",
       " 4125.050099101616,\n",
       " 4389.3021846018155,\n",
       " 4189.743293667598,\n",
       " 9486.609454075508,\n",
       " 7386.619451582599,\n",
       " 12521.887524421865,\n",
       " 4316.299929955013,\n",
       " 4026.6474821081156,\n",
       " 4388.737434793087,\n",
       " 4468.029456364153,\n",
       " 4587.466485560808,\n",
       " 4397.551480960406,\n",
       " 4554.244395298463,\n",
       " 4047.1045469874784,\n",
       " 4408.016883544679,\n",
       " 4233.265876120008,\n",
       " 4324.007829003402,\n",
       " 5132.946221944117,\n",
       " 4204.489480982592,\n",
       " 4909.530977547865,\n",
       " 3995.8838780394567,\n",
       " 12304.444471860628,\n",
       " 4233.234806741539,\n",
       " 4006.8310103842373,\n",
       " 4469.181275688485,\n",
       " 4396.108943414915,\n",
       " 4316.521397944817,\n",
       " 4428.000585654684,\n",
       " 4015.308194828624,\n",
       " 4149.92699245233,\n",
       " 5689.9711878311755,\n",
       " 8579.546594532418,\n",
       " 4600.048336568137,\n",
       " 4181.895561599793,\n",
       " 4333.920923499979,\n",
       " 4016.3934576795828,\n",
       " 4407.865184953838,\n",
       " 4125.0271701034335,\n",
       " 4447.635146330107,\n",
       " 4055.6613972459677,\n",
       " 4203.2920406165385,\n",
       " 4125.564972742609,\n",
       " 4265.214567169498,\n",
       " 4599.908366037547,\n",
       " 5957.145056947142,\n",
       " 5132.736701817734,\n",
       " 4532.191339758859,\n",
       " 4249.14782959326,\n",
       " 3992.2978790041398,\n",
       " 8377.054199887107,\n",
       " 4020.9951800050276,\n",
       " 4351.423115075948,\n",
       " 4469.251101049506,\n",
       " 4437.623461515708,\n",
       " 4190.124890435977,\n",
       " 4249.856579524165,\n",
       " 3997.0367287147546,\n",
       " 4408.00022168387,\n",
       " 4265.236138829914,\n",
       " 4369.621549631224,\n",
       " 4092.714264760252,\n",
       " 3996.263259073472,\n",
       " 4029.5940927942684,\n",
       " 4204.824044199076,\n",
       " 4190.315217406506,\n",
       " 4227.5371637666485,\n",
       " 7464.500077648271,\n",
       " 4531.989388755333,\n",
       " 4162.70083066044,\n",
       " 4136.879230142117,\n",
       " 4250.195165087454,\n",
       " 5956.8765857481585,\n",
       " 4298.229020683013,\n",
       " 4056.1221765969585,\n",
       " 4102.909580419628,\n",
       " 4023.9645242819233,\n",
       " 4020.8713353005887,\n",
       " 4162.198697624419,\n",
       " 4036.5246138646544,\n",
       " 4351.05278600355,\n",
       " 13308.871252236877,\n",
       " 4533.223460437424,\n",
       " 20714.211337641013,\n",
       " 3995.5684259693994,\n",
       " 21120.193682904213,\n",
       " 4204.587603932197,\n",
       " 9904.788355924367,\n",
       " 4298.052434381112,\n",
       " 4056.6307277136702,\n",
       " 4532.216510937718,\n",
       " 3991.3457723833467,\n",
       " 3994.7783595300098,\n",
       " 4189.032825403537,\n",
       " 4000.3752672602063,\n",
       " 4352.161658490844,\n",
       " 4218.026705928578,\n",
       " 3997.965676796067,\n",
       " 6485.535244004689,\n",
       " 4036.0573303616043,\n",
       " 4155.908336398033,\n",
       " 36036.99489434581,\n",
       " 4448.141668788194,\n",
       " 4460.983412830651,\n",
       " 4015.585698865346,\n",
       " 6742.121766984359,\n",
       " 6306.182393176586,\n",
       " 4351.009782779821,\n",
       " 4316.6633525523785,\n",
       " 4114.454732456192,\n",
       " 4298.110257254934,\n",
       " 4315.792799939673,\n",
       " 4082.213658043611,\n",
       " 4334.3306198436685,\n",
       " 4028.03381163508,\n",
       " 5310.318066886959,\n",
       " 4249.532408861317,\n",
       " 4489.50300119544,\n",
       " 4427.571720828578,\n",
       " 4315.2507368881525,\n",
       " 4196.450758867772,\n",
       " 3997.2005531478007,\n",
       " 4155.293680691087,\n",
       " 6594.956593241292,\n",
       " 4234.361023717623,\n",
       " 5019.0108540965975,\n",
       " 4427.711221807534,\n",
       " 5889.237398106958,\n",
       " 4792.5254947115845,\n",
       " 10200.057676666964,\n",
       " 3994.805443164756,\n",
       " 4018.443883319447,\n",
       " 4102.55324043071,\n",
       " 4196.135395664868,\n",
       " 4002.223906285669,\n",
       " 4048.831790753675,\n",
       " 4510.685229579508,\n",
       " 4553.805215498037,\n",
       " 4021.197674601245,\n",
       " 4155.038370173929,\n",
       " 4351.722875986092,\n",
       " 4281.47708451019,\n",
       " 6742.310578610977,\n",
       " 3991.9392010576703,\n",
       " 4156.748482336714,\n",
       " 18509.357197914065,\n",
       " 6817.880208332123,\n",
       " 4005.9189322897387,\n",
       " 4032.7065401655773,\n",
       " 4315.266136469642,\n",
       " 4297.800988339684,\n",
       " 4006.9624855012944,\n",
       " 17791.92771779105,\n",
       " 4149.61020758666,\n",
       " 8865.180049630568,\n",
       " 31837.89692712474,\n",
       " 4162.022691565686,\n",
       " 4015.363470398786,\n",
       " 4370.28087914679,\n",
       " 4448.033570671673,\n",
       " 4176.144548546514,\n",
       " 4103.164829191303,\n",
       " 4064.433101985758,\n",
       " 4175.722004341258,\n",
       " 4478.120003449438,\n",
       " 3995.3685891706964,\n",
       " 3998.7562464829753,\n",
       " 4486.793387593333,\n",
       " 4034.7695640103616,\n",
       " 4003.1017286824003,\n",
       " 4218.307819942766,\n",
       " 4063.627030661731,\n",
       " 7347.732609910724,\n",
       " 4162.650611872008,\n",
       " 4175.782496459883,\n",
       " 4514.575291356545,\n",
       " 4437.552850035527,\n",
       " 4063.683904818666,\n",
       " 4429.336943968765,\n",
       " 3990.8595417870206,\n",
       " 4182.017839926732,\n",
       " 4055.5001958451016,\n",
       " 4533.33645939965,\n",
       " 6413.349749198959,\n",
       " 4297.776613741702,\n",
       " 4369.957531548426,\n",
       " 9361.485270587553,\n",
       " 99966.05856501426,\n",
       " 4124.729749220854,\n",
       " 10073.346934266263,\n",
       " 5076.241510129562,\n",
       " 4586.986334752935,\n",
       " 4614.682070633937,\n",
       " 4163.312189847662,\n",
       " 4078.5169539929057,\n",
       " 3991.3703393976066,\n",
       " 4370.209252728753,\n",
       " 4499.439890884739,\n",
       " 4316.693173440476,\n",
       " 9319.793719316245,\n",
       " 6413.215418935836,\n",
       " 4510.479534278401,\n",
       " 4335.300942113925,\n",
       " 3991.5082544246266,\n",
       " 4400.798050297769,\n",
       " 4050.8378019224815,\n",
       " 4333.23311295935,\n",
       " 3997.3194122990085,\n",
       " 17687.712544136917,\n",
       " 4655.590158460874,\n",
       " 7580.646123807851,\n",
       " 20398.537351318148,\n",
       " 4209.838423657409,\n",
       " 4371.323092168802,\n",
       " 4408.350549073786,\n",
       " 4000.1981578268815,\n",
       " 4351.355389706637,\n",
       " 4055.9522059962383,\n",
       " 4458.7039794216425,\n",
       " 4298.141946946285,\n",
       " 3991.076490264424,\n",
       " 4005.929351389475,\n",
       " 4249.434643614052,\n",
       " 4078.4030100727227,\n",
       " 4091.9852306339544,\n",
       " 3991.4036994661037,\n",
       " 7659.384180415123,\n",
       " 4072.7043880218976,\n",
       " 3996.017178715712,\n",
       " 4092.226409081402,\n",
       " 4053.5798364877405,\n",
       " 4113.597175892762,\n",
       " 4297.984569291397,\n",
       " 4093.0186809584634,\n",
       " 4264.943699774434,\n",
       " 4240.443023988659,\n",
       " 4155.085945841022,\n",
       " 4369.713215292468,\n",
       " 4646.201104118032,\n",
       " 4137.281730501379,\n",
       " 4369.630267586219,\n",
       " 5464.970890723225,\n",
       " 4018.9529430751863,\n",
       " 4219.144681555604,\n",
       " 26420.44994864788,\n",
       " 3997.412474931831,\n",
       " 4189.315531775852,\n",
       " 4488.999665677663,\n",
       " 4073.0404610091073,\n",
       " 4203.561453155296,\n",
       " 4576.321658242352,\n",
       " 4282.24156772642,\n",
       " 4163.622634073247,\n",
       " 4248.824326721998,\n",
       " 4299.317787154217,\n",
       " 5991.842465627838,\n",
       " 36996.40371383244,\n",
       " 16651.965412363024,\n",
       " 4283.374515647107,\n",
       " 4087.211229123009,\n",
       " 4316.192952333202,\n",
       " 4533.358516918401,\n",
       " 4176.345647199934,\n",
       " 4370.94003021647,\n",
       " 4092.302131292429,\n",
       " 4312.296531675935,\n",
       " 4155.541872668107,\n",
       " 4577.688512735786,\n",
       " 4297.903918949698,\n",
       " 4764.951006363797,\n",
       " 4428.999816532948,\n",
       " 4233.042949322281,\n",
       " 4047.7412534186496,\n",
       " 4033.978503395813,\n",
       " 45688.218211516854,\n",
       " 4029.324520800783,\n",
       " 4912.461273767395,\n",
       " 4102.714687275288,\n",
       " 5762.452797300489,\n",
       " 8134.872860144491,\n",
       " 4034.0206632646828,\n",
       " 4281.979585301664,\n",
       " 4234.788437167578,\n",
       " 4333.928336804943,\n",
       " 4669.027960757768,\n",
       " 4137.35905235114,\n",
       " 4351.085599358536,\n",
       " 4510.491494122115,\n",
       " 4315.580404364443,\n",
       " 4352.0919571856075,\n",
       " 4082.045577100666,\n",
       " 4102.442274634682,\n",
       " 4249.214928424254,\n",
       " 3992.086321676846,\n",
       " 4195.564228450283,\n",
       " 6741.990347524392,\n",
       " 4280.939712845283,\n",
       " 4576.55223589791,\n",
       " 4082.973222022644,\n",
       " 4468.335139449418,\n",
       " 4149.205904961445,\n",
       " 4015.399741340414,\n",
       " 4009.0791585632087,\n",
       " 17657.64300057101,\n",
       " 4006.1615200094407,\n",
       " 4072.6499850197515,\n",
       " 7502.990641290039,\n",
       " 4136.933018947136,\n",
       " 4333.015569236978,\n",
       " 4033.149134542553,\n",
       " 6705.065107834433,\n",
       " 4150.481615706632,\n",
       " 4469.37010091359,\n",
       " 5722.254026192707,\n",
       " 4397.894827099226,\n",
       " 4103.211721113135,\n",
       " 4162.585878535496,\n",
       " 4389.422528999738,\n",
       " 4388.304236432976,\n",
       " 4369.859245919038,\n",
       " 4599.052006292298,\n",
       " 4189.2599422870535,\n",
       " 4587.443547267825,\n",
       " 4113.955548113209,\n",
       " 4131.0824674145815,\n",
       " 4453.654891576464,\n",
       " 4266.142095328348,\n",
       " 4554.6510182986,\n",
       " 4142.716825803001,\n",
       " 3990.503501173528,\n",
       " 4189.125066464532,\n",
       " 4047.875509191921,\n",
       " 4188.929874304002,\n",
       " 4448.002507301979,\n",
       " 3998.579989522056,\n",
       " 3990.564262255872,\n",
       " 4417.687810572046,\n",
       " 7816.770515817918,\n",
       " 4599.073014333742,\n",
       " 4203.630345087363,\n",
       " 4188.902504410456,\n",
       " 14144.298567884094,\n",
       " 5689.6946252788075,\n",
       " 5657.514049951169,\n",
       " 4282.877432591341,\n",
       " 3997.0168384476465,\n",
       " 4281.0799127765,\n",
       " 4390.168702696426,\n",
       " 16651.990580070476,\n",
       " 11180.792596713669,\n",
       " 8235.596340396783,\n",
       " 4723.548682694698,\n",
       " 4092.7690828386594,\n",
       " 4017.8057470906974,\n",
       " 4018.049774287479,\n",
       " 3993.731510545969,\n",
       " 4047.156663111536,\n",
       " 4537.856766320088,\n",
       " 4671.418178797339,\n",
       " 4019.281393798622,\n",
       " 4315.537391543066,\n",
       " 45688.22028230008,\n",
       " 4073.119409419111,\n",
       " 4369.724198722076,\n",
       " 4018.029050180849,\n",
       " 4083.2315704753214,\n",
       " 4510.277576075397,\n",
       " 3999.2135332563175,\n",
       " 4370.41863969743,\n",
       " 4113.95354978266,\n",
       " 4281.090607475349,\n",
       " 3989.9733779212165,\n",
       " 4102.689805700994,\n",
       " 4909.94037775229,\n",
       " 4124.743040873538,\n",
       " 4428.92336495828,\n",
       " 3990.7412197664694,\n",
       " ...]"
      ]
     },
     "execution_count": 155,
     "metadata": {},
     "output_type": "execute_result"
    }
   ],
   "source": [
    "# implement the Hamming distance\n",
    "def hamming_distance(x1: np.ndarray, x2: np.ndarray) -> float:\n",
    "    return np.mean(x1 != x2)\n",
    "\n",
    "# implement euclidean distance\n",
    "def euclidean_distance(x1: np.ndarray, x2: np.ndarray) -> float:\n",
    "    return np.sqrt(np.sum((x1 - x2)**2))\n",
    "\n",
    "# implement custom distance as average between hamming and euclidean distance\n",
    "# hamming distance is applied to dummy variables\n",
    "# euclidean distance is applied to continuous variables\n",
    "\n",
    "# implement function which check if numpy column is made of 0 or 1\n",
    "def is_dummy(x: np.ndarray) -> bool:\n",
    "    return np.all(np.isin(x, [0, 1]))\n",
    "\n",
    "# function to extract all dummy columns in numpy array\n",
    "def get_dummy_columns(X: np.ndarray) -> List:\n",
    "    p = X.shape[1]\n",
    "    return [j for j in range(p) if is_dummy(X[:, j])]\n",
    "\n",
    "# function which apply custom distance to numpy array\n",
    "# hamming distance for dummy variables\n",
    "# euclidean distance for continuous variables\n",
    "# return mean distance between two numpy arrays\n",
    "def custom_distance(X: np.ndarray, x: np.ndarray) -> float:\n",
    "\n",
    "    p1, p2 = X.shape[1], x.shape[0]\n",
    "    if p1 != p2:\n",
    "        raise ValueError(\"x1 and x2 must have the same number of columns\")\n",
    "    \n",
    "    dummy_columns = get_dummy_columns(X)\n",
    "    quant_columns = [j for j in range(p1) if j not in dummy_columns]\n",
    "\n",
    "    hamming_dist = hamming_distance(X[:, dummy_columns], x[dummy_columns])\n",
    "    euclidean_dist = euclidean_distance(X[:, quant_columns], x[quant_columns])\n",
    "\n",
    "    dist = np.mean([hamming_dist, euclidean_dist])\n",
    "    return dist\n",
    "\n",
    "# apply custom_distance between X_tr[\"exp\"] and all points in X_te2\n",
    "dists = [custom_distance(X_tr[\"exp\"], x) for x in X_te2]\n",
    "dists"
   ]
  },
  {
   "attachments": {},
   "cell_type": "markdown",
   "metadata": {},
   "source": [
    "## Optimisation via `optuna`\n",
    "\n",
    "Le matrice des features se compose des variables sélectionnées via la méthode `mutual_info_regression`. "
   ]
  },
  {
   "cell_type": "code",
   "execution_count": 59,
   "metadata": {},
   "outputs": [],
   "source": [
    "import sqlalchemy\n",
    "from optuna import Trial, create_study"
   ]
  },
  {
   "cell_type": "code",
   "execution_count": 60,
   "metadata": {},
   "outputs": [
    {
     "data": {
      "text/plain": [
       "8"
      ]
     },
     "execution_count": 60,
     "metadata": {},
     "output_type": "execute_result"
    }
   ],
   "source": [
    "from multiprocessing import cpu_count \n",
    "CPU_COUNT = cpu_count()\n",
    "CPU_COUNT"
   ]
  },
  {
   "cell_type": "code",
   "execution_count": 61,
   "metadata": {},
   "outputs": [],
   "source": [
    "X_tr = get_feature_vector(df_train, features=selected_features, return_df=False)\n",
    "y_tr = get_target_vector(df_train, target=\"l_valeur_fonciere\", return_series=False)\n",
    "\n",
    "X_te = get_feature_vector(df_test, features=selected_features, return_df=False)\n",
    "y_te = get_target_vector(df_test, target=\"l_valeur_fonciere\", return_series=False)"
   ]
  },
  {
   "cell_type": "code",
   "execution_count": 62,
   "metadata": {},
   "outputs": [],
   "source": [
    "from typing import Union\n",
    "\n",
    "def get_price(y: Union[float, np.ndarray]) -> Union[float, np.ndarray]: \n",
    "    \"\"\"Description. Remove logarithm to get predicted price.\"\"\"\n",
    "\n",
    "    return np.exp(y)"
   ]
  },
  {
   "cell_type": "code",
   "execution_count": 63,
   "metadata": {},
   "outputs": [],
   "source": [
    "def objective_xgb(\n",
    "        trial: Trial, \n",
    "        X_tr: np.ndarray, \n",
    "        y_tr: np.ndarray, \n",
    "        X_te: np.ndarray, \n",
    "        y_te: np.ndarray\n",
    "    ) -> float:\n",
    "    \"\"\"Description.\n",
    "    Objective function to otpimize XGBRegressor hyperparameters.\n",
    "\n",
    "    Args:\n",
    "        trial (Trial): optuna trial\n",
    "        X_tr (np.ndarray): training features\n",
    "        y_tr (np.ndarray): training target\n",
    "        X_te (np.ndarray): test features\n",
    "        y_te (np.ndarray): test target\n",
    "\n",
    "    Returns: MAPE between predicted prices and real prices on test set.\n",
    "    \n",
    "    Details: target variable is the logarithm of the price (l_valeur_fonciere).\"\"\"\n",
    "\n",
    "    # define the hyperparameters to optimize\n",
    "    n_estimators = trial.suggest_int(\"n_estimators\", 100, 1000)\n",
    "    max_depth = trial.suggest_int(\"max_depth\", 3, 10)\n",
    "    learning_rate = trial.suggest_uniform(\"learning_rate\", 0.01, 0.5)\n",
    "    gamma = trial.suggest_uniform(\"gamma\", 0.01, 0.5)\n",
    "    reg_lambda = trial.suggest_uniform(\"reg_lambda\", 0.01, 0.5)\n",
    "    reg_alpha = trial.suggest_uniform(\"reg_alpha\", 0.01, 0.5)\n",
    "\n",
    "    # define the model\n",
    "    model = XGBRegressor(\n",
    "        n_estimators=n_estimators,\n",
    "        max_depth=max_depth,\n",
    "        learning_rate=learning_rate,\n",
    "        gamma=gamma,\n",
    "        reg_lambda=reg_lambda,\n",
    "        reg_alpha=reg_alpha,\n",
    "        random_state=0\n",
    "    )\n",
    "\n",
    "    # fit the model\n",
    "    model.fit(X_tr, y_tr)\n",
    "\n",
    "    # predict the target variable\n",
    "    pred = model.predict(X_te)\n",
    "\n",
    "    # retrieve prices\n",
    "    prices = get_price(y_te)\n",
    "    pred_prices = get_price(pred)\n",
    "\n",
    "    # compute the mape\n",
    "    mape = mean_absolute_percentage_error(prices, pred_prices)\n",
    "\n",
    "    return mape"
   ]
  },
  {
   "cell_type": "code",
   "execution_count": 66,
   "metadata": {},
   "outputs": [
    {
     "name": "stderr",
     "output_type": "stream",
     "text": [
      "\u001b[32m[I 2023-03-28 17:01:34,181]\u001b[0m A new study created in memory with name: no-name-5f792242-e248-49dc-ba6e-b249ca82174d\u001b[0m\n",
      "c:\\Users\\pemma\\AppData\\Local\\Programs\\Python\\Python39\\lib\\site-packages\\optuna\\progress_bar.py:49: ExperimentalWarning: Progress bar is experimental (supported from v1.2.0). The interface can change in the future.\n",
      "  self._init_valid()\n"
     ]
    },
    {
     "data": {
      "application/vnd.jupyter.widget-view+json": {
       "model_id": "33b6bd7b46c24daf912c8cdd4d9a7eab",
       "version_major": 2,
       "version_minor": 0
      },
      "text/plain": [
       "  0%|          | 0/20 [00:00<?, ?it/s]"
      ]
     },
     "metadata": {},
     "output_type": "display_data"
    },
    {
     "name": "stderr",
     "output_type": "stream",
     "text": [
      "C:\\Users\\pemma\\AppData\\Local\\Temp/ipykernel_8852/2099483390.py:25: FutureWarning: suggest_uniform has been deprecated in v3.0.0. This feature will be removed in v6.0.0. See https://github.com/optuna/optuna/releases/tag/v3.0.0. Use :func:`~optuna.trial.Trial.suggest_float` instead.\n",
      "  learning_rate = trial.suggest_uniform(\"learning_rate\", 0.01, 0.5)\n",
      "C:\\Users\\pemma\\AppData\\Local\\Temp/ipykernel_8852/2099483390.py:26: FutureWarning: suggest_uniform has been deprecated in v3.0.0. This feature will be removed in v6.0.0. See https://github.com/optuna/optuna/releases/tag/v3.0.0. Use :func:`~optuna.trial.Trial.suggest_float` instead.\n",
      "  gamma = trial.suggest_uniform(\"gamma\", 0.01, 0.5)\n",
      "C:\\Users\\pemma\\AppData\\Local\\Temp/ipykernel_8852/2099483390.py:27: FutureWarning: suggest_uniform has been deprecated in v3.0.0. This feature will be removed in v6.0.0. See https://github.com/optuna/optuna/releases/tag/v3.0.0. Use :func:`~optuna.trial.Trial.suggest_float` instead.\n",
      "  reg_lambda = trial.suggest_uniform(\"reg_lambda\", 0.01, 0.5)\n",
      "C:\\Users\\pemma\\AppData\\Local\\Temp/ipykernel_8852/2099483390.py:28: FutureWarning: suggest_uniform has been deprecated in v3.0.0. This feature will be removed in v6.0.0. See https://github.com/optuna/optuna/releases/tag/v3.0.0. Use :func:`~optuna.trial.Trial.suggest_float` instead.\n",
      "  reg_alpha = trial.suggest_uniform(\"reg_alpha\", 0.01, 0.5)\n"
     ]
    },
    {
     "name": "stdout",
     "output_type": "stream",
     "text": [
      "\u001b[32m[I 2023-03-28 17:02:21,481]\u001b[0m Trial 1 finished with value: 0.15559238392408178 and parameters: {'n_estimators': 285, 'max_depth': 3, 'learning_rate': 0.300020907858521, 'gamma': 0.3951211820024587, 'reg_lambda': 0.1610029312761373, 'reg_alpha': 0.07365989458224448}. Best is trial 1 with value: 0.15559238392408178.\u001b[0m\n"
     ]
    },
    {
     "name": "stderr",
     "output_type": "stream",
     "text": [
      "C:\\Users\\pemma\\AppData\\Local\\Temp/ipykernel_8852/2099483390.py:25: FutureWarning: suggest_uniform has been deprecated in v3.0.0. This feature will be removed in v6.0.0. See https://github.com/optuna/optuna/releases/tag/v3.0.0. Use :func:`~optuna.trial.Trial.suggest_float` instead.\n",
      "  learning_rate = trial.suggest_uniform(\"learning_rate\", 0.01, 0.5)\n",
      "C:\\Users\\pemma\\AppData\\Local\\Temp/ipykernel_8852/2099483390.py:26: FutureWarning: suggest_uniform has been deprecated in v3.0.0. This feature will be removed in v6.0.0. See https://github.com/optuna/optuna/releases/tag/v3.0.0. Use :func:`~optuna.trial.Trial.suggest_float` instead.\n",
      "  gamma = trial.suggest_uniform(\"gamma\", 0.01, 0.5)\n",
      "C:\\Users\\pemma\\AppData\\Local\\Temp/ipykernel_8852/2099483390.py:27: FutureWarning: suggest_uniform has been deprecated in v3.0.0. This feature will be removed in v6.0.0. See https://github.com/optuna/optuna/releases/tag/v3.0.0. Use :func:`~optuna.trial.Trial.suggest_float` instead.\n",
      "  reg_lambda = trial.suggest_uniform(\"reg_lambda\", 0.01, 0.5)\n",
      "C:\\Users\\pemma\\AppData\\Local\\Temp/ipykernel_8852/2099483390.py:28: FutureWarning: suggest_uniform has been deprecated in v3.0.0. This feature will be removed in v6.0.0. See https://github.com/optuna/optuna/releases/tag/v3.0.0. Use :func:`~optuna.trial.Trial.suggest_float` instead.\n",
      "  reg_alpha = trial.suggest_uniform(\"reg_alpha\", 0.01, 0.5)\n"
     ]
    },
    {
     "name": "stdout",
     "output_type": "stream",
     "text": [
      "\u001b[32m[I 2023-03-28 17:03:32,603]\u001b[0m Trial 6 finished with value: 0.1547812179228622 and parameters: {'n_estimators': 545, 'max_depth': 3, 'learning_rate': 0.1554040548158562, 'gamma': 0.22253091557354474, 'reg_lambda': 0.42613608584916146, 'reg_alpha': 0.26126416751400283}. Best is trial 6 with value: 0.1547812179228622.\u001b[0m\n"
     ]
    },
    {
     "name": "stderr",
     "output_type": "stream",
     "text": [
      "C:\\Users\\pemma\\AppData\\Local\\Temp/ipykernel_8852/2099483390.py:25: FutureWarning: suggest_uniform has been deprecated in v3.0.0. This feature will be removed in v6.0.0. See https://github.com/optuna/optuna/releases/tag/v3.0.0. Use :func:`~optuna.trial.Trial.suggest_float` instead.\n",
      "  learning_rate = trial.suggest_uniform(\"learning_rate\", 0.01, 0.5)\n",
      "C:\\Users\\pemma\\AppData\\Local\\Temp/ipykernel_8852/2099483390.py:26: FutureWarning: suggest_uniform has been deprecated in v3.0.0. This feature will be removed in v6.0.0. See https://github.com/optuna/optuna/releases/tag/v3.0.0. Use :func:`~optuna.trial.Trial.suggest_float` instead.\n",
      "  gamma = trial.suggest_uniform(\"gamma\", 0.01, 0.5)\n",
      "C:\\Users\\pemma\\AppData\\Local\\Temp/ipykernel_8852/2099483390.py:27: FutureWarning: suggest_uniform has been deprecated in v3.0.0. This feature will be removed in v6.0.0. See https://github.com/optuna/optuna/releases/tag/v3.0.0. Use :func:`~optuna.trial.Trial.suggest_float` instead.\n",
      "  reg_lambda = trial.suggest_uniform(\"reg_lambda\", 0.01, 0.5)\n",
      "C:\\Users\\pemma\\AppData\\Local\\Temp/ipykernel_8852/2099483390.py:28: FutureWarning: suggest_uniform has been deprecated in v3.0.0. This feature will be removed in v6.0.0. See https://github.com/optuna/optuna/releases/tag/v3.0.0. Use :func:`~optuna.trial.Trial.suggest_float` instead.\n",
      "  reg_alpha = trial.suggest_uniform(\"reg_alpha\", 0.01, 0.5)\n"
     ]
    },
    {
     "name": "stdout",
     "output_type": "stream",
     "text": [
      "\u001b[32m[I 2023-03-28 17:03:56,150]\u001b[0m Trial 7 finished with value: 0.7212123316653004 and parameters: {'n_estimators': 179, 'max_depth': 3, 'learning_rate': 0.012691634937189805, 'gamma': 0.16329379819090498, 'reg_lambda': 0.4973982251824015, 'reg_alpha': 0.48057191081281597}. Best is trial 6 with value: 0.1547812179228622.\u001b[0m\n"
     ]
    },
    {
     "name": "stderr",
     "output_type": "stream",
     "text": [
      "C:\\Users\\pemma\\AppData\\Local\\Temp/ipykernel_8852/2099483390.py:25: FutureWarning: suggest_uniform has been deprecated in v3.0.0. This feature will be removed in v6.0.0. See https://github.com/optuna/optuna/releases/tag/v3.0.0. Use :func:`~optuna.trial.Trial.suggest_float` instead.\n",
      "  learning_rate = trial.suggest_uniform(\"learning_rate\", 0.01, 0.5)\n",
      "C:\\Users\\pemma\\AppData\\Local\\Temp/ipykernel_8852/2099483390.py:26: FutureWarning: suggest_uniform has been deprecated in v3.0.0. This feature will be removed in v6.0.0. See https://github.com/optuna/optuna/releases/tag/v3.0.0. Use :func:`~optuna.trial.Trial.suggest_float` instead.\n",
      "  gamma = trial.suggest_uniform(\"gamma\", 0.01, 0.5)\n",
      "C:\\Users\\pemma\\AppData\\Local\\Temp/ipykernel_8852/2099483390.py:27: FutureWarning: suggest_uniform has been deprecated in v3.0.0. This feature will be removed in v6.0.0. See https://github.com/optuna/optuna/releases/tag/v3.0.0. Use :func:`~optuna.trial.Trial.suggest_float` instead.\n",
      "  reg_lambda = trial.suggest_uniform(\"reg_lambda\", 0.01, 0.5)\n",
      "C:\\Users\\pemma\\AppData\\Local\\Temp/ipykernel_8852/2099483390.py:28: FutureWarning: suggest_uniform has been deprecated in v3.0.0. This feature will be removed in v6.0.0. See https://github.com/optuna/optuna/releases/tag/v3.0.0. Use :func:`~optuna.trial.Trial.suggest_float` instead.\n",
      "  reg_alpha = trial.suggest_uniform(\"reg_alpha\", 0.01, 0.5)\n"
     ]
    },
    {
     "name": "stdout",
     "output_type": "stream",
     "text": [
      "\u001b[32m[I 2023-03-28 17:04:05,551]\u001b[0m Trial 2 finished with value: 0.15303029226743695 and parameters: {'n_estimators': 217, 'max_depth': 9, 'learning_rate': 0.15397616164583366, 'gamma': 0.23665116292441904, 'reg_lambda': 0.19023553828054485, 'reg_alpha': 0.3896131811532659}. Best is trial 2 with value: 0.15303029226743695.\u001b[0m\n"
     ]
    },
    {
     "name": "stderr",
     "output_type": "stream",
     "text": [
      "C:\\Users\\pemma\\AppData\\Local\\Temp/ipykernel_8852/2099483390.py:25: FutureWarning: suggest_uniform has been deprecated in v3.0.0. This feature will be removed in v6.0.0. See https://github.com/optuna/optuna/releases/tag/v3.0.0. Use :func:`~optuna.trial.Trial.suggest_float` instead.\n",
      "  learning_rate = trial.suggest_uniform(\"learning_rate\", 0.01, 0.5)\n",
      "C:\\Users\\pemma\\AppData\\Local\\Temp/ipykernel_8852/2099483390.py:26: FutureWarning: suggest_uniform has been deprecated in v3.0.0. This feature will be removed in v6.0.0. See https://github.com/optuna/optuna/releases/tag/v3.0.0. Use :func:`~optuna.trial.Trial.suggest_float` instead.\n",
      "  gamma = trial.suggest_uniform(\"gamma\", 0.01, 0.5)\n",
      "C:\\Users\\pemma\\AppData\\Local\\Temp/ipykernel_8852/2099483390.py:27: FutureWarning: suggest_uniform has been deprecated in v3.0.0. This feature will be removed in v6.0.0. See https://github.com/optuna/optuna/releases/tag/v3.0.0. Use :func:`~optuna.trial.Trial.suggest_float` instead.\n",
      "  reg_lambda = trial.suggest_uniform(\"reg_lambda\", 0.01, 0.5)\n",
      "C:\\Users\\pemma\\AppData\\Local\\Temp/ipykernel_8852/2099483390.py:28: FutureWarning: suggest_uniform has been deprecated in v3.0.0. This feature will be removed in v6.0.0. See https://github.com/optuna/optuna/releases/tag/v3.0.0. Use :func:`~optuna.trial.Trial.suggest_float` instead.\n",
      "  reg_alpha = trial.suggest_uniform(\"reg_alpha\", 0.01, 0.5)\n"
     ]
    },
    {
     "name": "stdout",
     "output_type": "stream",
     "text": [
      "\u001b[32m[I 2023-03-28 17:04:41,709]\u001b[0m Trial 5 finished with value: 0.15532364591511216 and parameters: {'n_estimators': 909, 'max_depth': 4, 'learning_rate': 0.33262215311522103, 'gamma': 0.22462675025083434, 'reg_lambda': 0.18765846765787933, 'reg_alpha': 0.4205024252854827}. Best is trial 2 with value: 0.15303029226743695.\u001b[0m\n"
     ]
    },
    {
     "name": "stderr",
     "output_type": "stream",
     "text": [
      "C:\\Users\\pemma\\AppData\\Local\\Temp/ipykernel_8852/2099483390.py:25: FutureWarning: suggest_uniform has been deprecated in v3.0.0. This feature will be removed in v6.0.0. See https://github.com/optuna/optuna/releases/tag/v3.0.0. Use :func:`~optuna.trial.Trial.suggest_float` instead.\n",
      "  learning_rate = trial.suggest_uniform(\"learning_rate\", 0.01, 0.5)\n",
      "C:\\Users\\pemma\\AppData\\Local\\Temp/ipykernel_8852/2099483390.py:26: FutureWarning: suggest_uniform has been deprecated in v3.0.0. This feature will be removed in v6.0.0. See https://github.com/optuna/optuna/releases/tag/v3.0.0. Use :func:`~optuna.trial.Trial.suggest_float` instead.\n",
      "  gamma = trial.suggest_uniform(\"gamma\", 0.01, 0.5)\n",
      "C:\\Users\\pemma\\AppData\\Local\\Temp/ipykernel_8852/2099483390.py:27: FutureWarning: suggest_uniform has been deprecated in v3.0.0. This feature will be removed in v6.0.0. See https://github.com/optuna/optuna/releases/tag/v3.0.0. Use :func:`~optuna.trial.Trial.suggest_float` instead.\n",
      "  reg_lambda = trial.suggest_uniform(\"reg_lambda\", 0.01, 0.5)\n",
      "C:\\Users\\pemma\\AppData\\Local\\Temp/ipykernel_8852/2099483390.py:28: FutureWarning: suggest_uniform has been deprecated in v3.0.0. This feature will be removed in v6.0.0. See https://github.com/optuna/optuna/releases/tag/v3.0.0. Use :func:`~optuna.trial.Trial.suggest_float` instead.\n",
      "  reg_alpha = trial.suggest_uniform(\"reg_alpha\", 0.01, 0.5)\n"
     ]
    },
    {
     "name": "stdout",
     "output_type": "stream",
     "text": [
      "\u001b[32m[I 2023-03-28 17:04:55,210]\u001b[0m Trial 9 finished with value: 0.15506625761982737 and parameters: {'n_estimators': 340, 'max_depth': 3, 'learning_rate': 0.17269002351497906, 'gamma': 0.29116447488695557, 'reg_lambda': 0.4161615384815705, 'reg_alpha': 0.10242769595958355}. Best is trial 2 with value: 0.15303029226743695.\u001b[0m\n"
     ]
    },
    {
     "name": "stderr",
     "output_type": "stream",
     "text": [
      "C:\\Users\\pemma\\AppData\\Local\\Temp/ipykernel_8852/2099483390.py:25: FutureWarning: suggest_uniform has been deprecated in v3.0.0. This feature will be removed in v6.0.0. See https://github.com/optuna/optuna/releases/tag/v3.0.0. Use :func:`~optuna.trial.Trial.suggest_float` instead.\n",
      "  learning_rate = trial.suggest_uniform(\"learning_rate\", 0.01, 0.5)\n",
      "C:\\Users\\pemma\\AppData\\Local\\Temp/ipykernel_8852/2099483390.py:26: FutureWarning: suggest_uniform has been deprecated in v3.0.0. This feature will be removed in v6.0.0. See https://github.com/optuna/optuna/releases/tag/v3.0.0. Use :func:`~optuna.trial.Trial.suggest_float` instead.\n",
      "  gamma = trial.suggest_uniform(\"gamma\", 0.01, 0.5)\n",
      "C:\\Users\\pemma\\AppData\\Local\\Temp/ipykernel_8852/2099483390.py:27: FutureWarning: suggest_uniform has been deprecated in v3.0.0. This feature will be removed in v6.0.0. See https://github.com/optuna/optuna/releases/tag/v3.0.0. Use :func:`~optuna.trial.Trial.suggest_float` instead.\n",
      "  reg_lambda = trial.suggest_uniform(\"reg_lambda\", 0.01, 0.5)\n",
      "C:\\Users\\pemma\\AppData\\Local\\Temp/ipykernel_8852/2099483390.py:28: FutureWarning: suggest_uniform has been deprecated in v3.0.0. This feature will be removed in v6.0.0. See https://github.com/optuna/optuna/releases/tag/v3.0.0. Use :func:`~optuna.trial.Trial.suggest_float` instead.\n",
      "  reg_alpha = trial.suggest_uniform(\"reg_alpha\", 0.01, 0.5)\n"
     ]
    },
    {
     "name": "stdout",
     "output_type": "stream",
     "text": [
      "\u001b[32m[I 2023-03-28 17:05:10,760]\u001b[0m Trial 4 finished with value: 0.1571773707602538 and parameters: {'n_estimators': 732, 'max_depth': 5, 'learning_rate': 0.46861209430419404, 'gamma': 0.44070778420226125, 'reg_lambda': 0.4938081914162234, 'reg_alpha': 0.26613889424953535}. Best is trial 2 with value: 0.15303029226743695.\u001b[0m\n"
     ]
    },
    {
     "name": "stderr",
     "output_type": "stream",
     "text": [
      "C:\\Users\\pemma\\AppData\\Local\\Temp/ipykernel_8852/2099483390.py:25: FutureWarning: suggest_uniform has been deprecated in v3.0.0. This feature will be removed in v6.0.0. See https://github.com/optuna/optuna/releases/tag/v3.0.0. Use :func:`~optuna.trial.Trial.suggest_float` instead.\n",
      "  learning_rate = trial.suggest_uniform(\"learning_rate\", 0.01, 0.5)\n",
      "C:\\Users\\pemma\\AppData\\Local\\Temp/ipykernel_8852/2099483390.py:26: FutureWarning: suggest_uniform has been deprecated in v3.0.0. This feature will be removed in v6.0.0. See https://github.com/optuna/optuna/releases/tag/v3.0.0. Use :func:`~optuna.trial.Trial.suggest_float` instead.\n",
      "  gamma = trial.suggest_uniform(\"gamma\", 0.01, 0.5)\n",
      "C:\\Users\\pemma\\AppData\\Local\\Temp/ipykernel_8852/2099483390.py:27: FutureWarning: suggest_uniform has been deprecated in v3.0.0. This feature will be removed in v6.0.0. See https://github.com/optuna/optuna/releases/tag/v3.0.0. Use :func:`~optuna.trial.Trial.suggest_float` instead.\n",
      "  reg_lambda = trial.suggest_uniform(\"reg_lambda\", 0.01, 0.5)\n",
      "C:\\Users\\pemma\\AppData\\Local\\Temp/ipykernel_8852/2099483390.py:28: FutureWarning: suggest_uniform has been deprecated in v3.0.0. This feature will be removed in v6.0.0. See https://github.com/optuna/optuna/releases/tag/v3.0.0. Use :func:`~optuna.trial.Trial.suggest_float` instead.\n",
      "  reg_alpha = trial.suggest_uniform(\"reg_alpha\", 0.01, 0.5)\n"
     ]
    },
    {
     "name": "stdout",
     "output_type": "stream",
     "text": [
      "\u001b[32m[I 2023-03-28 17:05:28,099]\u001b[0m Trial 8 finished with value: 0.15459904627198076 and parameters: {'n_estimators': 147, 'max_depth': 9, 'learning_rate': 0.22747539179450343, 'gamma': 0.3539647199648401, 'reg_lambda': 0.36833124611034795, 'reg_alpha': 0.10870578955190562}. Best is trial 2 with value: 0.15303029226743695.\u001b[0m\n"
     ]
    },
    {
     "name": "stderr",
     "output_type": "stream",
     "text": [
      "C:\\Users\\pemma\\AppData\\Local\\Temp/ipykernel_8852/2099483390.py:25: FutureWarning: suggest_uniform has been deprecated in v3.0.0. This feature will be removed in v6.0.0. See https://github.com/optuna/optuna/releases/tag/v3.0.0. Use :func:`~optuna.trial.Trial.suggest_float` instead.\n",
      "  learning_rate = trial.suggest_uniform(\"learning_rate\", 0.01, 0.5)\n",
      "C:\\Users\\pemma\\AppData\\Local\\Temp/ipykernel_8852/2099483390.py:26: FutureWarning: suggest_uniform has been deprecated in v3.0.0. This feature will be removed in v6.0.0. See https://github.com/optuna/optuna/releases/tag/v3.0.0. Use :func:`~optuna.trial.Trial.suggest_float` instead.\n",
      "  gamma = trial.suggest_uniform(\"gamma\", 0.01, 0.5)\n",
      "C:\\Users\\pemma\\AppData\\Local\\Temp/ipykernel_8852/2099483390.py:27: FutureWarning: suggest_uniform has been deprecated in v3.0.0. This feature will be removed in v6.0.0. See https://github.com/optuna/optuna/releases/tag/v3.0.0. Use :func:`~optuna.trial.Trial.suggest_float` instead.\n",
      "  reg_lambda = trial.suggest_uniform(\"reg_lambda\", 0.01, 0.5)\n",
      "C:\\Users\\pemma\\AppData\\Local\\Temp/ipykernel_8852/2099483390.py:28: FutureWarning: suggest_uniform has been deprecated in v3.0.0. This feature will be removed in v6.0.0. See https://github.com/optuna/optuna/releases/tag/v3.0.0. Use :func:`~optuna.trial.Trial.suggest_float` instead.\n",
      "  reg_alpha = trial.suggest_uniform(\"reg_alpha\", 0.01, 0.5)\n"
     ]
    },
    {
     "name": "stdout",
     "output_type": "stream",
     "text": [
      "\u001b[32m[I 2023-03-28 17:06:07,442]\u001b[0m Trial 10 finished with value: 0.1540138039647718 and parameters: {'n_estimators': 340, 'max_depth': 5, 'learning_rate': 0.12030884558915692, 'gamma': 0.2845274029586666, 'reg_lambda': 0.482713774958961, 'reg_alpha': 0.4947791726470892}. Best is trial 2 with value: 0.15303029226743695.\u001b[0m\n"
     ]
    },
    {
     "name": "stderr",
     "output_type": "stream",
     "text": [
      "C:\\Users\\pemma\\AppData\\Local\\Temp/ipykernel_8852/2099483390.py:25: FutureWarning: suggest_uniform has been deprecated in v3.0.0. This feature will be removed in v6.0.0. See https://github.com/optuna/optuna/releases/tag/v3.0.0. Use :func:`~optuna.trial.Trial.suggest_float` instead.\n",
      "  learning_rate = trial.suggest_uniform(\"learning_rate\", 0.01, 0.5)\n",
      "C:\\Users\\pemma\\AppData\\Local\\Temp/ipykernel_8852/2099483390.py:26: FutureWarning: suggest_uniform has been deprecated in v3.0.0. This feature will be removed in v6.0.0. See https://github.com/optuna/optuna/releases/tag/v3.0.0. Use :func:`~optuna.trial.Trial.suggest_float` instead.\n",
      "  gamma = trial.suggest_uniform(\"gamma\", 0.01, 0.5)\n",
      "C:\\Users\\pemma\\AppData\\Local\\Temp/ipykernel_8852/2099483390.py:27: FutureWarning: suggest_uniform has been deprecated in v3.0.0. This feature will be removed in v6.0.0. See https://github.com/optuna/optuna/releases/tag/v3.0.0. Use :func:`~optuna.trial.Trial.suggest_float` instead.\n",
      "  reg_lambda = trial.suggest_uniform(\"reg_lambda\", 0.01, 0.5)\n",
      "C:\\Users\\pemma\\AppData\\Local\\Temp/ipykernel_8852/2099483390.py:28: FutureWarning: suggest_uniform has been deprecated in v3.0.0. This feature will be removed in v6.0.0. See https://github.com/optuna/optuna/releases/tag/v3.0.0. Use :func:`~optuna.trial.Trial.suggest_float` instead.\n",
      "  reg_alpha = trial.suggest_uniform(\"reg_alpha\", 0.01, 0.5)\n"
     ]
    },
    {
     "name": "stdout",
     "output_type": "stream",
     "text": [
      "\u001b[32m[I 2023-03-28 17:06:34,863]\u001b[0m Trial 13 finished with value: 0.15546193915769196 and parameters: {'n_estimators': 101, 'max_depth': 9, 'learning_rate': 0.32222640419033016, 'gamma': 0.48809375054824056, 'reg_lambda': 0.32377081904866606, 'reg_alpha': 0.13598566782663557}. Best is trial 2 with value: 0.15303029226743695.\u001b[0m\n"
     ]
    },
    {
     "name": "stderr",
     "output_type": "stream",
     "text": [
      "C:\\Users\\pemma\\AppData\\Local\\Temp/ipykernel_8852/2099483390.py:25: FutureWarning: suggest_uniform has been deprecated in v3.0.0. This feature will be removed in v6.0.0. See https://github.com/optuna/optuna/releases/tag/v3.0.0. Use :func:`~optuna.trial.Trial.suggest_float` instead.\n",
      "  learning_rate = trial.suggest_uniform(\"learning_rate\", 0.01, 0.5)\n",
      "C:\\Users\\pemma\\AppData\\Local\\Temp/ipykernel_8852/2099483390.py:26: FutureWarning: suggest_uniform has been deprecated in v3.0.0. This feature will be removed in v6.0.0. See https://github.com/optuna/optuna/releases/tag/v3.0.0. Use :func:`~optuna.trial.Trial.suggest_float` instead.\n",
      "  gamma = trial.suggest_uniform(\"gamma\", 0.01, 0.5)\n",
      "C:\\Users\\pemma\\AppData\\Local\\Temp/ipykernel_8852/2099483390.py:27: FutureWarning: suggest_uniform has been deprecated in v3.0.0. This feature will be removed in v6.0.0. See https://github.com/optuna/optuna/releases/tag/v3.0.0. Use :func:`~optuna.trial.Trial.suggest_float` instead.\n",
      "  reg_lambda = trial.suggest_uniform(\"reg_lambda\", 0.01, 0.5)\n",
      "C:\\Users\\pemma\\AppData\\Local\\Temp/ipykernel_8852/2099483390.py:28: FutureWarning: suggest_uniform has been deprecated in v3.0.0. This feature will be removed in v6.0.0. See https://github.com/optuna/optuna/releases/tag/v3.0.0. Use :func:`~optuna.trial.Trial.suggest_float` instead.\n",
      "  reg_alpha = trial.suggest_uniform(\"reg_alpha\", 0.01, 0.5)\n"
     ]
    },
    {
     "name": "stdout",
     "output_type": "stream",
     "text": [
      "\u001b[32m[I 2023-03-28 17:06:59,272]\u001b[0m Trial 3 finished with value: 0.15372457670074166 and parameters: {'n_estimators': 984, 'max_depth': 6, 'learning_rate': 0.15485470129394355, 'gamma': 0.16898035957851404, 'reg_lambda': 0.3462492877263293, 'reg_alpha': 0.09552427445116085}. Best is trial 2 with value: 0.15303029226743695.\u001b[0m\n"
     ]
    },
    {
     "name": "stderr",
     "output_type": "stream",
     "text": [
      "C:\\Users\\pemma\\AppData\\Local\\Temp/ipykernel_8852/2099483390.py:25: FutureWarning: suggest_uniform has been deprecated in v3.0.0. This feature will be removed in v6.0.0. See https://github.com/optuna/optuna/releases/tag/v3.0.0. Use :func:`~optuna.trial.Trial.suggest_float` instead.\n",
      "  learning_rate = trial.suggest_uniform(\"learning_rate\", 0.01, 0.5)\n",
      "C:\\Users\\pemma\\AppData\\Local\\Temp/ipykernel_8852/2099483390.py:26: FutureWarning: suggest_uniform has been deprecated in v3.0.0. This feature will be removed in v6.0.0. See https://github.com/optuna/optuna/releases/tag/v3.0.0. Use :func:`~optuna.trial.Trial.suggest_float` instead.\n",
      "  gamma = trial.suggest_uniform(\"gamma\", 0.01, 0.5)\n",
      "C:\\Users\\pemma\\AppData\\Local\\Temp/ipykernel_8852/2099483390.py:27: FutureWarning: suggest_uniform has been deprecated in v3.0.0. This feature will be removed in v6.0.0. See https://github.com/optuna/optuna/releases/tag/v3.0.0. Use :func:`~optuna.trial.Trial.suggest_float` instead.\n",
      "  reg_lambda = trial.suggest_uniform(\"reg_lambda\", 0.01, 0.5)\n",
      "C:\\Users\\pemma\\AppData\\Local\\Temp/ipykernel_8852/2099483390.py:28: FutureWarning: suggest_uniform has been deprecated in v3.0.0. This feature will be removed in v6.0.0. See https://github.com/optuna/optuna/releases/tag/v3.0.0. Use :func:`~optuna.trial.Trial.suggest_float` instead.\n",
      "  reg_alpha = trial.suggest_uniform(\"reg_alpha\", 0.01, 0.5)\n"
     ]
    },
    {
     "name": "stdout",
     "output_type": "stream",
     "text": [
      "\u001b[32m[I 2023-03-28 17:07:04,583]\u001b[0m Trial 12 finished with value: 0.15468520820113582 and parameters: {'n_estimators': 585, 'max_depth': 4, 'learning_rate': 0.18914781340407905, 'gamma': 0.24164623879448807, 'reg_lambda': 0.07244668251038937, 'reg_alpha': 0.2691262823196412}. Best is trial 2 with value: 0.15303029226743695.\u001b[0m\n"
     ]
    },
    {
     "name": "stderr",
     "output_type": "stream",
     "text": [
      "C:\\Users\\pemma\\AppData\\Local\\Temp/ipykernel_8852/2099483390.py:25: FutureWarning: suggest_uniform has been deprecated in v3.0.0. This feature will be removed in v6.0.0. See https://github.com/optuna/optuna/releases/tag/v3.0.0. Use :func:`~optuna.trial.Trial.suggest_float` instead.\n",
      "  learning_rate = trial.suggest_uniform(\"learning_rate\", 0.01, 0.5)\n",
      "C:\\Users\\pemma\\AppData\\Local\\Temp/ipykernel_8852/2099483390.py:26: FutureWarning: suggest_uniform has been deprecated in v3.0.0. This feature will be removed in v6.0.0. See https://github.com/optuna/optuna/releases/tag/v3.0.0. Use :func:`~optuna.trial.Trial.suggest_float` instead.\n",
      "  gamma = trial.suggest_uniform(\"gamma\", 0.01, 0.5)\n",
      "C:\\Users\\pemma\\AppData\\Local\\Temp/ipykernel_8852/2099483390.py:27: FutureWarning: suggest_uniform has been deprecated in v3.0.0. This feature will be removed in v6.0.0. See https://github.com/optuna/optuna/releases/tag/v3.0.0. Use :func:`~optuna.trial.Trial.suggest_float` instead.\n",
      "  reg_lambda = trial.suggest_uniform(\"reg_lambda\", 0.01, 0.5)\n",
      "C:\\Users\\pemma\\AppData\\Local\\Temp/ipykernel_8852/2099483390.py:28: FutureWarning: suggest_uniform has been deprecated in v3.0.0. This feature will be removed in v6.0.0. See https://github.com/optuna/optuna/releases/tag/v3.0.0. Use :func:`~optuna.trial.Trial.suggest_float` instead.\n",
      "  reg_alpha = trial.suggest_uniform(\"reg_alpha\", 0.01, 0.5)\n"
     ]
    },
    {
     "name": "stdout",
     "output_type": "stream",
     "text": [
      "\u001b[32m[I 2023-03-28 17:07:17,988]\u001b[0m Trial 0 finished with value: 0.15423044627531587 and parameters: {'n_estimators': 490, 'max_depth': 9, 'learning_rate': 0.27598479622965133, 'gamma': 0.29626275440009797, 'reg_lambda': 0.27829222525003433, 'reg_alpha': 0.29013694643987925}. Best is trial 2 with value: 0.15303029226743695.\u001b[0m\n"
     ]
    },
    {
     "name": "stderr",
     "output_type": "stream",
     "text": [
      "C:\\Users\\pemma\\AppData\\Local\\Temp/ipykernel_8852/2099483390.py:25: FutureWarning: suggest_uniform has been deprecated in v3.0.0. This feature will be removed in v6.0.0. See https://github.com/optuna/optuna/releases/tag/v3.0.0. Use :func:`~optuna.trial.Trial.suggest_float` instead.\n",
      "  learning_rate = trial.suggest_uniform(\"learning_rate\", 0.01, 0.5)\n",
      "C:\\Users\\pemma\\AppData\\Local\\Temp/ipykernel_8852/2099483390.py:26: FutureWarning: suggest_uniform has been deprecated in v3.0.0. This feature will be removed in v6.0.0. See https://github.com/optuna/optuna/releases/tag/v3.0.0. Use :func:`~optuna.trial.Trial.suggest_float` instead.\n",
      "  gamma = trial.suggest_uniform(\"gamma\", 0.01, 0.5)\n",
      "C:\\Users\\pemma\\AppData\\Local\\Temp/ipykernel_8852/2099483390.py:27: FutureWarning: suggest_uniform has been deprecated in v3.0.0. This feature will be removed in v6.0.0. See https://github.com/optuna/optuna/releases/tag/v3.0.0. Use :func:`~optuna.trial.Trial.suggest_float` instead.\n",
      "  reg_lambda = trial.suggest_uniform(\"reg_lambda\", 0.01, 0.5)\n",
      "C:\\Users\\pemma\\AppData\\Local\\Temp/ipykernel_8852/2099483390.py:28: FutureWarning: suggest_uniform has been deprecated in v3.0.0. This feature will be removed in v6.0.0. See https://github.com/optuna/optuna/releases/tag/v3.0.0. Use :func:`~optuna.trial.Trial.suggest_float` instead.\n",
      "  reg_alpha = trial.suggest_uniform(\"reg_alpha\", 0.01, 0.5)\n"
     ]
    },
    {
     "name": "stdout",
     "output_type": "stream",
     "text": [
      "\u001b[32m[I 2023-03-28 17:10:37,012]\u001b[0m Trial 15 finished with value: 0.16637355552908456 and parameters: {'n_estimators': 533, 'max_depth': 7, 'learning_rate': 0.4379448361020137, 'gamma': 0.016364807191903558, 'reg_lambda': 0.026352240872070637, 'reg_alpha': 0.3588583901893221}. Best is trial 2 with value: 0.15303029226743695.\u001b[0m\n"
     ]
    },
    {
     "name": "stderr",
     "output_type": "stream",
     "text": [
      "C:\\Users\\pemma\\AppData\\Local\\Temp/ipykernel_8852/2099483390.py:25: FutureWarning: suggest_uniform has been deprecated in v3.0.0. This feature will be removed in v6.0.0. See https://github.com/optuna/optuna/releases/tag/v3.0.0. Use :func:`~optuna.trial.Trial.suggest_float` instead.\n",
      "  learning_rate = trial.suggest_uniform(\"learning_rate\", 0.01, 0.5)\n",
      "C:\\Users\\pemma\\AppData\\Local\\Temp/ipykernel_8852/2099483390.py:26: FutureWarning: suggest_uniform has been deprecated in v3.0.0. This feature will be removed in v6.0.0. See https://github.com/optuna/optuna/releases/tag/v3.0.0. Use :func:`~optuna.trial.Trial.suggest_float` instead.\n",
      "  gamma = trial.suggest_uniform(\"gamma\", 0.01, 0.5)\n",
      "C:\\Users\\pemma\\AppData\\Local\\Temp/ipykernel_8852/2099483390.py:27: FutureWarning: suggest_uniform has been deprecated in v3.0.0. This feature will be removed in v6.0.0. See https://github.com/optuna/optuna/releases/tag/v3.0.0. Use :func:`~optuna.trial.Trial.suggest_float` instead.\n",
      "  reg_lambda = trial.suggest_uniform(\"reg_lambda\", 0.01, 0.5)\n",
      "C:\\Users\\pemma\\AppData\\Local\\Temp/ipykernel_8852/2099483390.py:28: FutureWarning: suggest_uniform has been deprecated in v3.0.0. This feature will be removed in v6.0.0. See https://github.com/optuna/optuna/releases/tag/v3.0.0. Use :func:`~optuna.trial.Trial.suggest_float` instead.\n",
      "  reg_alpha = trial.suggest_uniform(\"reg_alpha\", 0.01, 0.5)\n"
     ]
    },
    {
     "name": "stdout",
     "output_type": "stream",
     "text": [
      "\u001b[32m[I 2023-03-28 17:11:16,802]\u001b[0m Trial 16 finished with value: 0.15198540435750246 and parameters: {'n_estimators': 583, 'max_depth': 7, 'learning_rate': 0.05543096391630732, 'gamma': 0.014788535417877419, 'reg_lambda': 0.05443221493891659, 'reg_alpha': 0.3597610418653328}. Best is trial 16 with value: 0.15198540435750246.\u001b[0m\n",
      "\u001b[32m[I 2023-03-28 17:11:52,163]\u001b[0m Trial 11 finished with value: 0.15361586357675833 and parameters: {'n_estimators': 792, 'max_depth': 8, 'learning_rate': 0.1012718451008537, 'gamma': 0.38526225355836796, 'reg_lambda': 0.252556732978112, 'reg_alpha': 0.1315403865394165}. Best is trial 16 with value: 0.15198540435750246.\u001b[0m\n",
      "\u001b[32m[I 2023-03-28 17:12:16,689]\u001b[0m Trial 14 finished with value: 0.15973873826019103 and parameters: {'n_estimators': 564, 'max_depth': 10, 'learning_rate': 0.35210047960508933, 'gamma': 0.14107517528927263, 'reg_lambda': 0.3114171317864296, 'reg_alpha': 0.06055982801912615}. Best is trial 16 with value: 0.15198540435750246.\u001b[0m\n",
      "\u001b[32m[I 2023-03-28 17:13:08,823]\u001b[0m Trial 17 finished with value: 0.15198495433353604 and parameters: {'n_estimators': 989, 'max_depth': 7, 'learning_rate': 0.04780859339537709, 'gamma': 0.092618809743685, 'reg_lambda': 0.2648170349629024, 'reg_alpha': 0.3665042650121594}. Best is trial 17 with value: 0.15198495433353604.\u001b[0m\n",
      "\u001b[32m[I 2023-03-28 17:13:15,372]\u001b[0m Trial 18 finished with value: 0.15229713899783573 and parameters: {'n_estimators': 977, 'max_depth': 7, 'learning_rate': 0.06666747900273615, 'gamma': 0.03466077858387592, 'reg_lambda': 0.18528215354922062, 'reg_alpha': 0.36019896141201807}. Best is trial 17 with value: 0.15198495433353604.\u001b[0m\n",
      "\u001b[32m[I 2023-03-28 17:13:53,555]\u001b[0m Trial 19 finished with value: 0.15166540945881 and parameters: {'n_estimators': 999, 'max_depth': 7, 'learning_rate': 0.07680122746435507, 'gamma': 0.09732284022175444, 'reg_lambda': 0.19842343518323083, 'reg_alpha': 0.16775744269280204}. Best is trial 19 with value: 0.15166540945881.\u001b[0m\n"
     ]
    }
   ],
   "source": [
    "# create the study\n",
    "study = create_study(direction=\"minimize\")\n",
    "\n",
    "# optimize the hyperparameters\n",
    "study.optimize(\n",
    "    lambda trial: objective_xgb(trial, X_tr, y_tr, X_te, y_te),\n",
    "    n_trials=20,\n",
    "    n_jobs=CPU_COUNT-2,\n",
    "    gc_after_trial=True, \n",
    "    show_progress_bar=True\n",
    ")"
   ]
  },
  {
   "cell_type": "code",
   "execution_count": 68,
   "metadata": {},
   "outputs": [
    {
     "data": {
      "text/plain": [
       "FrozenTrial(number=19, values=[0.15166540945881], datetime_start=datetime.datetime(2023, 3, 28, 17, 10, 37, 192656), datetime_complete=datetime.datetime(2023, 3, 28, 17, 13, 53, 554063), params={'n_estimators': 999, 'max_depth': 7, 'learning_rate': 0.07680122746435507, 'gamma': 0.09732284022175444, 'reg_lambda': 0.19842343518323083, 'reg_alpha': 0.16775744269280204}, distributions={'n_estimators': IntDistribution(high=1000, log=False, low=100, step=1), 'max_depth': IntDistribution(high=10, log=False, low=3, step=1), 'learning_rate': FloatDistribution(high=0.5, log=False, low=0.01, step=None), 'gamma': FloatDistribution(high=0.5, log=False, low=0.01, step=None), 'reg_lambda': FloatDistribution(high=0.5, log=False, low=0.01, step=None), 'reg_alpha': FloatDistribution(high=0.5, log=False, low=0.01, step=None)}, user_attrs={}, system_attrs={}, intermediate_values={}, trial_id=19, state=TrialState.COMPLETE, value=None)"
      ]
     },
     "execution_count": 68,
     "metadata": {},
     "output_type": "execute_result"
    }
   ],
   "source": [
    "study.best_trial"
   ]
  }
 ],
 "metadata": {
  "kernelspec": {
   "display_name": "Python 3",
   "language": "python",
   "name": "python3"
  },
  "language_info": {
   "codemirror_mode": {
    "name": "ipython",
    "version": 3
   },
   "file_extension": ".py",
   "mimetype": "text/x-python",
   "name": "python",
   "nbconvert_exporter": "python",
   "pygments_lexer": "ipython3",
   "version": "3.9.9"
  },
  "orig_nbformat": 4
 },
 "nbformat": 4,
 "nbformat_minor": 2
}
