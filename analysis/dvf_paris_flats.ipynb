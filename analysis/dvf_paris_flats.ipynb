{
 "cells": [
  {
   "attachments": {},
   "cell_type": "markdown",
   "metadata": {},
   "source": [
    "# Analyse du jeu de données DVF - Appartements à Paris\n",
    "\n",
    "L\"objectif est d\"analyser les transactions pour les **appartements** situés à **Paris** entre 2017 et 2022:\n",
    "- Filtres statiques\n",
    "- Modèles de régression\n",
    "- Valeurs aberrantes\n",
    "- Contribution des variables"
   ]
  },
  {
   "attachments": {},
   "cell_type": "markdown",
   "metadata": {},
   "source": [
    "## Setup"
   ]
  },
  {
   "cell_type": "code",
   "execution_count": 1,
   "metadata": {},
   "outputs": [],
   "source": [
    "import sys\n",
    "sys.path.append(\"../\")"
   ]
  },
  {
   "cell_type": "code",
   "execution_count": 2,
   "metadata": {},
   "outputs": [],
   "source": [
    "%load_ext autoreload\n",
    "%autoreload 2"
   ]
  },
  {
   "cell_type": "code",
   "execution_count": 3,
   "metadata": {},
   "outputs": [],
   "source": [
    "from lib.preprocessing import dvf"
   ]
  },
  {
   "cell_type": "code",
   "execution_count": 4,
   "metadata": {},
   "outputs": [],
   "source": [
    "import pandas as pd \n",
    "import numpy as np \n",
    "from tqdm import tqdm \n",
    "from multiprocessing import cpu_count\n",
    "\n",
    "import seaborn as sns \n",
    "import matplotlib.pyplot as plt \n",
    "\n",
    "import statsmodels.api as sm\n",
    "\n",
    "from sklearn.model_selection import train_test_split\n",
    "\n",
    "from sklearn.linear_model import (\n",
    "    LinearRegression, \n",
    "    Ridge, \n",
    "    Lasso, \n",
    "    ElasticNet\n",
    ") \n",
    "\n",
    "from sklearn.dummy import DummyRegressor\n",
    "\n",
    "from sklearn.svm import SVR\n",
    "from sklearn.neighbors import KNeighborsRegressor\n",
    "from sklearn.tree import DecisionTreeRegressor\n",
    "\n",
    "from sklearn.ensemble import RandomForestRegressor, GradientBoostingRegressor\n",
    "from xgboost import XGBRegressor\n",
    "\n",
    "from sklearn.metrics import (\n",
    "    mean_absolute_error, \n",
    "    mean_absolute_percentage_error, \n",
    "    make_scorer\n",
    ")\n",
    "from sklearn.model_selection import GridSearchCV\n",
    "from sklearn.pipeline import Pipeline\n",
    "\n",
    "import sqlalchemy\n",
    "from optuna import Trial, create_study"
   ]
  },
  {
   "cell_type": "code",
   "execution_count": 5,
   "metadata": {},
   "outputs": [
    {
     "data": {
      "text/plain": [
       "8"
      ]
     },
     "execution_count": 5,
     "metadata": {},
     "output_type": "execute_result"
    }
   ],
   "source": [
    "CPU_COUNT = cpu_count()\n",
    "CPU_COUNT"
   ]
  },
  {
   "cell_type": "code",
   "execution_count": 6,
   "metadata": {},
   "outputs": [],
   "source": [
    "pd.set_option(\"display.max_columns\", None)"
   ]
  },
  {
   "cell_type": "code",
   "execution_count": 7,
   "metadata": {},
   "outputs": [],
   "source": [
    "DATA_DIR = \"../data/\"\n",
    "ZIP_DIR = f\"{DATA_DIR}cleaned.zip\" "
   ]
  },
  {
   "attachments": {},
   "cell_type": "markdown",
   "metadata": {},
   "source": [
    "## Data\n",
    "\n",
    "On fusionne les jeux de données de 2017 à 2022 pour les **appartements** de la ville de **Paris**."
   ]
  },
  {
   "cell_type": "code",
   "execution_count": 8,
   "metadata": {},
   "outputs": [
    {
     "name": "stderr",
     "output_type": "stream",
     "text": [
      "Processing 2022: 100%|██████████| 6/6 [03:07<00:00, 31.29s/it]\n"
     ]
    }
   ],
   "source": [
    "df = dvf.concat_datasets_per_year(ZIP_DIR, geo_area=\"Paris\", property_type=\"flats\")"
   ]
  },
  {
   "cell_type": "code",
   "execution_count": 9,
   "metadata": {},
   "outputs": [
    {
     "data": {
      "text/html": [
       "<div>\n",
       "<style scoped>\n",
       "    .dataframe tbody tr th:only-of-type {\n",
       "        vertical-align: middle;\n",
       "    }\n",
       "\n",
       "    .dataframe tbody tr th {\n",
       "        vertical-align: top;\n",
       "    }\n",
       "\n",
       "    .dataframe thead th {\n",
       "        text-align: right;\n",
       "    }\n",
       "</style>\n",
       "<table border=\"1\" class=\"dataframe\">\n",
       "  <thead>\n",
       "    <tr style=\"text-align: right;\">\n",
       "      <th></th>\n",
       "      <th>id_mutation</th>\n",
       "      <th>date_mutation</th>\n",
       "      <th>numero_disposition</th>\n",
       "      <th>nature_mutation</th>\n",
       "      <th>valeur_fonciere</th>\n",
       "      <th>adresse_numero</th>\n",
       "      <th>adresse_suffixe</th>\n",
       "      <th>adresse_nom_voie</th>\n",
       "      <th>adresse_code_voie</th>\n",
       "      <th>code_postal</th>\n",
       "      <th>code_commune</th>\n",
       "      <th>nom_commune</th>\n",
       "      <th>code_departement</th>\n",
       "      <th>ancien_code_commune</th>\n",
       "      <th>ancien_nom_commune</th>\n",
       "      <th>id_parcelle</th>\n",
       "      <th>ancien_id_parcelle</th>\n",
       "      <th>numero_volume</th>\n",
       "      <th>lot1_numero</th>\n",
       "      <th>lot1_surface_carrez</th>\n",
       "      <th>lot2_numero</th>\n",
       "      <th>lot2_surface_carrez</th>\n",
       "      <th>lot3_numero</th>\n",
       "      <th>lot3_surface_carrez</th>\n",
       "      <th>lot4_numero</th>\n",
       "      <th>lot4_surface_carrez</th>\n",
       "      <th>lot5_numero</th>\n",
       "      <th>lot5_surface_carrez</th>\n",
       "      <th>nombre_lots</th>\n",
       "      <th>code_type_local</th>\n",
       "      <th>type_local</th>\n",
       "      <th>surface_reelle_bati</th>\n",
       "      <th>nombre_pieces_principales</th>\n",
       "      <th>code_nature_culture</th>\n",
       "      <th>nature_culture</th>\n",
       "      <th>code_nature_culture_speciale</th>\n",
       "      <th>nature_culture_speciale</th>\n",
       "      <th>surface_terrain</th>\n",
       "      <th>longitude</th>\n",
       "      <th>latitude</th>\n",
       "      <th>dependance</th>\n",
       "      <th>code_region</th>\n",
       "      <th>nom_departement</th>\n",
       "      <th>nom_region</th>\n",
       "      <th>degre_densite</th>\n",
       "      <th>pop</th>\n",
       "      <th>annee</th>\n",
       "      <th>trimestre</th>\n",
       "      <th>mois</th>\n",
       "      <th>jour</th>\n",
       "    </tr>\n",
       "  </thead>\n",
       "  <tbody>\n",
       "    <tr>\n",
       "      <th>160752</th>\n",
       "      <td>2022-537265</td>\n",
       "      <td>2022-05-17</td>\n",
       "      <td>1</td>\n",
       "      <td>Vente</td>\n",
       "      <td>130000.0</td>\n",
       "      <td>20.0</td>\n",
       "      <td>NaN</td>\n",
       "      <td>RUE PIERRE LEROUX</td>\n",
       "      <td>7451</td>\n",
       "      <td>75007.0</td>\n",
       "      <td>75107</td>\n",
       "      <td>Paris 7e Arrondissement</td>\n",
       "      <td>75</td>\n",
       "      <td>NaN</td>\n",
       "      <td>NaN</td>\n",
       "      <td>75107000BG0031</td>\n",
       "      <td>NaN</td>\n",
       "      <td>NaN</td>\n",
       "      <td>12.0</td>\n",
       "      <td>10.21</td>\n",
       "      <td>NaN</td>\n",
       "      <td>NaN</td>\n",
       "      <td>NaN</td>\n",
       "      <td>NaN</td>\n",
       "      <td>NaN</td>\n",
       "      <td>NaN</td>\n",
       "      <td>NaN</td>\n",
       "      <td>NaN</td>\n",
       "      <td>1</td>\n",
       "      <td>2.0</td>\n",
       "      <td>Appartement</td>\n",
       "      <td>11.0</td>\n",
       "      <td>1.0</td>\n",
       "      <td>NaN</td>\n",
       "      <td>NaN</td>\n",
       "      <td>NaN</td>\n",
       "      <td>NaN</td>\n",
       "      <td>NaN</td>\n",
       "      <td>2.319004</td>\n",
       "      <td>48.849079</td>\n",
       "      <td>0</td>\n",
       "      <td>11</td>\n",
       "      <td>Paris</td>\n",
       "      <td>Île-de-France</td>\n",
       "      <td>Paris</td>\n",
       "      <td>52512.0</td>\n",
       "      <td>2022</td>\n",
       "      <td>2</td>\n",
       "      <td>5</td>\n",
       "      <td>17</td>\n",
       "    </tr>\n",
       "    <tr>\n",
       "      <th>160753</th>\n",
       "      <td>2022-537266</td>\n",
       "      <td>2022-06-22</td>\n",
       "      <td>1</td>\n",
       "      <td>Vente</td>\n",
       "      <td>330375.0</td>\n",
       "      <td>10.0</td>\n",
       "      <td>NaN</td>\n",
       "      <td>RUE DU CHEVALERET</td>\n",
       "      <td>1990</td>\n",
       "      <td>75013.0</td>\n",
       "      <td>75113</td>\n",
       "      <td>Paris 13e Arrondissement</td>\n",
       "      <td>75</td>\n",
       "      <td>NaN</td>\n",
       "      <td>NaN</td>\n",
       "      <td>75113000CI0017</td>\n",
       "      <td>NaN</td>\n",
       "      <td>NaN</td>\n",
       "      <td>22.0</td>\n",
       "      <td>NaN</td>\n",
       "      <td>37.0</td>\n",
       "      <td>NaN</td>\n",
       "      <td>4.0</td>\n",
       "      <td>NaN</td>\n",
       "      <td>NaN</td>\n",
       "      <td>NaN</td>\n",
       "      <td>NaN</td>\n",
       "      <td>NaN</td>\n",
       "      <td>3</td>\n",
       "      <td>2.0</td>\n",
       "      <td>Appartement</td>\n",
       "      <td>40.0</td>\n",
       "      <td>2.0</td>\n",
       "      <td>NaN</td>\n",
       "      <td>NaN</td>\n",
       "      <td>NaN</td>\n",
       "      <td>NaN</td>\n",
       "      <td>NaN</td>\n",
       "      <td>2.378447</td>\n",
       "      <td>48.825798</td>\n",
       "      <td>0</td>\n",
       "      <td>11</td>\n",
       "      <td>Paris</td>\n",
       "      <td>Île-de-France</td>\n",
       "      <td>Paris</td>\n",
       "      <td>181552.0</td>\n",
       "      <td>2022</td>\n",
       "      <td>2</td>\n",
       "      <td>6</td>\n",
       "      <td>22</td>\n",
       "    </tr>\n",
       "    <tr>\n",
       "      <th>160754</th>\n",
       "      <td>2022-537267</td>\n",
       "      <td>2022-06-29</td>\n",
       "      <td>1</td>\n",
       "      <td>Vente</td>\n",
       "      <td>2801244.0</td>\n",
       "      <td>3.0</td>\n",
       "      <td>NaN</td>\n",
       "      <td>VLA JOCELYN</td>\n",
       "      <td>4983</td>\n",
       "      <td>75016.0</td>\n",
       "      <td>75116</td>\n",
       "      <td>Paris 16e Arrondissement</td>\n",
       "      <td>75</td>\n",
       "      <td>NaN</td>\n",
       "      <td>NaN</td>\n",
       "      <td>75116000EB0007</td>\n",
       "      <td>NaN</td>\n",
       "      <td>NaN</td>\n",
       "      <td>313.0</td>\n",
       "      <td>183.05</td>\n",
       "      <td>NaN</td>\n",
       "      <td>NaN</td>\n",
       "      <td>NaN</td>\n",
       "      <td>NaN</td>\n",
       "      <td>NaN</td>\n",
       "      <td>NaN</td>\n",
       "      <td>NaN</td>\n",
       "      <td>NaN</td>\n",
       "      <td>1</td>\n",
       "      <td>2.0</td>\n",
       "      <td>Appartement</td>\n",
       "      <td>172.0</td>\n",
       "      <td>6.0</td>\n",
       "      <td>NaN</td>\n",
       "      <td>NaN</td>\n",
       "      <td>NaN</td>\n",
       "      <td>NaN</td>\n",
       "      <td>NaN</td>\n",
       "      <td>2.276055</td>\n",
       "      <td>48.865299</td>\n",
       "      <td>1</td>\n",
       "      <td>11</td>\n",
       "      <td>Paris</td>\n",
       "      <td>Île-de-France</td>\n",
       "      <td>Paris</td>\n",
       "      <td>165446.0</td>\n",
       "      <td>2022</td>\n",
       "      <td>2</td>\n",
       "      <td>6</td>\n",
       "      <td>29</td>\n",
       "    </tr>\n",
       "    <tr>\n",
       "      <th>160755</th>\n",
       "      <td>2022-537271</td>\n",
       "      <td>2022-06-21</td>\n",
       "      <td>1</td>\n",
       "      <td>Vente</td>\n",
       "      <td>423000.0</td>\n",
       "      <td>43.0</td>\n",
       "      <td>NaN</td>\n",
       "      <td>RUE DES FAVORITES</td>\n",
       "      <td>3536</td>\n",
       "      <td>75015.0</td>\n",
       "      <td>75115</td>\n",
       "      <td>Paris 15e Arrondissement</td>\n",
       "      <td>75</td>\n",
       "      <td>NaN</td>\n",
       "      <td>NaN</td>\n",
       "      <td>75115000AC0055</td>\n",
       "      <td>NaN</td>\n",
       "      <td>NaN</td>\n",
       "      <td>16.0</td>\n",
       "      <td>NaN</td>\n",
       "      <td>48.0</td>\n",
       "      <td>NaN</td>\n",
       "      <td>NaN</td>\n",
       "      <td>NaN</td>\n",
       "      <td>NaN</td>\n",
       "      <td>NaN</td>\n",
       "      <td>NaN</td>\n",
       "      <td>NaN</td>\n",
       "      <td>2</td>\n",
       "      <td>2.0</td>\n",
       "      <td>Appartement</td>\n",
       "      <td>43.0</td>\n",
       "      <td>2.0</td>\n",
       "      <td>NaN</td>\n",
       "      <td>NaN</td>\n",
       "      <td>NaN</td>\n",
       "      <td>NaN</td>\n",
       "      <td>NaN</td>\n",
       "      <td>2.305379</td>\n",
       "      <td>48.837454</td>\n",
       "      <td>1</td>\n",
       "      <td>11</td>\n",
       "      <td>Paris</td>\n",
       "      <td>Île-de-France</td>\n",
       "      <td>Paris</td>\n",
       "      <td>233484.0</td>\n",
       "      <td>2022</td>\n",
       "      <td>2</td>\n",
       "      <td>6</td>\n",
       "      <td>21</td>\n",
       "    </tr>\n",
       "    <tr>\n",
       "      <th>160756</th>\n",
       "      <td>2022-537272</td>\n",
       "      <td>2022-06-30</td>\n",
       "      <td>1</td>\n",
       "      <td>Vente</td>\n",
       "      <td>104650.0</td>\n",
       "      <td>50.0</td>\n",
       "      <td>NaN</td>\n",
       "      <td>RUE LEON FROT</td>\n",
       "      <td>5554</td>\n",
       "      <td>75011.0</td>\n",
       "      <td>75111</td>\n",
       "      <td>Paris 11e Arrondissement</td>\n",
       "      <td>75</td>\n",
       "      <td>NaN</td>\n",
       "      <td>NaN</td>\n",
       "      <td>75111000BS0234</td>\n",
       "      <td>NaN</td>\n",
       "      <td>NaN</td>\n",
       "      <td>31.0</td>\n",
       "      <td>NaN</td>\n",
       "      <td>NaN</td>\n",
       "      <td>NaN</td>\n",
       "      <td>NaN</td>\n",
       "      <td>NaN</td>\n",
       "      <td>NaN</td>\n",
       "      <td>NaN</td>\n",
       "      <td>NaN</td>\n",
       "      <td>NaN</td>\n",
       "      <td>1</td>\n",
       "      <td>2.0</td>\n",
       "      <td>Appartement</td>\n",
       "      <td>15.0</td>\n",
       "      <td>1.0</td>\n",
       "      <td>NaN</td>\n",
       "      <td>NaN</td>\n",
       "      <td>NaN</td>\n",
       "      <td>NaN</td>\n",
       "      <td>NaN</td>\n",
       "      <td>2.386354</td>\n",
       "      <td>48.856079</td>\n",
       "      <td>0</td>\n",
       "      <td>11</td>\n",
       "      <td>Paris</td>\n",
       "      <td>Île-de-France</td>\n",
       "      <td>Paris</td>\n",
       "      <td>147017.0</td>\n",
       "      <td>2022</td>\n",
       "      <td>2</td>\n",
       "      <td>6</td>\n",
       "      <td>30</td>\n",
       "    </tr>\n",
       "  </tbody>\n",
       "</table>\n",
       "</div>"
      ],
      "text/plain": [
       "        id_mutation date_mutation  numero_disposition nature_mutation  \\\n",
       "160752  2022-537265    2022-05-17                   1           Vente   \n",
       "160753  2022-537266    2022-06-22                   1           Vente   \n",
       "160754  2022-537267    2022-06-29                   1           Vente   \n",
       "160755  2022-537271    2022-06-21                   1           Vente   \n",
       "160756  2022-537272    2022-06-30                   1           Vente   \n",
       "\n",
       "        valeur_fonciere  adresse_numero adresse_suffixe   adresse_nom_voie  \\\n",
       "160752         130000.0            20.0             NaN  RUE PIERRE LEROUX   \n",
       "160753         330375.0            10.0             NaN  RUE DU CHEVALERET   \n",
       "160754        2801244.0             3.0             NaN        VLA JOCELYN   \n",
       "160755         423000.0            43.0             NaN  RUE DES FAVORITES   \n",
       "160756         104650.0            50.0             NaN      RUE LEON FROT   \n",
       "\n",
       "       adresse_code_voie  code_postal code_commune               nom_commune  \\\n",
       "160752              7451      75007.0        75107   Paris 7e Arrondissement   \n",
       "160753              1990      75013.0        75113  Paris 13e Arrondissement   \n",
       "160754              4983      75016.0        75116  Paris 16e Arrondissement   \n",
       "160755              3536      75015.0        75115  Paris 15e Arrondissement   \n",
       "160756              5554      75011.0        75111  Paris 11e Arrondissement   \n",
       "\n",
       "       code_departement  ancien_code_commune ancien_nom_commune  \\\n",
       "160752               75                  NaN                NaN   \n",
       "160753               75                  NaN                NaN   \n",
       "160754               75                  NaN                NaN   \n",
       "160755               75                  NaN                NaN   \n",
       "160756               75                  NaN                NaN   \n",
       "\n",
       "           id_parcelle ancien_id_parcelle numero_volume lot1_numero  \\\n",
       "160752  75107000BG0031                NaN           NaN        12.0   \n",
       "160753  75113000CI0017                NaN           NaN        22.0   \n",
       "160754  75116000EB0007                NaN           NaN       313.0   \n",
       "160755  75115000AC0055                NaN           NaN        16.0   \n",
       "160756  75111000BS0234                NaN           NaN        31.0   \n",
       "\n",
       "        lot1_surface_carrez lot2_numero  lot2_surface_carrez lot3_numero  \\\n",
       "160752                10.21         NaN                  NaN         NaN   \n",
       "160753                  NaN        37.0                  NaN         4.0   \n",
       "160754               183.05         NaN                  NaN         NaN   \n",
       "160755                  NaN        48.0                  NaN         NaN   \n",
       "160756                  NaN         NaN                  NaN         NaN   \n",
       "\n",
       "        lot3_surface_carrez lot4_numero  lot4_surface_carrez lot5_numero  \\\n",
       "160752                  NaN         NaN                  NaN         NaN   \n",
       "160753                  NaN         NaN                  NaN         NaN   \n",
       "160754                  NaN         NaN                  NaN         NaN   \n",
       "160755                  NaN         NaN                  NaN         NaN   \n",
       "160756                  NaN         NaN                  NaN         NaN   \n",
       "\n",
       "        lot5_surface_carrez  nombre_lots  code_type_local   type_local  \\\n",
       "160752                  NaN            1              2.0  Appartement   \n",
       "160753                  NaN            3              2.0  Appartement   \n",
       "160754                  NaN            1              2.0  Appartement   \n",
       "160755                  NaN            2              2.0  Appartement   \n",
       "160756                  NaN            1              2.0  Appartement   \n",
       "\n",
       "        surface_reelle_bati  nombre_pieces_principales code_nature_culture  \\\n",
       "160752                 11.0                        1.0                 NaN   \n",
       "160753                 40.0                        2.0                 NaN   \n",
       "160754                172.0                        6.0                 NaN   \n",
       "160755                 43.0                        2.0                 NaN   \n",
       "160756                 15.0                        1.0                 NaN   \n",
       "\n",
       "       nature_culture code_nature_culture_speciale nature_culture_speciale  \\\n",
       "160752            NaN                          NaN                     NaN   \n",
       "160753            NaN                          NaN                     NaN   \n",
       "160754            NaN                          NaN                     NaN   \n",
       "160755            NaN                          NaN                     NaN   \n",
       "160756            NaN                          NaN                     NaN   \n",
       "\n",
       "        surface_terrain  longitude   latitude  dependance code_region  \\\n",
       "160752              NaN   2.319004  48.849079           0          11   \n",
       "160753              NaN   2.378447  48.825798           0          11   \n",
       "160754              NaN   2.276055  48.865299           1          11   \n",
       "160755              NaN   2.305379  48.837454           1          11   \n",
       "160756              NaN   2.386354  48.856079           0          11   \n",
       "\n",
       "       nom_departement     nom_region degre_densite       pop  annee  \\\n",
       "160752           Paris  Île-de-France         Paris   52512.0   2022   \n",
       "160753           Paris  Île-de-France         Paris  181552.0   2022   \n",
       "160754           Paris  Île-de-France         Paris  165446.0   2022   \n",
       "160755           Paris  Île-de-France         Paris  233484.0   2022   \n",
       "160756           Paris  Île-de-France         Paris  147017.0   2022   \n",
       "\n",
       "        trimestre  mois  jour  \n",
       "160752          2     5    17  \n",
       "160753          2     6    22  \n",
       "160754          2     6    29  \n",
       "160755          2     6    21  \n",
       "160756          2     6    30  "
      ]
     },
     "execution_count": 9,
     "metadata": {},
     "output_type": "execute_result"
    }
   ],
   "source": [
    "df.tail()"
   ]
  },
  {
   "cell_type": "code",
   "execution_count": 10,
   "metadata": {},
   "outputs": [
    {
     "data": {
      "text/plain": [
       "(160757, 50)"
      ]
     },
     "execution_count": 10,
     "metadata": {},
     "output_type": "execute_result"
    }
   ],
   "source": [
    "df.shape"
   ]
  },
  {
   "cell_type": "code",
   "execution_count": 11,
   "metadata": {},
   "outputs": [
    {
     "name": "stdout",
     "output_type": "stream",
     "text": [
      "160757 transactions uniques pour les appartements à Paris\n"
     ]
    }
   ],
   "source": [
    "n_unique_ids = df.id_mutation.unique().shape[0]\n",
    "assert n_unique_ids == df.shape[0]\n",
    "\n",
    "print(f\"{n_unique_ids} transactions uniques pour les appartements à Paris\")"
   ]
  },
  {
   "attachments": {},
   "cell_type": "markdown",
   "metadata": {},
   "source": [
    "### Sélection des variables"
   ]
  },
  {
   "cell_type": "code",
   "execution_count": 12,
   "metadata": {},
   "outputs": [],
   "source": [
    "VARS = [\n",
    "    \"id_mutation\", \n",
    "    \"valeur_fonciere\",\n",
    "    \"nom_commune\",\n",
    "    \"longitude\",\n",
    "    \"latitude\", \n",
    "    \"pop\", \n",
    "    \"annee\", \n",
    "    \"trimestre\", \n",
    "    \"mois\", \n",
    "    \"jour\", \n",
    "    \"dependance\", \n",
    "    \"surface_terrain\", \n",
    "    \"surface_reelle_bati\", \n",
    "    \"nombre_pieces_principales\" \n",
    "]\n",
    "\n",
    "df2 = df.loc[:, df.columns.isin(VARS)]"
   ]
  },
  {
   "cell_type": "code",
   "execution_count": 13,
   "metadata": {},
   "outputs": [
    {
     "data": {
      "text/plain": [
       "(160757, 14)"
      ]
     },
     "execution_count": 13,
     "metadata": {},
     "output_type": "execute_result"
    }
   ],
   "source": [
    "df2.shape"
   ]
  },
  {
   "attachments": {},
   "cell_type": "markdown",
   "metadata": {},
   "source": [
    "### Filtres statiques\n",
    "\n",
    "**Objectif** : éliminer les biens ayant des caractéristiques aberrantes pouvant ajouter du bruit aux données"
   ]
  },
  {
   "cell_type": "code",
   "execution_count": 14,
   "metadata": {},
   "outputs": [
    {
     "data": {
      "text/html": [
       "<div>\n",
       "<style scoped>\n",
       "    .dataframe tbody tr th:only-of-type {\n",
       "        vertical-align: middle;\n",
       "    }\n",
       "\n",
       "    .dataframe tbody tr th {\n",
       "        vertical-align: top;\n",
       "    }\n",
       "\n",
       "    .dataframe thead th {\n",
       "        text-align: right;\n",
       "    }\n",
       "</style>\n",
       "<table border=\"1\" class=\"dataframe\">\n",
       "  <thead>\n",
       "    <tr style=\"text-align: right;\">\n",
       "      <th></th>\n",
       "      <th>valeur_fonciere</th>\n",
       "      <th>surface_reelle_bati</th>\n",
       "      <th>nombre_pieces_principales</th>\n",
       "      <th>surface_terrain</th>\n",
       "      <th>longitude</th>\n",
       "      <th>latitude</th>\n",
       "      <th>dependance</th>\n",
       "      <th>pop</th>\n",
       "      <th>annee</th>\n",
       "      <th>trimestre</th>\n",
       "      <th>mois</th>\n",
       "      <th>jour</th>\n",
       "    </tr>\n",
       "  </thead>\n",
       "  <tbody>\n",
       "    <tr>\n",
       "      <th>count</th>\n",
       "      <td>1.606820e+05</td>\n",
       "      <td>160756.000000</td>\n",
       "      <td>160756.000000</td>\n",
       "      <td>138.000000</td>\n",
       "      <td>160593.000000</td>\n",
       "      <td>160593.000000</td>\n",
       "      <td>160757.000000</td>\n",
       "      <td>160757.000000</td>\n",
       "      <td>160757.000000</td>\n",
       "      <td>160757.000000</td>\n",
       "      <td>160757.00000</td>\n",
       "      <td>160757.000000</td>\n",
       "    </tr>\n",
       "    <tr>\n",
       "      <th>mean</th>\n",
       "      <td>5.774656e+05</td>\n",
       "      <td>53.627877</td>\n",
       "      <td>2.411282</td>\n",
       "      <td>420.840580</td>\n",
       "      <td>2.340310</td>\n",
       "      <td>48.862293</td>\n",
       "      <td>0.278737</td>\n",
       "      <td>146606.664686</td>\n",
       "      <td>2019.485030</td>\n",
       "      <td>2.534154</td>\n",
       "      <td>6.62439</td>\n",
       "      <td>16.565157</td>\n",
       "    </tr>\n",
       "    <tr>\n",
       "      <th>std</th>\n",
       "      <td>8.807797e+05</td>\n",
       "      <td>39.868650</td>\n",
       "      <td>1.296799</td>\n",
       "      <td>576.248847</td>\n",
       "      <td>0.037832</td>\n",
       "      <td>0.019980</td>\n",
       "      <td>0.448379</td>\n",
       "      <td>61840.601802</td>\n",
       "      <td>1.526087</td>\n",
       "      <td>1.109350</td>\n",
       "      <td>3.39794</td>\n",
       "      <td>8.881552</td>\n",
       "    </tr>\n",
       "    <tr>\n",
       "      <th>min</th>\n",
       "      <td>1.500000e-01</td>\n",
       "      <td>1.000000</td>\n",
       "      <td>0.000000</td>\n",
       "      <td>33.000000</td>\n",
       "      <td>2.255896</td>\n",
       "      <td>48.818759</td>\n",
       "      <td>0.000000</td>\n",
       "      <td>16252.000000</td>\n",
       "      <td>2017.000000</td>\n",
       "      <td>1.000000</td>\n",
       "      <td>1.00000</td>\n",
       "      <td>1.000000</td>\n",
       "    </tr>\n",
       "    <tr>\n",
       "      <th>25%</th>\n",
       "      <td>2.550000e+05</td>\n",
       "      <td>28.000000</td>\n",
       "      <td>1.000000</td>\n",
       "      <td>144.250000</td>\n",
       "      <td>2.310880</td>\n",
       "      <td>48.845756</td>\n",
       "      <td>0.000000</td>\n",
       "      <td>91932.000000</td>\n",
       "      <td>2018.000000</td>\n",
       "      <td>2.000000</td>\n",
       "      <td>4.00000</td>\n",
       "      <td>9.000000</td>\n",
       "    </tr>\n",
       "    <tr>\n",
       "      <th>50%</th>\n",
       "      <td>4.100000e+05</td>\n",
       "      <td>43.000000</td>\n",
       "      <td>2.000000</td>\n",
       "      <td>210.500000</td>\n",
       "      <td>2.343348</td>\n",
       "      <td>48.862767</td>\n",
       "      <td>0.000000</td>\n",
       "      <td>165446.000000</td>\n",
       "      <td>2019.000000</td>\n",
       "      <td>3.000000</td>\n",
       "      <td>7.00000</td>\n",
       "      <td>17.000000</td>\n",
       "    </tr>\n",
       "    <tr>\n",
       "      <th>75%</th>\n",
       "      <td>6.775000e+05</td>\n",
       "      <td>68.000000</td>\n",
       "      <td>3.000000</td>\n",
       "      <td>453.250000</td>\n",
       "      <td>2.371079</td>\n",
       "      <td>48.879998</td>\n",
       "      <td>1.000000</td>\n",
       "      <td>195060.000000</td>\n",
       "      <td>2021.000000</td>\n",
       "      <td>4.000000</td>\n",
       "      <td>10.00000</td>\n",
       "      <td>25.000000</td>\n",
       "    </tr>\n",
       "    <tr>\n",
       "      <th>max</th>\n",
       "      <td>1.315000e+08</td>\n",
       "      <td>1500.000000</td>\n",
       "      <td>26.000000</td>\n",
       "      <td>4006.000000</td>\n",
       "      <td>2.412825</td>\n",
       "      <td>48.900565</td>\n",
       "      <td>1.000000</td>\n",
       "      <td>233484.000000</td>\n",
       "      <td>2022.000000</td>\n",
       "      <td>4.000000</td>\n",
       "      <td>12.00000</td>\n",
       "      <td>31.000000</td>\n",
       "    </tr>\n",
       "  </tbody>\n",
       "</table>\n",
       "</div>"
      ],
      "text/plain": [
       "       valeur_fonciere  surface_reelle_bati  nombre_pieces_principales  \\\n",
       "count     1.606820e+05        160756.000000              160756.000000   \n",
       "mean      5.774656e+05            53.627877                   2.411282   \n",
       "std       8.807797e+05            39.868650                   1.296799   \n",
       "min       1.500000e-01             1.000000                   0.000000   \n",
       "25%       2.550000e+05            28.000000                   1.000000   \n",
       "50%       4.100000e+05            43.000000                   2.000000   \n",
       "75%       6.775000e+05            68.000000                   3.000000   \n",
       "max       1.315000e+08          1500.000000                  26.000000   \n",
       "\n",
       "       surface_terrain      longitude       latitude     dependance  \\\n",
       "count       138.000000  160593.000000  160593.000000  160757.000000   \n",
       "mean        420.840580       2.340310      48.862293       0.278737   \n",
       "std         576.248847       0.037832       0.019980       0.448379   \n",
       "min          33.000000       2.255896      48.818759       0.000000   \n",
       "25%         144.250000       2.310880      48.845756       0.000000   \n",
       "50%         210.500000       2.343348      48.862767       0.000000   \n",
       "75%         453.250000       2.371079      48.879998       1.000000   \n",
       "max        4006.000000       2.412825      48.900565       1.000000   \n",
       "\n",
       "                 pop          annee      trimestre          mois  \\\n",
       "count  160757.000000  160757.000000  160757.000000  160757.00000   \n",
       "mean   146606.664686    2019.485030       2.534154       6.62439   \n",
       "std     61840.601802       1.526087       1.109350       3.39794   \n",
       "min     16252.000000    2017.000000       1.000000       1.00000   \n",
       "25%     91932.000000    2018.000000       2.000000       4.00000   \n",
       "50%    165446.000000    2019.000000       3.000000       7.00000   \n",
       "75%    195060.000000    2021.000000       4.000000      10.00000   \n",
       "max    233484.000000    2022.000000       4.000000      12.00000   \n",
       "\n",
       "                jour  \n",
       "count  160757.000000  \n",
       "mean       16.565157  \n",
       "std         8.881552  \n",
       "min         1.000000  \n",
       "25%         9.000000  \n",
       "50%        17.000000  \n",
       "75%        25.000000  \n",
       "max        31.000000  "
      ]
     },
     "execution_count": 14,
     "metadata": {},
     "output_type": "execute_result"
    }
   ],
   "source": [
    "df2.describe()"
   ]
  },
  {
   "attachments": {},
   "cell_type": "markdown",
   "metadata": {},
   "source": [
    "#### Nombre de pièces principales\n",
    "\n",
    "Suppression des biens de + de 8 pièces principales et des biens ayant aucune pièce principale. "
   ]
  },
  {
   "cell_type": "code",
   "execution_count": 15,
   "metadata": {},
   "outputs": [
    {
     "data": {
      "text/plain": [
       "2.0     54848\n",
       "1.0     42061\n",
       "3.0     36110\n",
       "4.0     16434\n",
       "5.0      7127\n",
       "6.0      2551\n",
       "7.0       969\n",
       "8.0       299\n",
       "0.0       196\n",
       "9.0        75\n",
       "10.0       47\n",
       "11.0       17\n",
       "12.0        6\n",
       "13.0        3\n",
       "17.0        2\n",
       "16.0        2\n",
       "20.0        2\n",
       "22.0        1\n",
       "21.0        1\n",
       "19.0        1\n",
       "23.0        1\n",
       "26.0        1\n",
       "14.0        1\n",
       "15.0        1\n",
       "Name: nombre_pieces_principales, dtype: int64"
      ]
     },
     "execution_count": 15,
     "metadata": {},
     "output_type": "execute_result"
    }
   ],
   "source": [
    "df2.nombre_pieces_principales.value_counts()"
   ]
  },
  {
   "cell_type": "code",
   "execution_count": 16,
   "metadata": {},
   "outputs": [],
   "source": [
    "df2 = df2.loc[\n",
    "    (df2.nombre_pieces_principales > 0) &\n",
    "    (df2.nombre_pieces_principales <= 8),\n",
    "    :\n",
    "]\n",
    "\n",
    "# convert to integer\n",
    "df2[\"nombre_pieces_principales\"] = df2[\"nombre_pieces_principales\"].astype(int)"
   ]
  },
  {
   "cell_type": "code",
   "execution_count": 17,
   "metadata": {},
   "outputs": [
    {
     "data": {
      "text/plain": [
       "2    54848\n",
       "1    42061\n",
       "3    36110\n",
       "4    16434\n",
       "5     7127\n",
       "6     2551\n",
       "7      969\n",
       "8      299\n",
       "Name: nombre_pieces_principales, dtype: int64"
      ]
     },
     "execution_count": 17,
     "metadata": {},
     "output_type": "execute_result"
    }
   ],
   "source": [
    "df2.nombre_pieces_principales.value_counts()"
   ]
  },
  {
   "attachments": {},
   "cell_type": "markdown",
   "metadata": {},
   "source": [
    "#### Surface du bien\n",
    "\n",
    "Au regard des graphiques suivants, il semble pertinent de garder les biens ayant une surface inférieure ou égale à 150m²."
   ]
  },
  {
   "cell_type": "code",
   "execution_count": 18,
   "metadata": {},
   "outputs": [
    {
     "data": {
      "image/png": "[encoded data removed]",
      "text/plain": [
       "<Figure size 1008x360 with 2 Axes>"
      ]
     },
     "metadata": {
      "needs_background": "light"
     },
     "output_type": "display_data"
    }
   ],
   "source": [
    "fig, axes = plt.subplots(ncols=2, figsize=(14, 5))\n",
    "fig.suptitle(\"Avant application du filtre\")\n",
    "\n",
    "sns.histplot(data=df2, x=\"surface_reelle_bati\", bins=100, ax=axes[0])\n",
    "sns.boxplot(data=df2, x=\"surface_reelle_bati\", ax=axes[1]);  "
   ]
  },
  {
   "cell_type": "code",
   "execution_count": 19,
   "metadata": {},
   "outputs": [],
   "source": [
    "df2 = df2.loc[df2.surface_reelle_bati <= 150, :]"
   ]
  },
  {
   "cell_type": "code",
   "execution_count": 20,
   "metadata": {},
   "outputs": [
    {
     "data": {
      "image/png": "[encoded data removed]",
      "text/plain": [
       "<Figure size 1008x360 with 2 Axes>"
      ]
     },
     "metadata": {
      "needs_background": "light"
     },
     "output_type": "display_data"
    }
   ],
   "source": [
    "fig, axes = plt.subplots(ncols=2, figsize=(14, 5))\n",
    "fig.suptitle(\"Après application du filtre\")\n",
    "\n",
    "sns.histplot(data=df2, x=\"surface_reelle_bati\", color=\"orange\", bins=100, ax=axes[0])\n",
    "sns.boxplot(data=df2, x=\"surface_reelle_bati\", color=\"orange\", ax=axes[1]);  "
   ]
  },
  {
   "attachments": {},
   "cell_type": "markdown",
   "metadata": {},
   "source": [
    "#### Surface terrain\n",
    "\n",
    "On commence par mettre à 0 les valeurs manquantes dans la colonne `surface_terrain`. "
   ]
  },
  {
   "cell_type": "code",
   "execution_count": 21,
   "metadata": {},
   "outputs": [],
   "source": [
    "def encode_field_area(area: float) -> float: \n",
    "\n",
    "    if pd.isna(area): \n",
    "        area = 0\n",
    "    return area \n",
    "\n",
    "assert encode_field_area(float(\"nan\")) == 0\n",
    "assert encode_field_area(102.) == 102.\n",
    " \n",
    "df2[\"surface_terrain\"] = df2[\"surface_terrain\"].apply(encode_field_area) "
   ]
  },
  {
   "cell_type": "code",
   "execution_count": 22,
   "metadata": {},
   "outputs": [
    {
     "data": {
      "text/plain": [
       "count    155880.000000\n",
       "mean          0.361656\n",
       "std          21.106382\n",
       "min           0.000000\n",
       "25%           0.000000\n",
       "50%           0.000000\n",
       "75%           0.000000\n",
       "max        4006.000000\n",
       "Name: surface_terrain, dtype: float64"
      ]
     },
     "execution_count": 22,
     "metadata": {},
     "output_type": "execute_result"
    }
   ],
   "source": [
    "df2[\"surface_terrain\"].describe()"
   ]
  },
  {
   "cell_type": "code",
   "execution_count": 23,
   "metadata": {},
   "outputs": [
    {
     "data": {
      "image/png": "[encoded data removed]",
      "text/plain": [
       "<Figure size 1008x360 with 2 Axes>"
      ]
     },
     "metadata": {
      "needs_background": "light"
     },
     "output_type": "display_data"
    }
   ],
   "source": [
    "fig, axes = plt.subplots(ncols=2, figsize=(14, 5))\n",
    "fig.suptitle(\"Avant application du filtre\")\n",
    "\n",
    "sns.histplot(data=df2, x=\"surface_terrain\", bins=100, ax=axes[0])\n",
    "sns.boxplot(data=df2, x=\"surface_terrain\", ax=axes[1]);  "
   ]
  },
  {
   "cell_type": "code",
   "execution_count": 24,
   "metadata": {},
   "outputs": [
    {
     "data": {
      "text/plain": [
       "0.9991852707210674"
      ]
     },
     "execution_count": 24,
     "metadata": {},
     "output_type": "execute_result"
    }
   ],
   "source": [
    "df2.loc[df2.surface_terrain == 0].shape[0] / df2.shape[0]"
   ]
  },
  {
   "attachments": {},
   "cell_type": "markdown",
   "metadata": {},
   "source": [
    "La surface du terrain est nulle pour la majorité des biens (99.91%), ce qui fait sens puisque ce sont des appartements à Paris. On décide donc de supprimer cette variable du jeu de données utilisé pour la modélisation. "
   ]
  },
  {
   "cell_type": "code",
   "execution_count": 25,
   "metadata": {},
   "outputs": [],
   "source": [
    "df2 = df2\\\n",
    "    .loc[df2.surface_terrain == 0, :]\\\n",
    "    .drop(labels=[\"surface_terrain\"], axis=1)"
   ]
  },
  {
   "cell_type": "code",
   "execution_count": 26,
   "metadata": {},
   "outputs": [
    {
     "data": {
      "text/plain": [
       "(155753, 13)"
      ]
     },
     "execution_count": 26,
     "metadata": {},
     "output_type": "execute_result"
    }
   ],
   "source": [
    "df2.shape"
   ]
  },
  {
   "cell_type": "code",
   "execution_count": 27,
   "metadata": {},
   "outputs": [
    {
     "data": {
      "text/plain": [
       "Index(['id_mutation', 'valeur_fonciere', 'nom_commune', 'surface_reelle_bati',\n",
       "       'nombre_pieces_principales', 'longitude', 'latitude', 'dependance',\n",
       "       'pop', 'annee', 'trimestre', 'mois', 'jour'],\n",
       "      dtype='object')"
      ]
     },
     "execution_count": 27,
     "metadata": {},
     "output_type": "execute_result"
    }
   ],
   "source": [
    "df2.columns"
   ]
  },
  {
   "attachments": {},
   "cell_type": "markdown",
   "metadata": {},
   "source": [
    "### Variable cible : `valeur_fonciere`"
   ]
  },
  {
   "cell_type": "code",
   "execution_count": 28,
   "metadata": {},
   "outputs": [
    {
     "data": {
      "text/plain": [
       "count    1.556800e+05\n",
       "mean     5.116951e+05\n",
       "std      4.219849e+05\n",
       "min      1.500000e-01\n",
       "25%      2.500000e+05\n",
       "50%      4.000000e+05\n",
       "75%      6.490000e+05\n",
       "max      2.700000e+07\n",
       "Name: valeur_fonciere, dtype: float64"
      ]
     },
     "execution_count": 28,
     "metadata": {},
     "output_type": "execute_result"
    }
   ],
   "source": [
    "df2[\"valeur_fonciere\"].describe()"
   ]
  },
  {
   "cell_type": "code",
   "execution_count": 29,
   "metadata": {},
   "outputs": [
    {
     "data": {
      "image/png": "[encoded data removed]",
      "text/plain": [
       "<Figure size 1008x360 with 2 Axes>"
      ]
     },
     "metadata": {
      "needs_background": "light"
     },
     "output_type": "display_data"
    }
   ],
   "source": [
    "fig, axes = plt.subplots(ncols=2, figsize=(14, 5))\n",
    "\n",
    "sns.histplot(data=df2, x=\"valeur_fonciere\", bins=100, ax=axes[0])\n",
    "sns.boxplot(data=df2, x=\"valeur_fonciere\", ax=axes[1]);  "
   ]
  },
  {
   "attachments": {},
   "cell_type": "markdown",
   "metadata": {},
   "source": [
    "On décide de transfomer la variable `valeur_fonciere` en divisant par la surface du bien (en m²) puis en prenant le logarithme. On obtient la variable `l_valeur_fonciere_m2`: \n",
    "\n",
    "$$\n",
    "\\text{l\\_valeur\\_fonciere\\_m2} = \\log \\Big(\\frac{\\text{valeur\\_fonciere}}{\\text{surface\\_reelle\\_bati}} \\Big)\n",
    "$$"
   ]
  },
  {
   "cell_type": "code",
   "execution_count": 30,
   "metadata": {},
   "outputs": [],
   "source": [
    "def transform_target_variable(price: float, area: float) -> float: \n",
    "    return np.log(price / area)\n",
    "\n",
    "df2[\"l_valeur_fonciere_m2\"] = df2.apply(lambda row: transform_target_variable(row.valeur_fonciere, row.surface_reelle_bati), axis=1) "
   ]
  },
  {
   "cell_type": "code",
   "execution_count": 31,
   "metadata": {},
   "outputs": [
    {
     "data": {
      "text/plain": [
       "count    155680.000000\n",
       "mean          9.083329\n",
       "std           0.943836\n",
       "min          -5.585999\n",
       "25%           9.051647\n",
       "50%           9.225845\n",
       "75%           9.382191\n",
       "max          13.978105\n",
       "Name: l_valeur_fonciere_m2, dtype: float64"
      ]
     },
     "execution_count": 31,
     "metadata": {},
     "output_type": "execute_result"
    }
   ],
   "source": [
    "df2[\"l_valeur_fonciere_m2\"].describe()"
   ]
  },
  {
   "cell_type": "code",
   "execution_count": 32,
   "metadata": {},
   "outputs": [
    {
     "data": {
      "image/png": "[encoded data removed]",
      "text/plain": [
       "<Figure size 1008x360 with 2 Axes>"
      ]
     },
     "metadata": {
      "needs_background": "light"
     },
     "output_type": "display_data"
    }
   ],
   "source": [
    "fig, axes = plt.subplots(ncols=2, figsize=(14, 5))\n",
    "\n",
    "sns.histplot(data=df2, x=\"l_valeur_fonciere_m2\", bins=100, ax=axes[0], color=\"orange\")\n",
    "sns.boxplot(data=df2, x=\"l_valeur_fonciere_m2\", ax=axes[1], color=\"orange\");  "
   ]
  },
  {
   "attachments": {},
   "cell_type": "markdown",
   "metadata": {},
   "source": [
    "On décide de représenter la distribution de la variable cible sur l\"intervalle $[8, 10]$ au vu du précédent graphique. Cela signifie que l\"on représente des biens dont la valeur foncière par m² est comprise entre 2 980€ et 22 026€."
   ]
  },
  {
   "cell_type": "code",
   "execution_count": 33,
   "metadata": {},
   "outputs": [
    {
     "data": {
      "image/png": "[encoded data removed]",
      "text/plain": [
       "<Figure size 1008x360 with 2 Axes>"
      ]
     },
     "metadata": {
      "needs_background": "light"
     },
     "output_type": "display_data"
    }
   ],
   "source": [
    "fig, axes = plt.subplots(ncols=2, figsize=(14, 5))\n",
    "\n",
    "tmp = df2.loc[\n",
    "    (df2.l_valeur_fonciere_m2 >= 8) & \n",
    "    (df2.l_valeur_fonciere_m2 <= 10), \n",
    "    :\n",
    "]\n",
    "n = tmp.shape[0]\n",
    "\n",
    "fig.suptitle(rf\"$y \\in [8, 10] \\ \\ n=${n:,}\")\n",
    "\n",
    "sns.histplot(data=tmp, x=\"l_valeur_fonciere_m2\", bins=100, ax=axes[0], color=\"orange\")\n",
    "sns.boxplot(data=tmp, x=\"l_valeur_fonciere_m2\", ax=axes[1], color=\"orange\")\n",
    "\n",
    "del tmp; "
   ]
  },
  {
   "cell_type": "code",
   "execution_count": 34,
   "metadata": {},
   "outputs": [],
   "source": [
    "df2 = df2.loc[\n",
    "    (df2.l_valeur_fonciere_m2 >= 8) & \n",
    "    (df2.l_valeur_fonciere_m2 <= 10), \n",
    "    :\n",
    "]"
   ]
  },
  {
   "attachments": {},
   "cell_type": "markdown",
   "metadata": {},
   "source": [
    "### Ajout de la variable `arrondissement`\n",
    "\n",
    "On isole les arrondissements à partir de la variable `nom_commune`. "
   ]
  },
  {
   "cell_type": "code",
   "execution_count": 35,
   "metadata": {},
   "outputs": [],
   "source": [
    "DIGIT = r\"[0-9]+\"\n",
    "import re\n",
    "\n",
    "def extract_int_from_string(string: str) -> int: \n",
    "    integer = re.findall(DIGIT, string)\n",
    "\n",
    "    if len(integer) > 1: \n",
    "        raise ValueError(\"Multiple integers found.\")\n",
    "    return integer[0]"
   ]
  },
  {
   "cell_type": "code",
   "execution_count": 36,
   "metadata": {},
   "outputs": [],
   "source": [
    "df2[\"arrondissement\"] = df2.nom_commune.apply(extract_int_from_string)"
   ]
  },
  {
   "cell_type": "code",
   "execution_count": 37,
   "metadata": {},
   "outputs": [
    {
     "data": {
      "text/plain": [
       "18    0.112708\n",
       "15    0.109095\n",
       "17    0.086605\n",
       "11    0.084371\n",
       "16    0.079614\n",
       "20    0.068537\n",
       "19    0.057522\n",
       "12    0.054803\n",
       "10    0.052966\n",
       "14    0.052461\n",
       "13    0.049278\n",
       "9     0.037368\n",
       "5     0.026022\n",
       "7     0.024770\n",
       "6     0.022240\n",
       "3     0.021527\n",
       "8     0.018290\n",
       "2     0.016460\n",
       "4     0.015787\n",
       "1     0.009576\n",
       "Name: arrondissement, dtype: float64"
      ]
     },
     "execution_count": 37,
     "metadata": {},
     "output_type": "execute_result"
    }
   ],
   "source": [
    "df2.arrondissement.value_counts() / df2.shape[0]"
   ]
  },
  {
   "attachments": {},
   "cell_type": "markdown",
   "metadata": {},
   "source": [
    "### Encodage du type des variables"
   ]
  },
  {
   "cell_type": "code",
   "execution_count": 85,
   "metadata": {},
   "outputs": [],
   "source": [
    "CAT_VARS = [\n",
    "    \"nombre_pieces_principales\", \n",
    "    \"dependance\", \n",
    "    \"arrondissement\", \n",
    "    \"annee\", \n",
    "    \"trimestre\", \n",
    "    \"mois\"\n",
    "]\n",
    "\n",
    "QUANT_VARS = [\n",
    "    \"valeur_fonciere\", \n",
    "    \"l_valeur_fonciere_m2\", \n",
    "    \"surface_reelle_bati\", \n",
    "    \"longitude\", \n",
    "    \"latitude\", \n",
    "    \"pop\"\n",
    "]\n",
    "\n",
    "df3 = df2.loc[:, QUANT_VARS+CAT_VARS]\n",
    "\n",
    "df3.loc[:, CAT_VARS] = df2.loc[:, CAT_VARS].astype(object)\n",
    "df3.loc[:, QUANT_VARS] = df3.loc[:, QUANT_VARS].astype(float)"
   ]
  },
  {
   "cell_type": "code",
   "execution_count": 39,
   "metadata": {},
   "outputs": [
    {
     "name": "stdout",
     "output_type": "stream",
     "text": [
      "<class 'pandas.core.frame.DataFrame'>\n",
      "Int64Index: 148605 entries, 0 to 160756\n",
      "Data columns (total 11 columns):\n",
      " #   Column                     Non-Null Count   Dtype  \n",
      "---  ------                     --------------   -----  \n",
      " 0   l_valeur_fonciere_m2       148605 non-null  float64\n",
      " 1   surface_reelle_bati        148605 non-null  float64\n",
      " 2   longitude                  148457 non-null  float64\n",
      " 3   latitude                   148457 non-null  float64\n",
      " 4   pop                        148605 non-null  float64\n",
      " 5   nombre_pieces_principales  148605 non-null  object \n",
      " 6   dependance                 148605 non-null  object \n",
      " 7   arrondissement             148605 non-null  object \n",
      " 8   annee                      148605 non-null  object \n",
      " 9   trimestre                  148605 non-null  object \n",
      " 10  mois                       148605 non-null  object \n",
      "dtypes: float64(5), object(6)\n",
      "memory usage: 13.6+ MB\n"
     ]
    }
   ],
   "source": [
    "df3.info()"
   ]
  },
  {
   "attachments": {},
   "cell_type": "markdown",
   "metadata": {},
   "source": [
    "### Croisement entre variables"
   ]
  },
  {
   "cell_type": "code",
   "execution_count": 86,
   "metadata": {},
   "outputs": [
    {
     "data": {
      "text/html": [
       "<div>\n",
       "<style scoped>\n",
       "    .dataframe tbody tr th:only-of-type {\n",
       "        vertical-align: middle;\n",
       "    }\n",
       "\n",
       "    .dataframe tbody tr th {\n",
       "        vertical-align: top;\n",
       "    }\n",
       "\n",
       "    .dataframe thead th {\n",
       "        text-align: right;\n",
       "    }\n",
       "</style>\n",
       "<table border=\"1\" class=\"dataframe\">\n",
       "  <thead>\n",
       "    <tr style=\"text-align: right;\">\n",
       "      <th></th>\n",
       "      <th>l_valeur_fonciere_m2</th>\n",
       "    </tr>\n",
       "  </thead>\n",
       "  <tbody>\n",
       "    <tr>\n",
       "      <th>l_valeur_fonciere_m2</th>\n",
       "      <td>1.000000</td>\n",
       "    </tr>\n",
       "    <tr>\n",
       "      <th>valeur_fonciere</th>\n",
       "      <td>0.427451</td>\n",
       "    </tr>\n",
       "    <tr>\n",
       "      <th>surface_reelle_bati</th>\n",
       "      <td>0.079563</td>\n",
       "    </tr>\n",
       "    <tr>\n",
       "      <th>latitude</th>\n",
       "      <td>-0.053189</td>\n",
       "    </tr>\n",
       "    <tr>\n",
       "      <th>longitude</th>\n",
       "      <td>-0.193540</td>\n",
       "    </tr>\n",
       "    <tr>\n",
       "      <th>pop</th>\n",
       "      <td>-0.288968</td>\n",
       "    </tr>\n",
       "  </tbody>\n",
       "</table>\n",
       "</div>"
      ],
      "text/plain": [
       "                      l_valeur_fonciere_m2\n",
       "l_valeur_fonciere_m2              1.000000\n",
       "valeur_fonciere                   0.427451\n",
       "surface_reelle_bati               0.079563\n",
       "latitude                         -0.053189\n",
       "longitude                        -0.193540\n",
       "pop                              -0.288968"
      ]
     },
     "execution_count": 86,
     "metadata": {},
     "output_type": "execute_result"
    }
   ],
   "source": [
    "cor_mat = df2[QUANT_VARS]\\\n",
    "    .corr(method=\"pearson\")\\\n",
    "    [[\"l_valeur_fonciere_m2\"]]\\\n",
    "    .sort_values(by=\"l_valeur_fonciere_m2\", ascending=False)\n",
    "    \n",
    "cor_mat"
   ]
  },
  {
   "cell_type": "code",
   "execution_count": 41,
   "metadata": {},
   "outputs": [
    {
     "data": {
      "image/png": "[encoded data removed]",
      "text/plain": [
       "<Figure size 1296x864 with 6 Axes>"
      ]
     },
     "metadata": {
      "needs_background": "light"
     },
     "output_type": "display_data"
    }
   ],
   "source": [
    "fig, axes = plt.subplots(ncols=2, nrows=3, figsize=(18, 12), sharey=True)\n",
    "fig.suptitle(\"Variables catégorielles\")\n",
    "\n",
    "for var, ax in zip(CAT_VARS, axes.flatten()):\n",
    "    sns.boxplot(data=df3, x=var, y=\"l_valeur_fonciere_m2\", ax=ax)\n",
    "    ax.set_title(var)\n",
    "    ax.set_xlabel(\"\"); "
   ]
  },
  {
   "attachments": {},
   "cell_type": "markdown",
   "metadata": {},
   "source": [
    "### Sélection des variables discriminantes\n",
    "\n",
    "Au vu des graphiques précédents, on sélectionne uniquement les variables dummies liés aux nombre de pièces, arrondissements, trimestres et années ainsi que la dummy `dependance`. La seule variable quantitative intéressante est `surface_relle_bati` mais elle est déjà utilisée pour construire la variable cible. "
   ]
  },
  {
   "cell_type": "code",
   "execution_count": 87,
   "metadata": {},
   "outputs": [],
   "source": [
    "df_mod = df3[[\n",
    "    \"l_valeur_fonciere_m2\", \n",
    "    \"nombre_pieces_principales\", \n",
    "    \"dependance\", \n",
    "    \"arrondissement\", \n",
    "    \"annee\", \n",
    "    \"trimestre\"\n",
    "]]"
   ]
  },
  {
   "attachments": {},
   "cell_type": "markdown",
   "metadata": {},
   "source": [
    "### Transformation des variables catégorielles"
   ]
  },
  {
   "attachments": {},
   "cell_type": "markdown",
   "metadata": {},
   "source": [
    "On transforme chaque variable catégorielle $\\mathrm{x}_{cat, k}$, contenant $n_k$ niveaux, en $n_k-1$ variables indicatrices. \n",
    "\n",
    "Les variables considérées sont : \n",
    "- `nombre_pieces_principales`\n",
    "- `dependance`\n",
    "- `annee`\n",
    "- `trimestre`\n",
    "- `arrondissement`"
   ]
  },
  {
   "attachments": {},
   "cell_type": "markdown",
   "metadata": {},
   "source": [
    "On peut utiliser la fonction `pd.get_dummies()` pour transformer les variables catégorielles."
   ]
  },
  {
   "cell_type": "code",
   "execution_count": 43,
   "metadata": {},
   "outputs": [],
   "source": [
    "df_mod = pd.get_dummies(data=df_mod, drop_first=True)"
   ]
  },
  {
   "cell_type": "code",
   "execution_count": 44,
   "metadata": {},
   "outputs": [
    {
     "data": {
      "text/html": [
       "<div>\n",
       "<style scoped>\n",
       "    .dataframe tbody tr th:only-of-type {\n",
       "        vertical-align: middle;\n",
       "    }\n",
       "\n",
       "    .dataframe tbody tr th {\n",
       "        vertical-align: top;\n",
       "    }\n",
       "\n",
       "    .dataframe thead th {\n",
       "        text-align: right;\n",
       "    }\n",
       "</style>\n",
       "<table border=\"1\" class=\"dataframe\">\n",
       "  <thead>\n",
       "    <tr style=\"text-align: right;\">\n",
       "      <th></th>\n",
       "      <th>l_valeur_fonciere_m2</th>\n",
       "      <th>nombre_pieces_principales_2</th>\n",
       "      <th>nombre_pieces_principales_3</th>\n",
       "      <th>nombre_pieces_principales_4</th>\n",
       "      <th>nombre_pieces_principales_5</th>\n",
       "      <th>nombre_pieces_principales_6</th>\n",
       "      <th>nombre_pieces_principales_7</th>\n",
       "      <th>nombre_pieces_principales_8</th>\n",
       "      <th>dependance_1</th>\n",
       "      <th>arrondissement_10</th>\n",
       "      <th>arrondissement_11</th>\n",
       "      <th>arrondissement_12</th>\n",
       "      <th>arrondissement_13</th>\n",
       "      <th>arrondissement_14</th>\n",
       "      <th>arrondissement_15</th>\n",
       "      <th>arrondissement_16</th>\n",
       "      <th>arrondissement_17</th>\n",
       "      <th>arrondissement_18</th>\n",
       "      <th>arrondissement_19</th>\n",
       "      <th>arrondissement_2</th>\n",
       "      <th>arrondissement_20</th>\n",
       "      <th>arrondissement_3</th>\n",
       "      <th>arrondissement_4</th>\n",
       "      <th>arrondissement_5</th>\n",
       "      <th>arrondissement_6</th>\n",
       "      <th>arrondissement_7</th>\n",
       "      <th>arrondissement_8</th>\n",
       "      <th>arrondissement_9</th>\n",
       "      <th>annee_2018</th>\n",
       "      <th>annee_2019</th>\n",
       "      <th>annee_2020</th>\n",
       "      <th>annee_2021</th>\n",
       "      <th>annee_2022</th>\n",
       "      <th>trimestre_2</th>\n",
       "      <th>trimestre_3</th>\n",
       "      <th>trimestre_4</th>\n",
       "    </tr>\n",
       "  </thead>\n",
       "  <tbody>\n",
       "    <tr>\n",
       "      <th>0</th>\n",
       "      <td>9.517667</td>\n",
       "      <td>0</td>\n",
       "      <td>1</td>\n",
       "      <td>0</td>\n",
       "      <td>0</td>\n",
       "      <td>0</td>\n",
       "      <td>0</td>\n",
       "      <td>0</td>\n",
       "      <td>0</td>\n",
       "      <td>0</td>\n",
       "      <td>0</td>\n",
       "      <td>0</td>\n",
       "      <td>0</td>\n",
       "      <td>0</td>\n",
       "      <td>0</td>\n",
       "      <td>0</td>\n",
       "      <td>0</td>\n",
       "      <td>0</td>\n",
       "      <td>0</td>\n",
       "      <td>0</td>\n",
       "      <td>0</td>\n",
       "      <td>1</td>\n",
       "      <td>0</td>\n",
       "      <td>0</td>\n",
       "      <td>0</td>\n",
       "      <td>0</td>\n",
       "      <td>0</td>\n",
       "      <td>0</td>\n",
       "      <td>0</td>\n",
       "      <td>0</td>\n",
       "      <td>0</td>\n",
       "      <td>0</td>\n",
       "      <td>0</td>\n",
       "      <td>0</td>\n",
       "      <td>1</td>\n",
       "      <td>0</td>\n",
       "    </tr>\n",
       "    <tr>\n",
       "      <th>1</th>\n",
       "      <td>9.366489</td>\n",
       "      <td>0</td>\n",
       "      <td>0</td>\n",
       "      <td>1</td>\n",
       "      <td>0</td>\n",
       "      <td>0</td>\n",
       "      <td>0</td>\n",
       "      <td>0</td>\n",
       "      <td>0</td>\n",
       "      <td>0</td>\n",
       "      <td>0</td>\n",
       "      <td>0</td>\n",
       "      <td>0</td>\n",
       "      <td>0</td>\n",
       "      <td>0</td>\n",
       "      <td>0</td>\n",
       "      <td>0</td>\n",
       "      <td>0</td>\n",
       "      <td>0</td>\n",
       "      <td>0</td>\n",
       "      <td>0</td>\n",
       "      <td>0</td>\n",
       "      <td>0</td>\n",
       "      <td>0</td>\n",
       "      <td>0</td>\n",
       "      <td>0</td>\n",
       "      <td>1</td>\n",
       "      <td>0</td>\n",
       "      <td>0</td>\n",
       "      <td>0</td>\n",
       "      <td>0</td>\n",
       "      <td>0</td>\n",
       "      <td>0</td>\n",
       "      <td>0</td>\n",
       "      <td>1</td>\n",
       "      <td>0</td>\n",
       "    </tr>\n",
       "    <tr>\n",
       "      <th>3</th>\n",
       "      <td>9.136232</td>\n",
       "      <td>0</td>\n",
       "      <td>0</td>\n",
       "      <td>0</td>\n",
       "      <td>0</td>\n",
       "      <td>0</td>\n",
       "      <td>0</td>\n",
       "      <td>0</td>\n",
       "      <td>0</td>\n",
       "      <td>0</td>\n",
       "      <td>0</td>\n",
       "      <td>0</td>\n",
       "      <td>0</td>\n",
       "      <td>0</td>\n",
       "      <td>0</td>\n",
       "      <td>0</td>\n",
       "      <td>0</td>\n",
       "      <td>0</td>\n",
       "      <td>0</td>\n",
       "      <td>0</td>\n",
       "      <td>0</td>\n",
       "      <td>0</td>\n",
       "      <td>0</td>\n",
       "      <td>0</td>\n",
       "      <td>0</td>\n",
       "      <td>0</td>\n",
       "      <td>0</td>\n",
       "      <td>0</td>\n",
       "      <td>0</td>\n",
       "      <td>0</td>\n",
       "      <td>0</td>\n",
       "      <td>0</td>\n",
       "      <td>0</td>\n",
       "      <td>0</td>\n",
       "      <td>1</td>\n",
       "      <td>0</td>\n",
       "    </tr>\n",
       "    <tr>\n",
       "      <th>4</th>\n",
       "      <td>9.454318</td>\n",
       "      <td>0</td>\n",
       "      <td>1</td>\n",
       "      <td>0</td>\n",
       "      <td>0</td>\n",
       "      <td>0</td>\n",
       "      <td>0</td>\n",
       "      <td>0</td>\n",
       "      <td>0</td>\n",
       "      <td>0</td>\n",
       "      <td>0</td>\n",
       "      <td>0</td>\n",
       "      <td>0</td>\n",
       "      <td>0</td>\n",
       "      <td>0</td>\n",
       "      <td>0</td>\n",
       "      <td>0</td>\n",
       "      <td>0</td>\n",
       "      <td>0</td>\n",
       "      <td>0</td>\n",
       "      <td>0</td>\n",
       "      <td>1</td>\n",
       "      <td>0</td>\n",
       "      <td>0</td>\n",
       "      <td>0</td>\n",
       "      <td>0</td>\n",
       "      <td>0</td>\n",
       "      <td>0</td>\n",
       "      <td>0</td>\n",
       "      <td>0</td>\n",
       "      <td>0</td>\n",
       "      <td>0</td>\n",
       "      <td>0</td>\n",
       "      <td>0</td>\n",
       "      <td>1</td>\n",
       "      <td>0</td>\n",
       "    </tr>\n",
       "    <tr>\n",
       "      <th>5</th>\n",
       "      <td>9.198219</td>\n",
       "      <td>0</td>\n",
       "      <td>0</td>\n",
       "      <td>1</td>\n",
       "      <td>0</td>\n",
       "      <td>0</td>\n",
       "      <td>0</td>\n",
       "      <td>0</td>\n",
       "      <td>0</td>\n",
       "      <td>0</td>\n",
       "      <td>0</td>\n",
       "      <td>0</td>\n",
       "      <td>0</td>\n",
       "      <td>0</td>\n",
       "      <td>0</td>\n",
       "      <td>0</td>\n",
       "      <td>0</td>\n",
       "      <td>0</td>\n",
       "      <td>0</td>\n",
       "      <td>0</td>\n",
       "      <td>0</td>\n",
       "      <td>0</td>\n",
       "      <td>0</td>\n",
       "      <td>0</td>\n",
       "      <td>0</td>\n",
       "      <td>0</td>\n",
       "      <td>1</td>\n",
       "      <td>0</td>\n",
       "      <td>0</td>\n",
       "      <td>0</td>\n",
       "      <td>0</td>\n",
       "      <td>0</td>\n",
       "      <td>0</td>\n",
       "      <td>0</td>\n",
       "      <td>1</td>\n",
       "      <td>0</td>\n",
       "    </tr>\n",
       "  </tbody>\n",
       "</table>\n",
       "</div>"
      ],
      "text/plain": [
       "   l_valeur_fonciere_m2  nombre_pieces_principales_2  \\\n",
       "0              9.517667                            0   \n",
       "1              9.366489                            0   \n",
       "3              9.136232                            0   \n",
       "4              9.454318                            0   \n",
       "5              9.198219                            0   \n",
       "\n",
       "   nombre_pieces_principales_3  nombre_pieces_principales_4  \\\n",
       "0                            1                            0   \n",
       "1                            0                            1   \n",
       "3                            0                            0   \n",
       "4                            1                            0   \n",
       "5                            0                            1   \n",
       "\n",
       "   nombre_pieces_principales_5  nombre_pieces_principales_6  \\\n",
       "0                            0                            0   \n",
       "1                            0                            0   \n",
       "3                            0                            0   \n",
       "4                            0                            0   \n",
       "5                            0                            0   \n",
       "\n",
       "   nombre_pieces_principales_7  nombre_pieces_principales_8  dependance_1  \\\n",
       "0                            0                            0             0   \n",
       "1                            0                            0             0   \n",
       "3                            0                            0             0   \n",
       "4                            0                            0             0   \n",
       "5                            0                            0             0   \n",
       "\n",
       "   arrondissement_10  arrondissement_11  arrondissement_12  arrondissement_13  \\\n",
       "0                  0                  0                  0                  0   \n",
       "1                  0                  0                  0                  0   \n",
       "3                  0                  0                  0                  0   \n",
       "4                  0                  0                  0                  0   \n",
       "5                  0                  0                  0                  0   \n",
       "\n",
       "   arrondissement_14  arrondissement_15  arrondissement_16  arrondissement_17  \\\n",
       "0                  0                  0                  0                  0   \n",
       "1                  0                  0                  0                  0   \n",
       "3                  0                  0                  0                  0   \n",
       "4                  0                  0                  0                  0   \n",
       "5                  0                  0                  0                  0   \n",
       "\n",
       "   arrondissement_18  arrondissement_19  arrondissement_2  arrondissement_20  \\\n",
       "0                  0                  0                 0                  0   \n",
       "1                  0                  0                 0                  0   \n",
       "3                  0                  0                 0                  0   \n",
       "4                  0                  0                 0                  0   \n",
       "5                  0                  0                 0                  0   \n",
       "\n",
       "   arrondissement_3  arrondissement_4  arrondissement_5  arrondissement_6  \\\n",
       "0                 1                 0                 0                 0   \n",
       "1                 0                 0                 0                 0   \n",
       "3                 0                 0                 0                 0   \n",
       "4                 1                 0                 0                 0   \n",
       "5                 0                 0                 0                 0   \n",
       "\n",
       "   arrondissement_7  arrondissement_8  arrondissement_9  annee_2018  \\\n",
       "0                 0                 0                 0           0   \n",
       "1                 0                 1                 0           0   \n",
       "3                 0                 0                 0           0   \n",
       "4                 0                 0                 0           0   \n",
       "5                 0                 1                 0           0   \n",
       "\n",
       "   annee_2019  annee_2020  annee_2021  annee_2022  trimestre_2  trimestre_3  \\\n",
       "0           0           0           0           0            0            1   \n",
       "1           0           0           0           0            0            1   \n",
       "3           0           0           0           0            0            1   \n",
       "4           0           0           0           0            0            1   \n",
       "5           0           0           0           0            0            1   \n",
       "\n",
       "   trimestre_4  \n",
       "0            0  \n",
       "1            0  \n",
       "3            0  \n",
       "4            0  \n",
       "5            0  "
      ]
     },
     "execution_count": 44,
     "metadata": {},
     "output_type": "execute_result"
    }
   ],
   "source": [
    "df_mod.head()"
   ]
  },
  {
   "attachments": {},
   "cell_type": "markdown",
   "metadata": {},
   "source": [
    "### Suppression des valeurs manquantes\n",
    "\n",
    "On supprime les lignes ayant au moins une valeur manquante. Des méthodes d\"imputation pourraient être envisagées par la suite. "
   ]
  },
  {
   "cell_type": "code",
   "execution_count": 45,
   "metadata": {},
   "outputs": [],
   "source": [
    "df_mod = df_mod.dropna()"
   ]
  },
  {
   "cell_type": "code",
   "execution_count": 46,
   "metadata": {},
   "outputs": [
    {
     "name": "stdout",
     "output_type": "stream",
     "text": [
      "36 variables et 148605 observations\n"
     ]
    }
   ],
   "source": [
    "n, p = df_mod.shape\n",
    "print(f\"{p} variables et {n} observations\")"
   ]
  },
  {
   "attachments": {},
   "cell_type": "markdown",
   "metadata": {},
   "source": [
    "### Train/test split\n",
    "\n",
    "On divise le jeu de données en 2: \n",
    "- 80% de données d\"entrainement\n",
    "- 20% de données test"
   ]
  },
  {
   "cell_type": "code",
   "execution_count": 62,
   "metadata": {},
   "outputs": [],
   "source": [
    "target = \"l_valeur_fonciere_m2\"\n",
    "\n",
    "X = df_mod.drop(labels=[target], axis=1)\n",
    "feature_names = X.columns.tolist()\n",
    "\n",
    "y = df3[target]"
   ]
  },
  {
   "cell_type": "code",
   "execution_count": 65,
   "metadata": {},
   "outputs": [],
   "source": [
    "X_tr, X_te, y_tr, y_te = train_test_split(X, y, train_size=.8)"
   ]
  },
  {
   "cell_type": "code",
   "execution_count": 88,
   "metadata": {},
   "outputs": [],
   "source": [
    "# keep areas and unscaled prices for train and test samples\n",
    "\n",
    "train_idxs = X_tr.index.values\n",
    "test_idxs = X_te.index.values\n",
    "\n",
    "train_areas = df3.loc[df3.index.isin(train_idxs), \"surface_reelle_bati\"]\n",
    "test_areas = df3.loc[df3.index.isin(test_idxs), \"surface_reelle_bati\"]\n",
    "\n",
    "train_prices = df3.loc[df3.index.isin(train_idxs), \"valeur_fonciere\"]\n",
    "test_prices = df3.loc[df3.index.isin(test_idxs), \"valeur_fonciere\"]"
   ]
  },
  {
   "cell_type": "code",
   "execution_count": 50,
   "metadata": {},
   "outputs": [
    {
     "data": {
      "text/plain": [
       "0.8"
      ]
     },
     "execution_count": 50,
     "metadata": {},
     "output_type": "execute_result"
    }
   ],
   "source": [
    "y_tr.shape[0] / y.shape[0]"
   ]
  },
  {
   "attachments": {},
   "cell_type": "markdown",
   "metadata": {},
   "source": [
    "## Modèles de régression"
   ]
  },
  {
   "cell_type": "code",
   "execution_count": 51,
   "metadata": {},
   "outputs": [],
   "source": [
    "from sklearn.base import BaseEstimator\n",
    "from typing import Dict, Optional\n",
    "\n",
    "class CustomRegressor(BaseEstimator):\n",
    "\n",
    "    def __init__(self, estimator=LinearRegression()):\n",
    "        \"\"\"Description. A Custom BaseEstimator that can switch between regressors.\"\"\" \n",
    "\n",
    "        self.estimator = estimator\n",
    "\n",
    "    def fit(self, X: np.ndarray, y: Optional[np.ndarray]=None, **kwargs: Dict):\n",
    "        self.estimator.fit(X, y)\n",
    "        return self\n",
    "\n",
    "    def predict(self, X: np.ndarray, y: Optional[np.ndarray]=None) -> np.ndarray:\n",
    "        return self.estimator.predict(X) \n",
    "\n",
    "    def score(self, X: np.ndarray, y: np.ndarray, scoring: str=\"r2\") -> float:\n",
    "        if scoring == \"r2\": \n",
    "            return self.estimator.score(X, y)\n",
    "        elif scoring == \"mae\": \n",
    "            y_pred = self.predict(X)\n",
    "            return mean_absolute_error(y, y_pred)\n",
    "        elif scoring == \"mape\":\n",
    "            y_pred = self.predict(X)\n",
    "            return mean_absolute_percentage_error(y, y_pred)\n",
    "        else: \n",
    "            return NotImplementedError"
   ]
  },
  {
   "attachments": {},
   "cell_type": "markdown",
   "metadata": {},
   "source": [
    "### Benchmark - `DummyRegressor`\n",
    "\n",
    "Prédiction par la moyenne. "
   ]
  },
  {
   "cell_type": "code",
   "execution_count": 67,
   "metadata": {},
   "outputs": [
    {
     "name": "stdout",
     "output_type": "stream",
     "text": [
      "MAPE train DummyRegressor: 2.25%\n",
      "MAPE test DummyRegressor: 2.24%\n"
     ]
    }
   ],
   "source": [
    "dummy = CustomRegressor(estimator=DummyRegressor())\n",
    "dummy.fit(X_tr, y_tr) \n",
    "\n",
    "mape_tr_dummy = dummy.score(X_tr, y_tr, scoring=\"mape\")\n",
    "mape_te_dummy = dummy.score(X_te, y_te, scoring=\"mape\")\n",
    "\n",
    "print(f\"MAPE train DummyRegressor: {round(100 * mape_tr_dummy, 2)}%\")\n",
    "print(f\"MAPE test DummyRegressor: {round(100 * mape_te_dummy, 2)}%\")"
   ]
  },
  {
   "attachments": {},
   "cell_type": "markdown",
   "metadata": {},
   "source": [
    "### Modèle linéaires"
   ]
  },
  {
   "attachments": {},
   "cell_type": "markdown",
   "metadata": {},
   "source": [
    "#### Approche `statsmodels`\n",
    "\n",
    "Cette approche a un objectif exploratoire afin de mieux comprendre à quel point la variable $X$ a un impact sur la variable $y$. "
   ]
  },
  {
   "cell_type": "code",
   "execution_count": 68,
   "metadata": {},
   "outputs": [
    {
     "name": "stdout",
     "output_type": "stream",
     "text": [
      "                             OLS Regression Results                             \n",
      "================================================================================\n",
      "Dep. Variable:     l_valeur_fonciere_m2   R-squared:                       0.227\n",
      "Model:                              OLS   Adj. R-squared:                  0.227\n",
      "Method:                   Least Squares   F-statistic:                     999.5\n",
      "Date:                  Mon, 06 Mar 2023   Prob (F-statistic):               0.00\n",
      "Time:                          10:26:16   Log-Likelihood:                -278.59\n",
      "No. Observations:                118884   AIC:                             629.2\n",
      "Df Residuals:                    118848   BIC:                             977.9\n",
      "Df Model:                            35                                         \n",
      "Covariance Type:              nonrobust                                         \n",
      "===============================================================================================\n",
      "                                  coef    std err          t      P>|t|      [0.025      0.975]\n",
      "-----------------------------------------------------------------------------------------------\n",
      "nombre_pieces_principales_2    -0.0004      0.002     -0.198      0.843      -0.004       0.003\n",
      "nombre_pieces_principales_3     0.0150      0.002      7.382      0.000       0.011       0.019\n",
      "nombre_pieces_principales_4     0.0277      0.003     10.395      0.000       0.022       0.033\n",
      "nombre_pieces_principales_5     0.0416      0.004     10.387      0.000       0.034       0.049\n",
      "nombre_pieces_principales_6     0.0602      0.009      6.370      0.000       0.042       0.079\n",
      "nombre_pieces_principales_7    -0.0414      0.027     -1.525      0.127      -0.095       0.012\n",
      "nombre_pieces_principales_8     0.1068      0.092      1.165      0.244      -0.073       0.287\n",
      "dependance_1                    0.0068      0.002      3.668      0.000       0.003       0.010\n",
      "arrondissement_10              -0.1974      0.008    -25.224      0.000      -0.213      -0.182\n",
      "arrondissement_11              -0.1688      0.008    -22.221      0.000      -0.184      -0.154\n",
      "arrondissement_12              -0.2417      0.008    -30.970      0.000      -0.257      -0.226\n",
      "arrondissement_13              -0.2853      0.008    -36.248      0.000      -0.301      -0.270\n",
      "arrondissement_14              -0.1948      0.008    -24.868      0.000      -0.210      -0.179\n",
      "arrondissement_15              -0.1892      0.008    -25.179      0.000      -0.204      -0.174\n",
      "arrondissement_16              -0.1063      0.008    -13.935      0.000      -0.121      -0.091\n",
      "arrondissement_17              -0.1493      0.008    -19.671      0.000      -0.164      -0.134\n",
      "arrondissement_18              -0.2588      0.007    -34.512      0.000      -0.273      -0.244\n",
      "arrondissement_19              -0.3645      0.008    -46.817      0.000      -0.380      -0.349\n",
      "arrondissement_2               -0.0857      0.009     -9.497      0.000      -0.103      -0.068\n",
      "arrondissement_20              -0.3247      0.008    -42.221      0.000      -0.340      -0.310\n",
      "arrondissement_3               -0.0182      0.009     -2.101      0.036      -0.035      -0.001\n",
      "arrondissement_4                0.0382      0.009      4.185      0.000       0.020       0.056\n",
      "arrondissement_5               -0.0121      0.008     -1.438      0.151      -0.029       0.004\n",
      "arrondissement_6                0.1314      0.009     15.273      0.000       0.115       0.148\n",
      "arrondissement_7                0.0998      0.008     11.782      0.000       0.083       0.116\n",
      "arrondissement_8               -0.0285      0.009     -3.210      0.001      -0.046      -0.011\n",
      "arrondissement_9               -0.1064      0.008    -13.186      0.000      -0.122      -0.091\n",
      "annee_2018                      0.0577      0.003     20.785      0.000       0.052       0.063\n",
      "annee_2019                      0.1199      0.003     43.329      0.000       0.114       0.125\n",
      "annee_2020                      0.1873      0.003     65.515      0.000       0.182       0.193\n",
      "annee_2021                      0.1904      0.003     66.422      0.000       0.185       0.196\n",
      "annee_2022                      0.1922      0.004     53.227      0.000       0.185       0.199\n",
      "trimestre_2                     0.0088      0.002      4.346      0.000       0.005       0.013\n",
      "trimestre_3                     0.0297      0.002     13.832      0.000       0.025       0.034\n",
      "trimestre_4                     0.0264      0.002     12.315      0.000       0.022       0.031\n",
      "const                           9.2389      0.008   1186.523      0.000       9.224       9.254\n",
      "==============================================================================\n",
      "Omnibus:                    24331.775   Durbin-Watson:                   1.999\n",
      "Prob(Omnibus):                  0.000   Jarque-Bera (JB):            82504.144\n",
      "Skew:                          -1.025   Prob(JB):                         0.00\n",
      "Kurtosis:                       6.528   Cond. No.                         172.\n",
      "==============================================================================\n",
      "\n",
      "Notes:\n",
      "[1] Standard Errors assume that the covariance matrix of the errors is correctly specified.\n"
     ]
    }
   ],
   "source": [
    "X_tr_1 = sm.add_constant(X_tr, prepend=False)\n",
    "\n",
    "mod = sm.OLS(y_tr, X_tr_1)\n",
    "ols_res = mod.fit()\n",
    "\n",
    "y_fitted_1 = ols_res.predict(X_tr_1)\n",
    "\n",
    "print(ols_res.summary())"
   ]
  },
  {
   "attachments": {},
   "cell_type": "markdown",
   "metadata": {},
   "source": [
    "La majorité des coefficients estimés sont significatifs mais la part de variabilité de `l_valeur_fonciere_m2` expliquée par ce premier modèle linéaire est assez faible (22.5%). "
   ]
  },
  {
   "cell_type": "code",
   "execution_count": 69,
   "metadata": {},
   "outputs": [],
   "source": [
    "X_te_1 = sm.add_constant(X_te, prepend=False)\n",
    "y_pred_1 = ols_res.predict(X_te_1)"
   ]
  },
  {
   "cell_type": "code",
   "execution_count": 70,
   "metadata": {},
   "outputs": [],
   "source": [
    "mape_tr_1 = mean_absolute_percentage_error(y_true=y_tr.values, y_pred=y_fitted_1.values)\n",
    "mape_te_1 = mean_absolute_percentage_error(y_true=y_te.values, y_pred=y_pred_1.values)"
   ]
  },
  {
   "cell_type": "code",
   "execution_count": 56,
   "metadata": {},
   "outputs": [
    {
     "data": {
      "image/png": "[encoded data removed]",
      "text/plain": [
       "<Figure size 1008x360 with 2 Axes>"
      ]
     },
     "metadata": {
      "needs_background": "light"
     },
     "output_type": "display_data"
    }
   ],
   "source": [
    "tmp_tr = pd.DataFrame({\"true\": y_tr.values, \"pred\": y_fitted_1.values})\n",
    "tmp_te = pd.DataFrame({\"true\": y_te.values, \"pred\": y_pred_1.values})\n",
    "\n",
    "fig, axes = plt.subplots(ncols=2, figsize=(14, 5))\n",
    "\n",
    "for tmp, ax in zip([tmp_tr, tmp_te], axes.flatten()): \n",
    "    sns.scatterplot(data=tmp, x=\"true\", y=\"pred\", ax=ax)\n",
    "    ax.set_xlabel(\"Observed\")\n",
    "    ax.set_ylabel(\"Fitted\")\n",
    "\n",
    "axes[0].set_title(f\"Train | MAPE={round(mape_tr_1, 3)}\")\n",
    "axes[1].set_title(f\"Test | MAPE={round(mape_te_1, 3)}\"); "
   ]
  },
  {
   "attachments": {},
   "cell_type": "markdown",
   "metadata": {},
   "source": [
    "La MAPE est calculée sur les valeurs transformées des valeurs foncières. Il semble pertinent de remettre ces valeurs transformées à l\"échelle. "
   ]
  },
  {
   "cell_type": "code",
   "execution_count": 71,
   "metadata": {},
   "outputs": [],
   "source": [
    "def unscale_target(y: float, area: float) -> float: \n",
    "    \"\"\"Description. Unscale transformed target variable.\"\"\"\n",
    "\n",
    "    return area * np.exp(y)"
   ]
  },
  {
   "attachments": {},
   "cell_type": "markdown",
   "metadata": {},
   "source": [
    "#### Approche `sklearn`\n",
    "\n",
    "On décide de tester les modèles linéaire implémentés dans la librairie `sklearn` : \n",
    "- OLS : `LinearRegression`\n",
    "- OLS avec pénalisation : `Ridge`, `Lasso`, `ElasticNet` "
   ]
  },
  {
   "cell_type": "code",
   "execution_count": 72,
   "metadata": {},
   "outputs": [],
   "source": [
    "results_linear = {}"
   ]
  },
  {
   "cell_type": "code",
   "execution_count": 73,
   "metadata": {},
   "outputs": [],
   "source": [
    "linear_regressors = [\n",
    "    LinearRegression(), \n",
    "    Ridge(), \n",
    "    Lasso(), \n",
    "    ElasticNet()\n",
    "]\n",
    "\n",
    "for estimator in linear_regressors:\n",
    "    model_name = estimator.__class__.__name__\n",
    "    model = CustomRegressor(estimator)\n",
    "\n",
    "    model.fit(X_tr, y_tr) \n",
    "    res_ = {\n",
    "        \"model\": model, \n",
    "        \"mae_tr\": model.score(X_tr, y_tr, scoring=\"mape\"), \n",
    "        \"mae_te\": model.score(X_te, y_te, scoring=\"mape\")\n",
    "    }\n",
    "\n",
    "    results_linear[model_name] = res_"
   ]
  },
  {
   "cell_type": "code",
   "execution_count": 74,
   "metadata": {},
   "outputs": [
    {
     "data": {
      "text/plain": [
       "{'LinearRegression': {'model': CustomRegressor(),\n",
       "  'mae_tr': 0.018950690262262183,\n",
       "  'mae_te': 0.01908783821003175},\n",
       " 'Ridge': {'model': CustomRegressor(estimator=Ridge()),\n",
       "  'mae_tr': 0.018950688579105673,\n",
       "  'mae_te': 0.019087891377232408},\n",
       " 'Lasso': {'model': CustomRegressor(estimator=Lasso()),\n",
       "  'mae_tr': 0.022456230071637173,\n",
       "  'mae_te': 0.02244256077125438},\n",
       " 'ElasticNet': {'model': CustomRegressor(estimator=ElasticNet()),\n",
       "  'mae_tr': 0.022456230071637173,\n",
       "  'mae_te': 0.02244256077125438}}"
      ]
     },
     "execution_count": 74,
     "metadata": {},
     "output_type": "execute_result"
    }
   ],
   "source": [
    "results_linear"
   ]
  },
  {
   "cell_type": "code",
   "execution_count": 89,
   "metadata": {},
   "outputs": [
    {
     "data": {
      "text/plain": [
       "0.24876036043312977"
      ]
     },
     "execution_count": 89,
     "metadata": {},
     "output_type": "execute_result"
    }
   ],
   "source": [
    "# compute mape on unscaled values\n",
    "mod = results_linear[\"LinearRegression\"][\"model\"]\n",
    "\n",
    "y_pred = mod.predict(X_tr)\n",
    "y_pred_unscaled = unscale_target(y_pred, train_areas)\n",
    "\n",
    "mean_absolute_percentage_error(y_true=train_prices, y_pred=y_pred_unscaled)"
   ]
  },
  {
   "attachments": {},
   "cell_type": "markdown",
   "metadata": {},
   "source": [
    "On décide d\"optimiser les paramètres des modèles linéaires et de renvoyer la configuration donnant le meilleur score. L\"objectif est de minimiser la MAE (Mean Absolute Percentage Error). "
   ]
  },
  {
   "cell_type": "code",
   "execution_count": 63,
   "metadata": {},
   "outputs": [
    {
     "data": {
      "text/plain": [
       "make_scorer(mean_absolute_percentage_error, greater_is_better=False)"
      ]
     },
     "execution_count": 63,
     "metadata": {},
     "output_type": "execute_result"
    }
   ],
   "source": [
    "mape_scorer = make_scorer(mean_absolute_percentage_error, greater_is_better=False)\n",
    "mape_scorer"
   ]
  },
  {
   "cell_type": "code",
   "execution_count": 65,
   "metadata": {},
   "outputs": [
    {
     "data": {
      "text/plain": [
       "GridSearchCV(estimator=Pipeline(steps=[('reg', CustomRegressor())]), n_jobs=7,\n",
       "             param_grid=[{'reg__estimator': [LinearRegression()]},\n",
       "                         {'reg__estimator': [Ridge()],\n",
       "                          'reg__estimator__alpha': (0.01, 0.1, 1.0, 10.0)},\n",
       "                         {'reg__estimator': [Lasso()],\n",
       "                          'reg__estimator__alpha': (0.01, 0.1, 1.0, 10.0)},\n",
       "                         {'reg__estimator': [ElasticNet()],\n",
       "                          'reg__estimator__alpha': (0.01, 0.1, 1.0, 10.0),\n",
       "                          'reg__estimator__l1_ratio': (0.1, 0.3, 0.5, 0.8)}],\n",
       "             scoring=make_scorer(mean_absolute_percentage_error, greater_is_better=False),\n",
       "             verbose=2)"
      ]
     },
     "execution_count": 65,
     "metadata": {},
     "output_type": "execute_result"
    }
   ],
   "source": [
    "pipeline = Pipeline([\n",
    "    (\"reg\", CustomRegressor())\n",
    "])\n",
    "\n",
    "param_grid = [\n",
    "    {\n",
    "        \"reg__estimator\": [LinearRegression()], \n",
    "    }, \n",
    "    {\n",
    "        \"reg__estimator\": [Ridge()], \n",
    "        \"reg__estimator__alpha\": (.01, .1, 1., 10.), \n",
    "    }, \n",
    "    {\n",
    "        \"reg__estimator\": [Lasso()], \n",
    "        \"reg__estimator__alpha\": (.01, .1, 1., 10.), \n",
    "    }, \n",
    "    {\n",
    "        \"reg__estimator\": [ElasticNet()], \n",
    "        \"reg__estimator__alpha\": (.01, .1, 1., 10.), \n",
    "        \"reg__estimator__l1_ratio\": (.1, .3, .5, .8), \n",
    "    }\n",
    "]\n",
    "\n",
    "g = GridSearchCV(\n",
    "    estimator=pipeline,    \n",
    "    param_grid=param_grid, \n",
    "    scoring=mape_scorer, \n",
    "    n_jobs=CPU_COUNT-1, \n",
    "    verbose=2\n",
    ")\n",
    "g"
   ]
  },
  {
   "cell_type": "code",
   "execution_count": 66,
   "metadata": {},
   "outputs": [
    {
     "name": "stdout",
     "output_type": "stream",
     "text": [
      "Fitting 5 folds for each of 25 candidates, totalling 125 fits\n"
     ]
    },
    {
     "data": {
      "text/plain": [
       "GridSearchCV(estimator=Pipeline(steps=[('reg', CustomRegressor())]), n_jobs=7,\n",
       "             param_grid=[{'reg__estimator': [LinearRegression()]},\n",
       "                         {'reg__estimator': [Ridge()],\n",
       "                          'reg__estimator__alpha': (0.01, 0.1, 1.0, 10.0)},\n",
       "                         {'reg__estimator': [Lasso()],\n",
       "                          'reg__estimator__alpha': (0.01, 0.1, 1.0, 10.0)},\n",
       "                         {'reg__estimator': [ElasticNet()],\n",
       "                          'reg__estimator__alpha': (0.01, 0.1, 1.0, 10.0),\n",
       "                          'reg__estimator__l1_ratio': (0.1, 0.3, 0.5, 0.8)}],\n",
       "             scoring=make_scorer(mean_absolute_percentage_error, greater_is_better=False),\n",
       "             verbose=2)"
      ]
     },
     "execution_count": 66,
     "metadata": {},
     "output_type": "execute_result"
    }
   ],
   "source": [
    "g.fit(X_tr, y_tr)"
   ]
  },
  {
   "cell_type": "code",
   "execution_count": 67,
   "metadata": {},
   "outputs": [
    {
     "data": {
      "text/plain": [
       "-0.018970877971832414"
      ]
     },
     "execution_count": 67,
     "metadata": {},
     "output_type": "execute_result"
    }
   ],
   "source": [
    "g.best_score_"
   ]
  },
  {
   "cell_type": "code",
   "execution_count": 68,
   "metadata": {},
   "outputs": [
    {
     "data": {
      "text/plain": [
       "{'estimator__alpha': 1.0,\n",
       " 'estimator__copy_X': True,\n",
       " 'estimator__fit_intercept': True,\n",
       " 'estimator__max_iter': None,\n",
       " 'estimator__normalize': 'deprecated',\n",
       " 'estimator__positive': False,\n",
       " 'estimator__random_state': None,\n",
       " 'estimator__solver': 'auto',\n",
       " 'estimator__tol': 0.001,\n",
       " 'estimator': Ridge()}"
      ]
     },
     "execution_count": 68,
     "metadata": {},
     "output_type": "execute_result"
    }
   ],
   "source": [
    "best = g.best_estimator_[\"reg\"]\n",
    "best.get_params()"
   ]
  },
  {
   "cell_type": "code",
   "execution_count": 69,
   "metadata": {},
   "outputs": [
    {
     "data": {
      "text/html": [
       "<pre style=\"white-space:pre;overflow-x:auto;line-height:normal;font-family:Menlo,'DejaVu Sans Mono',consolas,'Courier New',monospace\"><span style=\"font-style: italic\">            Ridge fine-tuned            </span>\n",
       "┏━━━━━━━━━━━━━━━━━━━━━━━━━━━━━┳━━━━━━━━┓\n",
       "┃<span style=\"font-weight: bold\"> Variable                    </span>┃<span style=\"font-weight: bold\"> Coef   </span>┃\n",
       "┡━━━━━━━━━━━━━━━━━━━━━━━━━━━━━╇━━━━━━━━┩\n",
       "│ nombre_pieces_principales_2 │ -0.001 │\n",
       "│ nombre_pieces_principales_3 │ 0.014  │\n",
       "│ nombre_pieces_principales_4 │ 0.028  │\n",
       "│ nombre_pieces_principales_5 │ 0.039  │\n",
       "│ nombre_pieces_principales_6 │ 0.051  │\n",
       "│ nombre_pieces_principales_7 │ -0.019 │\n",
       "│ nombre_pieces_principales_8 │ 0.07   │\n",
       "│ dependance_1                │ 0.007  │\n",
       "│ arrondissement_10           │ -0.201 │\n",
       "│ arrondissement_11           │ -0.173 │\n",
       "│ arrondissement_12           │ -0.241 │\n",
       "│ arrondissement_13           │ -0.286 │\n",
       "│ arrondissement_14           │ -0.197 │\n",
       "│ arrondissement_15           │ -0.191 │\n",
       "│ arrondissement_16           │ -0.107 │\n",
       "│ arrondissement_17           │ -0.152 │\n",
       "│ arrondissement_18           │ -0.26  │\n",
       "│ arrondissement_19           │ -0.366 │\n",
       "│ arrondissement_2            │ -0.081 │\n",
       "│ arrondissement_20           │ -0.326 │\n",
       "│ arrondissement_3            │ -0.028 │\n",
       "│ arrondissement_4            │ 0.029  │\n",
       "│ arrondissement_5            │ -0.014 │\n",
       "│ arrondissement_6            │ 0.123  │\n",
       "│ arrondissement_7            │ 0.095  │\n",
       "│ arrondissement_8            │ -0.033 │\n",
       "│ arrondissement_9            │ -0.109 │\n",
       "│ annee_2018                  │ 0.057  │\n",
       "│ annee_2019                  │ 0.119  │\n",
       "│ annee_2020                  │ 0.187  │\n",
       "│ annee_2021                  │ 0.191  │\n",
       "│ annee_2022                  │ 0.19   │\n",
       "│ trimestre_2                 │ 0.009  │\n",
       "│ trimestre_3                 │ 0.03   │\n",
       "│ trimestre_4                 │ 0.026  │\n",
       "└─────────────────────────────┴────────┘\n",
       "</pre>\n"
      ],
      "text/plain": [
       "\u001b[3m            Ridge fine-tuned            \u001b[0m\n",
       "┏━━━━━━━━━━━━━━━━━━━━━━━━━━━━━┳━━━━━━━━┓\n",
       "┃\u001b[1m \u001b[0m\u001b[1mVariable                   \u001b[0m\u001b[1m \u001b[0m┃\u001b[1m \u001b[0m\u001b[1mCoef  \u001b[0m\u001b[1m \u001b[0m┃\n",
       "┡━━━━━━━━━━━━━━━━━━━━━━━━━━━━━╇━━━━━━━━┩\n",
       "│ nombre_pieces_principales_2 │ -0.001 │\n",
       "│ nombre_pieces_principales_3 │ 0.014  │\n",
       "│ nombre_pieces_principales_4 │ 0.028  │\n",
       "│ nombre_pieces_principales_5 │ 0.039  │\n",
       "│ nombre_pieces_principales_6 │ 0.051  │\n",
       "│ nombre_pieces_principales_7 │ -0.019 │\n",
       "│ nombre_pieces_principales_8 │ 0.07   │\n",
       "│ dependance_1                │ 0.007  │\n",
       "│ arrondissement_10           │ -0.201 │\n",
       "│ arrondissement_11           │ -0.173 │\n",
       "│ arrondissement_12           │ -0.241 │\n",
       "│ arrondissement_13           │ -0.286 │\n",
       "│ arrondissement_14           │ -0.197 │\n",
       "│ arrondissement_15           │ -0.191 │\n",
       "│ arrondissement_16           │ -0.107 │\n",
       "│ arrondissement_17           │ -0.152 │\n",
       "│ arrondissement_18           │ -0.26  │\n",
       "│ arrondissement_19           │ -0.366 │\n",
       "│ arrondissement_2            │ -0.081 │\n",
       "│ arrondissement_20           │ -0.326 │\n",
       "│ arrondissement_3            │ -0.028 │\n",
       "│ arrondissement_4            │ 0.029  │\n",
       "│ arrondissement_5            │ -0.014 │\n",
       "│ arrondissement_6            │ 0.123  │\n",
       "│ arrondissement_7            │ 0.095  │\n",
       "│ arrondissement_8            │ -0.033 │\n",
       "│ arrondissement_9            │ -0.109 │\n",
       "│ annee_2018                  │ 0.057  │\n",
       "│ annee_2019                  │ 0.119  │\n",
       "│ annee_2020                  │ 0.187  │\n",
       "│ annee_2021                  │ 0.191  │\n",
       "│ annee_2022                  │ 0.19   │\n",
       "│ trimestre_2                 │ 0.009  │\n",
       "│ trimestre_3                 │ 0.03   │\n",
       "│ trimestre_4                 │ 0.026  │\n",
       "└─────────────────────────────┴────────┘\n"
      ]
     },
     "execution_count": 69,
     "metadata": {},
     "output_type": "execute_result"
    }
   ],
   "source": [
    "from rich.table import Table\n",
    "from typing import List\n",
    "\n",
    "def make_coef_table(coefs: np.ndarray, feature_names: List, title: str) -> Table: \n",
    "    table = Table(title=title)\n",
    "    table.add_column(\"Variable\")\n",
    "    table.add_column(\"Coef\")\n",
    "\n",
    "    for f, c in zip(feature_names, coefs):\n",
    "        table.add_row(f, f\"{round(c, 3)}\")\n",
    "\n",
    "    return table \n",
    "\n",
    "make_coef_table(best.estimator.coef_, feature_names, title=\"Ridge fine-tuned\")"
   ]
  },
  {
   "cell_type": "code",
   "execution_count": 70,
   "metadata": {},
   "outputs": [
    {
     "name": "stdout",
     "output_type": "stream",
     "text": [
      "Train MAPE=1.9%\n",
      "Test MAPE=1.91%\n"
     ]
    }
   ],
   "source": [
    "print(f\"Train MAPE={round(100*best.score(X_tr, y_tr, scoring=\"mape\"), 2)}%\") \n",
    "print(f\"Test MAPE={round(100*best.score(X_te, y_te, scoring=\"mape\"), 2)}%\") "
   ]
  },
  {
   "attachments": {},
   "cell_type": "markdown",
   "metadata": {},
   "source": [
    "### Méthodes par partitionnement"
   ]
  },
  {
   "attachments": {},
   "cell_type": "markdown",
   "metadata": {},
   "source": [
    "#### Arbre de décision - `DecisionTreeRegressor`\n",
    "\n",
    "Etant donné que l\"on dispose d\"un grand nombre de variables catégorielles, l\"arbre de décision peut être adapté pour prédire le logarithme de la valeur foncière par m². "
   ]
  },
  {
   "cell_type": "code",
   "execution_count": 81,
   "metadata": {},
   "outputs": [
    {
     "name": "stdout",
     "output_type": "stream",
     "text": [
      "r2 on train = 0.265\n",
      "r2 on test = 0.203\n",
      "mae on train = 0.169\n",
      "mae on test = 0.177\n",
      "mape on train = 0.018\n",
      "mape on test = 0.019\n"
     ]
    }
   ],
   "source": [
    "tree = CustomRegressor(estimator=DecisionTreeRegressor())\n",
    "tree.fit(X_tr, y_tr)\n",
    "\n",
    "for metric in (\"r2\", \"mae\", \"mape\"):\n",
    "    score_tr = tree.score(X_tr, y_tr, metric)\n",
    "    score_te = tree.score(X_te, y_te, metric)\n",
    "\n",
    "    print(f\"{metric} on train = {round(score_tr, 3)}\")\n",
    "    print(f\"{metric} on test = {round(score_te, 3)}\") "
   ]
  },
  {
   "attachments": {},
   "cell_type": "markdown",
   "metadata": {},
   "source": [
    "On peut optimiser les paramètres du `DecisionTreeRegressor` via `GridSearchCV`. "
   ]
  },
  {
   "cell_type": "code",
   "execution_count": 85,
   "metadata": {},
   "outputs": [
    {
     "data": {
      "text/plain": [
       "GridSearchCV(estimator=Pipeline(steps=[('reg', CustomRegressor())]), n_jobs=7,\n",
       "             param_grid=[{'reg__estimator': [DecisionTreeRegressor()],\n",
       "                          'reg__estimator__max_depth': (2, 5, 10, 20, 50, 100),\n",
       "                          'reg__estimator__min_samples_split': (2, 5, 10, 20,\n",
       "                                                                50)}],\n",
       "             scoring=make_scorer(mean_absolute_percentage_error, greater_is_better=False),\n",
       "             verbose=2)"
      ]
     },
     "execution_count": 85,
     "metadata": {},
     "output_type": "execute_result"
    }
   ],
   "source": [
    "pipeline = Pipeline([\n",
    "    (\"reg\", CustomRegressor())\n",
    "])\n",
    "\n",
    "param_grid = [\n",
    "    {\n",
    "        \"reg__estimator\": [DecisionTreeRegressor()], \n",
    "        \"reg__estimator__max_depth\": (2, 5, 10, 20, 50, 100), \n",
    "        \"reg__estimator__min_samples_split\": (2, 5, 10, 20, 50)\n",
    "    }\n",
    "]\n",
    "\n",
    "g = GridSearchCV(\n",
    "    estimator=pipeline,    \n",
    "    param_grid=param_grid, \n",
    "    scoring=mape_scorer, \n",
    "    n_jobs=CPU_COUNT-1, \n",
    "    verbose=2\n",
    ")\n",
    "g"
   ]
  },
  {
   "cell_type": "code",
   "execution_count": 86,
   "metadata": {},
   "outputs": [
    {
     "name": "stdout",
     "output_type": "stream",
     "text": [
      "Fitting 5 folds for each of 30 candidates, totalling 150 fits\n"
     ]
    },
    {
     "data": {
      "text/plain": [
       "GridSearchCV(estimator=Pipeline(steps=[('reg', CustomRegressor())]), n_jobs=7,\n",
       "             param_grid=[{'reg__estimator': [DecisionTreeRegressor(max_depth=20,\n",
       "                                                                   min_samples_split=50)],\n",
       "                          'reg__estimator__max_depth': (2, 5, 10, 20, 50, 100),\n",
       "                          'reg__estimator__min_samples_split': (2, 5, 10, 20,\n",
       "                                                                50)}],\n",
       "             scoring=make_scorer(mean_absolute_percentage_error, greater_is_better=False),\n",
       "             verbose=2)"
      ]
     },
     "execution_count": 86,
     "metadata": {},
     "output_type": "execute_result"
    }
   ],
   "source": [
    "g.fit(X_tr, y_tr)"
   ]
  },
  {
   "cell_type": "code",
   "execution_count": 87,
   "metadata": {},
   "outputs": [
    {
     "data": {
      "text/plain": [
       "{'estimator__ccp_alpha': 0.0,\n",
       " 'estimator__criterion': 'squared_error',\n",
       " 'estimator__max_depth': 20,\n",
       " 'estimator__max_features': None,\n",
       " 'estimator__max_leaf_nodes': None,\n",
       " 'estimator__min_impurity_decrease': 0.0,\n",
       " 'estimator__min_samples_leaf': 1,\n",
       " 'estimator__min_samples_split': 50,\n",
       " 'estimator__min_weight_fraction_leaf': 0.0,\n",
       " 'estimator__random_state': None,\n",
       " 'estimator__splitter': 'best',\n",
       " 'estimator': DecisionTreeRegressor(max_depth=20, min_samples_split=50)}"
      ]
     },
     "execution_count": 87,
     "metadata": {},
     "output_type": "execute_result"
    }
   ],
   "source": [
    "best = g.best_estimator_[\"reg\"]\n",
    "best.get_params()"
   ]
  },
  {
   "cell_type": "code",
   "execution_count": 88,
   "metadata": {},
   "outputs": [
    {
     "name": "stdout",
     "output_type": "stream",
     "text": [
      "r2 on train = 0.241\n",
      "r2 on test = 0.216\n",
      "mae on train = 0.171\n",
      "mae on test = 0.175\n",
      "mape on train = 0.019\n",
      "mape on test = 0.019\n"
     ]
    }
   ],
   "source": [
    "for metric in (\"r2\", \"mae\", \"mape\"):\n",
    "    score_tr = best.score(X_tr, y_tr, metric)\n",
    "    score_te = best.score(X_te, y_te, metric)\n",
    "\n",
    "    print(f\"{metric} on train = {round(score_tr, 3)}\")\n",
    "    print(f\"{metric} on test = {round(score_te, 3)}\") "
   ]
  },
  {
   "attachments": {},
   "cell_type": "markdown",
   "metadata": {},
   "source": [
    "### Méthodes ensemblistes\n",
    "\n",
    "Pour améliorer la qualité de prédiction, on décide d\"utiliser des méthodes ensemblistes qui combinent plusieurs arbres de régression :\n",
    "- `RandomForestRegressor` pour avoir un modèle à faible variance (apprentissage parallèle)\n",
    "- `GradientBoostingRegressor` pour avoir un modèle à faible biais (apprentissage séquentiel)\n",
    "- `XGBRegressor` pour avoir un modèle à faible biais (apprentissage séquentiel)\n",
    "\n",
    "On commence par entrainer ces 3 modèles sans optimisation des hyper-paramètres. "
   ]
  },
  {
   "cell_type": "code",
   "execution_count": 98,
   "metadata": {},
   "outputs": [
    {
     "name": "stdout",
     "output_type": "stream",
     "text": [
      "Fitting RandomForestRegressor...\n",
      "Fitting GradientBoostingRegressor...\n",
      "Fitting XGBRegressor...\n"
     ]
    }
   ],
   "source": [
    "results_ensemble = {}\n",
    "\n",
    "ensemble_models = [\n",
    "    RandomForestRegressor(), \n",
    "    GradientBoostingRegressor(), \n",
    "    XGBRegressor()\n",
    "]\n",
    "\n",
    "for estimator in ensemble_models:\n",
    "    model_name = estimator.__class__.__name__\n",
    "    print(f\"Fitting {model_name}...\")\n",
    "    \n",
    "    model = CustomRegressor(estimator)\n",
    "\n",
    "    model.fit(X_tr, y_tr) \n",
    "    res_ = {\n",
    "        \"model\": model, \n",
    "        \"mae_tr\": model.score(X_tr, y_tr, scoring=\"mape\"), \n",
    "        \"mae_te\": model.score(X_te, y_te, scoring=\"mape\")\n",
    "    }\n",
    "\n",
    "    results_ensemble[model_name] = res_"
   ]
  },
  {
   "cell_type": "code",
   "execution_count": 99,
   "metadata": {},
   "outputs": [
    {
     "data": {
      "text/plain": [
       "{'RandomForestRegressor': {'model': CustomRegressor(estimator=RandomForestRegressor()),\n",
       "  'mae_tr': 0.01853615083202878,\n",
       "  'mae_te': 0.019301827076942734},\n",
       " 'GradientBoostingRegressor': {'model': CustomRegressor(estimator=GradientBoostingRegressor()),\n",
       "  'mae_tr': 0.01919610473907428,\n",
       "  'mae_te': 0.019287430611704796},\n",
       " 'XGBRegressor': {'model': CustomRegressor(estimator=XGBRegressor(base_score=0.5, booster='gbtree',\n",
       "                                         callbacks=None, colsample_bylevel=1,\n",
       "                                         colsample_bynode=1, colsample_bytree=1,\n",
       "                                         early_stopping_rounds=None,\n",
       "                                         enable_categorical=False,\n",
       "                                         eval_metric=None, feature_types=None,\n",
       "                                         gamma=0, gpu_id=-1,\n",
       "                                         grow_policy='depthwise',\n",
       "                                         importance_type=None,\n",
       "                                         interaction_constraints='',\n",
       "                                         learning_rate=0.300000012, max_bin=256,\n",
       "                                         max_cat_threshold=64,\n",
       "                                         max_cat_to_onehot=4, max_delta_step=0,\n",
       "                                         max_depth=6, max_leaves=0,\n",
       "                                         min_child_weight=1, missing=nan,\n",
       "                                         monotone_constraints='()',\n",
       "                                         n_estimators=100, n_jobs=0,\n",
       "                                         num_parallel_tree=1, predictor='auto',\n",
       "                                         random_state=0, ...)),\n",
       "  'mae_tr': 0.018703378255424265,\n",
       "  'mae_te': 0.019045393643563127}}"
      ]
     },
     "execution_count": 99,
     "metadata": {},
     "output_type": "execute_result"
    }
   ],
   "source": [
    "results_ensemble"
   ]
  },
  {
   "attachments": {},
   "cell_type": "markdown",
   "metadata": {},
   "source": [
    "#### Optimisation via `optuna`"
   ]
  },
  {
   "cell_type": "code",
   "execution_count": 103,
   "metadata": {},
   "outputs": [],
   "source": [
    "def objective_xgb(trial: Trial) -> float:\n",
    "    \"\"\"Description. Objective function for XGBRegressor.\n",
    "    \n",
    "    Returns: (float) test MAPE.\"\"\"\n",
    "   \n",
    "    params = {\n",
    "        \"max_depth\": trial.suggest_int(\"max_depth\", 1, 50),\n",
    "        \"learning_rate\": trial.suggest_loguniform(\"learning_rate\", 0.01, 1.0),\n",
    "        \"n_estimators\": trial.suggest_int(\"n_estimators\", 50, 500),\n",
    "    }\n",
    "\n",
    "    optuna_model = XGBRegressor(**params)\n",
    "    optuna_model.fit(X_tr, y_tr)\n",
    "    y_pred = optuna_model.predict(X_te)\n",
    "\n",
    "    return mean_absolute_percentage_error(y_te, y_pred)"
   ]
  },
  {
   "cell_type": "code",
   "execution_count": 107,
   "metadata": {},
   "outputs": [
    {
     "name": "stderr",
     "output_type": "stream",
     "text": [
      "\u001b[32m[I 2023-03-02 20:05:06,186]\u001b[0m A new study created in memory with name: no-name-a8450efa-5096-4e21-b94d-5767dc808fcf\u001b[0m\n",
      "C:\\Users\\pemma\\AppData\\Local\\Temp/ipykernel_2440/1659675273.py:8: FutureWarning: suggest_loguniform has been deprecated in v3.0.0. This feature will be removed in v6.0.0. See https://github.com/optuna/optuna/releases/tag/v3.0.0. Use :func:`~optuna.trial.Trial.suggest_float` instead.\n",
      "  \"learning_rate\": trial.suggest_loguniform(\"learning_rate\", 0.01, 1.0),\n",
      "\u001b[32m[I 2023-03-02 20:08:36,853]\u001b[0m Trial 2 finished with value: 0.019331673618992413 and parameters: {'max_depth': 44, 'learning_rate': 0.43453925886456113, 'n_estimators': 200}. Best is trial 2 with value: 0.019331673618992413.\u001b[0m\n",
      "C:\\Users\\pemma\\AppData\\Local\\Temp/ipykernel_2440/1659675273.py:8: FutureWarning: suggest_loguniform has been deprecated in v3.0.0. This feature will be removed in v6.0.0. See https://github.com/optuna/optuna/releases/tag/v3.0.0. Use :func:`~optuna.trial.Trial.suggest_float` instead.\n",
      "  \"learning_rate\": trial.suggest_loguniform(\"learning_rate\", 0.01, 1.0),\n",
      "\u001b[32m[I 2023-03-02 20:08:38,652]\u001b[0m Trial 4 finished with value: 0.0427991420136285 and parameters: {'max_depth': 10, 'learning_rate': 0.011797317081509105, 'n_estimators': 267}. Best is trial 2 with value: 0.019331673618992413.\u001b[0m\n",
      "C:\\Users\\pemma\\AppData\\Local\\Temp/ipykernel_2440/1659675273.py:8: FutureWarning: suggest_loguniform has been deprecated in v3.0.0. This feature will be removed in v6.0.0. See https://github.com/optuna/optuna/releases/tag/v3.0.0. Use :func:`~optuna.trial.Trial.suggest_float` instead.\n",
      "  \"learning_rate\": trial.suggest_loguniform(\"learning_rate\", 0.01, 1.0),\n",
      "\u001b[32m[I 2023-03-02 20:09:25,192]\u001b[0m Trial 5 finished with value: 0.019337544152589523 and parameters: {'max_depth': 27, 'learning_rate': 0.3476706654327514, 'n_estimators': 244}. Best is trial 2 with value: 0.019331673618992413.\u001b[0m\n",
      "C:\\Users\\pemma\\AppData\\Local\\Temp/ipykernel_2440/1659675273.py:8: FutureWarning: suggest_loguniform has been deprecated in v3.0.0. This feature will be removed in v6.0.0. See https://github.com/optuna/optuna/releases/tag/v3.0.0. Use :func:`~optuna.trial.Trial.suggest_float` instead.\n",
      "  \"learning_rate\": trial.suggest_loguniform(\"learning_rate\", 0.01, 1.0),\n",
      "\u001b[32m[I 2023-03-02 20:10:04,123]\u001b[0m Trial 0 finished with value: 0.01929596452606044 and parameters: {'max_depth': 11, 'learning_rate': 0.326872286174945, 'n_estimators': 225}. Best is trial 0 with value: 0.01929596452606044.\u001b[0m\n",
      "C:\\Users\\pemma\\AppData\\Local\\Temp/ipykernel_2440/1659675273.py:8: FutureWarning: suggest_loguniform has been deprecated in v3.0.0. This feature will be removed in v6.0.0. See https://github.com/optuna/optuna/releases/tag/v3.0.0. Use :func:`~optuna.trial.Trial.suggest_float` instead.\n",
      "  \"learning_rate\": trial.suggest_loguniform(\"learning_rate\", 0.01, 1.0),\n",
      "\u001b[32m[I 2023-03-02 20:10:53,269]\u001b[0m Trial 8 finished with value: 0.019337049333466735 and parameters: {'max_depth': 24, 'learning_rate': 0.5295881216213194, 'n_estimators': 346}. Best is trial 0 with value: 0.01929596452606044.\u001b[0m\n",
      "C:\\Users\\pemma\\AppData\\Local\\Temp/ipykernel_2440/1659675273.py:8: FutureWarning: suggest_loguniform has been deprecated in v3.0.0. This feature will be removed in v6.0.0. See https://github.com/optuna/optuna/releases/tag/v3.0.0. Use :func:`~optuna.trial.Trial.suggest_float` instead.\n",
      "  \"learning_rate\": trial.suggest_loguniform(\"learning_rate\", 0.01, 1.0),\n",
      "\u001b[32m[I 2023-03-02 20:10:56,200]\u001b[0m Trial 3 finished with value: 0.019316543612559238 and parameters: {'max_depth': 17, 'learning_rate': 0.030717270829064575, 'n_estimators': 199}. Best is trial 0 with value: 0.01929596452606044.\u001b[0m\n",
      "C:\\Users\\pemma\\AppData\\Local\\Temp/ipykernel_2440/1659675273.py:8: FutureWarning: suggest_loguniform has been deprecated in v3.0.0. This feature will be removed in v6.0.0. See https://github.com/optuna/optuna/releases/tag/v3.0.0. Use :func:`~optuna.trial.Trial.suggest_float` instead.\n",
      "  \"learning_rate\": trial.suggest_loguniform(\"learning_rate\", 0.01, 1.0),\n",
      "\u001b[32m[I 2023-03-02 20:13:40,038]\u001b[0m Trial 12 finished with value: 0.021795658253022782 and parameters: {'max_depth': 14, 'learning_rate': 0.016686042702356317, 'n_estimators': 268}. Best is trial 0 with value: 0.01929596452606044.\u001b[0m\n",
      "C:\\Users\\pemma\\AppData\\Local\\Temp/ipykernel_2440/1659675273.py:8: FutureWarning: suggest_loguniform has been deprecated in v3.0.0. This feature will be removed in v6.0.0. See https://github.com/optuna/optuna/releases/tag/v3.0.0. Use :func:`~optuna.trial.Trial.suggest_float` instead.\n",
      "  \"learning_rate\": trial.suggest_loguniform(\"learning_rate\", 0.01, 1.0),\n",
      "\u001b[32m[I 2023-03-02 20:14:26,133]\u001b[0m Trial 13 finished with value: 0.019342916538082844 and parameters: {'max_depth': 45, 'learning_rate': 0.7271783588102728, 'n_estimators': 349}. Best is trial 0 with value: 0.01929596452606044.\u001b[0m\n",
      "C:\\Users\\pemma\\AppData\\Local\\Temp/ipykernel_2440/1659675273.py:8: FutureWarning: suggest_loguniform has been deprecated in v3.0.0. This feature will be removed in v6.0.0. See https://github.com/optuna/optuna/releases/tag/v3.0.0. Use :func:`~optuna.trial.Trial.suggest_float` instead.\n",
      "  \"learning_rate\": trial.suggest_loguniform(\"learning_rate\", 0.01, 1.0),\n",
      "\u001b[32m[I 2023-03-02 20:14:48,917]\u001b[0m Trial 11 finished with value: 0.019286195114585934 and parameters: {'max_depth': 13, 'learning_rate': 0.14484738173521586, 'n_estimators': 302}. Best is trial 11 with value: 0.019286195114585934.\u001b[0m\n",
      "C:\\Users\\pemma\\AppData\\Local\\Temp/ipykernel_2440/1659675273.py:8: FutureWarning: suggest_loguniform has been deprecated in v3.0.0. This feature will be removed in v6.0.0. See https://github.com/optuna/optuna/releases/tag/v3.0.0. Use :func:`~optuna.trial.Trial.suggest_float` instead.\n",
      "  \"learning_rate\": trial.suggest_loguniform(\"learning_rate\", 0.01, 1.0),\n",
      "\u001b[32m[I 2023-03-02 20:15:16,892]\u001b[0m Trial 1 finished with value: 0.021725440674988633 and parameters: {'max_depth': 48, 'learning_rate': 0.010728936023795809, 'n_estimators': 421}. Best is trial 11 with value: 0.019286195114585934.\u001b[0m\n",
      "C:\\Users\\pemma\\AppData\\Local\\Temp/ipykernel_2440/1659675273.py:8: FutureWarning: suggest_loguniform has been deprecated in v3.0.0. This feature will be removed in v6.0.0. See https://github.com/optuna/optuna/releases/tag/v3.0.0. Use :func:`~optuna.trial.Trial.suggest_float` instead.\n",
      "  \"learning_rate\": trial.suggest_loguniform(\"learning_rate\", 0.01, 1.0),\n",
      "\u001b[32m[I 2023-03-02 20:15:23,563]\u001b[0m Trial 16 finished with value: 0.019987032254293213 and parameters: {'max_depth': 1, 'learning_rate': 0.10461559482959928, 'n_estimators': 125}. Best is trial 11 with value: 0.019286195114585934.\u001b[0m\n",
      "C:\\Users\\pemma\\AppData\\Local\\Temp/ipykernel_2440/1659675273.py:8: FutureWarning: suggest_loguniform has been deprecated in v3.0.0. This feature will be removed in v6.0.0. See https://github.com/optuna/optuna/releases/tag/v3.0.0. Use :func:`~optuna.trial.Trial.suggest_float` instead.\n",
      "  \"learning_rate\": trial.suggest_loguniform(\"learning_rate\", 0.01, 1.0),\n",
      "\u001b[32m[I 2023-03-02 20:15:48,135]\u001b[0m Trial 17 finished with value: 0.01899261436622099 and parameters: {'max_depth': 5, 'learning_rate': 0.15491320191432018, 'n_estimators': 114}. Best is trial 17 with value: 0.01899261436622099.\u001b[0m\n",
      "C:\\Users\\pemma\\AppData\\Local\\Temp/ipykernel_2440/1659675273.py:8: FutureWarning: suggest_loguniform has been deprecated in v3.0.0. This feature will be removed in v6.0.0. See https://github.com/optuna/optuna/releases/tag/v3.0.0. Use :func:`~optuna.trial.Trial.suggest_float` instead.\n",
      "  \"learning_rate\": trial.suggest_loguniform(\"learning_rate\", 0.01, 1.0),\n",
      "\u001b[32m[I 2023-03-02 20:15:50,700]\u001b[0m Trial 18 finished with value: 0.020707441733031916 and parameters: {'max_depth': 1, 'learning_rate': 0.12241444400597537, 'n_estimators': 53}. Best is trial 17 with value: 0.01899261436622099.\u001b[0m\n",
      "C:\\Users\\pemma\\AppData\\Local\\Temp/ipykernel_2440/1659675273.py:8: FutureWarning: suggest_loguniform has been deprecated in v3.0.0. This feature will be removed in v6.0.0. See https://github.com/optuna/optuna/releases/tag/v3.0.0. Use :func:`~optuna.trial.Trial.suggest_float` instead.\n",
      "  \"learning_rate\": trial.suggest_loguniform(\"learning_rate\", 0.01, 1.0),\n",
      "\u001b[32m[I 2023-03-02 20:16:05,384]\u001b[0m Trial 14 finished with value: 0.019342758497659297 and parameters: {'max_depth': 25, 'learning_rate': 0.47098651296290106, 'n_estimators': 154}. Best is trial 17 with value: 0.01899261436622099.\u001b[0m\n",
      "\u001b[32m[I 2023-03-02 20:16:26,161]\u001b[0m Trial 7 finished with value: 0.019313059141266773 and parameters: {'max_depth': 15, 'learning_rate': 0.19594739738018283, 'n_estimators': 431}. Best is trial 17 with value: 0.01899261436622099.\u001b[0m\n",
      "\u001b[32m[I 2023-03-02 20:16:28,542]\u001b[0m Trial 15 finished with value: 0.027186208791988842 and parameters: {'max_depth': 11, 'learning_rate': 0.015449121898506021, 'n_estimators': 248}. Best is trial 17 with value: 0.01899261436622099.\u001b[0m\n",
      "\u001b[32m[I 2023-03-02 20:17:41,863]\u001b[0m Trial 6 finished with value: 0.019328469810230918 and parameters: {'max_depth': 29, 'learning_rate': 0.020553674421365763, 'n_estimators': 358}. Best is trial 17 with value: 0.01899261436622099.\u001b[0m\n",
      "\u001b[32m[I 2023-03-02 20:20:20,677]\u001b[0m Trial 9 finished with value: 0.019330021267501246 and parameters: {'max_depth': 41, 'learning_rate': 0.03210249305783034, 'n_estimators': 380}. Best is trial 17 with value: 0.01899261436622099.\u001b[0m\n",
      "\u001b[32m[I 2023-03-02 20:20:42,664]\u001b[0m Trial 10 finished with value: 0.019331327027141274 and parameters: {'max_depth': 44, 'learning_rate': 0.0152184731992957, 'n_estimators': 498}. Best is trial 17 with value: 0.01899261436622099.\u001b[0m\n",
      "\u001b[32m[I 2023-03-02 20:20:56,599]\u001b[0m Trial 19 finished with value: 0.019328847981358005 and parameters: {'max_depth': 26, 'learning_rate': 0.04864713617919207, 'n_estimators': 486}. Best is trial 17 with value: 0.01899261436622099.\u001b[0m\n"
     ]
    }
   ],
   "source": [
    "study_xgb = create_study(direction=\"minimize\")\n",
    "study_xgb.optimize(objective_xgb, n_trials=20, n_jobs=CPU_COUNT-1)"
   ]
  },
  {
   "cell_type": "code",
   "execution_count": 108,
   "metadata": {},
   "outputs": [
    {
     "data": {
      "text/plain": [
       "FrozenTrial(number=17, values=[0.01899261436622099], datetime_start=datetime.datetime(2023, 3, 2, 20, 15, 23, 565482), datetime_complete=datetime.datetime(2023, 3, 2, 20, 15, 48, 134694), params={'max_depth': 5, 'learning_rate': 0.15491320191432018, 'n_estimators': 114}, distributions={'max_depth': IntDistribution(high=50, log=False, low=1, step=1), 'learning_rate': FloatDistribution(high=1.0, log=True, low=0.01, step=None), 'n_estimators': IntDistribution(high=500, log=False, low=50, step=1)}, user_attrs={}, system_attrs={}, intermediate_values={}, trial_id=17, state=TrialState.COMPLETE, value=None)"
      ]
     },
     "execution_count": 108,
     "metadata": {},
     "output_type": "execute_result"
    }
   ],
   "source": [
    "study_xgb.best_trial"
   ]
  },
  {
   "cell_type": "code",
   "execution_count": 110,
   "metadata": {},
   "outputs": [
    {
     "data": {
      "text/plain": [
       "CustomRegressor(estimator=XGBRegressor(base_score=0.5, booster='gbtree',\n",
       "                                       callbacks=None, colsample_bylevel=1,\n",
       "                                       colsample_bynode=1, colsample_bytree=1,\n",
       "                                       early_stopping_rounds=None,\n",
       "                                       enable_categorical=False,\n",
       "                                       eval_metric=None, feature_types=None,\n",
       "                                       gamma=0, gpu_id=-1,\n",
       "                                       grow_policy='depthwise',\n",
       "                                       importance_type=None,\n",
       "                                       interaction_constraints='',\n",
       "                                       learning_rate=0.15491320191432018,\n",
       "                                       max_bin=256, max_cat_threshold=64,\n",
       "                                       max_cat_to_onehot=4, max_delta_step=0,\n",
       "                                       max_depth=5, max_leaves=0,\n",
       "                                       min_child_weight=1, missing=nan,\n",
       "                                       monotone_constraints='()',\n",
       "                                       n_estimators=114, n_jobs=0,\n",
       "                                       num_parallel_tree=1, predictor='auto',\n",
       "                                       random_state=0, ...))"
      ]
     },
     "execution_count": 110,
     "metadata": {},
     "output_type": "execute_result"
    }
   ],
   "source": [
    "xgb_opt = CustomRegressor(estimator=XGBRegressor(**study_xgb.best_params))\n",
    "xgb_opt.fit(X_tr, y_tr)"
   ]
  },
  {
   "cell_type": "code",
   "execution_count": 111,
   "metadata": {},
   "outputs": [
    {
     "name": "stdout",
     "output_type": "stream",
     "text": [
      "r2 on train = 0.236\n",
      "r2 on test = 0.227\n",
      "mae on train = 0.171\n",
      "mae on test = 0.173\n",
      "mape on train = 0.019\n",
      "mape on test = 0.019\n"
     ]
    }
   ],
   "source": [
    "for metric in (\"r2\", \"mae\", \"mape\"):\n",
    "    score_tr = xgb_opt.score(X_tr, y_tr, metric)\n",
    "    score_te = xgb_opt.score(X_te, y_te, metric)\n",
    "\n",
    "    print(f\"{metric} on train = {round(score_tr, 3)}\")\n",
    "    print(f\"{metric} on test = {round(score_te, 3)}\") "
   ]
  }
 ],
 "metadata": {
  "kernelspec": {
   "display_name": "Python 3",
   "language": "python",
   "name": "python3"
  },
  "language_info": {
   "codemirror_mode": {
    "name": "ipython",
    "version": 3
   },
   "file_extension": ".py",
   "mimetype": "text/x-python",
   "name": "python",
   "nbconvert_exporter": "python",
   "pygments_lexer": "ipython3",
   "version": "3.9.9"
  },
  "orig_nbformat": 4,
  "vscode": {
   "interpreter": {
    "hash": "b629fc759117c64fc32c8e4270d5db05fe17fdaaf7b496f2eeb1ebcced0d741e"
   }
  }
 },
 "nbformat": 4,
 "nbformat_minor": 2
}
